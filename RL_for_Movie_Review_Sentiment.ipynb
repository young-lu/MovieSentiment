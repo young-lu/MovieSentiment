{
  "nbformat": 4,
  "nbformat_minor": 0,
  "metadata": {
    "colab": {
      "name": "RL_for_Movie_Review_Sentiment.ipynb",
      "provenance": [],
      "authorship_tag": "ABX9TyN7CM0BbBjA9PRrP7sTiQTd",
      "include_colab_link": true
    },
    "kernelspec": {
      "name": "python3",
      "display_name": "Python 3"
    },
    "accelerator": "GPU"
  },
  "cells": [
    {
      "cell_type": "markdown",
      "metadata": {
        "id": "view-in-github",
        "colab_type": "text"
      },
      "source": [
        "<a href=\"https://colab.research.google.com/github/young-lu/MovieSentiment/blob/main/RL_for_Movie_Review_Sentiment.ipynb\" target=\"_parent\"><img src=\"https://colab.research.google.com/assets/colab-badge.svg\" alt=\"Open In Colab\"/></a>"
      ]
    },
    {
      "cell_type": "markdown",
      "metadata": {
        "id": "2yM2pHz2xfXF"
      },
      "source": [
        "### imports"
      ]
    },
    {
      "cell_type": "code",
      "metadata": {
        "id": "WmM8SLjfDFaC",
        "colab": {
          "base_uri": "https://localhost:8080/"
        },
        "outputId": "91c05337-75f7-4072-c641-7713bdedc86b"
      },
      "source": [
        "!pip install wget\n",
        "!pip install transformers\n",
        "\n",
        "import nltk, re, time, random\n",
        "from transformers import BertTokenizer\n",
        "from keras.preprocessing.sequence import pad_sequences\n",
        "import pandas as pd\n",
        "import numpy as np\n",
        "from nltk import sent_tokenize as sentence_tokenize\n",
        "nltk.download('punkt')\n",
        "from sklearn.model_selection import train_test_split\n",
        "from torch.utils.data import TensorDataset, DataLoader, RandomSampler, SequentialSampler\n",
        "from transformers import BertForSequenceClassification, AdamW, BertConfig\n",
        "\n",
        "\n",
        "import tensorflow as tf\n",
        "import torch, wget, os\n",
        "# !wget -c 'https://ai.stanford.edu/~amaas/data/sentiment/aclImdb_v1.tar.gz' -O - | tar -xz \n",
        "# Get the GPU device name.\n",
        "device_name = tf.test.gpu_device_name()\n",
        "# The device name should look like the following:\n",
        "if device_name == '/device:GPU:0':\n",
        "    print('Found GPU at: {}'.format(device_name))\n",
        "else:\n",
        "    raise SystemError('GPU device not found')\n",
        "\n",
        "# If there's a GPU available...\n",
        "if torch.cuda.is_available():    \n",
        "    # Tell PyTorch to use the GPU.    \n",
        "    device = torch.device(\"cuda\")\n",
        "    print('There are %d GPU(s) available.' % torch.cuda.device_count())\n",
        "    print('We will use the GPU:', torch.cuda.get_device_name(0))\n",
        "# If not...\n",
        "else:\n",
        "    print('No GPU available, using the CPU instead.')\n",
        "    device = torch.device(\"cpu\")"
      ],
      "execution_count": null,
      "outputs": [
        {
          "output_type": "stream",
          "text": [
            "Collecting wget\n",
            "  Downloading https://files.pythonhosted.org/packages/47/6a/62e288da7bcda82b935ff0c6cfe542970f04e29c756b0e147251b2fb251f/wget-3.2.zip\n",
            "Building wheels for collected packages: wget\n",
            "  Building wheel for wget (setup.py) ... \u001b[?25l\u001b[?25hdone\n",
            "  Created wheel for wget: filename=wget-3.2-cp36-none-any.whl size=9682 sha256=83f3f7af11778c2052cead9f851d8d273459f846be901d7e32542bbdab6fa9c6\n",
            "  Stored in directory: /root/.cache/pip/wheels/40/15/30/7d8f7cea2902b4db79e3fea550d7d7b85ecb27ef992b618f3f\n",
            "Successfully built wget\n",
            "Installing collected packages: wget\n",
            "Successfully installed wget-3.2\n",
            "Collecting transformers\n",
            "\u001b[?25l  Downloading https://files.pythonhosted.org/packages/3a/83/e74092e7f24a08d751aa59b37a9fc572b2e4af3918cb66f7766c3affb1b4/transformers-3.5.1-py3-none-any.whl (1.3MB)\n",
            "\u001b[K     |████████████████████████████████| 1.3MB 12.7MB/s \n",
            "\u001b[?25hRequirement already satisfied: dataclasses; python_version < \"3.7\" in /usr/local/lib/python3.6/dist-packages (from transformers) (0.7)\n",
            "Requirement already satisfied: numpy in /usr/local/lib/python3.6/dist-packages (from transformers) (1.18.5)\n",
            "Collecting sentencepiece==0.1.91\n",
            "\u001b[?25l  Downloading https://files.pythonhosted.org/packages/d4/a4/d0a884c4300004a78cca907a6ff9a5e9fe4f090f5d95ab341c53d28cbc58/sentencepiece-0.1.91-cp36-cp36m-manylinux1_x86_64.whl (1.1MB)\n",
            "\u001b[K     |████████████████████████████████| 1.1MB 47.7MB/s \n",
            "\u001b[?25hRequirement already satisfied: packaging in /usr/local/lib/python3.6/dist-packages (from transformers) (20.4)\n",
            "Requirement already satisfied: protobuf in /usr/local/lib/python3.6/dist-packages (from transformers) (3.12.4)\n",
            "Requirement already satisfied: regex!=2019.12.17 in /usr/local/lib/python3.6/dist-packages (from transformers) (2019.12.20)\n",
            "Requirement already satisfied: filelock in /usr/local/lib/python3.6/dist-packages (from transformers) (3.0.12)\n",
            "Requirement already satisfied: requests in /usr/local/lib/python3.6/dist-packages (from transformers) (2.23.0)\n",
            "Collecting sacremoses\n",
            "\u001b[?25l  Downloading https://files.pythonhosted.org/packages/7d/34/09d19aff26edcc8eb2a01bed8e98f13a1537005d31e95233fd48216eed10/sacremoses-0.0.43.tar.gz (883kB)\n",
            "\u001b[K     |████████████████████████████████| 890kB 50.1MB/s \n",
            "\u001b[?25hRequirement already satisfied: tqdm>=4.27 in /usr/local/lib/python3.6/dist-packages (from transformers) (4.41.1)\n",
            "Collecting tokenizers==0.9.3\n",
            "\u001b[?25l  Downloading https://files.pythonhosted.org/packages/4c/34/b39eb9994bc3c999270b69c9eea40ecc6f0e97991dba28282b9fd32d44ee/tokenizers-0.9.3-cp36-cp36m-manylinux1_x86_64.whl (2.9MB)\n",
            "\u001b[K     |████████████████████████████████| 2.9MB 44.7MB/s \n",
            "\u001b[?25hRequirement already satisfied: six in /usr/local/lib/python3.6/dist-packages (from packaging->transformers) (1.15.0)\n",
            "Requirement already satisfied: pyparsing>=2.0.2 in /usr/local/lib/python3.6/dist-packages (from packaging->transformers) (2.4.7)\n",
            "Requirement already satisfied: setuptools in /usr/local/lib/python3.6/dist-packages (from protobuf->transformers) (50.3.2)\n",
            "Requirement already satisfied: urllib3!=1.25.0,!=1.25.1,<1.26,>=1.21.1 in /usr/local/lib/python3.6/dist-packages (from requests->transformers) (1.24.3)\n",
            "Requirement already satisfied: idna<3,>=2.5 in /usr/local/lib/python3.6/dist-packages (from requests->transformers) (2.10)\n",
            "Requirement already satisfied: certifi>=2017.4.17 in /usr/local/lib/python3.6/dist-packages (from requests->transformers) (2020.6.20)\n",
            "Requirement already satisfied: chardet<4,>=3.0.2 in /usr/local/lib/python3.6/dist-packages (from requests->transformers) (3.0.4)\n",
            "Requirement already satisfied: click in /usr/local/lib/python3.6/dist-packages (from sacremoses->transformers) (7.1.2)\n",
            "Requirement already satisfied: joblib in /usr/local/lib/python3.6/dist-packages (from sacremoses->transformers) (0.17.0)\n",
            "Building wheels for collected packages: sacremoses\n",
            "  Building wheel for sacremoses (setup.py) ... \u001b[?25l\u001b[?25hdone\n",
            "  Created wheel for sacremoses: filename=sacremoses-0.0.43-cp36-none-any.whl size=893257 sha256=fbe7f011ea15c887404d1798113cfbd55ce57b387adc8e2aa85970044c57a47f\n",
            "  Stored in directory: /root/.cache/pip/wheels/29/3c/fd/7ce5c3f0666dab31a50123635e6fb5e19ceb42ce38d4e58f45\n",
            "Successfully built sacremoses\n",
            "Installing collected packages: sentencepiece, sacremoses, tokenizers, transformers\n",
            "Successfully installed sacremoses-0.0.43 sentencepiece-0.1.91 tokenizers-0.9.3 transformers-3.5.1\n",
            "[nltk_data] Downloading package punkt to /root/nltk_data...\n",
            "[nltk_data]   Unzipping tokenizers/punkt.zip.\n",
            "Found GPU at: /device:GPU:0\n",
            "There are 1 GPU(s) available.\n",
            "We will use the GPU: Tesla T4\n"
          ],
          "name": "stdout"
        }
      ]
    },
    {
      "cell_type": "code",
      "metadata": {
        "id": "xRQkryRWny1T",
        "colab": {
          "base_uri": "https://localhost:8080/"
        },
        "outputId": "2ce5aac8-b0b0-49ec-b7f3-a53b32510ae1"
      },
      "source": [
        "!wget -c 'https://ai.stanford.edu/~amaas/data/sentiment/aclImdb_v1.tar.gz' -O - | tar -xz \n",
        "#!tar -xzf 'aclImdb_v1.tar.gz'"
      ],
      "execution_count": null,
      "outputs": [
        {
          "output_type": "stream",
          "text": [
            "--2020-11-19 18:33:48--  https://ai.stanford.edu/~amaas/data/sentiment/aclImdb_v1.tar.gz\n",
            "Resolving ai.stanford.edu (ai.stanford.edu)... 171.64.68.10\n",
            "Connecting to ai.stanford.edu (ai.stanford.edu)|171.64.68.10|:443... connected.\n",
            "HTTP request sent, awaiting response... 200 OK\n",
            "Length: 84125825 (80M) [application/x-gzip]\n",
            "Saving to: ‘STDOUT’\n",
            "\n",
            "-                   100%[===================>]  80.23M  9.30MB/s    in 7.8s    \n",
            "\n",
            "2020-11-19 18:33:56 (10.3 MB/s) - written to stdout [84125825/84125825]\n",
            "\n"
          ],
          "name": "stdout"
        }
      ]
    },
    {
      "cell_type": "markdown",
      "metadata": {
        "id": "0bK0bkpSxIVv"
      },
      "source": [
        "### get sentences from reviews"
      ]
    },
    {
      "cell_type": "code",
      "metadata": {
        "id": "W55J5JImErso",
        "colab": {
          "base_uri": "https://localhost:8080/"
        },
        "outputId": "f66e8d21-0f93-451c-af47-fe5415b6a631"
      },
      "source": [
        "pDirs = os.listdir('aclImdb/train/pos')\n",
        "nDirs = os.listdir('aclImdb/train/neg')\n",
        "\n",
        "dirs = [pDirs,nDirs]\n",
        "\n",
        "print(\"positive reviews: {}\\nnegative reviews: {}\".format(len(pDirs),len(nDirs)))\n",
        "\n",
        "pSentences = []\n",
        "nSentences = []\n",
        "i=0\n",
        "starttime=time.time()\n",
        "max=0\n",
        "max_sent=0\n",
        "sent_limit = [5000,5000]\n",
        "for idx, pdir in enumerate(pDirs[:sent_limit[0]]):\n",
        "  file = open('aclImdb/train/pos/{}'.format(pdir),'r')\n",
        "  lines = file.readlines()\n",
        "  file.close()\n",
        "  tokens = sentence_tokenize(lines[0])\n",
        "  if len(tokens) > max:\n",
        "    max = len(tokens)\n",
        "    print('review {} sentences: {}'.format(idx, max))\n",
        "    print(len(pSentences))\n",
        "  for idx, toke in enumerate(tokens):\n",
        "    \"\"\" \n",
        "    simple regex to clean the sentences\n",
        "    https://stackabuse.com/text-classification-with-bert-tokenizer-and-tf-2-0-in-python/\n",
        "    \"\"\"\n",
        "    if len(toke.strip()) == 1:\n",
        "      # text = re.sub('[.?!]([.?!])','x' ,lines[0])\n",
        "      newtoke = re.sub()\n",
        "    else: \n",
        "      newtoke = re.sub(r'<[^>]+>','',toke)\n",
        "      # print(newtoke)\n",
        "      newtoke = re.sub(r\"([?@!.])\\\\1+\",r'\\\\1',toke)\n",
        "      # newtoke = re.sub('[^a-zA-Z]', ' ', newtoke)\n",
        "      # newtoke = re.sub(r'\\s+[a-zA-Z]\\s+', ' ', newtoke)\n",
        "      newtoke = re.sub(r'\\s+', ' ', newtoke)\n",
        "      pSentences.append(newtoke)\n",
        "\n",
        "print(\"({:.2f})done extracting {} positive sentences\".format(time.time()-starttime, len(pSentences)))\n",
        "starttime=time.time()\n",
        "max=0\n",
        "for ndir in nDirs[:sent_limit[1]]:\n",
        "  file = open('aclImdb/train/neg/{}'.format(ndir),'r')\n",
        "  lines = file.readlines()\n",
        "  file.close()\n",
        "  tokens = sentence_tokenize(lines[0])\n",
        "  if len(tokens) > max:\n",
        "    max = len(tokens)\n",
        "    print('review {} sentences: {}'.format(idx, max))\n",
        "  for idx, toke in enumerate(tokens):\n",
        "    \"\"\" \n",
        "    simple regex to clean the sentences\n",
        "    https://stackabuse.com/text-classification-with-bert-tokenizer-and-tf-2-0-in-python/\n",
        "    \"\"\"\n",
        "    # html tags\n",
        "    newtoke = re.sub(r'<[^>]+>','',toke)\n",
        "    # newtoke = re.sub(r'(?<![.])(?![.]{3})(\\p{P})\\1',r'$1',toke)\n",
        "    # print(newtoke)\n",
        "    newtoke = re.sub(r\"([?@!.])\\\\1+\",r'\\\\1',toke)\n",
        "    # random single chars\n",
        "    # newtoke = re.sub('[^a-zA-Z]', ' ', newtoke)\n",
        "    # newtoke = re.sub(r'\\s+[a-zA-Z]\\s+', ' ', newtoke)\n",
        "    newtoke = re.sub(r'\\s+', ' ', newtoke)\n",
        "    nSentences.append(newtoke)\n",
        "\n",
        "print(\"({:.2f}) done extracting {} negative sentences\".format(time.time() - starttime, len(nSentences)))\n",
        "\n",
        "# prune sentences:\n"
      ],
      "execution_count": null,
      "outputs": [
        {
          "output_type": "stream",
          "text": [
            "positive reviews: 12500\n",
            "negative reviews: 12500\n",
            "review 0 sentences: 10\n",
            "0\n",
            "review 5 sentences: 12\n",
            "30\n",
            "review 11 sentences: 19\n",
            "79\n",
            "review 12 sentences: 24\n",
            "98\n",
            "review 24 sentences: 29\n",
            "239\n",
            "review 35 sentences: 41\n",
            "372\n",
            "review 56 sentences: 42\n",
            "611\n",
            "review 235 sentences: 43\n",
            "2692\n",
            "review 390 sentences: 45\n",
            "4279\n",
            "review 428 sentences: 53\n",
            "4739\n",
            "review 998 sentences: 55\n",
            "10632\n",
            "review 1356 sentences: 282\n",
            "14330\n",
            "(2.88)done extracting 52696 positive sentences\n",
            "review 0 sentences: 17\n",
            "review 1 sentences: 19\n",
            "review 18 sentences: 25\n",
            "review 9 sentences: 29\n",
            "review 14 sentences: 30\n",
            "review 9 sentences: 32\n",
            "review 13 sentences: 40\n",
            "review 7 sentences: 41\n",
            "review 1 sentences: 60\n",
            "review 7 sentences: 75\n",
            "(2.93) done extracting 55447 negative sentences\n"
          ],
          "name": "stdout"
        }
      ]
    },
    {
      "cell_type": "code",
      "metadata": {
        "colab": {
          "base_uri": "https://localhost:8080/",
          "height": 167
        },
        "id": "s_IZsBkS3L4x",
        "outputId": "e3221834-b138-40c6-b0bb-dda2adca75b1"
      },
      "source": [
        ""
      ],
      "execution_count": null,
      "outputs": [
        {
          "output_type": "error",
          "ename": "TypeError",
          "evalue": "ignored",
          "traceback": [
            "\u001b[0;31m---------------------------------------------------------------------------\u001b[0m",
            "\u001b[0;31mTypeError\u001b[0m                                 Traceback (most recent call last)",
            "\u001b[0;32m<ipython-input-37-6884aaae75b8>\u001b[0m in \u001b[0;36m<module>\u001b[0;34m()\u001b[0m\n\u001b[0;32m----> 1\u001b[0;31m \u001b[0mprint\u001b[0m\u001b[0;34m(\u001b[0m\u001b[0mlen\u001b[0m\u001b[0;34m(\u001b[0m\u001b[0mzip\u001b[0m\u001b[0;34m(\u001b[0m\u001b[0mpDirs\u001b[0m\u001b[0;34m,\u001b[0m\u001b[0mnDirs\u001b[0m\u001b[0;34m)\u001b[0m\u001b[0;34m)\u001b[0m\u001b[0;34m)\u001b[0m\u001b[0;34m\u001b[0m\u001b[0;34m\u001b[0m\u001b[0m\n\u001b[0m",
            "\u001b[0;31mTypeError\u001b[0m: object of type 'zip' has no len()"
          ]
        }
      ]
    },
    {
      "cell_type": "code",
      "metadata": {
        "id": "r7lFpbpLV-Um",
        "colab": {
          "base_uri": "https://localhost:8080/"
        },
        "outputId": "89402ae9-f7a7-4f1d-d649-752a34029d7d"
      },
      "source": [
        "## printout random thing\n",
        "\n",
        "file = open('aclImdb/train/pos/{}'.format(pDirs[1356]),'r')\n",
        "lines = file.readlines()\n",
        "file.close()\n",
        "tokens = sentence_tokenize(lines[0])\n",
        "print(\"sentences in this review: {}\".format(len(tokens)))\n",
        "for idx,sent in enumerate(tokens):\n",
        "  print(idx,'--',sent)\n",
        "\n",
        "for i in range(14330-10,14330-10+282):\n",
        "  print(i,pSentences[i])\n",
        "tokens = lines[0]\n",
        "for \n",
        "\n",
        "# text = re.sub(r'(\\s+)','',text)\n",
        "print(text)"
      ],
      "execution_count": null,
      "outputs": [
        {
          "output_type": "stream",
          "text": [
            "sentences in this review: 282\n",
            "0 -- Smallville episode Justice is the best episode of Smallville !\n",
            "1 -- !\n",
            "2 -- !\n",
            "3 -- !\n",
            "4 -- !\n",
            "5 -- !\n",
            "6 -- !\n",
            "7 -- !\n",
            "8 -- !\n",
            "9 -- !\n",
            "10 -- !\n",
            "11 -- !\n",
            "12 -- !\n",
            "13 -- !\n",
            "14 -- !\n",
            "15 -- !\n",
            "16 -- !\n",
            "17 -- !\n",
            "18 -- !\n",
            "19 -- !\n",
            "20 -- !\n",
            "21 -- !\n",
            "22 -- !\n",
            "23 -- !\n",
            "24 -- !\n",
            "25 -- !\n",
            "26 -- !\n",
            "27 -- !\n",
            "28 -- !\n",
            "29 -- !\n",
            "30 -- !\n",
            "31 -- !\n",
            "32 -- !\n",
            "33 -- !\n",
            "34 -- !\n",
            "35 -- !\n",
            "36 -- !\n",
            "37 -- !\n",
            "38 -- !\n",
            "39 -- !\n",
            "40 -- !\n",
            "41 -- !\n",
            "42 -- !\n",
            "43 -- !\n",
            "44 -- !\n",
            "45 -- !\n",
            "46 -- !\n",
            "47 -- !\n",
            "48 -- !\n",
            "49 -- !\n",
            "50 -- !\n",
            "51 -- !\n",
            "52 -- !\n",
            "53 -- !\n",
            "54 -- !\n",
            "55 -- !\n",
            "56 -- !\n",
            "57 -- !\n",
            "58 -- !\n",
            "59 -- !\n",
            "60 -- !\n",
            "61 -- !\n",
            "62 -- !\n",
            "63 -- !\n",
            "64 -- !\n",
            "65 -- !\n",
            "66 -- !\n",
            "67 -- !\n",
            "68 -- !\n",
            "69 -- !\n",
            "70 -- !\n",
            "71 -- !\n",
            "72 -- !\n",
            "73 -- !\n",
            "74 -- !\n",
            "75 -- !\n",
            "76 -- !\n",
            "77 -- !\n",
            "78 -- !\n",
            "79 -- !\n",
            "80 -- !\n",
            "81 -- !\n",
            "82 -- !\n",
            "83 -- !\n",
            "84 -- !\n",
            "85 -- !\n",
            "86 -- !\n",
            "87 -- !\n",
            "88 -- !\n",
            "89 -- !\n",
            "90 -- !\n",
            "91 -- !\n",
            "92 -- !\n",
            "93 -- !\n",
            "94 -- !\n",
            "95 -- !\n",
            "96 -- !\n",
            "97 -- !\n",
            "98 -- !\n",
            "99 -- !\n",
            "100 -- !\n",
            "101 -- !\n",
            "102 -- !\n",
            "103 -- !\n",
            "104 -- !\n",
            "105 -- !\n",
            "106 -- !\n",
            "107 -- !\n",
            "108 -- !\n",
            "109 -- !\n",
            "110 -- !\n",
            "111 -- !\n",
            "112 -- !\n",
            "113 -- !\n",
            "114 -- !\n",
            "115 -- !\n",
            "116 -- !\n",
            "117 -- !\n",
            "118 -- !\n",
            "119 -- !\n",
            "120 -- !\n",
            "121 -- !\n",
            "122 -- !\n",
            "123 -- !\n",
            "124 -- !\n",
            "125 -- !\n",
            "126 -- !\n",
            "127 -- !\n",
            "128 -- !\n",
            "129 -- !\n",
            "130 -- !\n",
            "131 -- !\n",
            "132 -- !\n",
            "133 -- !\n",
            "134 -- !\n",
            "135 -- !\n",
            "136 -- !\n",
            "137 -- !\n",
            "138 -- !\n",
            "139 -- !\n",
            "140 -- !\n",
            "141 -- !\n",
            "142 -- !\n",
            "143 -- !\n",
            "144 -- It's my favorite episode of Smallville!\n",
            "145 -- !\n",
            "146 -- !\n",
            "147 -- !\n",
            "148 -- !\n",
            "149 -- !\n",
            "150 -- !\n",
            "151 -- !\n",
            "152 -- !\n",
            "153 -- !\n",
            "154 -- !\n",
            "155 -- !\n",
            "156 -- !\n",
            "157 -- !\n",
            "158 -- !\n",
            "159 -- !\n",
            "160 -- !\n",
            "161 -- !\n",
            "162 -- !\n",
            "163 -- !\n",
            "164 -- !\n",
            "165 -- !\n",
            "166 -- !\n",
            "167 -- !\n",
            "168 -- !\n",
            "169 -- !\n",
            "170 -- !\n",
            "171 -- !\n",
            "172 -- !\n",
            "173 -- !\n",
            "174 -- !\n",
            "175 -- !\n",
            "176 -- !\n",
            "177 -- !\n",
            "178 -- !\n",
            "179 -- !\n",
            "180 -- !\n",
            "181 -- !\n",
            "182 -- !\n",
            "183 -- !\n",
            "184 -- !\n",
            "185 -- !\n",
            "186 -- !\n",
            "187 -- !\n",
            "188 -- !\n",
            "189 -- !\n",
            "190 -- !\n",
            "191 -- !\n",
            "192 -- !\n",
            "193 -- !\n",
            "194 -- !\n",
            "195 -- !\n",
            "196 -- !\n",
            "197 -- !\n",
            "198 -- !\n",
            "199 -- !\n",
            "200 -- !\n",
            "201 -- !\n",
            "202 -- !\n",
            "203 -- !\n",
            "204 -- !\n",
            "205 -- !\n",
            "206 -- !\n",
            "207 -- !\n",
            "208 -- !\n",
            "209 -- !\n",
            "210 -- !\n",
            "211 -- !\n",
            "212 -- !\n",
            "213 -- !\n",
            "214 -- !\n",
            "215 -- !\n",
            "216 -- !\n",
            "217 -- !\n",
            "218 -- !\n",
            "219 -- !\n",
            "220 -- !\n",
            "221 -- !\n",
            "222 -- !\n",
            "223 -- !\n",
            "224 -- !\n",
            "225 -- !\n",
            "226 -- !\n",
            "227 -- !\n",
            "228 -- !\n",
            "229 -- !\n",
            "230 -- !\n",
            "231 -- !\n",
            "232 -- !\n",
            "233 -- !\n",
            "234 -- !\n",
            "235 -- !\n",
            "236 -- !\n",
            "237 -- !\n",
            "238 -- !\n",
            "239 -- !\n",
            "240 -- !\n",
            "241 -- !\n",
            "242 -- !\n",
            "243 -- !\n",
            "244 -- !\n",
            "245 -- !\n",
            "246 -- !\n",
            "247 -- !\n",
            "248 -- !\n",
            "249 -- !\n",
            "250 -- !\n",
            "251 -- !\n",
            "252 -- !\n",
            "253 -- !\n",
            "254 -- !\n",
            "255 -- !\n",
            "256 -- !\n",
            "257 -- !\n",
            "258 -- !\n",
            "259 -- !\n",
            "260 -- !\n",
            "261 -- !\n",
            "262 -- !\n",
            "263 -- !\n",
            "264 -- !\n",
            "265 -- !\n",
            "266 -- !\n",
            "267 -- !\n",
            "268 -- !\n",
            "269 -- !\n",
            "270 -- !\n",
            "271 -- !\n",
            "272 -- !\n",
            "273 -- !\n",
            "274 -- !\n",
            "275 -- !\n",
            "276 -- !\n",
            "277 -- !\n",
            "278 -- !\n",
            "279 -- !\n",
            "280 -- !\n",
            "281 -- !\n",
            "14320 And a plus, a little Sorcerer's Apprentice to go along with it.\n",
            "14321 And of course, did you notice that Johansen is getting a bit frumpy?\n",
            "14322 Charles Dance is always entertaining, as was Hugh Jackman.\n",
            "14323 The history of the FBI, as told from the point of view of Agent Stewart via flashbacks, interwoven with his personal life story.\n",
            "14324 Stewart and Miles (as his wife) are pretty good, as is Hamilton as an earnest agent.\n",
            "14325 The problem is that the episodic nature of the story makes it difficult to get involved.\n",
            "14326 It's like watching bits and pieces of a dozen different movies as we get glimpses of a who's who cast of gangsters.\n",
            "14327 Some of the episodes are too long, some too short, and some just look out of place (Stewart's daughter's school sequence).\n",
            "14328 Overall, it goes on way too long.\n",
            "14329 Nevertheless, it's worth a look for its handsome production values.\n",
            "14330 Smallville episode Justice is the best episode of Smallville !\n",
            "14331 [ex]\n",
            "14332 [ex]\n",
            "14333 [ex]\n",
            "14334 [ex]\n",
            "14335 [ex]\n",
            "14336 [ex]\n",
            "14337 [ex]\n",
            "14338 [ex]\n",
            "14339 [ex]\n",
            "14340 [ex]\n",
            "14341 [ex]\n",
            "14342 [ex]\n",
            "14343 [ex]\n",
            "14344 [ex]\n",
            "14345 [ex]\n",
            "14346 [ex]\n",
            "14347 [ex]\n",
            "14348 [ex]\n",
            "14349 [ex]\n",
            "14350 [ex]\n",
            "14351 [ex]\n",
            "14352 [ex]\n",
            "14353 [ex]\n",
            "14354 [ex]\n",
            "14355 [ex]\n",
            "14356 [ex]\n",
            "14357 [ex]\n",
            "14358 [ex]\n",
            "14359 [ex]\n",
            "14360 [ex]\n",
            "14361 [ex]\n",
            "14362 [ex]\n",
            "14363 [ex]\n",
            "14364 [ex]\n",
            "14365 [ex]\n",
            "14366 [ex]\n",
            "14367 [ex]\n",
            "14368 [ex]\n",
            "14369 [ex]\n",
            "14370 [ex]\n",
            "14371 [ex]\n",
            "14372 [ex]\n",
            "14373 [ex]\n",
            "14374 [ex]\n",
            "14375 [ex]\n",
            "14376 [ex]\n",
            "14377 [ex]\n",
            "14378 [ex]\n",
            "14379 [ex]\n",
            "14380 [ex]\n",
            "14381 [ex]\n",
            "14382 [ex]\n",
            "14383 [ex]\n",
            "14384 [ex]\n",
            "14385 [ex]\n",
            "14386 [ex]\n",
            "14387 [ex]\n",
            "14388 [ex]\n",
            "14389 [ex]\n",
            "14390 [ex]\n",
            "14391 [ex]\n",
            "14392 [ex]\n",
            "14393 [ex]\n",
            "14394 [ex]\n",
            "14395 [ex]\n",
            "14396 [ex]\n",
            "14397 [ex]\n",
            "14398 [ex]\n",
            "14399 [ex]\n",
            "14400 [ex]\n",
            "14401 [ex]\n",
            "14402 [ex]\n",
            "14403 [ex]\n",
            "14404 [ex]\n",
            "14405 [ex]\n",
            "14406 [ex]\n",
            "14407 [ex]\n",
            "14408 [ex]\n",
            "14409 [ex]\n",
            "14410 [ex]\n",
            "14411 [ex]\n",
            "14412 [ex]\n",
            "14413 [ex]\n",
            "14414 [ex]\n",
            "14415 [ex]\n",
            "14416 [ex]\n",
            "14417 [ex]\n",
            "14418 [ex]\n",
            "14419 [ex]\n",
            "14420 [ex]\n",
            "14421 [ex]\n",
            "14422 [ex]\n",
            "14423 [ex]\n",
            "14424 [ex]\n",
            "14425 [ex]\n",
            "14426 [ex]\n",
            "14427 [ex]\n",
            "14428 [ex]\n",
            "14429 [ex]\n",
            "14430 [ex]\n",
            "14431 [ex]\n",
            "14432 [ex]\n",
            "14433 [ex]\n",
            "14434 [ex]\n",
            "14435 [ex]\n",
            "14436 [ex]\n",
            "14437 [ex]\n",
            "14438 [ex]\n",
            "14439 [ex]\n",
            "14440 [ex]\n",
            "14441 [ex]\n",
            "14442 [ex]\n",
            "14443 [ex]\n",
            "14444 [ex]\n",
            "14445 [ex]\n",
            "14446 [ex]\n",
            "14447 [ex]\n",
            "14448 [ex]\n",
            "14449 [ex]\n",
            "14450 [ex]\n",
            "14451 [ex]\n",
            "14452 [ex]\n",
            "14453 [ex]\n",
            "14454 [ex]\n",
            "14455 [ex]\n",
            "14456 [ex]\n",
            "14457 [ex]\n",
            "14458 [ex]\n",
            "14459 [ex]\n",
            "14460 [ex]\n",
            "14461 [ex]\n",
            "14462 [ex]\n",
            "14463 [ex]\n",
            "14464 [ex]\n",
            "14465 [ex]\n",
            "14466 [ex]\n",
            "14467 [ex]\n",
            "14468 [ex]\n",
            "14469 [ex]\n",
            "14470 [ex]\n",
            "14471 [ex]\n",
            "14472 [ex]\n",
            "14473 [ex]\n",
            "14474 It's my favorite episode of Smallville!\n",
            "14475 [ex]\n",
            "14476 [ex]\n",
            "14477 [ex]\n",
            "14478 [ex]\n",
            "14479 [ex]\n",
            "14480 [ex]\n",
            "14481 [ex]\n",
            "14482 [ex]\n",
            "14483 [ex]\n",
            "14484 [ex]\n",
            "14485 [ex]\n",
            "14486 [ex]\n",
            "14487 [ex]\n",
            "14488 [ex]\n",
            "14489 [ex]\n",
            "14490 [ex]\n",
            "14491 [ex]\n",
            "14492 [ex]\n",
            "14493 [ex]\n",
            "14494 [ex]\n",
            "14495 [ex]\n",
            "14496 [ex]\n",
            "14497 [ex]\n",
            "14498 [ex]\n",
            "14499 [ex]\n",
            "14500 [ex]\n",
            "14501 [ex]\n",
            "14502 [ex]\n",
            "14503 [ex]\n",
            "14504 [ex]\n",
            "14505 [ex]\n",
            "14506 [ex]\n",
            "14507 [ex]\n",
            "14508 [ex]\n",
            "14509 [ex]\n",
            "14510 [ex]\n",
            "14511 [ex]\n",
            "14512 [ex]\n",
            "14513 [ex]\n",
            "14514 [ex]\n",
            "14515 [ex]\n",
            "14516 [ex]\n",
            "14517 [ex]\n",
            "14518 [ex]\n",
            "14519 [ex]\n",
            "14520 [ex]\n",
            "14521 [ex]\n",
            "14522 [ex]\n",
            "14523 [ex]\n",
            "14524 [ex]\n",
            "14525 [ex]\n",
            "14526 [ex]\n",
            "14527 [ex]\n",
            "14528 [ex]\n",
            "14529 [ex]\n",
            "14530 [ex]\n",
            "14531 [ex]\n",
            "14532 [ex]\n",
            "14533 [ex]\n",
            "14534 [ex]\n",
            "14535 [ex]\n",
            "14536 [ex]\n",
            "14537 [ex]\n",
            "14538 [ex]\n",
            "14539 [ex]\n",
            "14540 [ex]\n",
            "14541 [ex]\n",
            "14542 [ex]\n",
            "14543 [ex]\n",
            "14544 [ex]\n",
            "14545 [ex]\n",
            "14546 [ex]\n",
            "14547 [ex]\n",
            "14548 [ex]\n",
            "14549 [ex]\n",
            "14550 [ex]\n",
            "14551 [ex]\n",
            "14552 [ex]\n",
            "14553 [ex]\n",
            "14554 [ex]\n",
            "14555 [ex]\n",
            "14556 [ex]\n",
            "14557 [ex]\n",
            "14558 [ex]\n",
            "14559 [ex]\n",
            "14560 [ex]\n",
            "14561 [ex]\n",
            "14562 [ex]\n",
            "14563 [ex]\n",
            "14564 [ex]\n",
            "14565 [ex]\n",
            "14566 [ex]\n",
            "14567 [ex]\n",
            "14568 [ex]\n",
            "14569 [ex]\n",
            "14570 [ex]\n",
            "14571 [ex]\n",
            "14572 [ex]\n",
            "14573 [ex]\n",
            "14574 [ex]\n",
            "14575 [ex]\n",
            "14576 [ex]\n",
            "14577 [ex]\n",
            "14578 [ex]\n",
            "14579 [ex]\n",
            "14580 [ex]\n",
            "14581 [ex]\n",
            "14582 [ex]\n",
            "14583 [ex]\n",
            "14584 [ex]\n",
            "14585 [ex]\n",
            "14586 [ex]\n",
            "14587 [ex]\n",
            "14588 [ex]\n",
            "14589 [ex]\n",
            "14590 [ex]\n",
            "14591 [ex]\n",
            "14592 [ex]\n",
            "14593 [ex]\n",
            "14594 [ex]\n",
            "14595 [ex]\n",
            "14596 [ex]\n",
            "14597 [ex]\n",
            "14598 [ex]\n",
            "14599 [ex]\n",
            "14600 [ex]\n",
            "14601 [ex]\n",
            "Smallville episode Justice is the best episode of Smallville ! ! ! ! ! ! ! ! ! ! ! ! ! ! ! ! ! ! ! ! ! ! ! ! ! ! ! ! ! ! ! ! ! ! ! ! ! ! ! ! ! ! ! ! ! ! ! ! ! ! ! ! ! ! ! ! ! ! ! ! ! ! ! ! ! ! ! ! ! ! ! ! ! ! ! ! ! ! ! ! ! ! ! ! ! ! ! ! ! ! ! ! ! ! ! ! ! ! ! ! ! ! ! ! ! ! ! ! ! ! ! ! ! ! ! ! ! ! ! ! ! ! ! ! ! ! ! ! ! ! ! ! ! ! ! ! ! ! ! ! ! ! ! ! It's my favorite episode of Smallville! ! ! ! ! ! ! ! ! ! ! ! ! ! ! ! ! ! ! ! ! ! ! ! ! ! ! ! ! ! ! ! ! ! ! ! ! ! ! ! ! ! ! ! ! ! ! ! ! ! ! ! ! ! ! ! ! ! ! ! ! ! ! ! ! ! ! ! ! ! ! ! ! ! ! ! ! ! ! ! ! ! ! ! ! ! ! ! ! ! ! ! ! ! ! ! ! ! ! ! ! ! ! ! ! ! ! ! ! ! ! ! ! ! ! ! ! ! ! ! ! ! ! ! ! ! ! ! ! ! ! ! ! ! ! ! ! !\n"
          ],
          "name": "stdout"
        }
      ]
    },
    {
      "cell_type": "code",
      "metadata": {
        "id": "dLqbc9zSJ5k4"
      },
      "source": [
        "tokenizer = BertTokenizer.from_pretrained('bert-base-uncased', do_lower_case=True)"
      ],
      "execution_count": null,
      "outputs": []
    },
    {
      "cell_type": "markdown",
      "metadata": {
        "id": "wb1fCqlMxvII"
      },
      "source": [
        "### encode sentences"
      ]
    },
    {
      "cell_type": "code",
      "metadata": {
        "id": "ikZyvoEPr0H2",
        "colab": {
          "base_uri": "https://localhost:8080/"
        },
        "outputId": "526332d8-e3e8-4d36-ef1e-941169906a5e"
      },
      "source": [
        "sentences = []\n",
        "encodings = []\n",
        "labels = []\n",
        "masks = []\n",
        "starttime = time.time()\n",
        "for psent in pSentences:\n",
        "  encoded_sent = tokenizer.encode(psent,add_special_tokens = True)\n",
        "  # print(samp.split(' '))\n",
        "  # print(encodings[0],'\\n\\t',len(encoded_sent))\n",
        "  sentences.append(psent)\n",
        "  encodings.append(encoded_sent)\n",
        "  labels.append(1)\n",
        "  # if len(encodings) == 10000:\n",
        "    # break\n",
        "print(\"({:.2f}) positive sentenced encoded.\".format(time.time()-starttime))\n",
        "for nsent in nSentences:\n",
        "  encoded_sent = tokenizer.encode(nsent,add_special_tokens = True)\n",
        "  # print(samp.split(' '))\n",
        "  # print(encodings[0],'\\n\\t',len(encoded_sent))\n",
        "  sentences.append(nsent)\n",
        "  encodings.append(encoded_sent)\n",
        "  labels.append(0)\n",
        "  # if len(encodings) == 20000:\n",
        "    # break\n",
        "endtime=time.time()\n",
        "print(\"negative sentences encoded.\")\n",
        "print(\"total ({}) sentence encoding time:\\t{:.4f}\".format(len(encodings),endtime-starttime))\n",
        "\n",
        "\n",
        "sentence_token_ids = pad_sequences(encodings, maxlen=64, dtype=\"long\", value=0, truncating=\"post\", padding=\"post\")\n",
        "# starttime=time.time()\n",
        "# i=0\n",
        "# for sent in sentence_token_ids:\n",
        "#   i+=1\n",
        "#   masks.append([int(toke > 0) for toke in sent])\n",
        "#   if i % 25000 == 0:\n",
        "#     print(\"({:.2f}) masks encoded:\\t{}\".format(time.time()-starttime,i))\n",
        "# print(\"({:.2f}) masks created\".format(time.time()-starttime))\n"
      ],
      "execution_count": null,
      "outputs": [
        {
          "output_type": "stream",
          "text": [
            "Token indices sequence length is longer than the specified maximum sequence length for this model (730 > 512). Running this sequence through the model will result in indexing errors\n"
          ],
          "name": "stderr"
        },
        {
          "output_type": "stream",
          "text": [
            "(29.92) positive sentenced encoded.\n",
            "negative sentences encoded.\n",
            "total (108292) sentence encoding time:\t60.1005\n"
          ],
          "name": "stdout"
        }
      ]
    },
    {
      "cell_type": "code",
      "metadata": {
        "colab": {
          "base_uri": "https://localhost:8080/"
        },
        "id": "PruVlwtJhATm",
        "outputId": "3a21a96b-b04d-4988-a531-17adfd0c8a91"
      },
      "source": [
        "max=0\n",
        "maxInd = None\n",
        "for idx,sent in enumerate(encodings):\n",
        "  if len(sent) > max:\n",
        "    maxInd = idx\n",
        "    max = len(sent)\n",
        "\n",
        "print(max,encodings[maxInd])"
      ],
      "execution_count": null,
      "outputs": [
        {
          "output_type": "stream",
          "text": [
            "848 [101, 2144, 2087, 3319, 1005, 1055, 1997, 2023, 2143, 2024, 1997, 11326, 1005, 1055, 2464, 5476, 1005, 1055, 3283, 1045, 1005, 1040, 2066, 2000, 5587, 1037, 2062, 3522, 2028, 1010, 1996, 2143, 2330, 1005, 1055, 2007, 4518, 8333, 1997, 1038, 1011, 2459, 1005, 1055, 8647, 2762, 1010, 1996, 2143, 3013, 1005, 1055, 2000, 28626, 14121, 1005, 1055, 5292, 29441, 5804, 1006, 2952, 1007, 8814, 3367, 2839, 1998, 2010, 14895, 2770, 2005, 3104, 2096, 2437, 2037, 2126, 2000, 8042, 1005, 1055, 11865, 11106, 14544, 15742, 1010, 2320, 2503, 1010, 2027, 2024, 2139, 23736, 27235, 2094, 2011, 15742, 3095, 5073, 1010, 1996, 2143, 2059, 3013, 1005, 1055, 2000, 2028, 1997, 2116, 3034, 3496, 1005, 1055, 2007, 2632, 8428, 15315, 13390, 3228, 1037, 11519, 8605, 1997, 12500, 8042, 8320, 2075, 2010, 2961, 1005, 1055, 2000, 1000, 7209, 3377, 1000, 2096, 14121, 1005, 1055, 2839, 2003, 3491, 2004, 3254, 2746, 2000, 5382, 1996, 15742, 7939, 4697, 2078, 1005, 1055, 2024, 3236, 2039, 1999, 1037, 5913, 2088, 1011, 2070, 2512, 1011, 15742, 2724, 1005, 1055, 2024, 8212, 1010, 2087, 3862, 2108, 1996, 9451, 1997, 1996, 10798, 2291, 2000, 4652, 1037, 2845, 5083, 2083, 2068, 1998, 1037, 3576, 4942, 24759, 4140, 5994, 1037, 2402, 2266, 1997, 1996, 13109, 4817, 3131, 1005, 1055, 1998, 2010, 2155, 1005, 1055, 7669, 1999, 6405, 1011, 2023, 2143, 9015, 1005, 1055, 2013, 1037, 2193, 1997, 6987, 27118, 9468, 4648, 9243, 2008, 1037, 2446, 2143, 2081, 2069, 2184, 2095, 1005, 1055, 2044, 1059, 2860, 2475, 2323, 2025, 2031, 2443, 1025, 1996, 3364, 17274, 2175, 15878, 8671, 2015, 1006, 16172, 1047, 25965, 2063, 1007, 4929, 1005, 1055, 1996, 2168, 6375, 2004, 8042, 1010, 2164, 2849, 6755, 1011, 2175, 15878, 8671, 2015, 5078, 1037, 2829, 6394, 2283, 6375, 2007, 25430, 14083, 7556, 2849, 12733, 1011, 1996, 1000, 7020, 1000, 5268, 1005, 1055, 4929, 2446, 2390, 21356, 1010, 1996, 2092, 8832, 3496, 1997, 8042, 21467, 1996, 3707, 2892, 2000, 2879, 1005, 1055, 1997, 1996, 8042, 3360, 2003, 3491, 2004, 2383, 2579, 2173, 2503, 1996, 15742, 1006, 2009, 2001, 2589, 2648, 1999, 1996, 10119, 1007, 1998, 22267, 1010, 8042, 1005, 1055, 5920, 5195, 2003, 4415, 3491, 2004, 1037, 6995, 18778, 2944, 4798, 1011, 2087, 4070, 1005, 1055, 5993, 2009, 2001, 1037, 10598, 5886, 4903, 2243, 1011, 2070, 2978, 1005, 1055, 1997, 3772, 2036, 4025, 12590, 24949, 2007, 1996, 15967, 3153, 3496, 2379, 1996, 2203, 1997, 1996, 2143, 2108, 3862, 1010, 2023, 2978, 2003, 3491, 2004, 1037, 19685, 8301, 2102, 1010, 2007, 1037, 2046, 9048, 12921, 5303, 5268, 1006, 2010, 2849, 1999, 1037, 11867, 4115, 2102, 1007, 29310, 9289, 2135, 13020, 1011, 9085, 2000, 2189, 2096, 1037, 6821, 2515, 1037, 5257, 6167, 27058, 3366, 1013, 7579, 3153, 1010, 2035, 2011, 13541, 7138, 1012, 1012, 1012, 2023, 2003, 2941, 16436, 2000, 3422, 1011, 1996, 2087, 9788, 2978, 2003, 2043, 14121, 1005, 1055, 2952, 8814, 3367, 5114, 1005, 1055, 2019, 4378, 2894, 2007, 15315, 13390, 1005, 1055, 8042, 1010, 8042, 2003, 3491, 2004, 14319, 2006, 1037, 2813, 6847, 1010, 25483, 1998, 3972, 15735, 3560, 1010, 2043, 14121, 1005, 1055, 2839, 4088, 1005, 1055, 2000, 3160, 2032, 1010, 8042, 2707, 1005, 1055, 7491, 2029, 3288, 1005, 1055, 1999, 1037, 7020, 3457, 2040, 26495, 6357, 1005, 1055, 14121, 1005, 1055, 2839, 1999, 1996, 2067, 2007, 1037, 22077, 1011, 2023, 24212, 3496, 2003, 2025, 2241, 2006, 2151, 2995, 3181, 4070, 1011, 14121, 1005, 1055, 2839, 2003, 2059, 13161, 2125, 2000, 3280, 1999, 1037, 14405, 10624, 5358, 2096, 8042, 7374, 1005, 1055, 2010, 2219, 4566, 1010, 8042, 1005, 1055, 13407, 2000, 2010, 3095, 2003, 3491, 2021, 1996, 5920, 2003, 2125, 1011, 3898, 1010, 1996, 2345, 2117, 1005, 1055, 1997, 1996, 3185, 2265, 8042, 1005, 1055, 6715, 1052, 16363, 5610, 3254, 5716, 2046, 1037, 24407, 3746, 1997, 1996, 2227, 1997, 1996, 2757, 28626, 14121, 1013, 5292, 29441, 5804, 8814, 3367, 1011, 2023, 2143, 2003, 2062, 2035, 27203, 2084, 3439, 1998, 3087, 4699, 1999, 2023, 2558, 2052, 2079, 2488, 2000, 4638, 2041, 2062, 3522, 2143, 1005, 1055, 2107, 2004, 1996, 3381, 12661, 1000, 8042, 1024, 1996, 2197, 2184, 2154, 1005, 1055, 1000, 2030, 1996, 2446, 2143, 1000, 22252, 1000, 1006, 4315, 4895, 3334, 24930, 1007, 2065, 2027, 4299, 1037, 2062, 2995, 9529, 1997, 2023, 6918, 2466, 1010, 2122, 2197, 2048, 2143, 1005, 1055, 2024, 2241, 2006, 2034, 2711, 3239, 9148, 27401, 4070, 1005, 1055, 1010, 2007, 1000, 8042, 1024, 1996, 2197, 2184, 2154, 1005, 1055, 1000, 2108, 9227, 2013, 21037, 7782, 2102, 1005, 1055, 10828, 2004, 1037, 3095, 2961, 1999, 1996, 11865, 11106, 14544, 15742, 1998, 1000, 22252, 1000, 2108, 2589, 2013, 8042, 1005, 1055, 3187, 1005, 1055, 28667, 14511, 18491, 1005, 1055, 1010, 1996, 3898, 2377, 2005, 1000, 4315, 2292, 2480, 2618, 17712, 2618, 1000, 2003, 2579, 2013, 2137, 19346, 2162, 4126, 1005, 1055, 3979, 3648, 2745, 14163, 11512, 3630, 1005, 1055, 2338, 1000, 2702, 2154, 1005, 1055, 2000, 3280, 1000, 1010, 2029, 2003, 2062, 1037, 6268, 1997, 2724, 1005, 1055, 1006, 2116, 5525, 5470, 26336, 1007, 2084, 3239, 9148, 27401, 2381, 1011, 2009, 2003, 11341, 2008, 6621, 8672, 8164, 2099, 1005, 1055, 4070, 1010, 1000, 1996, 2197, 2154, 1005, 1055, 1997, 8042, 1000, 2001, 2196, 2081, 2046, 1037, 2143, 1012, 102]\n"
          ],
          "name": "stdout"
        }
      ]
    },
    {
      "cell_type": "code",
      "metadata": {
        "id": "qoaz1rKI0rNK",
        "colab": {
          "base_uri": "https://localhost:8080/",
          "height": 238
        },
        "outputId": "55ceb2da-466f-4529-87e0-f3feab59a0de"
      },
      "source": [
        "# import bert\n",
        "# from bert import run_classifier\n",
        "\n",
        "max_len=128\n",
        "count=0\n",
        "max=0\n",
        "maxInd = None\n",
        "for idx,sent in enumerate(encodings):\n",
        "  if len(sent) > max:\n",
        "    maxInd = idx\n",
        "    max = len(sent)\n",
        "  if len(sent) > max_len:\n",
        "    encodings[idx] = sent[:max_len]\n",
        "    encodings[idx][-1] = 102\n",
        "    count+=1\n",
        "print(\"sentences shortened: {}\".format(count))\n",
        "print(max,encodings[maxInd])\n",
        "\n",
        "inputs = {\n",
        "    \"data\": sentences[26],\n",
        "    \"mask\": masks[26],\n",
        "    \"labels\": labels[26] \n",
        "}\n",
        "\n",
        "# train_InputExamples = train.apply(lambda x: bert.run_classifier.InputExample(guid=None, # Globally unique ID for bookkeeping, unused in this example\n",
        "#                                                                    text_a = x['data'], \n",
        "#                                                                    text_b = None, \n",
        "#                                                                    label = x['labels']), axis = 1"
      ],
      "execution_count": null,
      "outputs": [
        {
          "output_type": "error",
          "ename": "NameError",
          "evalue": "ignored",
          "traceback": [
            "\u001b[0;31m---------------------------------------------------------------------------\u001b[0m",
            "\u001b[0;31mNameError\u001b[0m                                 Traceback (most recent call last)",
            "\u001b[0;32m<ipython-input-2-009f757e1a8b>\u001b[0m in \u001b[0;36m<module>\u001b[0;34m()\u001b[0m\n\u001b[1;32m      6\u001b[0m \u001b[0mmax\u001b[0m\u001b[0;34m=\u001b[0m\u001b[0;36m0\u001b[0m\u001b[0;34m\u001b[0m\u001b[0;34m\u001b[0m\u001b[0m\n\u001b[1;32m      7\u001b[0m \u001b[0mmaxInd\u001b[0m \u001b[0;34m=\u001b[0m \u001b[0;32mNone\u001b[0m\u001b[0;34m\u001b[0m\u001b[0;34m\u001b[0m\u001b[0m\n\u001b[0;32m----> 8\u001b[0;31m \u001b[0;32mfor\u001b[0m \u001b[0midx\u001b[0m\u001b[0;34m,\u001b[0m\u001b[0msent\u001b[0m \u001b[0;32min\u001b[0m \u001b[0menumerate\u001b[0m\u001b[0;34m(\u001b[0m\u001b[0mencodings\u001b[0m\u001b[0;34m)\u001b[0m\u001b[0;34m:\u001b[0m\u001b[0;34m\u001b[0m\u001b[0;34m\u001b[0m\u001b[0m\n\u001b[0m\u001b[1;32m      9\u001b[0m   \u001b[0;32mif\u001b[0m \u001b[0mlen\u001b[0m\u001b[0;34m(\u001b[0m\u001b[0msent\u001b[0m\u001b[0;34m)\u001b[0m \u001b[0;34m>\u001b[0m \u001b[0mmax\u001b[0m\u001b[0;34m:\u001b[0m\u001b[0;34m\u001b[0m\u001b[0;34m\u001b[0m\u001b[0m\n\u001b[1;32m     10\u001b[0m     \u001b[0mmaxInd\u001b[0m \u001b[0;34m=\u001b[0m \u001b[0midx\u001b[0m\u001b[0;34m\u001b[0m\u001b[0;34m\u001b[0m\u001b[0m\n",
            "\u001b[0;31mNameError\u001b[0m: name 'encodings' is not defined"
          ]
        }
      ]
    },
    {
      "cell_type": "markdown",
      "metadata": {
        "id": "og2y4kDlACXu"
      },
      "source": [
        ""
      ]
    },
    {
      "cell_type": "code",
      "metadata": {
        "id": "2BNqcI_L5zBI",
        "colab": {
          "base_uri": "https://localhost:8080/"
        },
        "outputId": "a92dbfed-f442-4625-f9c0-d16c6e20086e"
      },
      "source": [
        "sentence_token_ids = pad_sequences(encodings, maxlen=64, dtype=\"long\", value=0, truncating=\"post\", padding=\"post\")\n",
        "starttime=time.time()\n",
        "i=0\n",
        "for sent in sentence_token_ids:\n",
        "  i+=1\n",
        "  masks.append([int(toke > 0) for toke in sent])\n",
        "  if i % 25000 == 0:\n",
        "    print(\"({:.2f}) masks encoded:\\t{}\".format(time.time()-starttime,i))\n",
        "print(\"({:.2f}) masks created\".format(time.time()-starttime))"
      ],
      "execution_count": null,
      "outputs": [
        {
          "output_type": "stream",
          "text": [
            "(1.22) masks encoded:\t25000\n",
            "(2.25) masks encoded:\t50000\n",
            "(3.28) masks encoded:\t75000\n",
            "(4.30) masks encoded:\t100000\n",
            "(4.67) masks created\n"
          ],
          "name": "stdout"
        }
      ]
    },
    {
      "cell_type": "markdown",
      "metadata": {
        "id": "d7Rv8Wdlwvzh"
      },
      "source": [
        "## Model Config"
      ]
    },
    {
      "cell_type": "code",
      "metadata": {
        "id": "fr3GQYfc2umf"
      },
      "source": [
        "train_x, test_x, train_y, test_y = train_test_split(sentence_token_ids, labels, random_state=2020, test_size=0.1)\n",
        "train_masks, test_masks, _, _ = train_test_split(masks, labels,random_state=2020, test_size=0.1)\n",
        "\n",
        "train_x = torch.tensor(train_x)\n",
        "test_x = torch.tensor(test_x)\n",
        "train_y = torch.tensor(train_y)\n",
        "test_y = torch.tensor(test_y)\n",
        "train_masks = torch.tensor(train_masks)\n",
        "test_masks = torch.tensor(test_masks)\n",
        "\n",
        "batch_size = 64\n",
        "epochs=4\n",
        "\n",
        "train_data = TensorDataset(train_x, train_masks, train_y)\n",
        "train_sampler = RandomSampler(train_data)\n",
        "train_dataloader = DataLoader(train_data, sampler=train_sampler, batch_size=batch_size)\n",
        "\n",
        "test_data = TensorDataset(test_x, test_masks, test_y)\n",
        "test_sampler = SequentialSampler(test_data)\n",
        "test_dataloader = DataLoader(test_data, sampler=test_sampler, batch_size=batch_size)\n",
        "\n",
        "def flat_accuracy(preds, labels):\n",
        "    pred_flat = np.argmax(preds, axis=1).flatten()\n",
        "    labels_flat = labels.flatten()\n",
        "    return np.sum(pred_flat == labels_flat) / len(labels_flat)"
      ],
      "execution_count": null,
      "outputs": []
    },
    {
      "cell_type": "code",
      "metadata": {
        "id": "kTqgMxjX33l2",
        "colab": {
          "base_uri": "https://localhost:8080/",
          "height": 225,
          "referenced_widgets": [
            "91d34c79378549729a9ea852d9f6b527",
            "92e3ca9f96a441f79919d4a4c530e658",
            "ad03f1c80b224bd7ac12401c799bdca4",
            "aa03c86309404632ba57ae0309c91379",
            "938dc53f51c14d3d9c22d5317d0a6388",
            "943a100733d74f949da4dab47018a406",
            "0542dd41c3b442bc8676a5ac783af11d",
            "f0497f7ce28543d1ac577c8eb437f498",
            "be875de0ebbf4c97a7447f601d533c3f",
            "772d567a302546d6b9750163f9f91936",
            "5f47fef62f8c4298a680e01547dcd0fb",
            "82a8ad6fe1de4c70b380c56ee7fe8d24",
            "af6e4c2dd94d4729befb0a9e636ab442",
            "dee9d165f6de46b5b97c148e0fbf34ca",
            "236d74ac5894492e85c1b0f55592df28",
            "e217ddf2fd164cb38802a40f66f8b28d"
          ]
        },
        "outputId": "3bd9270b-92b8-4d33-f6b0-40f29bd49b41"
      },
      "source": [
        "# how to make the model\n",
        "model = BertForSequenceClassification.from_pretrained(\n",
        "    \"bert-base-uncased\", # Use the 12-layer BERT model, with an uncased vocab.\n",
        "    num_labels = 2, # The number of output labels--2 for binary classification.\n",
        "                    # You can increase this for multi-class tasks.   \n",
        "    output_attentions = False, # Whether the model returns attentions weights.\n",
        "    output_hidden_states = False, # Whether the model returns all hidden-states.\n",
        ")\n",
        "# Tell pytorch to run this model on the GPU.\n",
        "model.cuda()\n",
        "\n",
        "seed_val = 42\n",
        "random.seed(seed_val)\n",
        "np.random.seed()\n",
        "torch.manual_seed(seed_val)\n",
        "torch.cuda.manual_seed_all(seed_val)\n",
        "\n",
        "\n",
        "optimizer = AdamW(model.parameters(),lr=2e-5)\n",
        "                  # lr = 2e-5, # args.learning_rate - default is 5e-5, our notebook had 2e-5\n",
        "                  # eps = 1e-8 # args.adam_epsilon  - default is 1e-8.\n",
        "\n",
        "from transformers import get_linear_schedule_with_warmup\n",
        "\n",
        "total_steps = len(train_dataloader) * epochs\n",
        "\n",
        "scheduler = get_linear_schedule_with_warmup(optimizer, num_warmup_steps = 0, num_training_steps = total_steps)\n"
      ],
      "execution_count": null,
      "outputs": [
        {
          "output_type": "display_data",
          "data": {
            "application/vnd.jupyter.widget-view+json": {
              "model_id": "91d34c79378549729a9ea852d9f6b527",
              "version_minor": 0,
              "version_major": 2
            },
            "text/plain": [
              "HBox(children=(FloatProgress(value=0.0, description='Downloading', max=433.0, style=ProgressStyle(description_…"
            ]
          },
          "metadata": {
            "tags": []
          }
        },
        {
          "output_type": "stream",
          "text": [
            "\n"
          ],
          "name": "stdout"
        },
        {
          "output_type": "display_data",
          "data": {
            "application/vnd.jupyter.widget-view+json": {
              "model_id": "be875de0ebbf4c97a7447f601d533c3f",
              "version_minor": 0,
              "version_major": 2
            },
            "text/plain": [
              "HBox(children=(FloatProgress(value=0.0, description='Downloading', max=440473133.0, style=ProgressStyle(descri…"
            ]
          },
          "metadata": {
            "tags": []
          }
        },
        {
          "output_type": "stream",
          "text": [
            "\n"
          ],
          "name": "stdout"
        },
        {
          "output_type": "stream",
          "text": [
            "Some weights of the model checkpoint at bert-base-uncased were not used when initializing BertForSequenceClassification: ['cls.predictions.bias', 'cls.predictions.transform.dense.weight', 'cls.predictions.transform.dense.bias', 'cls.predictions.decoder.weight', 'cls.seq_relationship.weight', 'cls.seq_relationship.bias', 'cls.predictions.transform.LayerNorm.weight', 'cls.predictions.transform.LayerNorm.bias']\n",
            "- This IS expected if you are initializing BertForSequenceClassification from the checkpoint of a model trained on another task or with another architecture (e.g. initializing a BertForSequenceClassification model from a BertForPreTraining model).\n",
            "- This IS NOT expected if you are initializing BertForSequenceClassification from the checkpoint of a model that you expect to be exactly identical (initializing a BertForSequenceClassification model from a BertForSequenceClassification model).\n",
            "Some weights of BertForSequenceClassification were not initialized from the model checkpoint at bert-base-uncased and are newly initialized: ['classifier.weight', 'classifier.bias']\n",
            "You should probably TRAIN this model on a down-stream task to be able to use it for predictions and inference.\n"
          ],
          "name": "stderr"
        }
      ]
    },
    {
      "cell_type": "markdown",
      "metadata": {
        "id": "VvJ_liSIjjFg"
      },
      "source": [
        "# TF, Keras\n"
      ]
    },
    {
      "cell_type": "markdown",
      "metadata": {
        "id": "BYNRL0cDjS6E"
      },
      "source": [
        "## BASIC CLASSIFICATION\n",
        "\n"
      ]
    },
    {
      "cell_type": "code",
      "metadata": {
        "id": "-Z-GdbMc6qA6"
      },
      "source": [
        "# from nltk import sent_tokenize as sentence_tokenize\n",
        "# import transformers\n",
        "# from transformers import BertTokenizer\n",
        "# from keras.preprocessing.sequence import pad_sequences"
      ],
      "execution_count": null,
      "outputs": []
    },
    {
      "cell_type": "code",
      "metadata": {
        "id": "ye8YaM_FlCRZ",
        "colab": {
          "base_uri": "https://localhost:8080/"
        },
        "outputId": "247f64d0-00ad-4f84-b7d0-18aa1f1298ab"
      },
      "source": [
        "import numpy as np\n",
        "\n",
        "import tensorflow as tf\n",
        "import tensorflow_hub as hub\n",
        "import tensorflow_datasets as tfds\n",
        "\n",
        "import matplotlib.pyplot as plt\n",
        "\n",
        "print(\"Version: \", tf.__version__)\n",
        "print(\"Eager mode: \", tf.executing_eagerly())\n",
        "print(\"Hub version: \", hub.__version__)\n",
        "print(\"GPU is\", \"available\" if tf.config.list_physical_devices('GPU') else \"NOT AVAILABLE\")"
      ],
      "execution_count": null,
      "outputs": [
        {
          "output_type": "stream",
          "text": [
            "Version:  2.3.0\n",
            "Eager mode:  True\n",
            "Hub version:  0.10.0\n",
            "GPU is available\n"
          ],
          "name": "stdout"
        }
      ]
    },
    {
      "cell_type": "code",
      "metadata": {
        "colab": {
          "base_uri": "https://localhost:8080/",
          "height": 374,
          "referenced_widgets": [
            "c358c567363b4333b453b19d2971d529",
            "d5ae3a3adb90498e90201bdc3fdabc84",
            "46e33a6b5b574a82a9a7c15c2faa0c99",
            "14136663d6464800b1e8ede9bd1dd509",
            "2252d2f7d1f44da9929235206c7e6f49",
            "ffcd1ff456d548ceac28db632bf844d8",
            "e8a0fa59f20744eebe9ee2b30527757f",
            "2cdf8093727c4c22ac584c74d7420d7d",
            "69601431e0b44bcd823df47d1658a317",
            "bc1f76dfa4fc49cda99b295be6aea46c",
            "0d62911262cc4d999f0a5d982bbac6f3",
            "9b1851513dae479e8708af0b2234c7e0",
            "e705719fbd884398903564dcfca7161a",
            "1611f1fca8564682b440d7f00d65bb00",
            "648e9b20e8b14fe592d55d9f97ff6ec5",
            "d59fc0ae3c7241e3941b6cdbec39c908",
            "d24a9f9681a349d49f0bc627c9190e88",
            "b95390a0e9a446d2b49f153fa4a86f1b",
            "fd55352463794d7ca3d0841223718911",
            "1ddc78dba9264bddac0e488588672ce0",
            "4378aa84859648c08bc01cd5c13ce468",
            "d78b3013b99f490ab59ca99c9fcf7d48",
            "0d25c30b77e741bf9876f9499c82d4d6",
            "54605af1bd6445919799ccde25aa86e3",
            "4fbf284234f74b3cbac313738b3ddb99",
            "20735e53de424ea09aedea156823d488",
            "520cd95fd9ce4a76878a55ddfea314b3",
            "1c5a3a3fa2aa44429a233b9d166b18fb",
            "ad21d6c821854642917ca05d40a71485",
            "cb99342795e147b98d6ffef5d99076e8",
            "83b8bf18950c416c89b1da9df375a719",
            "cfa33515e40b4c918cc36938aab3d188",
            "034db2e6d0554d7592a90a86f0841d87",
            "db475e93c9244fbe9700c778c2682efb",
            "6c9179539a8243a88fd7fadeb6f3cbce",
            "6a70947a7871491fa07299c4ad6aef15",
            "48fc61b65dcd48199ca464d4c458a2ef",
            "d70d4c70fd364f488bd08c85cb7a3659",
            "0b1262d63e304b06bbfe80febcfb0f91",
            "827fde7fb1784893b269ecd84d660591",
            "1cc85cbf005f466289248e3e84b7b3df",
            "914afac8dc7748c0b8ede82bb76ae28d",
            "5cc5b4b7e77947ff957f2b5af8083191",
            "fa70ee6ca7974ac5895a874761882724",
            "07057b74a01e4287a9b2788fafc2fb98",
            "d11be3a53a274b859f25493b456d2177",
            "ec7fcffce0c548978374526e5f896dac",
            "642d04a756914ff5952dbd673a5d9bbc",
            "b49aa6606cb748598ec8f6315a56e8b4",
            "0a39dd42009f43a3ac294aae9f6ef0bd",
            "06c6b47ce5164bc8855257c816ccce6d",
            "bc96e28303264867ac70b81e29e1098d",
            "acd67e49025c4903b84103cfbaba2ef8",
            "b65f3ec63e404194bef70b066b812585",
            "bf5290f37b524a52b89ba1cc448d0065",
            "a96f59c374a244c1bbf77ff0edd30116",
            "516bca90a1254303bfe4c7c7ee209476",
            "2135c46f3c4e4c2281054e6eb49b3cbe",
            "dde3b3d649de45c4a1612989d8004617",
            "b8bfc6abaed347309faef491191be112",
            "dda8d776c16140288404925ac8b765e9",
            "f3d0254e65b145f88174c90e1a794897",
            "85661451a080471e97896eed8d0752e0",
            "0bf7b99e2de4416c8984425d8a460d95"
          ]
        },
        "id": "IcutlDDhj-YA",
        "outputId": "9bb3dcaf-70b9-43a7-92ec-8515058e131f"
      },
      "source": [
        "train_data, test_data = tfds.load('imdb_reviews', split=[\"train\", \"test\"], \n",
        "                                  batch_size=-1, as_supervised=True)\n",
        "\n",
        "train_examples, train_labels = tfds.as_numpy(train_data)\n",
        "test_examples, test_labels = tfds.as_numpy(test_data)\n",
        "\n",
        "\"\"\"\n",
        "\n",
        "dataset, info = tfds.load('imdb_reviews', with_info=True,\n",
        "                          as_supervised=True)\n",
        "train_dataset, test_dataset = dataset['train'], dataset['test']\n",
        "\n",
        "train_dataset.element_spec\n",
        "\n",
        "\"\"\""
      ],
      "execution_count": null,
      "outputs": [
        {
          "output_type": "stream",
          "text": [
            "\u001b[1mDownloading and preparing dataset imdb_reviews/plain_text/1.0.0 (download: 80.23 MiB, generated: Unknown size, total: 80.23 MiB) to /root/tensorflow_datasets/imdb_reviews/plain_text/1.0.0...\u001b[0m\n"
          ],
          "name": "stdout"
        },
        {
          "output_type": "display_data",
          "data": {
            "application/vnd.jupyter.widget-view+json": {
              "model_id": "c358c567363b4333b453b19d2971d529",
              "version_minor": 0,
              "version_major": 2
            },
            "text/plain": [
              "HBox(children=(FloatProgress(value=1.0, bar_style='info', description='Dl Completed...', max=1.0, style=Progre…"
            ]
          },
          "metadata": {
            "tags": []
          }
        },
        {
          "output_type": "display_data",
          "data": {
            "application/vnd.jupyter.widget-view+json": {
              "model_id": "69601431e0b44bcd823df47d1658a317",
              "version_minor": 0,
              "version_major": 2
            },
            "text/plain": [
              "HBox(children=(FloatProgress(value=1.0, bar_style='info', description='Dl Size...', max=1.0, style=ProgressSty…"
            ]
          },
          "metadata": {
            "tags": []
          }
        },
        {
          "output_type": "stream",
          "text": [
            "\n",
            "\n",
            "\n",
            "\n"
          ],
          "name": "stdout"
        },
        {
          "output_type": "display_data",
          "data": {
            "application/vnd.jupyter.widget-view+json": {
              "model_id": "d24a9f9681a349d49f0bc627c9190e88",
              "version_minor": 0,
              "version_major": 2
            },
            "text/plain": [
              "HBox(children=(FloatProgress(value=1.0, bar_style='info', max=1.0), HTML(value='')))"
            ]
          },
          "metadata": {
            "tags": []
          }
        },
        {
          "output_type": "stream",
          "text": [
            "\rShuffling and writing examples to /root/tensorflow_datasets/imdb_reviews/plain_text/1.0.0.incompleteBX39EU/imdb_reviews-train.tfrecord\n"
          ],
          "name": "stdout"
        },
        {
          "output_type": "display_data",
          "data": {
            "application/vnd.jupyter.widget-view+json": {
              "model_id": "4fbf284234f74b3cbac313738b3ddb99",
              "version_minor": 0,
              "version_major": 2
            },
            "text/plain": [
              "HBox(children=(FloatProgress(value=0.0, max=25000.0), HTML(value='')))"
            ]
          },
          "metadata": {
            "tags": []
          }
        },
        {
          "output_type": "stream",
          "text": [
            "\r"
          ],
          "name": "stdout"
        },
        {
          "output_type": "display_data",
          "data": {
            "application/vnd.jupyter.widget-view+json": {
              "model_id": "034db2e6d0554d7592a90a86f0841d87",
              "version_minor": 0,
              "version_major": 2
            },
            "text/plain": [
              "HBox(children=(FloatProgress(value=1.0, bar_style='info', max=1.0), HTML(value='')))"
            ]
          },
          "metadata": {
            "tags": []
          }
        },
        {
          "output_type": "stream",
          "text": [
            "\rShuffling and writing examples to /root/tensorflow_datasets/imdb_reviews/plain_text/1.0.0.incompleteBX39EU/imdb_reviews-test.tfrecord\n"
          ],
          "name": "stdout"
        },
        {
          "output_type": "display_data",
          "data": {
            "application/vnd.jupyter.widget-view+json": {
              "model_id": "1cc85cbf005f466289248e3e84b7b3df",
              "version_minor": 0,
              "version_major": 2
            },
            "text/plain": [
              "HBox(children=(FloatProgress(value=0.0, max=25000.0), HTML(value='')))"
            ]
          },
          "metadata": {
            "tags": []
          }
        },
        {
          "output_type": "stream",
          "text": [
            "\r"
          ],
          "name": "stdout"
        },
        {
          "output_type": "display_data",
          "data": {
            "application/vnd.jupyter.widget-view+json": {
              "model_id": "b49aa6606cb748598ec8f6315a56e8b4",
              "version_minor": 0,
              "version_major": 2
            },
            "text/plain": [
              "HBox(children=(FloatProgress(value=1.0, bar_style='info', max=1.0), HTML(value='')))"
            ]
          },
          "metadata": {
            "tags": []
          }
        },
        {
          "output_type": "stream",
          "text": [
            "\rShuffling and writing examples to /root/tensorflow_datasets/imdb_reviews/plain_text/1.0.0.incompleteBX39EU/imdb_reviews-unsupervised.tfrecord\n"
          ],
          "name": "stdout"
        },
        {
          "output_type": "display_data",
          "data": {
            "application/vnd.jupyter.widget-view+json": {
              "model_id": "516bca90a1254303bfe4c7c7ee209476",
              "version_minor": 0,
              "version_major": 2
            },
            "text/plain": [
              "HBox(children=(FloatProgress(value=0.0, max=50000.0), HTML(value='')))"
            ]
          },
          "metadata": {
            "tags": []
          }
        },
        {
          "output_type": "stream",
          "text": [
            "WARNING:absl:Dataset is using deprecated text encoder API which will be removed soon. Please use the plain_text version of the dataset and migrate to `tensorflow_text`.\n"
          ],
          "name": "stderr"
        },
        {
          "output_type": "stream",
          "text": [
            "\u001b[1mDataset imdb_reviews downloaded and prepared to /root/tensorflow_datasets/imdb_reviews/plain_text/1.0.0. Subsequent calls will reuse this data.\u001b[0m\n",
            "\r"
          ],
          "name": "stdout"
        }
      ]
    },
    {
      "cell_type": "code",
      "metadata": {
        "colab": {
          "base_uri": "https://localhost:8080/"
        },
        "id": "e5ndjX-tkc3o",
        "outputId": "ccd4a82f-43e8-49d7-c528-29229ec288f4"
      },
      "source": [
        "model = tf.keras.Sequential()\n",
        "'https://tfhub.dev/google/bert_uncased_L-12_H-768_A-12/1'\n",
        "hub_layer = hub.KerasLayer(\"https://tfhub.dev/google/tf2-preview/gnews-swivel-20dim/1\", output_shape=[20], input_shape=[], dtype=tf.string, trainable=True)\n",
        "model.add(hub_layer)\n",
        "model.add(tf.keras.layers.Dense(16, activation='relu'))\n",
        "model.add(tf.keras.layers.Dense(1))\n",
        "\n",
        "model.compile(optimizer='adam',loss=tf.losses.BinaryCrossentropy(from_logits=True),metrics=[tf.metrics.BinaryAccuracy(threshold=0.0, name='accuracy')])\n",
        "\n",
        "model.summary()"
      ],
      "execution_count": null,
      "outputs": [
        {
          "output_type": "stream",
          "text": [
            "WARNING:tensorflow:8 out of the last 8 calls to <function recreate_function.<locals>.restored_function_body at 0x7fa31b032488> triggered tf.function retracing. Tracing is expensive and the excessive number of tracings could be due to (1) creating @tf.function repeatedly in a loop, (2) passing tensors with different shapes, (3) passing Python objects instead of tensors. For (1), please define your @tf.function outside of the loop. For (2), @tf.function has experimental_relax_shapes=True option that relaxes argument shapes that can avoid unnecessary retracing. For (3), please refer to https://www.tensorflow.org/tutorials/customization/performance#python_or_tensor_args and https://www.tensorflow.org/api_docs/python/tf/function for  more details.\n"
          ],
          "name": "stdout"
        },
        {
          "output_type": "stream",
          "text": [
            "WARNING:tensorflow:8 out of the last 8 calls to <function recreate_function.<locals>.restored_function_body at 0x7fa31b032488> triggered tf.function retracing. Tracing is expensive and the excessive number of tracings could be due to (1) creating @tf.function repeatedly in a loop, (2) passing tensors with different shapes, (3) passing Python objects instead of tensors. For (1), please define your @tf.function outside of the loop. For (2), @tf.function has experimental_relax_shapes=True option that relaxes argument shapes that can avoid unnecessary retracing. For (3), please refer to https://www.tensorflow.org/tutorials/customization/performance#python_or_tensor_args and https://www.tensorflow.org/api_docs/python/tf/function for  more details.\n"
          ],
          "name": "stderr"
        },
        {
          "output_type": "stream",
          "text": [
            "WARNING:tensorflow:9 out of the last 9 calls to <function recreate_function.<locals>.restored_function_body at 0x7fa31b0327b8> triggered tf.function retracing. Tracing is expensive and the excessive number of tracings could be due to (1) creating @tf.function repeatedly in a loop, (2) passing tensors with different shapes, (3) passing Python objects instead of tensors. For (1), please define your @tf.function outside of the loop. For (2), @tf.function has experimental_relax_shapes=True option that relaxes argument shapes that can avoid unnecessary retracing. For (3), please refer to https://www.tensorflow.org/tutorials/customization/performance#python_or_tensor_args and https://www.tensorflow.org/api_docs/python/tf/function for  more details.\n"
          ],
          "name": "stdout"
        },
        {
          "output_type": "stream",
          "text": [
            "WARNING:tensorflow:9 out of the last 9 calls to <function recreate_function.<locals>.restored_function_body at 0x7fa31b0327b8> triggered tf.function retracing. Tracing is expensive and the excessive number of tracings could be due to (1) creating @tf.function repeatedly in a loop, (2) passing tensors with different shapes, (3) passing Python objects instead of tensors. For (1), please define your @tf.function outside of the loop. For (2), @tf.function has experimental_relax_shapes=True option that relaxes argument shapes that can avoid unnecessary retracing. For (3), please refer to https://www.tensorflow.org/tutorials/customization/performance#python_or_tensor_args and https://www.tensorflow.org/api_docs/python/tf/function for  more details.\n"
          ],
          "name": "stderr"
        },
        {
          "output_type": "stream",
          "text": [
            "Model: \"sequential_1\"\n",
            "_________________________________________________________________\n",
            "Layer (type)                 Output Shape              Param #   \n",
            "=================================================================\n",
            "keras_layer_3 (KerasLayer)   (None, 20)                400020    \n",
            "_________________________________________________________________\n",
            "dense_2 (Dense)              (None, 16)                336       \n",
            "_________________________________________________________________\n",
            "dense_3 (Dense)              (None, 1)                 17        \n",
            "=================================================================\n",
            "Total params: 400,373\n",
            "Trainable params: 400,373\n",
            "Non-trainable params: 0\n",
            "_________________________________________________________________\n"
          ],
          "name": "stdout"
        }
      ]
    },
    {
      "cell_type": "code",
      "metadata": {
        "id": "5oAuC99UTz6Q"
      },
      "source": [
        "x_val = train_examples[:10000]\n",
        "partial_x_train = train_examples[10000:]\n",
        "\n",
        "y_val = train_labels[:10000]\n",
        "partial_y_train = train_labels[10000:]"
      ],
      "execution_count": null,
      "outputs": []
    },
    {
      "cell_type": "code",
      "metadata": {
        "colab": {
          "base_uri": "https://localhost:8080/"
        },
        "id": "Bcm2ugMIT00Q",
        "outputId": "a1a7c8f7-8e97-4728-a97a-2eb01e3989ba"
      },
      "source": [
        "history = model.fit(partial_x_train,\n",
        "                    partial_y_train,\n",
        "                    epochs=40,\n",
        "                    batch_size=512,\n",
        "                    validation_data=(x_val, y_val),\n",
        "                    verbose=1)\n",
        "results = model.evaluate(test_data, test_labels)\n",
        "\n",
        "print(results)"
      ],
      "execution_count": null,
      "outputs": [
        {
          "output_type": "stream",
          "text": [
            "Epoch 1/40\n",
            "30/30 [==============================] - 2s 58ms/step - loss: 0.7434 - accuracy: 0.5263 - val_loss: 0.6633 - val_accuracy: 0.5984\n",
            "Epoch 2/40\n",
            "30/30 [==============================] - 2s 53ms/step - loss: 0.6431 - accuracy: 0.6335 - val_loss: 0.6200 - val_accuracy: 0.6558\n",
            "Epoch 3/40\n",
            "30/30 [==============================] - 2s 53ms/step - loss: 0.5964 - accuracy: 0.6854 - val_loss: 0.5812 - val_accuracy: 0.7020\n",
            "Epoch 4/40\n",
            "30/30 [==============================] - 2s 53ms/step - loss: 0.5518 - accuracy: 0.7329 - val_loss: 0.5427 - val_accuracy: 0.7397\n",
            "Epoch 5/40\n",
            "30/30 [==============================] - 2s 52ms/step - loss: 0.5066 - accuracy: 0.7675 - val_loss: 0.5054 - val_accuracy: 0.7648\n",
            "Epoch 6/40\n",
            "30/30 [==============================] - 2s 52ms/step - loss: 0.4641 - accuracy: 0.8007 - val_loss: 0.4697 - val_accuracy: 0.7917\n",
            "Epoch 7/40\n",
            "30/30 [==============================] - 2s 52ms/step - loss: 0.4224 - accuracy: 0.8262 - val_loss: 0.4388 - val_accuracy: 0.8044\n",
            "Epoch 8/40\n",
            "30/30 [==============================] - 2s 52ms/step - loss: 0.3857 - accuracy: 0.8465 - val_loss: 0.4139 - val_accuracy: 0.8184\n",
            "Epoch 9/40\n",
            "30/30 [==============================] - 2s 52ms/step - loss: 0.3529 - accuracy: 0.8626 - val_loss: 0.3909 - val_accuracy: 0.8275\n",
            "Epoch 10/40\n",
            "30/30 [==============================] - 2s 51ms/step - loss: 0.3243 - accuracy: 0.8771 - val_loss: 0.3707 - val_accuracy: 0.8400\n",
            "Epoch 11/40\n",
            "30/30 [==============================] - 2s 51ms/step - loss: 0.2980 - accuracy: 0.8879 - val_loss: 0.3551 - val_accuracy: 0.8478\n",
            "Epoch 12/40\n",
            "30/30 [==============================] - 2s 52ms/step - loss: 0.2757 - accuracy: 0.8979 - val_loss: 0.3427 - val_accuracy: 0.8534\n",
            "Epoch 13/40\n",
            "30/30 [==============================] - 2s 52ms/step - loss: 0.2560 - accuracy: 0.9048 - val_loss: 0.3354 - val_accuracy: 0.8575\n",
            "Epoch 14/40\n",
            "30/30 [==============================] - 2s 52ms/step - loss: 0.2393 - accuracy: 0.9113 - val_loss: 0.3276 - val_accuracy: 0.8617\n",
            "Epoch 15/40\n",
            "30/30 [==============================] - 2s 52ms/step - loss: 0.2225 - accuracy: 0.9203 - val_loss: 0.3186 - val_accuracy: 0.8658\n",
            "Epoch 16/40\n",
            "30/30 [==============================] - 2s 52ms/step - loss: 0.2075 - accuracy: 0.9264 - val_loss: 0.3140 - val_accuracy: 0.8685\n",
            "Epoch 17/40\n",
            "30/30 [==============================] - 2s 52ms/step - loss: 0.1945 - accuracy: 0.9307 - val_loss: 0.3102 - val_accuracy: 0.8704\n",
            "Epoch 18/40\n",
            "30/30 [==============================] - 2s 52ms/step - loss: 0.1828 - accuracy: 0.9369 - val_loss: 0.3125 - val_accuracy: 0.8715\n",
            "Epoch 19/40\n",
            "30/30 [==============================] - 2s 51ms/step - loss: 0.1715 - accuracy: 0.9411 - val_loss: 0.3064 - val_accuracy: 0.8736\n",
            "Epoch 20/40\n",
            "30/30 [==============================] - 2s 51ms/step - loss: 0.1611 - accuracy: 0.9448 - val_loss: 0.3062 - val_accuracy: 0.8738\n",
            "Epoch 21/40\n",
            "30/30 [==============================] - 2s 51ms/step - loss: 0.1510 - accuracy: 0.9511 - val_loss: 0.3061 - val_accuracy: 0.8756\n",
            "Epoch 22/40\n",
            "30/30 [==============================] - 2s 51ms/step - loss: 0.1422 - accuracy: 0.9555 - val_loss: 0.3100 - val_accuracy: 0.8746\n",
            "Epoch 23/40\n",
            "30/30 [==============================] - 2s 52ms/step - loss: 0.1333 - accuracy: 0.9596 - val_loss: 0.3091 - val_accuracy: 0.8752\n",
            "Epoch 24/40\n",
            "30/30 [==============================] - 2s 51ms/step - loss: 0.1259 - accuracy: 0.9630 - val_loss: 0.3108 - val_accuracy: 0.8756\n",
            "Epoch 25/40\n",
            "30/30 [==============================] - 2s 51ms/step - loss: 0.1183 - accuracy: 0.9659 - val_loss: 0.3147 - val_accuracy: 0.8749\n",
            "Epoch 26/40\n",
            "30/30 [==============================] - 2s 52ms/step - loss: 0.1111 - accuracy: 0.9683 - val_loss: 0.3160 - val_accuracy: 0.8746\n",
            "Epoch 27/40\n",
            "30/30 [==============================] - 2s 52ms/step - loss: 0.1035 - accuracy: 0.9722 - val_loss: 0.3189 - val_accuracy: 0.8751\n",
            "Epoch 28/40\n",
            "30/30 [==============================] - 2s 51ms/step - loss: 0.0963 - accuracy: 0.9746 - val_loss: 0.3247 - val_accuracy: 0.8746\n",
            "Epoch 29/40\n",
            "30/30 [==============================] - 2s 51ms/step - loss: 0.0899 - accuracy: 0.9772 - val_loss: 0.3288 - val_accuracy: 0.8748\n",
            "Epoch 30/40\n",
            "30/30 [==============================] - 2s 52ms/step - loss: 0.0838 - accuracy: 0.9800 - val_loss: 0.3359 - val_accuracy: 0.8723\n",
            "Epoch 31/40\n",
            "30/30 [==============================] - 2s 52ms/step - loss: 0.0787 - accuracy: 0.9815 - val_loss: 0.3402 - val_accuracy: 0.8730\n",
            "Epoch 32/40\n",
            "30/30 [==============================] - 2s 52ms/step - loss: 0.0733 - accuracy: 0.9834 - val_loss: 0.3493 - val_accuracy: 0.8715\n",
            "Epoch 33/40\n",
            "30/30 [==============================] - 2s 52ms/step - loss: 0.0691 - accuracy: 0.9844 - val_loss: 0.3514 - val_accuracy: 0.8737\n",
            "Epoch 34/40\n",
            "30/30 [==============================] - 2s 51ms/step - loss: 0.0638 - accuracy: 0.9866 - val_loss: 0.3591 - val_accuracy: 0.8734\n",
            "Epoch 35/40\n",
            "30/30 [==============================] - 2s 51ms/step - loss: 0.0601 - accuracy: 0.9881 - val_loss: 0.3663 - val_accuracy: 0.8701\n",
            "Epoch 36/40\n",
            "30/30 [==============================] - 2s 52ms/step - loss: 0.0558 - accuracy: 0.9898 - val_loss: 0.3716 - val_accuracy: 0.8711\n",
            "Epoch 37/40\n",
            "30/30 [==============================] - 2s 50ms/step - loss: 0.0524 - accuracy: 0.9905 - val_loss: 0.3777 - val_accuracy: 0.8711\n",
            "Epoch 38/40\n",
            "30/30 [==============================] - 2s 51ms/step - loss: 0.0483 - accuracy: 0.9923 - val_loss: 0.3847 - val_accuracy: 0.8702\n",
            "Epoch 39/40\n",
            "30/30 [==============================] - 2s 51ms/step - loss: 0.0453 - accuracy: 0.9928 - val_loss: 0.3919 - val_accuracy: 0.8706\n",
            "Epoch 40/40\n",
            "30/30 [==============================] - 2s 51ms/step - loss: 0.0421 - accuracy: 0.9940 - val_loss: 0.3997 - val_accuracy: 0.8704\n",
            "782/782 [==============================] - 4s 5ms/step - loss: 0.4353 - accuracy: 0.8516\n",
            "[0.43531104922294617, 0.851639986038208]\n"
          ],
          "name": "stdout"
        }
      ]
    },
    {
      "cell_type": "markdown",
      "metadata": {
        "id": "hbUbnIMxrlr5"
      },
      "source": [
        "## BERT"
      ]
    },
    {
      "cell_type": "code",
      "metadata": {
        "colab": {
          "base_uri": "https://localhost:8080/"
        },
        "id": "hQv3v3aNrsj2",
        "outputId": "2fbfe5a1-2ab3-49c8-b85d-be24c2d4dc51"
      },
      "source": [
        "!pip3 install --quiet tensorflow\n",
        "!pip3 install --quiet tensorflow_text\n",
        "!pip install -q tf-models-official\n"
      ],
      "execution_count": 2,
      "outputs": [
        {
          "output_type": "stream",
          "text": [
            "\u001b[K     |████████████████████████████████| 2.6MB 15.0MB/s \n",
            "\u001b[K     |████████████████████████████████| 849kB 15.7MB/s \n",
            "\u001b[K     |████████████████████████████████| 102kB 12.1MB/s \n",
            "\u001b[K     |████████████████████████████████| 358kB 25.8MB/s \n",
            "\u001b[K     |████████████████████████████████| 174kB 51.5MB/s \n",
            "\u001b[K     |████████████████████████████████| 1.1MB 48.3MB/s \n",
            "\u001b[K     |████████████████████████████████| 36.7MB 86kB/s \n",
            "\u001b[?25h  Building wheel for py-cpuinfo (setup.py) ... \u001b[?25l\u001b[?25hdone\n"
          ],
          "name": "stdout"
        }
      ]
    },
    {
      "cell_type": "code",
      "metadata": {
        "id": "m8-UaCAtrsu4"
      },
      "source": [
        "import os\n",
        "import shutil\n",
        "\n",
        "import tensorflow_probability as tfp\n",
        "\n",
        "import tensorflow as tf\n",
        "import tensorflow_hub as hub\n",
        "import tensorflow_text as text\n",
        "from official.nlp import optimization  # to create AdamW optmizer\n",
        "\n",
        "# import matplotlib.pyplot as plt\n",
        "\n",
        "tf.get_logger().setLevel('ERROR')"
      ],
      "execution_count": 3,
      "outputs": []
    },
    {
      "cell_type": "code",
      "metadata": {
        "colab": {
          "base_uri": "https://localhost:8080/"
        },
        "id": "ntG2FQJjy1bE",
        "outputId": "9a1e1239-72c0-4b8b-d179-7800dbdffdeb"
      },
      "source": [
        "logs = [.6,.4]\n",
        "cat = tfp.distributions.Categorical(probs=logs)\n",
        "acts = (cat.sample(100))\n",
        "log_probs=[]\n",
        "for act in acts:\n",
        "  log_probs.append(cat.log_prob(act))\n",
        "  # print(act,'-->',cat.log_prob(act))\n",
        "\n",
        "t = sum(acts)/len(acts)\n",
        "print(\"% of .4 prob action:\",t.numpy())\n",
        "print(sum(log_probs))"
      ],
      "execution_count": 3,
      "outputs": [
        {
          "output_type": "stream",
          "text": [
            "% of .4 prob action: 0.43\n",
            "tf.Tensor(-68.51756, shape=(), dtype=float32)\n"
          ],
          "name": "stdout"
        }
      ]
    },
    {
      "cell_type": "code",
      "metadata": {
        "colab": {
          "base_uri": "https://localhost:8080/"
        },
        "id": "dyjCu_0XsXyq",
        "outputId": "0091d651-e7b0-4574-fba2-7b762441b996"
      },
      "source": [
        "print(\"Version: \", tf.__version__)\n",
        "print(\"Eager mode: \", tf.executing_eagerly())\n",
        "print(\"Hub version: \", hub.__version__)\n",
        "print(\"GPU is\", \"available\" if tf.config.list_physical_devices('GPU') else \"NOT AVAILABLE\")\n",
        "'''\n",
        "train_data, test_data = tfds.load('imdb_reviews', split=[\"train\", \"test\"], \n",
        "                                  batch_size=-1, as_supervised=True)\n",
        "\n",
        "train_examples, train_labels = tfds.as_numpy(train_data)\n",
        "test_examples, test_labels = tfds.as_numpy(test_data)\n",
        "'''\n",
        "url = 'https://ai.stanford.edu/~amaas/data/sentiment/aclImdb_v1.tar.gz'\n",
        "\n",
        "dataset = tf.keras.utils.get_file('aclImdb_v1.tar.gz', url,\n",
        "                                  untar=True, cache_dir='.',\n",
        "                                  cache_subdir='')\n",
        "\n",
        "dataset_dir = os.path.join(os.path.dirname(dataset), 'aclImdb')\n",
        "\n",
        "train_dir = os.path.join(dataset_dir, 'train')\n",
        "\n",
        "# remove unused folders to make it easier to load the data\n",
        "remove_dir = os.path.join(train_dir, 'unsup')\n",
        "shutil.rmtree(remove_dir)"
      ],
      "execution_count": 4,
      "outputs": [
        {
          "output_type": "stream",
          "text": [
            "Version:  2.3.0\n",
            "Eager mode:  True\n",
            "Hub version:  0.10.0\n",
            "GPU is available\n",
            "Downloading data from https://ai.stanford.edu/~amaas/data/sentiment/aclImdb_v1.tar.gz\n",
            "84131840/84125825 [==============================] - 4s 0us/step\n"
          ],
          "name": "stdout"
        }
      ]
    },
    {
      "cell_type": "code",
      "metadata": {
        "colab": {
          "base_uri": "https://localhost:8080/"
        },
        "id": "UMe6a9mSrs33",
        "outputId": "f4463e19-f80a-469c-c939-a8dbee03582c"
      },
      "source": [
        "# create the train/validation split\n",
        "AUTOTUNE = tf.data.experimental.AUTOTUNE\n",
        "batch_size = 32\n",
        "seed = 42\n",
        "\n",
        "raw_train_ds = tf.keras.preprocessing.text_dataset_from_directory(\n",
        "    'aclImdb/train',\n",
        "    batch_size=batch_size,\n",
        "    validation_split=0.2,\n",
        "    subset='training',\n",
        "    seed=seed)\n",
        "\n",
        "class_names = raw_train_ds.class_names\n",
        "train_ds = raw_train_ds.cache().prefetch(buffer_size=AUTOTUNE)\n",
        "\n",
        "\n",
        "val_ds = tf.keras.preprocessing.text_dataset_from_directory(\n",
        "    'aclImdb/train',\n",
        "    batch_size=batch_size,\n",
        "    validation_split=0.2,\n",
        "    subset='validation',\n",
        "    seed=seed)\n",
        "\n",
        "val_ds = val_ds.cache().prefetch(buffer_size=AUTOTUNE)\n",
        "\n",
        "test_ds = tf.keras.preprocessing.text_dataset_from_directory(\n",
        "    'aclImdb/test',\n",
        "    batch_size=batch_size)\n",
        "\n",
        "test_ds = test_ds.cache().prefetch(buffer_size=AUTOTUNE)\n",
        "print(class_names)"
      ],
      "execution_count": 5,
      "outputs": [
        {
          "output_type": "stream",
          "text": [
            "Found 25000 files belonging to 2 classes.\n",
            "Using 20000 files for training.\n",
            "Found 25000 files belonging to 2 classes.\n",
            "Using 5000 files for validation.\n",
            "Found 25000 files belonging to 2 classes.\n",
            "['neg', 'pos']\n"
          ],
          "name": "stdout"
        }
      ]
    },
    {
      "cell_type": "code",
      "metadata": {
        "id": "LNkgUcZXuST-"
      },
      "source": [
        "encoder_url = 'https://tfhub.dev/tensorflow/small_bert/bert_en_uncased_L-4_H-512_A-8/1'\n",
        "preprocessor_url = 'https://tfhub.dev/tensorflow/bert_en_uncased_preprocess/1'"
      ],
      "execution_count": 6,
      "outputs": []
    },
    {
      "cell_type": "code",
      "metadata": {
        "colab": {
          "base_uri": "https://localhost:8080/"
        },
        "id": "sYiXkUt2u7Ey",
        "outputId": "c02f655f-fcfb-4a52-d826-b1248775a6fe"
      },
      "source": [
        "# tutorial test\n",
        "bert_preprocess_model = hub.KerasLayer(preprocessor_url)\n",
        "text_test = ['this is such an amazing movie!']\n",
        "text_preprocessed = bert_preprocess_model(text_test)\n",
        "print(f'Keys       : {list(text_preprocessed.keys())}')\n",
        "print(f'Shape      : {text_preprocessed[\"input_word_ids\"].shape}')\n",
        "print(f'Word Ids   : {text_preprocessed[\"input_word_ids\"][0, :12]}')\n",
        "print(f'Input Mask : {text_preprocessed[\"input_mask\"][0, :12]}')\n",
        "print(f'Type Ids   : {text_preprocessed[\"input_type_ids\"][0, :12]}')\n"
      ],
      "execution_count": null,
      "outputs": [
        {
          "output_type": "stream",
          "text": [
            "Keys       : ['input_word_ids', 'input_mask', 'input_type_ids']\n",
            "Shape      : (1, 128)\n",
            "Word Ids   : [ 101 2023 2003 2107 2019 6429 3185  999  102    0    0    0]\n",
            "Input Mask : [1 1 1 1 1 1 1 1 1 0 0 0]\n",
            "Type Ids   : [0 0 0 0 0 0 0 0 0 0 0 0]\n"
          ],
          "name": "stdout"
        }
      ]
    },
    {
      "cell_type": "code",
      "metadata": {
        "id": "Yu6_F-Ib4P7x"
      },
      "source": [
        "for xbatch,ybatch in train_ds.take(1):\n",
        "  print(xbatch[0])\n",
        "  st = str(xbatch[0].numpy(),'utf-8')\n",
        "  # print(st)\n",
        "  print(bert_preprocess_model([st]))"
      ],
      "execution_count": null,
      "outputs": []
    },
    {
      "cell_type": "code",
      "metadata": {
        "id": "8sVAhWyAvjwd"
      },
      "source": [
        "# tutorial test\n",
        "bert_model = hub.KerasLayer(encoder_url)\n",
        "bert_results = bert_model(text_preprocessed)\n",
        "\n",
        "print(f'Loaded BERT: {preprocessor_url}')\n",
        "print(f'Pooled Outputs Shape:{bert_results[\"pooled_output\"].shape}')\n",
        "print(f'Pooled Outputs Values:{bert_results[\"pooled_output\"][0, :12]}')\n",
        "print(f'Sequence Outputs Shape:{bert_results[\"sequence_output\"].shape}')\n",
        "print(f'Sequence Outputs Values:{bert_results[\"sequence_output\"][0, :12]}')\n"
      ],
      "execution_count": null,
      "outputs": []
    },
    {
      "cell_type": "code",
      "metadata": {
        "id": "UzvK3OKlv-75"
      },
      "source": [
        "# tutorial build the model\n",
        "text_input = tf.keras.layers.Input(shape=(), dtype=tf.string, name='text')\n",
        "preprocessing_layer = hub.KerasLayer(preprocessor_url, name='preprocessing')\n",
        "encoder_inputs = preprocessing_layer(text_input)\n",
        "# encoder same as bert_model\n",
        "encoder = hub.KerasLayer(encoder_url, trainable=True, name='BERT_encoder')\n",
        "outputs = encoder(encoder_inputs)\n",
        "net = outputs['pooled_output']\n",
        "net = tf.keras.layers.Dropout(0.1)(net)\n",
        "net = tf.keras.layers.Dense(1, activation=None, name='classifier')(net)\n",
        "classifier_model = tf.keras.Model(text_input, net)"
      ],
      "execution_count": 24,
      "outputs": []
    },
    {
      "cell_type": "code",
      "metadata": {
        "id": "8RDoPVMbZZmk"
      },
      "source": [
        "# text_input = tf.keras.layers.Input(shape=(), dtype=tf.string, name='text')\n",
        "# preprocessing_layer = hub.KerasLayer(preprocessor_url, name='preprocessing')\n",
        "# encoder_inputs = preprocessing_layer(text_input)\n",
        "# # encoder same as bert_model\n",
        "# encoder = hub.KerasLayer(encoder_url, trainable=True, name='BERT_encoder')\n",
        "# outputs = encoder(encoder_inputs)\n",
        "# out = outputs\n",
        "# test_model = tf.keras.Model(text_input)\n"
      ],
      "execution_count": null,
      "outputs": []
    },
    {
      "cell_type": "code",
      "metadata": {
        "colab": {
          "base_uri": "https://localhost:8080/"
        },
        "id": "cftJailNaVtM",
        "outputId": "d2bc8609-32aa-4d26-9064-2dcef918469d"
      },
      "source": [
        "probs =[.2,.4,.35,.7,.8]\n",
        "cat = tfp.distributions.Categorical(probs=probs)\n",
        "print(cat.sample())\n",
        "\n",
        "cat2 = tf.random.categorical(logits=[tf.nn.softmax(probs)], num_samples=1)\n",
        "print(cat2)"
      ],
      "execution_count": null,
      "outputs": [
        {
          "output_type": "stream",
          "text": [
            "tf.Tensor(1, shape=(), dtype=int32)\n",
            "tf.Tensor([[2]], shape=(1, 1), dtype=int64)\n"
          ],
          "name": "stdout"
        }
      ]
    },
    {
      "cell_type": "code",
      "metadata": {
        "colab": {
          "base_uri": "https://localhost:8080/"
        },
        "id": "MtCLsddn95CQ",
        "outputId": "4c2a4531-eb74-4823-a44a-4f72a7c56e59"
      },
      "source": [
        "tf.cast(cat2,float)\n",
        "print(cat2)"
      ],
      "execution_count": null,
      "outputs": [
        {
          "output_type": "stream",
          "text": [
            "tf.Tensor([[2]], shape=(1, 1), dtype=int64)\n"
          ],
          "name": "stdout"
        }
      ]
    },
    {
      "cell_type": "code",
      "metadata": {
        "colab": {
          "base_uri": "https://localhost:8080/"
        },
        "id": "pcaZZCquwm4N",
        "outputId": "327c6d96-759c-4703-83ce-4c5477ce15a2"
      },
      "source": [
        "text_test = ['I hated this movie so much that it made me happy!']\n",
        "# Let's check that the model runs with the output of the preprocessing model.\n",
        "# classifier_model = build_classifier_model()\n",
        "bert_raw_result = classifier_model(tf.constant(text_test))\n",
        "print((bert_raw_result))"
      ],
      "execution_count": 12,
      "outputs": [
        {
          "output_type": "stream",
          "text": [
            "tf.Tensor([[-0.34755278]], shape=(1, 1), dtype=float32)\n"
          ],
          "name": "stdout"
        }
      ]
    },
    {
      "cell_type": "code",
      "metadata": {
        "id": "YOQyZAbuwUdq"
      },
      "source": [
        "loss = tf.keras.losses.BinaryCrossentropy(from_logits=True)\n",
        "# loss = tf.keras.losses.mean_squared_error(from_logits=True)\n",
        "metrics = tf.metrics.BinaryAccuracy()\n",
        "init_lr = 3e-5\n",
        "epochs = 1\n",
        "\n",
        "\n",
        "steps_per_epoch = tf.data.experimental.cardinality(train_ds).numpy()\n",
        "num_train_steps = steps_per_epoch * epochs\n",
        "num_warmup_steps = int(0.1*num_train_steps)\n",
        "\n",
        "\n",
        "optimizer = optimization.create_optimizer(\n",
        "    init_lr=init_lr,\n",
        "    num_train_steps=num_train_steps,\n",
        "    num_warmup_steps=num_warmup_steps,\n",
        "    optimizer_type='adamw'\n",
        ")\n",
        "optim = optimization.create_optimizer(\n",
        "    init_lr=init_lr,\n",
        "    num_train_steps=num_train_steps,\n",
        "    num_warmup_steps=int(num_train_steps*.13),\n",
        "    optimizer_type='adamw'\n",
        ")\n",
        "classifier_model.compile(optimizer=optim,loss=loss,metrics=metrics)\n"
      ],
      "execution_count": 25,
      "outputs": []
    },
    {
      "cell_type": "code",
      "metadata": {
        "colab": {
          "base_uri": "https://localhost:8080/"
        },
        "id": "ZtQbmQjtyM-4",
        "outputId": "7be90529-50ac-4825-ff2f-4b3de972540d"
      },
      "source": [
        "steps_per_epoch = tf.data.experimental.cardinality(train_ds).numpy()\n",
        "num_train_steps = steps_per_epoch * epochs\n",
        "num_warmup_steps = int(0.1*num_train_steps)\n",
        "\n",
        "print(steps_per_epoch)\n",
        "print(num_train_steps)\n",
        "print(num_warmup_steps)"
      ],
      "execution_count": 60,
      "outputs": [
        {
          "output_type": "stream",
          "text": [
            "625\n",
            "625\n",
            "62\n"
          ],
          "name": "stdout"
        }
      ]
    },
    {
      "cell_type": "code",
      "metadata": {
        "colab": {
          "base_uri": "https://localhost:8080/"
        },
        "id": "_Zbpuc93dJqx",
        "outputId": "790cbff2-8912-4387-dd68-f28c31d073ac"
      },
      "source": [
        "for ex,_ in train_ds.take(1):\n",
        "  print((ex[0].numpy()))"
      ],
      "execution_count": null,
      "outputs": [
        {
          "output_type": "stream",
          "text": [
            "b'Silent Night, Deadly Night 5 is the very last of the series, and like part 4, it\\'s unrelated to the first three except by title and the fact that it\\'s a Christmas-themed horror flick.<br /><br />Except to the oblivious, there\\'s some obvious things going on here...Mickey Rooney plays a toymaker named Joe Petto and his creepy son\\'s name is Pino. Ring a bell, anyone? Now, a little boy named Derek heard a knock at the door one evening, and opened it to find a present on the doorstep for him. Even though it said \"don\\'t open till Christmas\", he begins to open it anyway but is stopped by his dad, who scolds him and sends him to bed, and opens the gift himself. Inside is a little red ball that sprouts Santa arms and a head, and proceeds to kill dad. Oops, maybe he should have left well-enough alone. Of course Derek is then traumatized by the incident since he watched it from the stairs, but he doesn\\'t grow up to be some killer Santa, he just stops talking.<br /><br />There\\'s a mysterious stranger lurking around, who seems very interested in the toys that Joe Petto makes. We even see him buying a bunch when Derek\\'s mom takes him to the store to find a gift for him to bring him out of his trauma. And what exactly is this guy doing? Well, we\\'re not sure but he does seem to be taking these toys apart to see what makes them tick. He does keep his landlord from evicting him by promising him to pay him in cash the next day and presents him with a \"Larry the Larvae\" toy for his kid, but of course \"Larry\" is not a good toy and gets out of the box in the car and of course, well, things aren\\'t pretty.<br /><br />Anyway, eventually what\\'s going on with Joe Petto and Pino is of course revealed, and as with the old story, Pino is not a \"real boy\". Pino is probably even more agitated and naughty because he suffers from \"Kenitalia\" (a smooth plastic crotch) so that could account for his evil ways. And the identity of the lurking stranger is revealed too, and there\\'s even kind of a happy ending of sorts. Whee.<br /><br />A step up from part 4, but not much of one. Again, Brian Yuzna is involved, and Screaming Mad George, so some decent special effects, but not enough to make this great. A few leftovers from part 4 are hanging around too, like Clint Howard and Neith Hunter, but that doesn\\'t really make any difference. Anyway, I now have seeing the whole series out of my system. Now if I could get some of it out of my brain. 4 out of 5.'\n"
          ],
          "name": "stdout"
        }
      ]
    },
    {
      "cell_type": "markdown",
      "metadata": {
        "id": "aRHRBIhfxLIf"
      },
      "source": [
        "Train with  ```model.fit()```\n",
        "\n"
      ]
    },
    {
      "cell_type": "code",
      "metadata": {
        "colab": {
          "base_uri": "https://localhost:8080/",
          "height": 458
        },
        "id": "RpVLxNAnw3Th",
        "outputId": "7e363bca-6da4-4f36-f530-94037f203c27"
      },
      "source": [
        "print(f'Training model with {encoder_url}')\n",
        "# tempx = []\n",
        "# tempy = []\n",
        "# for xbatch,ybatch in train_ds.take(32):\n",
        "#   for idx, x in enumerate(xbatch):\n",
        "#     tempy.append(ybatch[idx].numpy())\n",
        "#     tempx.append(str(x.numpy(),'utf-8'))\n",
        "# print(tempx[0])\n",
        "# print(tempy[0])\n",
        "\n",
        "# history = classifier_model.fit(\n",
        "#     x=np.asarray(tempx),\n",
        "#     y=np.asarray(tempy),\n",
        "#     validation_split=.2,\n",
        "#     epochs=5\n",
        "# )\n",
        "\n",
        "history = classifier_model.fit(x=train_ds, validation_data=val_ds, epochs=5)\n",
        "\n"
      ],
      "execution_count": 26,
      "outputs": [
        {
          "output_type": "stream",
          "text": [
            "Training model with https://tfhub.dev/tensorflow/small_bert/bert_en_uncased_L-4_H-512_A-8/1\n",
            "Epoch 1/5\n",
            "625/625 [==============================] - 139s 223ms/step - loss: 0.4613 - binary_accuracy: 0.7614 - val_loss: 0.3780 - val_binary_accuracy: 0.8202\n",
            "Epoch 2/5\n",
            "625/625 [==============================] - ETA: 0s - loss: 0.3558 - binary_accuracy: 0.8359"
          ],
          "name": "stdout"
        },
        {
          "output_type": "error",
          "ename": "KeyboardInterrupt",
          "evalue": "ignored",
          "traceback": [
            "\u001b[0;31m---------------------------------------------------------------------------\u001b[0m",
            "\u001b[0;31mKeyboardInterrupt\u001b[0m                         Traceback (most recent call last)",
            "\u001b[0;32m<ipython-input-26-985734966697>\u001b[0m in \u001b[0;36m<module>\u001b[0;34m()\u001b[0m\n\u001b[1;32m     16\u001b[0m \u001b[0;31m# )\u001b[0m\u001b[0;34m\u001b[0m\u001b[0;34m\u001b[0m\u001b[0;34m\u001b[0m\u001b[0m\n\u001b[1;32m     17\u001b[0m \u001b[0;34m\u001b[0m\u001b[0m\n\u001b[0;32m---> 18\u001b[0;31m \u001b[0mhistory\u001b[0m \u001b[0;34m=\u001b[0m \u001b[0mclassifier_model\u001b[0m\u001b[0;34m.\u001b[0m\u001b[0mfit\u001b[0m\u001b[0;34m(\u001b[0m\u001b[0mx\u001b[0m\u001b[0;34m=\u001b[0m\u001b[0mtrain_ds\u001b[0m\u001b[0;34m,\u001b[0m \u001b[0mvalidation_data\u001b[0m\u001b[0;34m=\u001b[0m\u001b[0mval_ds\u001b[0m\u001b[0;34m,\u001b[0m \u001b[0mepochs\u001b[0m\u001b[0;34m=\u001b[0m\u001b[0;36m5\u001b[0m\u001b[0;34m)\u001b[0m\u001b[0;34m\u001b[0m\u001b[0;34m\u001b[0m\u001b[0m\n\u001b[0m\u001b[1;32m     19\u001b[0m \u001b[0;34m\u001b[0m\u001b[0m\n",
            "\u001b[0;32m/usr/local/lib/python3.6/dist-packages/tensorflow/python/keras/engine/training.py\u001b[0m in \u001b[0;36m_method_wrapper\u001b[0;34m(self, *args, **kwargs)\u001b[0m\n\u001b[1;32m    106\u001b[0m   \u001b[0;32mdef\u001b[0m \u001b[0m_method_wrapper\u001b[0m\u001b[0;34m(\u001b[0m\u001b[0mself\u001b[0m\u001b[0;34m,\u001b[0m \u001b[0;34m*\u001b[0m\u001b[0margs\u001b[0m\u001b[0;34m,\u001b[0m \u001b[0;34m**\u001b[0m\u001b[0mkwargs\u001b[0m\u001b[0;34m)\u001b[0m\u001b[0;34m:\u001b[0m\u001b[0;34m\u001b[0m\u001b[0;34m\u001b[0m\u001b[0m\n\u001b[1;32m    107\u001b[0m     \u001b[0;32mif\u001b[0m \u001b[0;32mnot\u001b[0m \u001b[0mself\u001b[0m\u001b[0;34m.\u001b[0m\u001b[0m_in_multi_worker_mode\u001b[0m\u001b[0;34m(\u001b[0m\u001b[0;34m)\u001b[0m\u001b[0;34m:\u001b[0m  \u001b[0;31m# pylint: disable=protected-access\u001b[0m\u001b[0;34m\u001b[0m\u001b[0;34m\u001b[0m\u001b[0m\n\u001b[0;32m--> 108\u001b[0;31m       \u001b[0;32mreturn\u001b[0m \u001b[0mmethod\u001b[0m\u001b[0;34m(\u001b[0m\u001b[0mself\u001b[0m\u001b[0;34m,\u001b[0m \u001b[0;34m*\u001b[0m\u001b[0margs\u001b[0m\u001b[0;34m,\u001b[0m \u001b[0;34m**\u001b[0m\u001b[0mkwargs\u001b[0m\u001b[0;34m)\u001b[0m\u001b[0;34m\u001b[0m\u001b[0;34m\u001b[0m\u001b[0m\n\u001b[0m\u001b[1;32m    109\u001b[0m \u001b[0;34m\u001b[0m\u001b[0m\n\u001b[1;32m    110\u001b[0m     \u001b[0;31m# Running inside `run_distribute_coordinator` already.\u001b[0m\u001b[0;34m\u001b[0m\u001b[0;34m\u001b[0m\u001b[0;34m\u001b[0m\u001b[0m\n",
            "\u001b[0;32m/usr/local/lib/python3.6/dist-packages/tensorflow/python/keras/engine/training.py\u001b[0m in \u001b[0;36mfit\u001b[0;34m(self, x, y, batch_size, epochs, verbose, callbacks, validation_split, validation_data, shuffle, class_weight, sample_weight, initial_epoch, steps_per_epoch, validation_steps, validation_batch_size, validation_freq, max_queue_size, workers, use_multiprocessing)\u001b[0m\n\u001b[1;32m   1131\u001b[0m               \u001b[0mworkers\u001b[0m\u001b[0;34m=\u001b[0m\u001b[0mworkers\u001b[0m\u001b[0;34m,\u001b[0m\u001b[0;34m\u001b[0m\u001b[0;34m\u001b[0m\u001b[0m\n\u001b[1;32m   1132\u001b[0m               \u001b[0muse_multiprocessing\u001b[0m\u001b[0;34m=\u001b[0m\u001b[0muse_multiprocessing\u001b[0m\u001b[0;34m,\u001b[0m\u001b[0;34m\u001b[0m\u001b[0;34m\u001b[0m\u001b[0m\n\u001b[0;32m-> 1133\u001b[0;31m               return_dict=True)\n\u001b[0m\u001b[1;32m   1134\u001b[0m           \u001b[0mval_logs\u001b[0m \u001b[0;34m=\u001b[0m \u001b[0;34m{\u001b[0m\u001b[0;34m'val_'\u001b[0m \u001b[0;34m+\u001b[0m \u001b[0mname\u001b[0m\u001b[0;34m:\u001b[0m \u001b[0mval\u001b[0m \u001b[0;32mfor\u001b[0m \u001b[0mname\u001b[0m\u001b[0;34m,\u001b[0m \u001b[0mval\u001b[0m \u001b[0;32min\u001b[0m \u001b[0mval_logs\u001b[0m\u001b[0;34m.\u001b[0m\u001b[0mitems\u001b[0m\u001b[0;34m(\u001b[0m\u001b[0;34m)\u001b[0m\u001b[0;34m}\u001b[0m\u001b[0;34m\u001b[0m\u001b[0;34m\u001b[0m\u001b[0m\n\u001b[1;32m   1135\u001b[0m           \u001b[0mepoch_logs\u001b[0m\u001b[0;34m.\u001b[0m\u001b[0mupdate\u001b[0m\u001b[0;34m(\u001b[0m\u001b[0mval_logs\u001b[0m\u001b[0;34m)\u001b[0m\u001b[0;34m\u001b[0m\u001b[0;34m\u001b[0m\u001b[0m\n",
            "\u001b[0;32m/usr/local/lib/python3.6/dist-packages/tensorflow/python/keras/engine/training.py\u001b[0m in \u001b[0;36m_method_wrapper\u001b[0;34m(self, *args, **kwargs)\u001b[0m\n\u001b[1;32m    106\u001b[0m   \u001b[0;32mdef\u001b[0m \u001b[0m_method_wrapper\u001b[0m\u001b[0;34m(\u001b[0m\u001b[0mself\u001b[0m\u001b[0;34m,\u001b[0m \u001b[0;34m*\u001b[0m\u001b[0margs\u001b[0m\u001b[0;34m,\u001b[0m \u001b[0;34m**\u001b[0m\u001b[0mkwargs\u001b[0m\u001b[0;34m)\u001b[0m\u001b[0;34m:\u001b[0m\u001b[0;34m\u001b[0m\u001b[0;34m\u001b[0m\u001b[0m\n\u001b[1;32m    107\u001b[0m     \u001b[0;32mif\u001b[0m \u001b[0;32mnot\u001b[0m \u001b[0mself\u001b[0m\u001b[0;34m.\u001b[0m\u001b[0m_in_multi_worker_mode\u001b[0m\u001b[0;34m(\u001b[0m\u001b[0;34m)\u001b[0m\u001b[0;34m:\u001b[0m  \u001b[0;31m# pylint: disable=protected-access\u001b[0m\u001b[0;34m\u001b[0m\u001b[0;34m\u001b[0m\u001b[0m\n\u001b[0;32m--> 108\u001b[0;31m       \u001b[0;32mreturn\u001b[0m \u001b[0mmethod\u001b[0m\u001b[0;34m(\u001b[0m\u001b[0mself\u001b[0m\u001b[0;34m,\u001b[0m \u001b[0;34m*\u001b[0m\u001b[0margs\u001b[0m\u001b[0;34m,\u001b[0m \u001b[0;34m**\u001b[0m\u001b[0mkwargs\u001b[0m\u001b[0;34m)\u001b[0m\u001b[0;34m\u001b[0m\u001b[0;34m\u001b[0m\u001b[0m\n\u001b[0m\u001b[1;32m    109\u001b[0m \u001b[0;34m\u001b[0m\u001b[0m\n\u001b[1;32m    110\u001b[0m     \u001b[0;31m# Running inside `run_distribute_coordinator` already.\u001b[0m\u001b[0;34m\u001b[0m\u001b[0;34m\u001b[0m\u001b[0;34m\u001b[0m\u001b[0m\n",
            "\u001b[0;32m/usr/local/lib/python3.6/dist-packages/tensorflow/python/keras/engine/training.py\u001b[0m in \u001b[0;36mevaluate\u001b[0;34m(self, x, y, batch_size, verbose, sample_weight, steps, callbacks, max_queue_size, workers, use_multiprocessing, return_dict)\u001b[0m\n\u001b[1;32m   1377\u001b[0m             \u001b[0;32mwith\u001b[0m \u001b[0mtrace\u001b[0m\u001b[0;34m.\u001b[0m\u001b[0mTrace\u001b[0m\u001b[0;34m(\u001b[0m\u001b[0;34m'TraceContext'\u001b[0m\u001b[0;34m,\u001b[0m \u001b[0mgraph_type\u001b[0m\u001b[0;34m=\u001b[0m\u001b[0;34m'test'\u001b[0m\u001b[0;34m,\u001b[0m \u001b[0mstep_num\u001b[0m\u001b[0;34m=\u001b[0m\u001b[0mstep\u001b[0m\u001b[0;34m)\u001b[0m\u001b[0;34m:\u001b[0m\u001b[0;34m\u001b[0m\u001b[0;34m\u001b[0m\u001b[0m\n\u001b[1;32m   1378\u001b[0m               \u001b[0mcallbacks\u001b[0m\u001b[0;34m.\u001b[0m\u001b[0mon_test_batch_begin\u001b[0m\u001b[0;34m(\u001b[0m\u001b[0mstep\u001b[0m\u001b[0;34m)\u001b[0m\u001b[0;34m\u001b[0m\u001b[0;34m\u001b[0m\u001b[0m\n\u001b[0;32m-> 1379\u001b[0;31m               \u001b[0mtmp_logs\u001b[0m \u001b[0;34m=\u001b[0m \u001b[0mtest_function\u001b[0m\u001b[0;34m(\u001b[0m\u001b[0miterator\u001b[0m\u001b[0;34m)\u001b[0m\u001b[0;34m\u001b[0m\u001b[0;34m\u001b[0m\u001b[0m\n\u001b[0m\u001b[1;32m   1380\u001b[0m               \u001b[0;32mif\u001b[0m \u001b[0mdata_handler\u001b[0m\u001b[0;34m.\u001b[0m\u001b[0mshould_sync\u001b[0m\u001b[0;34m:\u001b[0m\u001b[0;34m\u001b[0m\u001b[0;34m\u001b[0m\u001b[0m\n\u001b[1;32m   1381\u001b[0m                 \u001b[0mcontext\u001b[0m\u001b[0;34m.\u001b[0m\u001b[0masync_wait\u001b[0m\u001b[0;34m(\u001b[0m\u001b[0;34m)\u001b[0m\u001b[0;34m\u001b[0m\u001b[0;34m\u001b[0m\u001b[0m\n",
            "\u001b[0;32m/usr/local/lib/python3.6/dist-packages/tensorflow/python/eager/def_function.py\u001b[0m in \u001b[0;36m__call__\u001b[0;34m(self, *args, **kwds)\u001b[0m\n\u001b[1;32m    778\u001b[0m       \u001b[0;32melse\u001b[0m\u001b[0;34m:\u001b[0m\u001b[0;34m\u001b[0m\u001b[0;34m\u001b[0m\u001b[0m\n\u001b[1;32m    779\u001b[0m         \u001b[0mcompiler\u001b[0m \u001b[0;34m=\u001b[0m \u001b[0;34m\"nonXla\"\u001b[0m\u001b[0;34m\u001b[0m\u001b[0;34m\u001b[0m\u001b[0m\n\u001b[0;32m--> 780\u001b[0;31m         \u001b[0mresult\u001b[0m \u001b[0;34m=\u001b[0m \u001b[0mself\u001b[0m\u001b[0;34m.\u001b[0m\u001b[0m_call\u001b[0m\u001b[0;34m(\u001b[0m\u001b[0;34m*\u001b[0m\u001b[0margs\u001b[0m\u001b[0;34m,\u001b[0m \u001b[0;34m**\u001b[0m\u001b[0mkwds\u001b[0m\u001b[0;34m)\u001b[0m\u001b[0;34m\u001b[0m\u001b[0;34m\u001b[0m\u001b[0m\n\u001b[0m\u001b[1;32m    781\u001b[0m \u001b[0;34m\u001b[0m\u001b[0m\n\u001b[1;32m    782\u001b[0m       \u001b[0mnew_tracing_count\u001b[0m \u001b[0;34m=\u001b[0m \u001b[0mself\u001b[0m\u001b[0;34m.\u001b[0m\u001b[0m_get_tracing_count\u001b[0m\u001b[0;34m(\u001b[0m\u001b[0;34m)\u001b[0m\u001b[0;34m\u001b[0m\u001b[0;34m\u001b[0m\u001b[0m\n",
            "\u001b[0;32m/usr/local/lib/python3.6/dist-packages/tensorflow/python/eager/def_function.py\u001b[0m in \u001b[0;36m_call\u001b[0;34m(self, *args, **kwds)\u001b[0m\n\u001b[1;32m    812\u001b[0m       \u001b[0;31m# In this case we have not created variables on the first call. So we can\u001b[0m\u001b[0;34m\u001b[0m\u001b[0;34m\u001b[0m\u001b[0;34m\u001b[0m\u001b[0m\n\u001b[1;32m    813\u001b[0m       \u001b[0;31m# run the first trace but we should fail if variables are created.\u001b[0m\u001b[0;34m\u001b[0m\u001b[0;34m\u001b[0m\u001b[0;34m\u001b[0m\u001b[0m\n\u001b[0;32m--> 814\u001b[0;31m       \u001b[0mresults\u001b[0m \u001b[0;34m=\u001b[0m \u001b[0mself\u001b[0m\u001b[0;34m.\u001b[0m\u001b[0m_stateful_fn\u001b[0m\u001b[0;34m(\u001b[0m\u001b[0;34m*\u001b[0m\u001b[0margs\u001b[0m\u001b[0;34m,\u001b[0m \u001b[0;34m**\u001b[0m\u001b[0mkwds\u001b[0m\u001b[0;34m)\u001b[0m\u001b[0;34m\u001b[0m\u001b[0;34m\u001b[0m\u001b[0m\n\u001b[0m\u001b[1;32m    815\u001b[0m       \u001b[0;32mif\u001b[0m \u001b[0mself\u001b[0m\u001b[0;34m.\u001b[0m\u001b[0m_created_variables\u001b[0m\u001b[0;34m:\u001b[0m\u001b[0;34m\u001b[0m\u001b[0;34m\u001b[0m\u001b[0m\n\u001b[1;32m    816\u001b[0m         raise ValueError(\"Creating variables on a non-first call to a function\"\n",
            "\u001b[0;32m/usr/local/lib/python3.6/dist-packages/tensorflow/python/eager/function.py\u001b[0m in \u001b[0;36m__call__\u001b[0;34m(self, *args, **kwargs)\u001b[0m\n\u001b[1;32m   2827\u001b[0m     \u001b[0;32mwith\u001b[0m \u001b[0mself\u001b[0m\u001b[0;34m.\u001b[0m\u001b[0m_lock\u001b[0m\u001b[0;34m:\u001b[0m\u001b[0;34m\u001b[0m\u001b[0;34m\u001b[0m\u001b[0m\n\u001b[1;32m   2828\u001b[0m       \u001b[0mgraph_function\u001b[0m\u001b[0;34m,\u001b[0m \u001b[0margs\u001b[0m\u001b[0;34m,\u001b[0m \u001b[0mkwargs\u001b[0m \u001b[0;34m=\u001b[0m \u001b[0mself\u001b[0m\u001b[0;34m.\u001b[0m\u001b[0m_maybe_define_function\u001b[0m\u001b[0;34m(\u001b[0m\u001b[0margs\u001b[0m\u001b[0;34m,\u001b[0m \u001b[0mkwargs\u001b[0m\u001b[0;34m)\u001b[0m\u001b[0;34m\u001b[0m\u001b[0;34m\u001b[0m\u001b[0m\n\u001b[0;32m-> 2829\u001b[0;31m     \u001b[0;32mreturn\u001b[0m \u001b[0mgraph_function\u001b[0m\u001b[0;34m.\u001b[0m\u001b[0m_filtered_call\u001b[0m\u001b[0;34m(\u001b[0m\u001b[0margs\u001b[0m\u001b[0;34m,\u001b[0m \u001b[0mkwargs\u001b[0m\u001b[0;34m)\u001b[0m  \u001b[0;31m# pylint: disable=protected-access\u001b[0m\u001b[0;34m\u001b[0m\u001b[0;34m\u001b[0m\u001b[0m\n\u001b[0m\u001b[1;32m   2830\u001b[0m \u001b[0;34m\u001b[0m\u001b[0m\n\u001b[1;32m   2831\u001b[0m   \u001b[0;34m@\u001b[0m\u001b[0mproperty\u001b[0m\u001b[0;34m\u001b[0m\u001b[0;34m\u001b[0m\u001b[0m\n",
            "\u001b[0;32m/usr/local/lib/python3.6/dist-packages/tensorflow/python/eager/function.py\u001b[0m in \u001b[0;36m_filtered_call\u001b[0;34m(self, args, kwargs, cancellation_manager)\u001b[0m\n\u001b[1;32m   1846\u001b[0m                            resource_variable_ops.BaseResourceVariable))],\n\u001b[1;32m   1847\u001b[0m         \u001b[0mcaptured_inputs\u001b[0m\u001b[0;34m=\u001b[0m\u001b[0mself\u001b[0m\u001b[0;34m.\u001b[0m\u001b[0mcaptured_inputs\u001b[0m\u001b[0;34m,\u001b[0m\u001b[0;34m\u001b[0m\u001b[0;34m\u001b[0m\u001b[0m\n\u001b[0;32m-> 1848\u001b[0;31m         cancellation_manager=cancellation_manager)\n\u001b[0m\u001b[1;32m   1849\u001b[0m \u001b[0;34m\u001b[0m\u001b[0m\n\u001b[1;32m   1850\u001b[0m   \u001b[0;32mdef\u001b[0m \u001b[0m_call_flat\u001b[0m\u001b[0;34m(\u001b[0m\u001b[0mself\u001b[0m\u001b[0;34m,\u001b[0m \u001b[0margs\u001b[0m\u001b[0;34m,\u001b[0m \u001b[0mcaptured_inputs\u001b[0m\u001b[0;34m,\u001b[0m \u001b[0mcancellation_manager\u001b[0m\u001b[0;34m=\u001b[0m\u001b[0;32mNone\u001b[0m\u001b[0;34m)\u001b[0m\u001b[0;34m:\u001b[0m\u001b[0;34m\u001b[0m\u001b[0;34m\u001b[0m\u001b[0m\n",
            "\u001b[0;32m/usr/local/lib/python3.6/dist-packages/tensorflow/python/eager/function.py\u001b[0m in \u001b[0;36m_call_flat\u001b[0;34m(self, args, captured_inputs, cancellation_manager)\u001b[0m\n\u001b[1;32m   1922\u001b[0m       \u001b[0;31m# No tape is watching; skip to running the function.\u001b[0m\u001b[0;34m\u001b[0m\u001b[0;34m\u001b[0m\u001b[0;34m\u001b[0m\u001b[0m\n\u001b[1;32m   1923\u001b[0m       return self._build_call_outputs(self._inference_function.call(\n\u001b[0;32m-> 1924\u001b[0;31m           ctx, args, cancellation_manager=cancellation_manager))\n\u001b[0m\u001b[1;32m   1925\u001b[0m     forward_backward = self._select_forward_and_backward_functions(\n\u001b[1;32m   1926\u001b[0m         \u001b[0margs\u001b[0m\u001b[0;34m,\u001b[0m\u001b[0;34m\u001b[0m\u001b[0;34m\u001b[0m\u001b[0m\n",
            "\u001b[0;32m/usr/local/lib/python3.6/dist-packages/tensorflow/python/eager/function.py\u001b[0m in \u001b[0;36mcall\u001b[0;34m(self, ctx, args, cancellation_manager)\u001b[0m\n\u001b[1;32m    548\u001b[0m               \u001b[0minputs\u001b[0m\u001b[0;34m=\u001b[0m\u001b[0margs\u001b[0m\u001b[0;34m,\u001b[0m\u001b[0;34m\u001b[0m\u001b[0;34m\u001b[0m\u001b[0m\n\u001b[1;32m    549\u001b[0m               \u001b[0mattrs\u001b[0m\u001b[0;34m=\u001b[0m\u001b[0mattrs\u001b[0m\u001b[0;34m,\u001b[0m\u001b[0;34m\u001b[0m\u001b[0;34m\u001b[0m\u001b[0m\n\u001b[0;32m--> 550\u001b[0;31m               ctx=ctx)\n\u001b[0m\u001b[1;32m    551\u001b[0m         \u001b[0;32melse\u001b[0m\u001b[0;34m:\u001b[0m\u001b[0;34m\u001b[0m\u001b[0;34m\u001b[0m\u001b[0m\n\u001b[1;32m    552\u001b[0m           outputs = execute.execute_with_cancellation(\n",
            "\u001b[0;32m/usr/local/lib/python3.6/dist-packages/tensorflow/python/eager/execute.py\u001b[0m in \u001b[0;36mquick_execute\u001b[0;34m(op_name, num_outputs, inputs, attrs, ctx, name)\u001b[0m\n\u001b[1;32m     58\u001b[0m     \u001b[0mctx\u001b[0m\u001b[0;34m.\u001b[0m\u001b[0mensure_initialized\u001b[0m\u001b[0;34m(\u001b[0m\u001b[0;34m)\u001b[0m\u001b[0;34m\u001b[0m\u001b[0;34m\u001b[0m\u001b[0m\n\u001b[1;32m     59\u001b[0m     tensors = pywrap_tfe.TFE_Py_Execute(ctx._handle, device_name, op_name,\n\u001b[0;32m---> 60\u001b[0;31m                                         inputs, attrs, num_outputs)\n\u001b[0m\u001b[1;32m     61\u001b[0m   \u001b[0;32mexcept\u001b[0m \u001b[0mcore\u001b[0m\u001b[0;34m.\u001b[0m\u001b[0m_NotOkStatusException\u001b[0m \u001b[0;32mas\u001b[0m \u001b[0me\u001b[0m\u001b[0;34m:\u001b[0m\u001b[0;34m\u001b[0m\u001b[0;34m\u001b[0m\u001b[0m\n\u001b[1;32m     62\u001b[0m     \u001b[0;32mif\u001b[0m \u001b[0mname\u001b[0m \u001b[0;32mis\u001b[0m \u001b[0;32mnot\u001b[0m \u001b[0;32mNone\u001b[0m\u001b[0;34m:\u001b[0m\u001b[0;34m\u001b[0m\u001b[0;34m\u001b[0m\u001b[0m\n",
            "\u001b[0;31mKeyboardInterrupt\u001b[0m: "
          ]
        }
      ]
    },
    {
      "cell_type": "code",
      "metadata": {
        "colab": {
          "base_uri": "https://localhost:8080/"
        },
        "id": "J9I4iZg2poEj",
        "outputId": "7d63da0e-deb3-4605-c6bb-bed8c3fbab8e"
      },
      "source": [
        "history.history.keys()\n",
        "print((history.history['binary_accuracy']))"
      ],
      "execution_count": 43,
      "outputs": [
        {
          "output_type": "stream",
          "text": [
            "[0.53125]\n"
          ],
          "name": "stdout"
        }
      ]
    },
    {
      "cell_type": "markdown",
      "metadata": {
        "id": "W3Y-9GTPxOEK"
      },
      "source": [
        "Test"
      ]
    },
    {
      "cell_type": "code",
      "metadata": {
        "colab": {
          "base_uri": "https://localhost:8080/"
        },
        "id": "IYdhCsqFxPYR",
        "outputId": "56ee75c8-f8b4-4f30-c7ec-8b920b3b3d59"
      },
      "source": [
        "test_loss, test_accuracy = classifier_model.evaluate(test_ds)\n",
        "print(f'Loss: {test_loss}')\n",
        "print(f'Accuracy: {test_accuracy}')\n"
      ],
      "execution_count": null,
      "outputs": [
        {
          "output_type": "stream",
          "text": [
            "782/782 [==============================] - 70s 89ms/step - loss: 0.3607 - binary_accuracy: 0.8317\n",
            "Loss: 0.36073803901672363\n",
            "Accuracy: 0.8316799998283386\n"
          ],
          "name": "stdout"
        }
      ]
    },
    {
      "cell_type": "code",
      "metadata": {
        "colab": {
          "base_uri": "https://localhost:8080/"
        },
        "id": "U_WVy_J7R811",
        "outputId": "57f1617e-8ad0-4d51-b919-f542a332c4e9"
      },
      "source": [
        "sample = ['this is a sample sentence']\n",
        "\n",
        "# classifier_model(sample)\n",
        "classifier_model(tf.constant(sample))"
      ],
      "execution_count": null,
      "outputs": [
        {
          "output_type": "execute_result",
          "data": {
            "text/plain": [
              "<tf.Tensor: shape=(1, 1), dtype=float32, numpy=array([[0.75665253]], dtype=float32)>"
            ]
          },
          "metadata": {
            "tags": []
          },
          "execution_count": 87
        }
      ]
    },
    {
      "cell_type": "markdown",
      "metadata": {
        "id": "7JiOVRvSAnYQ"
      },
      "source": [
        "train manually?"
      ]
    },
    {
      "cell_type": "code",
      "metadata": {
        "id": "-YJ18CFhAmrS"
      },
      "source": [
        ""
      ],
      "execution_count": null,
      "outputs": []
    },
    {
      "cell_type": "markdown",
      "metadata": {
        "id": "gA5JfLV2jXgW"
      },
      "source": [
        "## LSTM"
      ]
    },
    {
      "cell_type": "code",
      "metadata": {
        "colab": {
          "base_uri": "https://localhost:8080/"
        },
        "id": "zTtP1QmMlRtg",
        "outputId": "5e61bcba-0020-4f7b-d269-41f4100ada82"
      },
      "source": [
        "import numpy as np\n",
        "import sys\n",
        "import tensorflow as tf\n",
        "import tensorflow_hub as hub\n",
        "import tensorflow_datasets as tfds\n",
        "\n",
        "import matplotlib.pyplot as plt\n",
        "\n",
        "print(\"Version: \", tf.__version__)\n",
        "print(\"Eager mode: \", tf.executing_eagerly())\n",
        "print(\"Hub version: \", hub.__version__)\n",
        "print(\"GPU is\", \"available\" if tf.config.list_physical_devices('GPU') else \"NOT AVAILABLE\")\n",
        "\n",
        "tfds.disable_progress_bar()\n",
        "\n",
        "# lstm_dataset, lstm_info = tfds.load('imdb_reviews', with_info=True,\n",
        "#                           as_supervised=True)\n",
        "\n",
        "# lstm_train_dataset, lstm_test_dataset = lstm_dataset['train'], lstm_dataset['test']\n",
        "# lstm_train_dataset.element_spec\n",
        "\n",
        "# lstm_train_dataset = lstm_train_dataset.shuffle(BUFFER_SIZE).batch(BATCH_SIZE).prefetch(AUTOTUNE)\n",
        "# lstm_test_dataset = lstm_test_dataset.batch(BATCH_SIZE).prefetch(AUTOTUNE)\n",
        "\n",
        "AUTOTUNE = tf.data.experimental.AUTOTUNE\n",
        "BUFFER_SIZE = 1000 # vocabulary size?\n",
        "BATCH_SIZE = 64\n",
        "seed = 43\n",
        "\n",
        "lstm_train_ds = tf.keras.preprocessing.text_dataset_from_directory(\n",
        "    'aclImdb/train',\n",
        "    batch_size=BATCH_SIZE,\n",
        "    validation_split=0.2,\n",
        "    subset='training',\n",
        "    seed=seed)\n",
        "\n",
        "lstm_train_ds = lstm_train_ds.shuffle(BUFFER_SIZE).cache().prefetch(AUTOTUNE)\n",
        "\n",
        "lstm_val_ds = tf.keras.preprocessing.text_dataset_from_directory(\n",
        "    'aclImdb/train',\n",
        "    batch_size=BATCH_SIZE,\n",
        "    validation_split=0.2,\n",
        "    subset='training',\n",
        "    seed=seed)\n",
        "lstm_val_ds = lstm_val_ds.cache().prefetch(AUTOTUNE)\n",
        "\n",
        "lstm_test_ds = tf.keras.preprocessing.text_dataset_from_directory(\n",
        "    'aclImdb/test',\n",
        "    batch_size=BATCH_SIZE)\n",
        "lstm_test_ds = lstm_test_ds.cache().prefetch(AUTOTUNE)\n",
        "\n"
      ],
      "execution_count": 31,
      "outputs": [
        {
          "output_type": "stream",
          "text": [
            "Version:  2.3.0\n",
            "Eager mode:  True\n",
            "Hub version:  0.10.0\n",
            "GPU is available\n",
            "Found 25000 files belonging to 2 classes.\n",
            "Using 20000 files for training.\n",
            "Found 25000 files belonging to 2 classes.\n",
            "Using 20000 files for training.\n",
            "Found 25000 files belonging to 2 classes.\n"
          ],
          "name": "stdout"
        }
      ]
    },
    {
      "cell_type": "code",
      "metadata": {
        "colab": {
          "base_uri": "https://localhost:8080/"
        },
        "id": "MspqNQk3OIkD",
        "outputId": "b46d306d-3694-4c10-9dd3-c15b583962f5"
      },
      "source": [
        "for ex,lab in lstm_train_ds.take(5):\n",
        "  print(\"review:\",ex.numpy()[0])"
      ],
      "execution_count": 14,
      "outputs": [
        {
          "output_type": "stream",
          "text": [
            "review: b\"Go immediately and rent this movie. It will be be on a bottom shelf in your local video store and will be covered in dust. No one will have touched it in years. It may even be a $.50 special! It's worth ten bucks, I swear! Buy it! There aren't very many films than can compare with this - the celluloid version of that goo that forms at the bottom of a trash can after a few years. Yes, I gave it a '1,' but it really deserves much lower. 1-10 scales were not designed with stuff like this in mind.\"\n",
            "review: b'This may not be one of the best movies ever made but overall it\\'s a very enjoyable, light-hearted piece of froth in which everyone involved seems to be having a good time. Highly recommended for it\\'s feel-good factor alone. OK, so Frank Sinatra\\'s \"acting\" leaves a lot to be desired but his singing is a great redeeming feature and the songs fit in perfectly with the romantic atmosphere of the film. Sinatra went on to make many more films where his undoubted acting ability shone through but in this, his first venture into Hollywood, his voice, not his acting, is his main contribution to this movie. I\\'ve just watched it again on TV and it still lifts my mood as much as it did the first time I saw it many many years ago.'\n",
            "review: b'I suppose many people comment/review their first movie on IMDb because the movie was spectacular or horrible -- I\\'m writing due to the latter.<br /><br />I was excited for the sequel to \"Wargames\" .. I thought the original was quite good considering its time period and content, I felt it was worth watching more than once. This being 2008, I had high hopes for what they would do with this film. Computers, Gaming, Terror, Military over-zealousness have all grown so much since the time of the first film, and \"Wargames: The Dead Code\" had an opportunity to bring it all into a great flick.<br /><br />The movie failed on pretty much every level, but I particularly blame the writers and anyone who had any input regarding the realism of gaming aspects. \"The Dead Code\" was a 1990\\'s air flight simulator with a few people on the ground waving their arms. Meanwhile, Will Farmer is button mashing about 7,000 commands -- none of which are impacting what is happening on the screen. Until finally he \"wins\" by clicking a box on the screen with his mouse that release gas that instantly kills 20,000 virtual people (nobody is near the gas). Because he beat 5 LEVELS in 15 minutes, this tells RIPLEY (the real life war machine) that he is a high level terror threat.<br /><br />Even though any 5-16 year old could complete this same task - The government believes he is a lethal threat to humanity. They say things like \"He has expert knowledge of bio-terror\" ... He displayed less knowledge than someone who read the first 3 paragraphs of the Wiki entry on Bio-Terror. So then a movie-long chase scene with about .01% of the budget and excitement of any of the Bourne titles ensues. They have about 1000 opportunities to catch him and clear up the entire matter.. sometimes they are mad they barely miss him.. but other times they masterfully create opportunities just let him go intentionally to follow him.<br /><br />Ugh... I would write more.. but I already wasted 1.5 hours watching this, I would rather watch the Broderick and Joshua play tic-tac-toe for 1.5 hours.'\n",
            "review: b\"Remember the early days of Pay Per View? I do, and i can almost remember the number you had to CALL to actually rent the movie on your t.v. As a kid we always wanted to rent playboy, but this meant actually calling someone from PPV and asking to rent it. And then you get the nerve to do it and your watching four hours of soft core no angle crap. Well the reason i bring that up is because this movie too was on ppv. And i remember almost every scene that was in the add. I've been on a kick in the last few years to obtain all the great movies i use to see as a kid and this was one of them. It's one that when its on its hard to shut off. All star cast trying to commit the perfect bank bust but nothing goes right. There are plenty of spoof bank capers that are good and this one has to fall in that category. It has enough action and laughs to sustain it. check it out if you dare!\"\n",
            "review: b'I think this show is screamingly funny! It\\'s not for every taste, and I\\'m not going to elevate or denigrate the folks that don\\'t get it. I\\'m sure they\\'re wonderful bright people that operate at a different wavelength. But if you like it, you REALLY like it. Sarah plays a self-infatuated loser named \"Sarah Silverman\" who often finds her self in Homerian predicaments (that\\'s \"Homerian\" as in \"Homerian Simpsonian\").<br /><br />I remember Sarah Silverman from her brief gig on Saturday Night Live in the early 90\\'s. I liked her immediately then and I go out of my way to check out anything she\\'s done.<br /><br />This show is choke-on-your-food-and-wet-your-pants funny. Therefore I always fast before watching it and wear adult diapers. Check it out!'\n"
          ],
          "name": "stdout"
        }
      ]
    },
    {
      "cell_type": "code",
      "metadata": {
        "id": "sfufgiImBaFh"
      },
      "source": [
        "# encoder for the tutorial LSTM-- it encodes tokens, but we should use the BERT tokens as inputs\n",
        "\n",
        "VOCAB_SIZE=BUFFER_SIZE\n",
        "\n",
        "encoder = tf.keras.layers.experimental.preprocessing.TextVectorization(\n",
        "    max_tokens=VOCAB_SIZE)\n",
        "encoder.adapt(lstm_train_ds.map(lambda text, label: text))\n"
      ],
      "execution_count": 28,
      "outputs": []
    },
    {
      "cell_type": "code",
      "metadata": {
        "colab": {
          "base_uri": "https://localhost:8080/"
        },
        "id": "3DHvCxF7DW3F",
        "outputId": "3ab23e38-3d05-4f42-cb33-14c14ccecd59"
      },
      "source": [
        "vocab = np.array(encoder.get_vocabulary())\n",
        "vocab[:15]\n",
        "print(\"bytes length\",len(ex[0].numpy()))\n",
        "st = str(ex[0].numpy(),'utf-8')\n",
        "print(\"str length\",len(st.split(' ')))\n",
        "encoding = (encoder(ex[0].numpy()))\n",
        "print(\"encoding length\",len(encoding))"
      ],
      "execution_count": 15,
      "outputs": [
        {
          "output_type": "stream",
          "text": [
            "bytes length 751\n",
            "str length 124\n",
            "encoding length 124\n"
          ],
          "name": "stdout"
        }
      ]
    },
    {
      "cell_type": "code",
      "metadata": {
        "colab": {
          "base_uri": "https://localhost:8080/"
        },
        "id": "Kh_Q_8ZODdwg",
        "outputId": "9ed3874c-8b26-415e-93c0-2d5648d7bf0a"
      },
      "source": [
        "# example\n",
        "print(len(example[0]), example[0])\n",
        "encoded_example = encoder(example)[:3].numpy()\n",
        "encoded_example[:,:35]"
      ],
      "execution_count": null,
      "outputs": [
        {
          "output_type": "execute_result",
          "data": {
            "text/plain": [
              "array([[  1,   5,  61,   2,  18,  23,  69, 104,  45, 319, 287,  16,   4,\n",
              "          1,  96,   5,   1,  47, 348,   1,   1,  42,   1,  19,  23, 178,\n",
              "          6,   1, 123,   1,  78,  22, 835,  98,   1],\n",
              "       [ 11, 238,   5,   1,   1,   7, 192,   6,  95,  23,   1,   9,   1,\n",
              "         30,   1,  39,   2,   1,   1,  21, 737,   9,   1,  36,   2, 312,\n",
              "         30, 194,   1,   3, 533,  33, 242,   2,   1],\n",
              "       [ 48,   7,   4, 169,   5, 653, 574,  46,   5, 356,   1,  13,   4,\n",
              "        463,   1,  70,  93, 150,   3, 172,  15,   4, 863,  30,   1,  13,\n",
              "         10, 688,   9,  21,   3, 405, 636, 146,   9]])"
            ]
          },
          "metadata": {
            "tags": []
          },
          "execution_count": 46
        }
      ]
    },
    {
      "cell_type": "code",
      "metadata": {
        "id": "OMBmkqN9jZ4i"
      },
      "source": [
        "# get the vocabulary size for a small test set\n",
        "# import torch\n",
        "# from torch.distributions import Categorical\n",
        "\n",
        "lstm_model = tf.keras.Sequential([\n",
        "    encoder,\n",
        "    tf.keras.layers.Embedding(\n",
        "        input_dim=len(encoder.get_vocabulary()),\n",
        "        output_dim=64,\n",
        "        # Use masking to handle the variable sequence lengths\n",
        "        mask_zero=True),\n",
        "    tf.keras.layers.Bidirectional(tf.keras.layers.LSTM(64, return_sequences=True)),\n",
        "    tf.keras.layers.Dense(64, activation='relu'),\n",
        "    tf.keras.layers.Dense(1,activation=None)\n",
        "])\n",
        "\n",
        "lstm_model2 = tf.keras.Sequential([\n",
        "    encoder,\n",
        "    tf.keras.layers.Embedding(\n",
        "        input_dim=len(encoder.get_vocabulary()),\n",
        "        output_dim=64,\n",
        "        # Use masking to handle the variable sequence lengths\n",
        "        mask_zero=True),\n",
        "    tf.keras.layers.Bidirectional(tf.keras.layers.LSTM(64, return_sequences=True)),\n",
        "    tf.keras.layers.Dense(64, activation='relu'),\n",
        "    tf.keras.layers.Dense(2,activation=None)\n",
        "])\n",
        "\n",
        "lstm_optim = tf.optimizers.Adam()\n",
        "\n",
        "# make function to compute action distribution\n",
        "# def get_policy(obs):\n",
        "#     logits = lstm_model(obs)\n",
        "#     return Categorical(logits=logits)\n",
        "\n",
        "# # make action selection function (outputs int actions, sampled from policy)\n",
        "# def get_action(obs):\n",
        "#     return get_policy(obs).sample().item()\n",
        "\n",
        "# def compute_loss(obs, act, weights=None):\n",
        "#   weights = np.ones(len(obs))\n",
        "#   logp = get_policy(obs).log_prob(act)\n",
        "#   return -(logp * weights).mean()\n",
        "\n",
        "# make the LSTM for this vocabulary size\n",
        "\n",
        "\n",
        "# use the LSTM to show the prob of predicting word classes \n",
        "#   (binary, output doesnt matter now)\n",
        "\n",
        "\n",
        "# train the LSTM for a few epochs with the classification of the sentences, or BERT's ?\n",
        "\n",
        "# class policy_model:"
      ],
      "execution_count": 29,
      "outputs": []
    },
    {
      "cell_type": "markdown",
      "metadata": {
        "id": "2pkZOeLG_RVD"
      },
      "source": [
        "## LSTM single training epoch"
      ]
    },
    {
      "cell_type": "markdown",
      "metadata": {
        "id": "RjdSfRXDdAlu"
      },
      "source": [
        "### attmpt_1"
      ]
    },
    {
      "cell_type": "code",
      "metadata": {
        "colab": {
          "base_uri": "https://localhost:8080/",
          "height": 365
        },
        "id": "8DCd5zni_WRb",
        "outputId": "49ef0194-9e36-4606-af44-dfc8234b0cc7"
      },
      "source": [
        "# from tensorflow.compat.v1.distributions import Multinomial as multinomial\n",
        "'''\n",
        "tf.random.categorical(logits=np.array([[.1,.2,.9]]),num_samples=1)\n",
        "'''\n",
        "\n",
        "import sys\n",
        "\n",
        "def count_empty(x):\n",
        "  ct=0\n",
        "  for each in x:\n",
        "    if each=='' or each is None:\n",
        "      print(\"-->\",each)\n",
        "      ct+=1\n",
        "  return ct\n",
        "\n",
        "with tf.GradientTape() as t:\n",
        "\n",
        "  for example, label in lstm_train_ds.take(1):\n",
        "    # run through the lstm\n",
        "    # batch_sentences = example\n",
        "    batch_logits = lstm_model2(example)\n",
        "\n",
        "    batch_actions =[[] for _ in batch_logits]\n",
        "    log_prob_sums =[None for _ in batch_logits]\n",
        "\n",
        "    for idx,sentence in enumerate(batch_logits):\n",
        "      temp_log_probs = []\n",
        "      for probs in sentence:\n",
        "        # make a distribution for each word\n",
        "        pol = tfp.distributions.Categorical(probs=tf.nn.softmax(probs))\n",
        "        # sample from the distribution\n",
        "        act = pol.sample()\n",
        "        # save the action (0=keep,1=delete)\n",
        "        batch_actions[idx].append(act)\n",
        "        # with that action, get the log_prob\n",
        "        log_prob = pol.log_prob(act)\n",
        "        # save that log_prob to a list \n",
        "        temp_log_probs.append(log_prob)\n",
        "\n",
        "      # sum the log probs for this sentence and add to list\n",
        "      log_prob_sums.append(sum(tf.nn.softmax(temp_log_probs)))\n",
        "\n",
        "    # split original sentences by space and remove words where action==1\n",
        "    new_example = [str(ex.numpy(),'utf-8') for ex in example]\n",
        "\n",
        "    for idx, ex in enumerate(new_example):\n",
        "      acts = batch_actions[idx]\n",
        "      splitstr = ex.split(\" \")\n",
        "      \n",
        "      ''' PROBLEM-- SOMETIMES THERE ARE MORE WORDS THAN ACTIONS '''\n",
        "      ''' IS THIS AN ISSUE WITH THE PREPROCESSOR? NOT CONSISTENT '''\n",
        "      if (len(splitstr) > len(acts)):\n",
        "        print((splitstr[::-1]))\n",
        "        print((acts[::-1]))\n",
        "        print(count_empty(splitstr))\n",
        "        print('{} ERROR: more tokens than actions...'.format(idx))\n",
        "      for i in range(len(splitstr)):\n",
        "        if i < len(acts) and acts[i] == 1:\n",
        "            splitstr[i] = ''\n",
        "      new_example[idx] = ' '.join(splitstr)\n",
        "\n",
        "    # convert the sentences to byte-strings ? maybe...\n",
        "\n",
        "    # get classification results from BERT for new strings\n",
        "    # training\n",
        "    print(new_example)\n",
        "    raw_outs = []\n",
        "    # for new in new_example:\n",
        "    #   raw_outs.append(classifier_model(tf.constant([new])))\n",
        "    raw_outs = classifier_model(tf.constant(new_example))\n",
        "    # print(\"raw output length\", len(raw_outs))\n",
        "    print(raw_outs.shape,'\\n',raw_outs)\n",
        "    print('labels',label.shape,'\\n',label)\n",
        "    loss_object = tf.keras.losses.mean_squared_error(raw_outs,tf.cast(label,float))\n",
        "\n",
        "    # use BERT's loss to \n",
        "    print(loss_object)\n",
        "\n",
        "    # use the negative losses to weight the log_probs\n",
        "    ''' now-- how do I use these in the update? '''\n",
        "    for idx, loss in enumerate(loss_object):\n",
        "      log_prob_sums[idx] *= -(loss)\n",
        "\n",
        "    sys.exit()\n",
        "    # get classification results from BERT for original strings\n",
        "    # evaluating\n",
        "\n",
        "    # get weights for the words\n",
        "    # higher weights \n",
        "\n",
        "    # policies = np.array([tfp.distributions.ategorical(probs=tf.nn.log_softmax(sentence)) for sentence in batch_logits])\n",
        "    # policies = [tf.random.categorical(logits=(sentence),num_samples=1) for sentence in batch_logits]\n",
        "    # print(len(batch_logits[0]))\n",
        "    # stringarr = (str(example[0].numpy(),'utf-8').split(' '))\n",
        "    # print(len(stringarr))\n",
        "    # print(sum([len(toke) for toke in stringarr]))\n",
        "    # print(batch_logits[0][:70])\n",
        "  sys.exit()\n",
        "\n",
        "# make update to LSTM optimizer\n",
        "\n",
        "'''\n",
        "  # diff is the baseline\n",
        "  # logsum = tf.reduce_mean(logsum_batch * weight)\n",
        "  logsum = tf.reduce_sum(tf.nn.log_softmax(batch_logits[0]))\n",
        "  # y = logsum * weight\n",
        "\n",
        "# print(st==base)\n",
        "# def compute_loss():\n",
        "  # retrun -(classifier_model(base) - classifier_model(x))\n",
        "\n",
        "# lstm_optim.minimize(compute_loss,var_list = tf.constant([]))\n",
        "\n",
        "\n",
        "gradients = t.gradient(logsum, lstm_model.trainable_variables)\n",
        "# The optimize applies the update, using the variables\n",
        "# and the optimizer update rule\n",
        "# opt.apply_gradients(zip(gradients, trainable_variables))\n",
        "print(gradients)\n",
        "if gradients:\n",
        "  lstm_optim.apply_gradients(zip(gradients,lstm_model.trainable_variables))\n",
        "else:\n",
        "  print('ERROR: no grads')\n",
        "# LSTM reward is BERT_original_sentence - BERT_new_sentence\n",
        "#   these are the difference in predictions between original and old\n",
        "'''"
      ],
      "execution_count": null,
      "outputs": [
        {
          "output_type": "stream",
          "text": [
            "['I\\'ll       like this doesn\\'t  a full review.<br /><br />Given  setting,   could  been   special.        later\" or  a      first      the movie  was really  directer  a decent   cinematography and   I don\\'t  He  to capture true   an empty  Underground.<br /><br />Characters  a  let   \"heroine\" in this movie  a   of crap, and you really  care    or not. As   have  before,      homeless people and    who managed   me a   two(whether  of the writers   /><br   villain,  kept in the   the first  of the movie, but when  is revealed   really  I   it  lets just      sister      a wrestling    in all  is just another mediocre   which falls  the trap of     formula. This  had     but    hit the mark.<br  />Just    lame    the characters  this movie had   FIVE   finish  and kill  main  INSTEAD   AWAY.', \"This Movie is complete crap! Avoid  waste  celluloid  all  it  rambling  incoherent. I pride myself      70's  cinema from   Salo to  Kitty. I like    I  a    if watching horses      film    The saddest   that  werewolf   the functional wang. I mean its   hard  sit  not to   acting is terrible  the    badly. Please, I know  cover is interesting   like    reaching     ass)but  waste your time   as   get  \", \"I  end-of-days  I like   was  I would  this  /><br />I  ignore the poor   often      I could ignore  unexplained  and the fact  the movie   on deus  machina  excusable,   subject     the  that the people who fight hunger   to  world peace  the      things   movie.   this   that it's just plain and  boring. Nothing actually happens; almost all scenes in    designed   the movie creators'    viewers,   cost   having  coherent     of  /><br />If     entertaining B-movie,   This  is  boring.\", 'A great,  sweet  with    plays himself) and    Spanish  named     a small   researching   independent  I   bit dubious about  film for  first    as soon   was in the store     enjoy   It shows how a   can change  It does not  any  plots and it   to    lift  saddest of   make you smile  the   without    petty   It includes several scenes   way  which  you  your sides with  A  rare ', 'From  beginning   movie,     the director    portray something,  I mean   that    story   style    movie should  made,  has    opposite way, he  a  of   he wanted to make,  wrote    suite  And   failed   very badly.   he was trying    stylish movie.   I think  movie  a total waste  time and effort.  the  of the director,     that   working  what   trying   is  have   movies   Here  least the   to maintain the continuity    And   also have  a  ']\n",
            "(5, 1) \n",
            " tf.Tensor(\n",
            "[[0.14642555]\n",
            " [0.377643  ]\n",
            " [0.40649122]\n",
            " [0.86438954]\n",
            " [0.26371044]], shape=(5, 1), dtype=float32)\n",
            "labels (5,) \n",
            " tf.Tensor([0 0 0 1 0], shape=(5,), dtype=int32)\n",
            "tf.Tensor([0.16287023 0.19155702 0.20263863 0.6014134  0.16405901], shape=(5,), dtype=float32)\n"
          ],
          "name": "stdout"
        },
        {
          "output_type": "error",
          "ename": "SystemExit",
          "evalue": "ignored",
          "traceback": [
            "An exception has occurred, use %tb to see the full traceback.\n",
            "\u001b[0;31mSystemExit\u001b[0m\n"
          ]
        },
        {
          "output_type": "stream",
          "text": [
            "/usr/local/lib/python3.6/dist-packages/IPython/core/interactiveshell.py:2890: UserWarning: To exit: use 'exit', 'quit', or Ctrl-D.\n",
            "  warn(\"To exit: use 'exit', 'quit', or Ctrl-D.\", stacklevel=1)\n"
          ],
          "name": "stderr"
        }
      ]
    },
    {
      "cell_type": "markdown",
      "metadata": {
        "id": "V7EwxU0DdEhj"
      },
      "source": [
        "### attmpt_2"
      ]
    },
    {
      "cell_type": "code",
      "metadata": {
        "colab": {
          "base_uri": "https://localhost:8080/",
          "height": 1000
        },
        "id": "i1AjHewEc9id",
        "outputId": "8cc642f5-68d6-488b-db80-d26cb299f8ee"
      },
      "source": [
        "# from tensorflow.compat.v1.distributions import Multinomial as multinomial\n",
        "'''\n",
        "tf.random.categorical(logits=np.array([[.1,.2,.9]]),num_samples=1)\n",
        "'''\n",
        "\n",
        "import sys\n",
        "import time\n",
        "\n",
        "def count_empty(x):\n",
        "  ct=0\n",
        "  for each in x:\n",
        "    if each=='' or each is None:\n",
        "      print(\"-->\",each)\n",
        "      ct+=1\n",
        "  return ct\n",
        "\n",
        "def step(model, X):\n",
        "  # return batch_logits, new_sentences, and log_prob_sums\n",
        "\n",
        "  batch_logits = model(X)\n",
        "  batch_actions =[[] for _ in batch_logits]\n",
        "  log_prob_sums =[None for _ in batch_logits]\n",
        "\n",
        "  for idx,sentence in enumerate(batch_logits):\n",
        "    temp_log_probs = []\n",
        "    for probs in sentence:\n",
        "      # make a distribution for each word\n",
        "      pol = tfp.distributions.Categorical(probs=tf.nn.softmax(probs))\n",
        "      # sample from the distribution\n",
        "      act = pol.sample()\n",
        "      # save the action (0=keep,1=delete)\n",
        "      batch_actions[idx].append(act)\n",
        "      # with that action, get the log_prob\n",
        "      log_prob = pol.log_prob(act)\n",
        "      # save that log_prob to a list \n",
        "      temp_log_probs.append(log_prob)\n",
        "\n",
        "    # sum the log probs for this sentence and add to list\n",
        "    log_prob_sums[idx] = sum(temp_log_probs)\n",
        "\n",
        "  # split original sentences by space and remove words where action==1\n",
        "  new_X = [str(ex.numpy(),'utf-8') for ex in X]\n",
        "\n",
        "  for idx,ex in enumerate(new_X):\n",
        "    acts = batch_actions[idx]\n",
        "    splitstr = ex.split(\" \")\n",
        "\n",
        "    ''' PROBLEM-- SOMETIMES THERE ARE MORE WORDS THAN ACTIONS '''\n",
        "    ''' IS THIS AN ISSUE WITH THE PREPROCESSOR? NOT CONSISTENT '''\n",
        "    if (len(splitstr) > len(acts)):\n",
        "      print((splitstr[::-1]))\n",
        "      print((acts[::-1]))\n",
        "      print(count_empty(splitstr))\n",
        "      print('{} ERROR: more tokens than actions...'.format(idx))\n",
        "    for i in range(len(splitstr)):\n",
        "      if i < len(acts) and acts[i] == 1:\n",
        "        splitstr[i] = ''\n",
        "    new_X[idx] = ' '.join(splitstr)\n",
        "  return batch_logits, new_X, log_prob_sums\n",
        "\n",
        "\n",
        "'''\n",
        "test step()\n",
        "'''\n",
        "\n",
        "for example, label in lstm_train_ds.take(10):\n",
        "  # run through the lstm\n",
        "  # batch_sentences = example\n",
        "  with tf.GradientTape() as t:\n",
        "    start = time.time()\n",
        "    logits, new_example, logprob_sums = step(lstm_model2, example)\n",
        "    print('model output time: ',time.time()-start)\n",
        "    print(len(logits),'total logits')\n",
        "    # print(new_example[0])\n",
        "    print('logprobs')\n",
        "    print(len(logprob_sums), logprob_sums)\n",
        "    # print(logits[0])\n",
        "  #   batch_logits = lstm_model2(example)\n",
        "  #   batch_actions =[[] for _ in batch_logits]\n",
        "  #   log_prob_sums =[None for _ in batch_logits]\n",
        "  #   for idx,sentence in enumerate(batch_logits):\n",
        "  #     temp_log_probs = []\n",
        "  #     for probs in sentence:\n",
        "  #       pol = tfp.distributions.Categorical(probs=tf.nn.softmax(probs))\n",
        "  #       act = pol.sample()\n",
        "  #       batch_actions[idx].append(act)\n",
        "  #       log_prob = pol.log_prob(act)\n",
        "  #       temp_log_probs.append(log_prob)\n",
        "  #     log_prob_sums.append(sum(tf.nn.softmax(temp_log_probs)))\n",
        "  # new_example = [str(ex.numpy(),'utf-8') for ex in example]\n",
        "  # for idx, ex in enumerate(new_example):\n",
        "  #   acts = batch_actions[idx]\n",
        "  #   splitstr = ex.split(\" \")\n",
        "  #   if (len(splitstr) > len(acts)):\n",
        "  #     print('{} ERROR: more tokens than actions...'.format(idx))\n",
        "  #   for i in range(len(splitstr)):\n",
        "  #     if i < len(acts) and acts[i] == 1:\n",
        "  #         splitstr[i] = ''\n",
        "  #   new_example[idx] = ' '.join(splitstr)\n",
        "    # print(new_example)\n",
        "    raw_outs = []\n",
        "    # need to FIT bert on these\n",
        "    raw_outs = classifier_model(tf.constant(new_example))\n",
        "    print(raw_outs.shape,'\\n',raw_outs)\n",
        "    print('labels',label.shape,'\\n',label)\n",
        "    loss_object = tf.keras.losses.mean_squared_error(raw_outs,tf.cast(label,float))\n",
        "    print('loss object:', loss_object)\n",
        "    # use BERT's loss for update:\n",
        "    # use the negative losses to weight the log_probs\n",
        "    ''' now-- how do I use these in the update? '''\n",
        "    # for idx, loss in enumerate(loss_object):\n",
        "    #   if loss is not None:\n",
        "    #     logprob_sums[idx] *= -(loss)\n",
        "    weighted_logprobs = -(loss_object)*logprob_sums\n",
        "    print('logprob_sums:\\n\\t', weighted_logprobs)\n",
        "      \n",
        "  # get gradients and apply update\n",
        "  # gradients = t.gradient(logprob_sums, lstm_model2.trainable_variables)\n",
        "  gradients = t.gradient(weighted_logprobs, lstm_model2.trainable_variables)\n",
        "  print('gradients[0]:', gradients[0])\n",
        "  lstm_optim.apply_gradients(zip(gradients,lstm_model2.trainable_variables))\n",
        "  print('optimizer step success.')\n",
        "  # sys.exit()\n",
        "\n",
        "  '''\n",
        "  end for ex,label in ....\n",
        "  '''\n",
        "\n",
        "  # policies = np.array([tfp.distributions.ategorical(probs=tf.nn.log_softmax(sentence)) for sentence in batch_logits])\n",
        "  # policies = [tf.random.categorical(logits=(sentence),num_samples=1) for sentence in batch_logits]\n",
        "  # print(len(batch_logits[0]))\n",
        "  # stringarr = (str(example[0].numpy(),'utf-8').split(' '))\n",
        "  # print(len(stringarr))\n",
        "  # print(sum([len(toke) for toke in stringarr]))\n",
        "  # print(batch_logits[0][:70])\n",
        "print('DONE.')\n",
        "\n",
        "# make update to LSTM optimizer\n",
        "\n",
        "'''\n",
        "# diff is the baseline\n",
        "# logsum = tf.reduce_mean(logsum_batch * weight)\n",
        "logsum = tf.reduce_sum(tf.nn.log_softmax(batch_logits[0]))\n",
        "# y = logsum * weight\n",
        "\n",
        "# print(st==base)\n",
        "# def compute_loss():\n",
        "# retrun -(classifier_model(base) - classifier_model(x))\n",
        "\n",
        "# lstm_optim.minimize(compute_loss,var_list = tf.constant([]))\n",
        "\n",
        "\n",
        "gradients = t.gradient(logsum, lstm_model.trainable_variables)\n",
        "# The optimize applies the update, using the variables\n",
        "# and the optimizer update rule\n",
        "# opt.apply_gradients(zip(gradients, trainable_variables))\n",
        "print(gradients)\n",
        "if gradients:\n",
        "lstm_optim.apply_gradients(zip(gradients,lstm_model.trainable_variables))\n",
        "else:\n",
        "print('ERROR: no grads')\n",
        "# LSTM reward is BERT_original_sentence - BERT_new_sentence\n",
        "#   these are the difference in predictions between original and old\n",
        "'''"
      ],
      "execution_count": 33,
      "outputs": [
        {
          "output_type": "stream",
          "text": [
            "model output time:  169.04650354385376\n",
            "64 total logits\n",
            "logprobs\n",
            "64 [<tf.Tensor: shape=(), dtype=float32, numpy=-609.1123>, <tf.Tensor: shape=(), dtype=float32, numpy=-609.03296>, <tf.Tensor: shape=(), dtype=float32, numpy=-609.4209>, <tf.Tensor: shape=(), dtype=float32, numpy=-609.75146>, <tf.Tensor: shape=(), dtype=float32, numpy=-609.75806>, <tf.Tensor: shape=(), dtype=float32, numpy=-609.8074>, <tf.Tensor: shape=(), dtype=float32, numpy=-608.9331>, <tf.Tensor: shape=(), dtype=float32, numpy=-610.0338>, <tf.Tensor: shape=(), dtype=float32, numpy=-610.0483>, <tf.Tensor: shape=(), dtype=float32, numpy=-608.28174>, <tf.Tensor: shape=(), dtype=float32, numpy=-609.95245>, <tf.Tensor: shape=(), dtype=float32, numpy=-609.45886>, <tf.Tensor: shape=(), dtype=float32, numpy=-608.89087>, <tf.Tensor: shape=(), dtype=float32, numpy=-609.2401>, <tf.Tensor: shape=(), dtype=float32, numpy=-608.3739>, <tf.Tensor: shape=(), dtype=float32, numpy=-609.47534>, <tf.Tensor: shape=(), dtype=float32, numpy=-610.24567>, <tf.Tensor: shape=(), dtype=float32, numpy=-609.81464>, <tf.Tensor: shape=(), dtype=float32, numpy=-608.60815>, <tf.Tensor: shape=(), dtype=float32, numpy=-609.5827>, <tf.Tensor: shape=(), dtype=float32, numpy=-609.14954>, <tf.Tensor: shape=(), dtype=float32, numpy=-609.2662>, <tf.Tensor: shape=(), dtype=float32, numpy=-609.16003>, <tf.Tensor: shape=(), dtype=float32, numpy=-609.37665>, <tf.Tensor: shape=(), dtype=float32, numpy=-609.18054>, <tf.Tensor: shape=(), dtype=float32, numpy=-609.1405>, <tf.Tensor: shape=(), dtype=float32, numpy=-609.3555>, <tf.Tensor: shape=(), dtype=float32, numpy=-609.4794>, <tf.Tensor: shape=(), dtype=float32, numpy=-608.8967>, <tf.Tensor: shape=(), dtype=float32, numpy=-609.16766>, <tf.Tensor: shape=(), dtype=float32, numpy=-609.42096>, <tf.Tensor: shape=(), dtype=float32, numpy=-609.2064>, <tf.Tensor: shape=(), dtype=float32, numpy=-609.5092>, <tf.Tensor: shape=(), dtype=float32, numpy=-609.5323>, <tf.Tensor: shape=(), dtype=float32, numpy=-608.81494>, <tf.Tensor: shape=(), dtype=float32, numpy=-609.35156>, <tf.Tensor: shape=(), dtype=float32, numpy=-609.02234>, <tf.Tensor: shape=(), dtype=float32, numpy=-609.1808>, <tf.Tensor: shape=(), dtype=float32, numpy=-609.09564>, <tf.Tensor: shape=(), dtype=float32, numpy=-607.9341>, <tf.Tensor: shape=(), dtype=float32, numpy=-609.17267>, <tf.Tensor: shape=(), dtype=float32, numpy=-609.5012>, <tf.Tensor: shape=(), dtype=float32, numpy=-607.5534>, <tf.Tensor: shape=(), dtype=float32, numpy=-609.0418>, <tf.Tensor: shape=(), dtype=float32, numpy=-608.80646>, <tf.Tensor: shape=(), dtype=float32, numpy=-608.7056>, <tf.Tensor: shape=(), dtype=float32, numpy=-609.8276>, <tf.Tensor: shape=(), dtype=float32, numpy=-608.9525>, <tf.Tensor: shape=(), dtype=float32, numpy=-609.244>, <tf.Tensor: shape=(), dtype=float32, numpy=-609.4406>, <tf.Tensor: shape=(), dtype=float32, numpy=-609.32965>, <tf.Tensor: shape=(), dtype=float32, numpy=-608.9878>, <tf.Tensor: shape=(), dtype=float32, numpy=-609.6332>, <tf.Tensor: shape=(), dtype=float32, numpy=-609.35376>, <tf.Tensor: shape=(), dtype=float32, numpy=-609.55634>, <tf.Tensor: shape=(), dtype=float32, numpy=-608.97516>, <tf.Tensor: shape=(), dtype=float32, numpy=-609.3548>, <tf.Tensor: shape=(), dtype=float32, numpy=-609.0955>, <tf.Tensor: shape=(), dtype=float32, numpy=-608.8815>, <tf.Tensor: shape=(), dtype=float32, numpy=-609.64136>, <tf.Tensor: shape=(), dtype=float32, numpy=-609.45337>, <tf.Tensor: shape=(), dtype=float32, numpy=-609.26917>, <tf.Tensor: shape=(), dtype=float32, numpy=-608.9086>, <tf.Tensor: shape=(), dtype=float32, numpy=-609.1572>]\n",
            "(64, 1) \n",
            " tf.Tensor(\n",
            "[[ 3.243076  ]\n",
            " [ 0.65777653]\n",
            " [ 1.1470172 ]\n",
            " [-0.4920438 ]\n",
            " [-0.3418723 ]\n",
            " [-0.13611197]\n",
            " [-0.5467609 ]\n",
            " [-1.783571  ]\n",
            " [-3.1934435 ]\n",
            " [-2.9335098 ]\n",
            " [ 0.2654037 ]\n",
            " [-3.5116723 ]\n",
            " [ 0.65411705]\n",
            " [ 1.3834491 ]\n",
            " [ 0.6367712 ]\n",
            " [ 0.16972655]\n",
            " [ 0.85920745]\n",
            " [-1.7725136 ]\n",
            " [-1.6112883 ]\n",
            " [-2.2774746 ]\n",
            " [-0.49050778]\n",
            " [ 1.2147105 ]\n",
            " [-1.6739762 ]\n",
            " [-1.8130429 ]\n",
            " [ 1.1814883 ]\n",
            " [ 3.0060556 ]\n",
            " [-3.7197585 ]\n",
            " [ 2.8619118 ]\n",
            " [-1.7930137 ]\n",
            " [-0.8315298 ]\n",
            " [-2.6061282 ]\n",
            " [-4.2403584 ]\n",
            " [ 0.49481967]\n",
            " [ 0.587442  ]\n",
            " [ 1.1731279 ]\n",
            " [ 4.3986225 ]\n",
            " [ 0.31004956]\n",
            " [-3.5555863 ]\n",
            " [-1.2164066 ]\n",
            " [-0.80568385]\n",
            " [-0.4587402 ]\n",
            " [-2.251416  ]\n",
            " [-2.0256836 ]\n",
            " [ 0.4964885 ]\n",
            " [ 0.36473677]\n",
            " [ 1.7714323 ]\n",
            " [-2.5269115 ]\n",
            " [ 3.71176   ]\n",
            " [-1.744992  ]\n",
            " [-4.9395394 ]\n",
            " [-4.8977356 ]\n",
            " [-1.1176945 ]\n",
            " [ 1.4419128 ]\n",
            " [ 0.7944657 ]\n",
            " [ 2.5023837 ]\n",
            " [-1.803724  ]\n",
            " [ 2.3586211 ]\n",
            " [ 2.6226153 ]\n",
            " [-1.6938835 ]\n",
            " [-4.636643  ]\n",
            " [-1.5116957 ]\n",
            " [ 0.03454796]\n",
            " [ 0.42825997]\n",
            " [-1.5841364 ]], shape=(64, 1), dtype=float32)\n",
            "labels (64,) \n",
            " tf.Tensor(\n",
            "[1 0 1 0 1 1 0 0 0 0 0 0 0 1 1 1 1 0 0 0 1 1 0 0 1 1 0 1 0 1 0 0 1 0 1 1 1\n",
            " 0 0 0 1 1 1 0 1 1 0 1 0 0 0 0 1 0 1 0 1 1 0 0 0 0 1 0], shape=(64,), dtype=int32)\n",
            "loss object: tf.Tensor(\n",
            "[ 8.03163     0.289685    0.7292892   1.1411467   0.87982357  0.59500295\n",
            "  1.2475746   5.250612   13.545263   11.717098    0.283042   15.967419\n",
            "  0.28820053  1.1133056   0.28152865  0.32811743  0.41270566  5.20127\n",
            "  4.5096054   7.703977    1.1382456   0.8278152   4.772362    5.38332\n",
            "  0.7783158   6.7652574  17.660759    6.050057    5.2929416   1.8981408\n",
            "  9.6068325  22.276588    0.24954116  0.2658438   0.76620686 15.814753\n",
            "  0.26827335 16.31757     3.0351381   1.8324025   1.0793009   7.5623446\n",
            "  6.392295    0.24968313  0.2556152   1.9857368   9.128421   10.866506\n",
            "  5.079521   29.328632   28.879513    2.7152762   1.2255042   0.36431623\n",
            "  4.447264    5.3411703   3.8787184   4.954491    4.8574486  26.153542\n",
            "  4.108323    0.42300946  0.248421    4.398237  ], shape=(64,), dtype=float32)\n",
            "logprob_sums:\n",
            "\t tf.Tensor(\n",
            "[ 4892.1646    176.42772   444.44406   695.81586   536.4795    362.8372\n",
            "   759.68945  3203.0508   8263.265    7127.297     172.64217  9731.484\n",
            "   175.48267   678.2704    171.27469   199.97948   251.85184  3171.8105\n",
            "  2744.5825   4696.2114    693.36176   504.35977  2907.1323   3280.4695\n",
            "   474.13483  4120.992   10761.681    3687.385    3222.8547   1156.286\n",
            "  5854.605   13571.041     152.09764   162.04039   466.47818  9636.744\n",
            "   163.38446  9940.35     1848.6895   1113.9799    657.4806   4609.2583\n",
            "  3883.6606    152.06746   155.6202   1208.7292   5566.7627   6617.186\n",
            "  3094.668   17874.06    17597.143    1653.5701    747.108     221.99747\n",
            "  2710.8582   3252.6401   2363.5156   3017.7583   2957.6104  15944.28\n",
            "  2503.8313    257.72662   151.26569  2679.218  ], shape=(64,), dtype=float32)\n",
            "gradients[0]: IndexedSlices(indices=tf.Tensor([ 1  1 13 ...  0  0  0], shape=(56256,), dtype=int64), values=tf.Tensor(\n",
            "[[-0.09286407 -0.05900446  0.15154278 ... -0.08060489  0.18430227\n",
            "   0.2624375 ]\n",
            " [-0.09034124  0.04199345  0.02720156 ... -0.07214669  0.16108601\n",
            "   0.15383388]\n",
            " [-0.10868004  0.03077172 -0.06921251 ... -0.07103403  0.09984593\n",
            "  -0.06069577]\n",
            " ...\n",
            " [ 0.          0.          0.         ...  0.          0.\n",
            "   0.        ]\n",
            " [ 0.          0.          0.         ...  0.          0.\n",
            "   0.        ]\n",
            " [ 0.          0.          0.         ...  0.          0.\n",
            "   0.        ]], shape=(56256, 64), dtype=float32), dense_shape=tf.Tensor([1000   64], shape=(2,), dtype=int32))\n",
            "optimizer step success.\n",
            "['lesson.', 'history', 'fascinating', 'and', 'drama', 'engaging', 'an', 'still', 'is', \"'Victoria'\", 'But', 'death).', \"Albert's\", 'after', 'depression', \"Victoria's\", 'of', 'mention', '(no', 'hagiography', 'toward', 'much', 'too', 'lean', 'credits', 'closing', 'the', 'and', 'abruptly', 'rather', 'ends', 'Victoria', 'Young', 'The', 'Friend.', 'Rupert', 'and', 'Blunt', 'Emily', 'principals,', 'the', 'especially', 'excellent,', 'uniformly', 'are', 'film', 'the', 'in', 'performances', '/>The', '/><br', 'happened!).<br', 'never', 'this', 'but', 'arm', 'the', 'in', 'shot', 'is', 'Albert', 'film', 'the', '(in', 'down', 'both', 'them', 'cuts', 'almost', 'bullets', \"assassin's\", 'an', 'when', 'Albert', 'to', 'talking', 'barely', 'is', 'Victoria', 'ladies.', 'bedchamber', \"Victoria's\", 'involving', 'compromise', 'a', 'arranges', 'and', 'head', \"wife's\", 'his', 'over', 'goes', 'he', 'so', \"Crisis'\", \"'Bedchamber\", 'second', 'a', 'want', \"doesn't\", 'Albert', 'affairs.', 'her', 'in', \"'interference'\", 'his', 'as', 'perceives', 'she', 'what', 'with', 'Victoria', 'infuriates', 'Albert', 'where', 'film', 'the', 'of', 'end', 'the', 'toward', 'scene', 'excellent', 'an', \"there's\", '/>Fortunately', '/><br', 'wives.<br', 'ever-popular', 'their', 'of', 'shadow', 'the', 'in', 'continually', 'live', 'to', 'have', \"didn't\", 'they', 'that', 'proved', 'and', 'projects', 'civic', 'various', 'in', 'involved', 'became', 'Philip', 'and', 'Albert', 'Both', 'do.', 'to', 'something', 'find', 'to', 'had', 'they', 'Monarchs,', 'of', 'husbands', 'Philip\\x97as', 'for', 'same', 'the', 'was', 'struggle', \"Albert's\", 'years!).', 'for', 'dead', 'been', 'had', 'he', 'though', 'even', 'III', 'George', 'King', 'for', 'table', 'a', 'setting', 'still', 'are', 'servants', 'the', 'that', 'discovers', 'Albert', 'where', 'scene', 'great', 'a', \"(there's\", 'Court', 'the', 'in', 'etiquette', 'reform', 'to', 'business', 'their', 'it', 'made', 'Philip', 'and', 'Albert', 'Both', 'background.', 'German', 'of', 'were', 'who', 'in-laws', 'had', 'and', 'Germany', 'in', 'school', 'to', 'went', 'he', 'Danish,', 'mainly', 'is', 'Philip', 'While', 'husband.', \"Queen's\", 'current', 'the', 'Philip,', 'Prince', 'and', 'Albert', 'Prince', 'between', 'parallels', 'of', 'number', 'good', 'a', 'find', '/>I', '/><br', 'Crisis.<br', 'Bedchamber', 'the', 'of', 'times', 'trying', 'the', 'during', 'support', 'Victoria', 'gave', 'and', 'England', 'to', 'returned', 'Albert', 'until', 'another', 'one', 'with', 'corresponding', 'time', 'of', 'deal', 'good', 'a', 'spent', 'They', 'Sovereign.', 'new', 'the', 'as', 'duties', 'her', 'to', 'herself', 'acclimate', 'to', 'wanted', 'she', 'since', 'clear,', 'makes', 'film', 'the', 'as', 'waiting,', 'Albert', 'kept', 'Victoria', 'Albert.', 'Prince', 'and', 'Queen', 'the', 'between', 'romance', 'the', '--', 'course', 'of', '--', 'with', 'deals', \"Victoria'\", 'Young', \"'The\", 'the', 'of', 'rest', '/>The', '/><br', 'Affair.<br', 'Hastings', 'the', 'by', 'evidenced', 'as', 'character', 'her', 'of', 'aspects', 'unsavory', 'more', 'the', 'of', 'some', 'ignore', 'scenarists', \"film's\", 'the', 'but', 'Crisis', 'Bedchamber', 'the', 'during', 'shows', 'inexperience', \"Victoria's\", 'tumor.', 'abdominal', 'an', 'was', 'had', 'actually', 'she', 'pregnant\\x97what', 'appeared', 'only', 'Hastings', 'out,', 'turned', 'it', 'As', 'pregnancy.', 'alleged', \"Hastings'\", 'about', 'spread', 'being', 'rumors', 'nasty', 'the', 'to', 'contributed', 'Victoria', 'Conroy,', 'for', 'hatred', 'her', 'of', 'Because', 'him.', 'by', 'pregnant', 'becoming', 'and', 'Conroy', 'John', 'with', 'affair', 'an', 'having', 'of', 'accused', 'was', 'who', 'ladies-in-waiting', \"Duchess's\", 'the', 'of', 'one', 'Hastings,', 'Lady', 'a', 'involved', 'which', 'scandal', 'another', 'out', 'leaves', 'film', 'The', 'politicians.', 'Tory', 'of', 'wives', 'the', 'with', 'ladies', 'Bedchamber', 'her', 'of', 'some', 'replace', 'to', 'refused', 'Victoria', 'after', 'resigned', 'Peel', 'which', 'in', \"Crisis'\", 'Bedchamber', \"'The\", 'of', 'events', 'the', 'chronicles', 'film', 'The', 'Minister.', 'Prime', 'new', 'the', 'as', 'party,', 'Tory', 'conservative', 'more', 'the', 'of', 'Peel,', 'Robert', 'Sir', 'commission', 'must', 'Queen', 'the', 'and', 'out', 'forced', 'is', 'Melbourne', 'when', 'thickens', 'plot', '/>The', '/><br', 'rivals.<br', 'romantic', 'were', 'they', 'though', 'as', 'Albert,', 'Prince', 'and', 'Minister', 'Prime', 'the', 'between', 'tension', 'sexual', 'some', 'at', 'hints', 'film', 'the', 'but', 'Victoria,', 'to', 'figure', 'father', 'a', 'more', 'was', 'Melbourne', 'reality,', 'In', 'championing.', 'be', 'to', 'supposed', \"he's\", 'whom', 'masses', 'the', 'for', 'contempt', 'his', 'hiding', 'politician,', 'typical', 'a', 'be', 'to', 'revealed', \"he's\", 'as', 'somewhat', 'him', 'for', 'respect', 'loses', 'later', 'but', 'progressive,', 'a', 'as', 'Melbourne', 'sees', 'she', 'reign,', 'her', 'of', 'years', 'early', 'the', 'In', 'friends.', 'good', 'become', 'they', 'and', 'trust', \"Queen's\", 'young', 'the', 'gains', 'Melbourne', 'beginning', 'the', 'In', 'was.', 'actually', 'he', 'than', 'younger', 'much', 'as', 'film', 'the', 'in', 'depicted', 'is', 'unfortunately', 'who', 'Minister', 'Prime', 'Party', 'Whig', 'the', 'Melbourne,', 'Lord', 'with', 'relationship', \"Victoria's\", 'with', 'deals', 'film', 'the', 'of', 'part', 'good', 'A', 'Queen.', 'as', 'coronation', \"Victoria's\", 'surrounding', 'circumstance', 'and', 'pomp', 'and', 'excitement', 'the', 'conveys', \"Victoria'\", 'Young', \"/>'The\", '/><br', 'mother.<br', 'her', 'with', 'contact', 'little', 'had', 'Victoria', 'years', 'of', 'number', 'a', 'for', 'and', 'Palace', 'Buckingham', 'in', 'apartment', 'secluded', 'a', 'to', 'banished', 'both', 'were', 'They', 'miserable.', 'so', 'childhood', 'her', 'making', 'for', 'blamed', 'she', 'whom', 'Conroy,', 'of', 'support', 'her', 'for', 'mother', 'her', 'on', 'revenge', 'took', 'Victoria', 'throne.', 'the', 'to', 'accede', 'to', 'eligible', 'became', 'Victoria', 'after', 'time', 'short', 'a', 'died', 'and', 'word', 'his', 'kept', 'William', '/>King', '/><br', 'regent.<br', 'become', 'not', 'would', 'mother', 'her', 'that', 'so', 'birthday', '18th', 'her', 'reached', 'Victoria', 'until', 'survive', 'to', 'goal', 'his', 'was', 'it', 'that', 'stating', 'banquet,', 'birthday', 'his', 'at', 'Duchess', 'the', 'berated', 'King', 'the', 'history,', 'in', 'occurred', 'have', 'actually', 'to', 'seemed', 'which', 'scene', 'over-the-top', 'an', 'In', 'King.', 'the', 'with', 'contact', \"Victoria's\", 'limit', 'to', 'attempted', 'Duchess', 'the', 'result,', 'a', 'As', 'wife.', 'his', 'disrespected', 'Duchess', 'the', 'felt', 'King', 'the', 'Monarchy;', 'the', 'to', 'disrespect', 'brought', 'who', 'philanderer', 'a', 'as', 'him', 'regarded', 'she', 'as', 'William', 'King', 'disliked', 'Duchess', 'The', 'plans.', 'nefarious', \"mother's\", 'her', 'and', \"Conroy's\", 'with', 'along', 'go', 'to', 'refused', 'and', 'it,', 'of', 'none', 'have', 'would', 'Victoria', 'Strong-willed', 'treasurer.', 'and', 'secretary', 'private', 'her', 'Conroy', 'making', 'papers', 'sign', 'she', 'that', 'insisted', 'and', 'princess', 'hapless', 'the', 'intimidate', 'to', 'tried', 'Conroy', 'and', 'Duchess', 'the', 'time,', 'this', 'During', 'minor.', 'a', 'still', 'while', 'throne', 'the', 'to', 'acceded', 'Victoria', 'that', 'event', 'the', 'in', 'Guardian)', 'hence', '(and', 'regent', 'become', 'would', 'mother', \"Victoria's\", 'that', 'established', 'which', 'Act,', 'Regency', 'the', 'passed', 'Parliament', '1830', 'in', 'that', 'explains', 'film', '/>The', '/><br', 'Queen.<br', 'became', 'she', 'until', 'everyday', 'bedroom', \"mother's\", 'her', 'in', 'sleep', 'to', 'forced', 'was', 'Victoria', 'more,', \"What's\", 'up.', 'growing', 'while', 'children', 'other', 'with', 'contact', 'any', 'having', 'from', 'Queen', 'future', 'the', 'prevent', 'to', 'designed', 'rules', \"system',\", \"'Kensington\", 'atrocious', 'the', 'under', 'raised', 'be', 'Victoria', 'that', 'insisted', 'Conroy', 'queen-to-be.', 'infant', 'her', 'and', 'widow', 'the', 'to', 'comptroller', 'as', 'services', 'his', 'offered', 'who', 'Conroy,', 'John', 'Officer', 'Army', 'former', 'with', 'up', 'hooked', 'eventually', 'Kent', 'of', 'Duchess', 'the', 'birth,', \"Victoria's\", 'after', 'year', 'a', 'than', 'less', '1820,', 'in', 'Kent', 'of', 'Duke', 'the', 'father,', \"Victoria's\", 'of', 'death', 'the', 'Following', 'away.', 'right', 'in', 'you', 'draws', \"'set-up'\", 'I', 'Act', '/>The', '/><br', 'throne.<br', 'the', 'to', 'ascent', 'her', 'surrounding', 'machinations', 'political', 'the', 'detailing', 'of', 'job', 'good', 'pretty', 'a', 'does', 'also', 'but', 'husband-to-be', 'her', 'with', 'romance', \"Queen's\", 'young', 'the', 'chronicles', 'only', 'not', \"Victoria'\", 'Young', \"'The\", 'days.', 'younger', 'her', 'in', 'intrigue', 'and', 'drama', 'with', 'fraught', 'life', 'a', 'led', 'actually', 'Albert,', 'Prince', 'husband,', 'her', 'of', 'death', 'the', 'after', 'years', '40', 'for', 'recluse', 'virtual', 'a', 'was', 'who', 'Monarch', 'plump', 'the', 'Victoria,', 'Queen', 'Dowdy', 'knew?', 'Who']\n",
            "[<tf.Tensor: shape=(), dtype=int32, numpy=0>, <tf.Tensor: shape=(), dtype=int32, numpy=0>, <tf.Tensor: shape=(), dtype=int32, numpy=1>, <tf.Tensor: shape=(), dtype=int32, numpy=0>, <tf.Tensor: shape=(), dtype=int32, numpy=1>, <tf.Tensor: shape=(), dtype=int32, numpy=0>, <tf.Tensor: shape=(), dtype=int32, numpy=0>, <tf.Tensor: shape=(), dtype=int32, numpy=0>, <tf.Tensor: shape=(), dtype=int32, numpy=0>, <tf.Tensor: shape=(), dtype=int32, numpy=0>, <tf.Tensor: shape=(), dtype=int32, numpy=1>, <tf.Tensor: shape=(), dtype=int32, numpy=0>, <tf.Tensor: shape=(), dtype=int32, numpy=1>, <tf.Tensor: shape=(), dtype=int32, numpy=0>, <tf.Tensor: shape=(), dtype=int32, numpy=1>, <tf.Tensor: shape=(), dtype=int32, numpy=1>, <tf.Tensor: shape=(), dtype=int32, numpy=1>, <tf.Tensor: shape=(), dtype=int32, numpy=0>, <tf.Tensor: shape=(), dtype=int32, numpy=1>, <tf.Tensor: shape=(), dtype=int32, numpy=1>, <tf.Tensor: shape=(), dtype=int32, numpy=1>, <tf.Tensor: shape=(), dtype=int32, numpy=0>, <tf.Tensor: shape=(), dtype=int32, numpy=0>, <tf.Tensor: shape=(), dtype=int32, numpy=0>, <tf.Tensor: shape=(), dtype=int32, numpy=1>, <tf.Tensor: shape=(), dtype=int32, numpy=1>, <tf.Tensor: shape=(), dtype=int32, numpy=1>, <tf.Tensor: shape=(), dtype=int32, numpy=0>, <tf.Tensor: shape=(), dtype=int32, numpy=0>, <tf.Tensor: shape=(), dtype=int32, numpy=0>, <tf.Tensor: shape=(), dtype=int32, numpy=1>, <tf.Tensor: shape=(), dtype=int32, numpy=0>, <tf.Tensor: shape=(), dtype=int32, numpy=0>, <tf.Tensor: shape=(), dtype=int32, numpy=1>, <tf.Tensor: shape=(), dtype=int32, numpy=0>, <tf.Tensor: shape=(), dtype=int32, numpy=1>, <tf.Tensor: shape=(), dtype=int32, numpy=0>, <tf.Tensor: shape=(), dtype=int32, numpy=1>, <tf.Tensor: shape=(), dtype=int32, numpy=0>, <tf.Tensor: shape=(), dtype=int32, numpy=0>, <tf.Tensor: shape=(), dtype=int32, numpy=0>, <tf.Tensor: shape=(), dtype=int32, numpy=1>, <tf.Tensor: shape=(), dtype=int32, numpy=1>, <tf.Tensor: shape=(), dtype=int32, numpy=0>, <tf.Tensor: shape=(), dtype=int32, numpy=1>, <tf.Tensor: shape=(), dtype=int32, numpy=1>, <tf.Tensor: shape=(), dtype=int32, numpy=0>, <tf.Tensor: shape=(), dtype=int32, numpy=1>, <tf.Tensor: shape=(), dtype=int32, numpy=1>, <tf.Tensor: shape=(), dtype=int32, numpy=1>, <tf.Tensor: shape=(), dtype=int32, numpy=1>, <tf.Tensor: shape=(), dtype=int32, numpy=0>, <tf.Tensor: shape=(), dtype=int32, numpy=1>, <tf.Tensor: shape=(), dtype=int32, numpy=0>, <tf.Tensor: shape=(), dtype=int32, numpy=0>, <tf.Tensor: shape=(), dtype=int32, numpy=1>, <tf.Tensor: shape=(), dtype=int32, numpy=1>, <tf.Tensor: shape=(), dtype=int32, numpy=1>, <tf.Tensor: shape=(), dtype=int32, numpy=1>, <tf.Tensor: shape=(), dtype=int32, numpy=1>, <tf.Tensor: shape=(), dtype=int32, numpy=1>, <tf.Tensor: shape=(), dtype=int32, numpy=0>, <tf.Tensor: shape=(), dtype=int32, numpy=0>, <tf.Tensor: shape=(), dtype=int32, numpy=0>, <tf.Tensor: shape=(), dtype=int32, numpy=0>, <tf.Tensor: shape=(), dtype=int32, numpy=0>, <tf.Tensor: shape=(), dtype=int32, numpy=0>, <tf.Tensor: shape=(), dtype=int32, numpy=0>, <tf.Tensor: shape=(), dtype=int32, numpy=1>, <tf.Tensor: shape=(), dtype=int32, numpy=0>, <tf.Tensor: shape=(), dtype=int32, numpy=1>, <tf.Tensor: shape=(), dtype=int32, numpy=0>, <tf.Tensor: shape=(), dtype=int32, numpy=1>, <tf.Tensor: shape=(), dtype=int32, numpy=0>, <tf.Tensor: shape=(), dtype=int32, numpy=0>, <tf.Tensor: shape=(), dtype=int32, numpy=1>, <tf.Tensor: shape=(), dtype=int32, numpy=0>, <tf.Tensor: shape=(), dtype=int32, numpy=1>, <tf.Tensor: shape=(), dtype=int32, numpy=1>, <tf.Tensor: shape=(), dtype=int32, numpy=1>, <tf.Tensor: shape=(), dtype=int32, numpy=1>, <tf.Tensor: shape=(), dtype=int32, numpy=0>, <tf.Tensor: shape=(), dtype=int32, numpy=0>, <tf.Tensor: shape=(), dtype=int32, numpy=0>, <tf.Tensor: shape=(), dtype=int32, numpy=0>, <tf.Tensor: shape=(), dtype=int32, numpy=1>, <tf.Tensor: shape=(), dtype=int32, numpy=0>, <tf.Tensor: shape=(), dtype=int32, numpy=0>, <tf.Tensor: shape=(), dtype=int32, numpy=1>, <tf.Tensor: shape=(), dtype=int32, numpy=1>, <tf.Tensor: shape=(), dtype=int32, numpy=0>, <tf.Tensor: shape=(), dtype=int32, numpy=0>, <tf.Tensor: shape=(), dtype=int32, numpy=0>, <tf.Tensor: shape=(), dtype=int32, numpy=0>, <tf.Tensor: shape=(), dtype=int32, numpy=1>, <tf.Tensor: shape=(), dtype=int32, numpy=0>, <tf.Tensor: shape=(), dtype=int32, numpy=0>, <tf.Tensor: shape=(), dtype=int32, numpy=0>, <tf.Tensor: shape=(), dtype=int32, numpy=0>, <tf.Tensor: shape=(), dtype=int32, numpy=0>, <tf.Tensor: shape=(), dtype=int32, numpy=1>, <tf.Tensor: shape=(), dtype=int32, numpy=0>, <tf.Tensor: shape=(), dtype=int32, numpy=0>, <tf.Tensor: shape=(), dtype=int32, numpy=1>, <tf.Tensor: shape=(), dtype=int32, numpy=0>, <tf.Tensor: shape=(), dtype=int32, numpy=0>, <tf.Tensor: shape=(), dtype=int32, numpy=1>, <tf.Tensor: shape=(), dtype=int32, numpy=1>, <tf.Tensor: shape=(), dtype=int32, numpy=1>, <tf.Tensor: shape=(), dtype=int32, numpy=0>, <tf.Tensor: shape=(), dtype=int32, numpy=0>, <tf.Tensor: shape=(), dtype=int32, numpy=1>, <tf.Tensor: shape=(), dtype=int32, numpy=0>, <tf.Tensor: shape=(), dtype=int32, numpy=0>, <tf.Tensor: shape=(), dtype=int32, numpy=0>, <tf.Tensor: shape=(), dtype=int32, numpy=1>, <tf.Tensor: shape=(), dtype=int32, numpy=1>, <tf.Tensor: shape=(), dtype=int32, numpy=0>, <tf.Tensor: shape=(), dtype=int32, numpy=1>, <tf.Tensor: shape=(), dtype=int32, numpy=1>, <tf.Tensor: shape=(), dtype=int32, numpy=0>, <tf.Tensor: shape=(), dtype=int32, numpy=1>, <tf.Tensor: shape=(), dtype=int32, numpy=1>, <tf.Tensor: shape=(), dtype=int32, numpy=0>, <tf.Tensor: shape=(), dtype=int32, numpy=0>, <tf.Tensor: shape=(), dtype=int32, numpy=0>, <tf.Tensor: shape=(), dtype=int32, numpy=0>, <tf.Tensor: shape=(), dtype=int32, numpy=1>, <tf.Tensor: shape=(), dtype=int32, numpy=1>, <tf.Tensor: shape=(), dtype=int32, numpy=1>, <tf.Tensor: shape=(), dtype=int32, numpy=1>, <tf.Tensor: shape=(), dtype=int32, numpy=1>, <tf.Tensor: shape=(), dtype=int32, numpy=0>, <tf.Tensor: shape=(), dtype=int32, numpy=0>, <tf.Tensor: shape=(), dtype=int32, numpy=0>, <tf.Tensor: shape=(), dtype=int32, numpy=1>, <tf.Tensor: shape=(), dtype=int32, numpy=1>, <tf.Tensor: shape=(), dtype=int32, numpy=0>, <tf.Tensor: shape=(), dtype=int32, numpy=1>, <tf.Tensor: shape=(), dtype=int32, numpy=1>, <tf.Tensor: shape=(), dtype=int32, numpy=0>, <tf.Tensor: shape=(), dtype=int32, numpy=1>, <tf.Tensor: shape=(), dtype=int32, numpy=0>, <tf.Tensor: shape=(), dtype=int32, numpy=1>, <tf.Tensor: shape=(), dtype=int32, numpy=1>, <tf.Tensor: shape=(), dtype=int32, numpy=1>, <tf.Tensor: shape=(), dtype=int32, numpy=1>, <tf.Tensor: shape=(), dtype=int32, numpy=1>, <tf.Tensor: shape=(), dtype=int32, numpy=0>, <tf.Tensor: shape=(), dtype=int32, numpy=1>, <tf.Tensor: shape=(), dtype=int32, numpy=0>, <tf.Tensor: shape=(), dtype=int32, numpy=1>, <tf.Tensor: shape=(), dtype=int32, numpy=1>, <tf.Tensor: shape=(), dtype=int32, numpy=0>, <tf.Tensor: shape=(), dtype=int32, numpy=0>, <tf.Tensor: shape=(), dtype=int32, numpy=0>, <tf.Tensor: shape=(), dtype=int32, numpy=0>, <tf.Tensor: shape=(), dtype=int32, numpy=1>, <tf.Tensor: shape=(), dtype=int32, numpy=0>, <tf.Tensor: shape=(), dtype=int32, numpy=0>, <tf.Tensor: shape=(), dtype=int32, numpy=1>, <tf.Tensor: shape=(), dtype=int32, numpy=0>, <tf.Tensor: shape=(), dtype=int32, numpy=1>, <tf.Tensor: shape=(), dtype=int32, numpy=0>, <tf.Tensor: shape=(), dtype=int32, numpy=1>, <tf.Tensor: shape=(), dtype=int32, numpy=1>, <tf.Tensor: shape=(), dtype=int32, numpy=1>, <tf.Tensor: shape=(), dtype=int32, numpy=1>, <tf.Tensor: shape=(), dtype=int32, numpy=1>, <tf.Tensor: shape=(), dtype=int32, numpy=0>, <tf.Tensor: shape=(), dtype=int32, numpy=1>, <tf.Tensor: shape=(), dtype=int32, numpy=0>, <tf.Tensor: shape=(), dtype=int32, numpy=1>, <tf.Tensor: shape=(), dtype=int32, numpy=0>, <tf.Tensor: shape=(), dtype=int32, numpy=1>, <tf.Tensor: shape=(), dtype=int32, numpy=1>, <tf.Tensor: shape=(), dtype=int32, numpy=0>, <tf.Tensor: shape=(), dtype=int32, numpy=1>, <tf.Tensor: shape=(), dtype=int32, numpy=1>, <tf.Tensor: shape=(), dtype=int32, numpy=0>, <tf.Tensor: shape=(), dtype=int32, numpy=1>, <tf.Tensor: shape=(), dtype=int32, numpy=0>, <tf.Tensor: shape=(), dtype=int32, numpy=1>, <tf.Tensor: shape=(), dtype=int32, numpy=0>, <tf.Tensor: shape=(), dtype=int32, numpy=0>, <tf.Tensor: shape=(), dtype=int32, numpy=1>, <tf.Tensor: shape=(), dtype=int32, numpy=0>, <tf.Tensor: shape=(), dtype=int32, numpy=0>, <tf.Tensor: shape=(), dtype=int32, numpy=0>, <tf.Tensor: shape=(), dtype=int32, numpy=0>, <tf.Tensor: shape=(), dtype=int32, numpy=1>, <tf.Tensor: shape=(), dtype=int32, numpy=0>, <tf.Tensor: shape=(), dtype=int32, numpy=1>, <tf.Tensor: shape=(), dtype=int32, numpy=1>, <tf.Tensor: shape=(), dtype=int32, numpy=1>, <tf.Tensor: shape=(), dtype=int32, numpy=0>, <tf.Tensor: shape=(), dtype=int32, numpy=0>, <tf.Tensor: shape=(), dtype=int32, numpy=0>, <tf.Tensor: shape=(), dtype=int32, numpy=0>, <tf.Tensor: shape=(), dtype=int32, numpy=1>, <tf.Tensor: shape=(), dtype=int32, numpy=1>, <tf.Tensor: shape=(), dtype=int32, numpy=1>, <tf.Tensor: shape=(), dtype=int32, numpy=1>, <tf.Tensor: shape=(), dtype=int32, numpy=1>, <tf.Tensor: shape=(), dtype=int32, numpy=0>, <tf.Tensor: shape=(), dtype=int32, numpy=0>, <tf.Tensor: shape=(), dtype=int32, numpy=0>, <tf.Tensor: shape=(), dtype=int32, numpy=0>, <tf.Tensor: shape=(), dtype=int32, numpy=0>, <tf.Tensor: shape=(), dtype=int32, numpy=1>, <tf.Tensor: shape=(), dtype=int32, numpy=1>, <tf.Tensor: shape=(), dtype=int32, numpy=0>, <tf.Tensor: shape=(), dtype=int32, numpy=1>, <tf.Tensor: shape=(), dtype=int32, numpy=0>, <tf.Tensor: shape=(), dtype=int32, numpy=0>, <tf.Tensor: shape=(), dtype=int32, numpy=1>, <tf.Tensor: shape=(), dtype=int32, numpy=1>, <tf.Tensor: shape=(), dtype=int32, numpy=0>, <tf.Tensor: shape=(), dtype=int32, numpy=0>, <tf.Tensor: shape=(), dtype=int32, numpy=0>, <tf.Tensor: shape=(), dtype=int32, numpy=1>, <tf.Tensor: shape=(), dtype=int32, numpy=1>, <tf.Tensor: shape=(), dtype=int32, numpy=0>, <tf.Tensor: shape=(), dtype=int32, numpy=1>, <tf.Tensor: shape=(), dtype=int32, numpy=1>, <tf.Tensor: shape=(), dtype=int32, numpy=0>, <tf.Tensor: shape=(), dtype=int32, numpy=0>, <tf.Tensor: shape=(), dtype=int32, numpy=1>, <tf.Tensor: shape=(), dtype=int32, numpy=1>, <tf.Tensor: shape=(), dtype=int32, numpy=0>, <tf.Tensor: shape=(), dtype=int32, numpy=1>, <tf.Tensor: shape=(), dtype=int32, numpy=1>, <tf.Tensor: shape=(), dtype=int32, numpy=1>, <tf.Tensor: shape=(), dtype=int32, numpy=1>, <tf.Tensor: shape=(), dtype=int32, numpy=0>, <tf.Tensor: shape=(), dtype=int32, numpy=1>, <tf.Tensor: shape=(), dtype=int32, numpy=0>, <tf.Tensor: shape=(), dtype=int32, numpy=0>, <tf.Tensor: shape=(), dtype=int32, numpy=0>, <tf.Tensor: shape=(), dtype=int32, numpy=0>, <tf.Tensor: shape=(), dtype=int32, numpy=1>, <tf.Tensor: shape=(), dtype=int32, numpy=0>, <tf.Tensor: shape=(), dtype=int32, numpy=1>, <tf.Tensor: shape=(), dtype=int32, numpy=0>, <tf.Tensor: shape=(), dtype=int32, numpy=1>, <tf.Tensor: shape=(), dtype=int32, numpy=1>, <tf.Tensor: shape=(), dtype=int32, numpy=1>, <tf.Tensor: shape=(), dtype=int32, numpy=1>, <tf.Tensor: shape=(), dtype=int32, numpy=1>, <tf.Tensor: shape=(), dtype=int32, numpy=1>, <tf.Tensor: shape=(), dtype=int32, numpy=1>, <tf.Tensor: shape=(), dtype=int32, numpy=1>, <tf.Tensor: shape=(), dtype=int32, numpy=1>, <tf.Tensor: shape=(), dtype=int32, numpy=1>, <tf.Tensor: shape=(), dtype=int32, numpy=1>, <tf.Tensor: shape=(), dtype=int32, numpy=1>, <tf.Tensor: shape=(), dtype=int32, numpy=1>, <tf.Tensor: shape=(), dtype=int32, numpy=0>, <tf.Tensor: shape=(), dtype=int32, numpy=1>, <tf.Tensor: shape=(), dtype=int32, numpy=1>, <tf.Tensor: shape=(), dtype=int32, numpy=1>, <tf.Tensor: shape=(), dtype=int32, numpy=1>, <tf.Tensor: shape=(), dtype=int32, numpy=1>, <tf.Tensor: shape=(), dtype=int32, numpy=1>, <tf.Tensor: shape=(), dtype=int32, numpy=0>, <tf.Tensor: shape=(), dtype=int32, numpy=1>, <tf.Tensor: shape=(), dtype=int32, numpy=1>, <tf.Tensor: shape=(), dtype=int32, numpy=1>, <tf.Tensor: shape=(), dtype=int32, numpy=0>, <tf.Tensor: shape=(), dtype=int32, numpy=1>, <tf.Tensor: shape=(), dtype=int32, numpy=1>, <tf.Tensor: shape=(), dtype=int32, numpy=1>, <tf.Tensor: shape=(), dtype=int32, numpy=0>, <tf.Tensor: shape=(), dtype=int32, numpy=1>, <tf.Tensor: shape=(), dtype=int32, numpy=0>, <tf.Tensor: shape=(), dtype=int32, numpy=1>, <tf.Tensor: shape=(), dtype=int32, numpy=0>, <tf.Tensor: shape=(), dtype=int32, numpy=0>, <tf.Tensor: shape=(), dtype=int32, numpy=1>, <tf.Tensor: shape=(), dtype=int32, numpy=1>, <tf.Tensor: shape=(), dtype=int32, numpy=1>, <tf.Tensor: shape=(), dtype=int32, numpy=0>, <tf.Tensor: shape=(), dtype=int32, numpy=0>, <tf.Tensor: shape=(), dtype=int32, numpy=0>, <tf.Tensor: shape=(), dtype=int32, numpy=0>, <tf.Tensor: shape=(), dtype=int32, numpy=0>, <tf.Tensor: shape=(), dtype=int32, numpy=1>, <tf.Tensor: shape=(), dtype=int32, numpy=0>, <tf.Tensor: shape=(), dtype=int32, numpy=0>, <tf.Tensor: shape=(), dtype=int32, numpy=1>, <tf.Tensor: shape=(), dtype=int32, numpy=0>, <tf.Tensor: shape=(), dtype=int32, numpy=0>, <tf.Tensor: shape=(), dtype=int32, numpy=1>, <tf.Tensor: shape=(), dtype=int32, numpy=0>, <tf.Tensor: shape=(), dtype=int32, numpy=1>, <tf.Tensor: shape=(), dtype=int32, numpy=0>, <tf.Tensor: shape=(), dtype=int32, numpy=0>, <tf.Tensor: shape=(), dtype=int32, numpy=0>, <tf.Tensor: shape=(), dtype=int32, numpy=0>, <tf.Tensor: shape=(), dtype=int32, numpy=0>, <tf.Tensor: shape=(), dtype=int32, numpy=0>, <tf.Tensor: shape=(), dtype=int32, numpy=0>, <tf.Tensor: shape=(), dtype=int32, numpy=1>, <tf.Tensor: shape=(), dtype=int32, numpy=0>, <tf.Tensor: shape=(), dtype=int32, numpy=1>, <tf.Tensor: shape=(), dtype=int32, numpy=0>, <tf.Tensor: shape=(), dtype=int32, numpy=1>, <tf.Tensor: shape=(), dtype=int32, numpy=1>, <tf.Tensor: shape=(), dtype=int32, numpy=0>, <tf.Tensor: shape=(), dtype=int32, numpy=0>, <tf.Tensor: shape=(), dtype=int32, numpy=1>, <tf.Tensor: shape=(), dtype=int32, numpy=1>, <tf.Tensor: shape=(), dtype=int32, numpy=1>, <tf.Tensor: shape=(), dtype=int32, numpy=0>, <tf.Tensor: shape=(), dtype=int32, numpy=1>, <tf.Tensor: shape=(), dtype=int32, numpy=1>, <tf.Tensor: shape=(), dtype=int32, numpy=1>, <tf.Tensor: shape=(), dtype=int32, numpy=0>, <tf.Tensor: shape=(), dtype=int32, numpy=1>, <tf.Tensor: shape=(), dtype=int32, numpy=1>, <tf.Tensor: shape=(), dtype=int32, numpy=1>, <tf.Tensor: shape=(), dtype=int32, numpy=1>, <tf.Tensor: shape=(), dtype=int32, numpy=0>, <tf.Tensor: shape=(), dtype=int32, numpy=1>, <tf.Tensor: shape=(), dtype=int32, numpy=0>, <tf.Tensor: shape=(), dtype=int32, numpy=1>, <tf.Tensor: shape=(), dtype=int32, numpy=0>, <tf.Tensor: shape=(), dtype=int32, numpy=0>, <tf.Tensor: shape=(), dtype=int32, numpy=0>, <tf.Tensor: shape=(), dtype=int32, numpy=1>, <tf.Tensor: shape=(), dtype=int32, numpy=1>, <tf.Tensor: shape=(), dtype=int32, numpy=1>, <tf.Tensor: shape=(), dtype=int32, numpy=0>, <tf.Tensor: shape=(), dtype=int32, numpy=1>, <tf.Tensor: shape=(), dtype=int32, numpy=1>, <tf.Tensor: shape=(), dtype=int32, numpy=1>, <tf.Tensor: shape=(), dtype=int32, numpy=1>, <tf.Tensor: shape=(), dtype=int32, numpy=1>, <tf.Tensor: shape=(), dtype=int32, numpy=1>, <tf.Tensor: shape=(), dtype=int32, numpy=1>, <tf.Tensor: shape=(), dtype=int32, numpy=1>, <tf.Tensor: shape=(), dtype=int32, numpy=0>, <tf.Tensor: shape=(), dtype=int32, numpy=1>, <tf.Tensor: shape=(), dtype=int32, numpy=1>, <tf.Tensor: shape=(), dtype=int32, numpy=1>, <tf.Tensor: shape=(), dtype=int32, numpy=0>, <tf.Tensor: shape=(), dtype=int32, numpy=0>, <tf.Tensor: shape=(), dtype=int32, numpy=0>, <tf.Tensor: shape=(), dtype=int32, numpy=1>, <tf.Tensor: shape=(), dtype=int32, numpy=1>, <tf.Tensor: shape=(), dtype=int32, numpy=0>, <tf.Tensor: shape=(), dtype=int32, numpy=0>, <tf.Tensor: shape=(), dtype=int32, numpy=1>, <tf.Tensor: shape=(), dtype=int32, numpy=0>, <tf.Tensor: shape=(), dtype=int32, numpy=0>, <tf.Tensor: shape=(), dtype=int32, numpy=0>, <tf.Tensor: shape=(), dtype=int32, numpy=1>, <tf.Tensor: shape=(), dtype=int32, numpy=0>, <tf.Tensor: shape=(), dtype=int32, numpy=1>, <tf.Tensor: shape=(), dtype=int32, numpy=1>, <tf.Tensor: shape=(), dtype=int32, numpy=1>, <tf.Tensor: shape=(), dtype=int32, numpy=0>, <tf.Tensor: shape=(), dtype=int32, numpy=1>, <tf.Tensor: shape=(), dtype=int32, numpy=1>, <tf.Tensor: shape=(), dtype=int32, numpy=0>, <tf.Tensor: shape=(), dtype=int32, numpy=1>, <tf.Tensor: shape=(), dtype=int32, numpy=0>, <tf.Tensor: shape=(), dtype=int32, numpy=1>, <tf.Tensor: shape=(), dtype=int32, numpy=1>, <tf.Tensor: shape=(), dtype=int32, numpy=0>, <tf.Tensor: shape=(), dtype=int32, numpy=1>, <tf.Tensor: shape=(), dtype=int32, numpy=1>, <tf.Tensor: shape=(), dtype=int32, numpy=0>, <tf.Tensor: shape=(), dtype=int32, numpy=0>, <tf.Tensor: shape=(), dtype=int32, numpy=1>, <tf.Tensor: shape=(), dtype=int32, numpy=1>, <tf.Tensor: shape=(), dtype=int32, numpy=0>, <tf.Tensor: shape=(), dtype=int32, numpy=1>, <tf.Tensor: shape=(), dtype=int32, numpy=0>, <tf.Tensor: shape=(), dtype=int32, numpy=1>, <tf.Tensor: shape=(), dtype=int32, numpy=0>, <tf.Tensor: shape=(), dtype=int32, numpy=0>, <tf.Tensor: shape=(), dtype=int32, numpy=1>, <tf.Tensor: shape=(), dtype=int32, numpy=1>, <tf.Tensor: shape=(), dtype=int32, numpy=0>, <tf.Tensor: shape=(), dtype=int32, numpy=0>, <tf.Tensor: shape=(), dtype=int32, numpy=0>, <tf.Tensor: shape=(), dtype=int32, numpy=0>, <tf.Tensor: shape=(), dtype=int32, numpy=1>, <tf.Tensor: shape=(), dtype=int32, numpy=1>, <tf.Tensor: shape=(), dtype=int32, numpy=0>, <tf.Tensor: shape=(), dtype=int32, numpy=0>, <tf.Tensor: shape=(), dtype=int32, numpy=0>, <tf.Tensor: shape=(), dtype=int32, numpy=1>, <tf.Tensor: shape=(), dtype=int32, numpy=0>, <tf.Tensor: shape=(), dtype=int32, numpy=0>, <tf.Tensor: shape=(), dtype=int32, numpy=0>, <tf.Tensor: shape=(), dtype=int32, numpy=0>, <tf.Tensor: shape=(), dtype=int32, numpy=1>, <tf.Tensor: shape=(), dtype=int32, numpy=0>, <tf.Tensor: shape=(), dtype=int32, numpy=1>, <tf.Tensor: shape=(), dtype=int32, numpy=1>, <tf.Tensor: shape=(), dtype=int32, numpy=0>, <tf.Tensor: shape=(), dtype=int32, numpy=0>, <tf.Tensor: shape=(), dtype=int32, numpy=1>, <tf.Tensor: shape=(), dtype=int32, numpy=0>, <tf.Tensor: shape=(), dtype=int32, numpy=0>, <tf.Tensor: shape=(), dtype=int32, numpy=0>, <tf.Tensor: shape=(), dtype=int32, numpy=1>, <tf.Tensor: shape=(), dtype=int32, numpy=0>, <tf.Tensor: shape=(), dtype=int32, numpy=0>, <tf.Tensor: shape=(), dtype=int32, numpy=1>, <tf.Tensor: shape=(), dtype=int32, numpy=1>, <tf.Tensor: shape=(), dtype=int32, numpy=0>, <tf.Tensor: shape=(), dtype=int32, numpy=1>, <tf.Tensor: shape=(), dtype=int32, numpy=1>, <tf.Tensor: shape=(), dtype=int32, numpy=0>, <tf.Tensor: shape=(), dtype=int32, numpy=0>, <tf.Tensor: shape=(), dtype=int32, numpy=1>, <tf.Tensor: shape=(), dtype=int32, numpy=0>, <tf.Tensor: shape=(), dtype=int32, numpy=1>, <tf.Tensor: shape=(), dtype=int32, numpy=0>, <tf.Tensor: shape=(), dtype=int32, numpy=1>, <tf.Tensor: shape=(), dtype=int32, numpy=1>, <tf.Tensor: shape=(), dtype=int32, numpy=1>, <tf.Tensor: shape=(), dtype=int32, numpy=1>, <tf.Tensor: shape=(), dtype=int32, numpy=0>, <tf.Tensor: shape=(), dtype=int32, numpy=1>, <tf.Tensor: shape=(), dtype=int32, numpy=0>, <tf.Tensor: shape=(), dtype=int32, numpy=0>, <tf.Tensor: shape=(), dtype=int32, numpy=1>, <tf.Tensor: shape=(), dtype=int32, numpy=1>, <tf.Tensor: shape=(), dtype=int32, numpy=0>, <tf.Tensor: shape=(), dtype=int32, numpy=0>, <tf.Tensor: shape=(), dtype=int32, numpy=1>, <tf.Tensor: shape=(), dtype=int32, numpy=0>, <tf.Tensor: shape=(), dtype=int32, numpy=1>, <tf.Tensor: shape=(), dtype=int32, numpy=0>, <tf.Tensor: shape=(), dtype=int32, numpy=0>, <tf.Tensor: shape=(), dtype=int32, numpy=0>, <tf.Tensor: shape=(), dtype=int32, numpy=0>, <tf.Tensor: shape=(), dtype=int32, numpy=1>, <tf.Tensor: shape=(), dtype=int32, numpy=1>, <tf.Tensor: shape=(), dtype=int32, numpy=1>, <tf.Tensor: shape=(), dtype=int32, numpy=1>, <tf.Tensor: shape=(), dtype=int32, numpy=0>, <tf.Tensor: shape=(), dtype=int32, numpy=1>, <tf.Tensor: shape=(), dtype=int32, numpy=0>, <tf.Tensor: shape=(), dtype=int32, numpy=0>, <tf.Tensor: shape=(), dtype=int32, numpy=0>, <tf.Tensor: shape=(), dtype=int32, numpy=0>, <tf.Tensor: shape=(), dtype=int32, numpy=0>, <tf.Tensor: shape=(), dtype=int32, numpy=0>, <tf.Tensor: shape=(), dtype=int32, numpy=1>, <tf.Tensor: shape=(), dtype=int32, numpy=1>, <tf.Tensor: shape=(), dtype=int32, numpy=0>, <tf.Tensor: shape=(), dtype=int32, numpy=1>, <tf.Tensor: shape=(), dtype=int32, numpy=1>, <tf.Tensor: shape=(), dtype=int32, numpy=1>, <tf.Tensor: shape=(), dtype=int32, numpy=0>, <tf.Tensor: shape=(), dtype=int32, numpy=0>, <tf.Tensor: shape=(), dtype=int32, numpy=1>, <tf.Tensor: shape=(), dtype=int32, numpy=1>, <tf.Tensor: shape=(), dtype=int32, numpy=1>, <tf.Tensor: shape=(), dtype=int32, numpy=0>, <tf.Tensor: shape=(), dtype=int32, numpy=0>, <tf.Tensor: shape=(), dtype=int32, numpy=1>, <tf.Tensor: shape=(), dtype=int32, numpy=1>, <tf.Tensor: shape=(), dtype=int32, numpy=0>, <tf.Tensor: shape=(), dtype=int32, numpy=1>, <tf.Tensor: shape=(), dtype=int32, numpy=1>, <tf.Tensor: shape=(), dtype=int32, numpy=0>, <tf.Tensor: shape=(), dtype=int32, numpy=0>, <tf.Tensor: shape=(), dtype=int32, numpy=1>, <tf.Tensor: shape=(), dtype=int32, numpy=0>, <tf.Tensor: shape=(), dtype=int32, numpy=0>, <tf.Tensor: shape=(), dtype=int32, numpy=1>, <tf.Tensor: shape=(), dtype=int32, numpy=0>, <tf.Tensor: shape=(), dtype=int32, numpy=0>, <tf.Tensor: shape=(), dtype=int32, numpy=0>, <tf.Tensor: shape=(), dtype=int32, numpy=1>, <tf.Tensor: shape=(), dtype=int32, numpy=1>, <tf.Tensor: shape=(), dtype=int32, numpy=1>, <tf.Tensor: shape=(), dtype=int32, numpy=0>, <tf.Tensor: shape=(), dtype=int32, numpy=0>, <tf.Tensor: shape=(), dtype=int32, numpy=0>, <tf.Tensor: shape=(), dtype=int32, numpy=1>, <tf.Tensor: shape=(), dtype=int32, numpy=1>, <tf.Tensor: shape=(), dtype=int32, numpy=0>, <tf.Tensor: shape=(), dtype=int32, numpy=1>, <tf.Tensor: shape=(), dtype=int32, numpy=1>, <tf.Tensor: shape=(), dtype=int32, numpy=0>, <tf.Tensor: shape=(), dtype=int32, numpy=0>, <tf.Tensor: shape=(), dtype=int32, numpy=0>, <tf.Tensor: shape=(), dtype=int32, numpy=0>, <tf.Tensor: shape=(), dtype=int32, numpy=0>, <tf.Tensor: shape=(), dtype=int32, numpy=1>, <tf.Tensor: shape=(), dtype=int32, numpy=1>, <tf.Tensor: shape=(), dtype=int32, numpy=1>, <tf.Tensor: shape=(), dtype=int32, numpy=1>, <tf.Tensor: shape=(), dtype=int32, numpy=1>, <tf.Tensor: shape=(), dtype=int32, numpy=1>, <tf.Tensor: shape=(), dtype=int32, numpy=0>, <tf.Tensor: shape=(), dtype=int32, numpy=1>, <tf.Tensor: shape=(), dtype=int32, numpy=1>, <tf.Tensor: shape=(), dtype=int32, numpy=1>, <tf.Tensor: shape=(), dtype=int32, numpy=0>, <tf.Tensor: shape=(), dtype=int32, numpy=0>, <tf.Tensor: shape=(), dtype=int32, numpy=1>, <tf.Tensor: shape=(), dtype=int32, numpy=1>, <tf.Tensor: shape=(), dtype=int32, numpy=1>, <tf.Tensor: shape=(), dtype=int32, numpy=1>, <tf.Tensor: shape=(), dtype=int32, numpy=0>, <tf.Tensor: shape=(), dtype=int32, numpy=0>, <tf.Tensor: shape=(), dtype=int32, numpy=1>, <tf.Tensor: shape=(), dtype=int32, numpy=1>, <tf.Tensor: shape=(), dtype=int32, numpy=0>, <tf.Tensor: shape=(), dtype=int32, numpy=0>, <tf.Tensor: shape=(), dtype=int32, numpy=1>, <tf.Tensor: shape=(), dtype=int32, numpy=0>, <tf.Tensor: shape=(), dtype=int32, numpy=0>, <tf.Tensor: shape=(), dtype=int32, numpy=1>, <tf.Tensor: shape=(), dtype=int32, numpy=1>, <tf.Tensor: shape=(), dtype=int32, numpy=1>, <tf.Tensor: shape=(), dtype=int32, numpy=1>, <tf.Tensor: shape=(), dtype=int32, numpy=1>, <tf.Tensor: shape=(), dtype=int32, numpy=1>, <tf.Tensor: shape=(), dtype=int32, numpy=0>, <tf.Tensor: shape=(), dtype=int32, numpy=0>, <tf.Tensor: shape=(), dtype=int32, numpy=1>, <tf.Tensor: shape=(), dtype=int32, numpy=0>, <tf.Tensor: shape=(), dtype=int32, numpy=1>, <tf.Tensor: shape=(), dtype=int32, numpy=1>, <tf.Tensor: shape=(), dtype=int32, numpy=0>, <tf.Tensor: shape=(), dtype=int32, numpy=0>, <tf.Tensor: shape=(), dtype=int32, numpy=1>, <tf.Tensor: shape=(), dtype=int32, numpy=1>, <tf.Tensor: shape=(), dtype=int32, numpy=1>, <tf.Tensor: shape=(), dtype=int32, numpy=0>, <tf.Tensor: shape=(), dtype=int32, numpy=1>, <tf.Tensor: shape=(), dtype=int32, numpy=1>, <tf.Tensor: shape=(), dtype=int32, numpy=0>, <tf.Tensor: shape=(), dtype=int32, numpy=0>, <tf.Tensor: shape=(), dtype=int32, numpy=1>, <tf.Tensor: shape=(), dtype=int32, numpy=1>, <tf.Tensor: shape=(), dtype=int32, numpy=1>, <tf.Tensor: shape=(), dtype=int32, numpy=1>, <tf.Tensor: shape=(), dtype=int32, numpy=0>, <tf.Tensor: shape=(), dtype=int32, numpy=0>, <tf.Tensor: shape=(), dtype=int32, numpy=0>, <tf.Tensor: shape=(), dtype=int32, numpy=0>, <tf.Tensor: shape=(), dtype=int32, numpy=0>, <tf.Tensor: shape=(), dtype=int32, numpy=0>, <tf.Tensor: shape=(), dtype=int32, numpy=1>, <tf.Tensor: shape=(), dtype=int32, numpy=0>, <tf.Tensor: shape=(), dtype=int32, numpy=1>, <tf.Tensor: shape=(), dtype=int32, numpy=0>, <tf.Tensor: shape=(), dtype=int32, numpy=0>, <tf.Tensor: shape=(), dtype=int32, numpy=0>, <tf.Tensor: shape=(), dtype=int32, numpy=1>, <tf.Tensor: shape=(), dtype=int32, numpy=0>, <tf.Tensor: shape=(), dtype=int32, numpy=0>, <tf.Tensor: shape=(), dtype=int32, numpy=1>, <tf.Tensor: shape=(), dtype=int32, numpy=1>, <tf.Tensor: shape=(), dtype=int32, numpy=1>, <tf.Tensor: shape=(), dtype=int32, numpy=0>, <tf.Tensor: shape=(), dtype=int32, numpy=1>, <tf.Tensor: shape=(), dtype=int32, numpy=0>, <tf.Tensor: shape=(), dtype=int32, numpy=0>, <tf.Tensor: shape=(), dtype=int32, numpy=0>, <tf.Tensor: shape=(), dtype=int32, numpy=1>, <tf.Tensor: shape=(), dtype=int32, numpy=1>, <tf.Tensor: shape=(), dtype=int32, numpy=0>, <tf.Tensor: shape=(), dtype=int32, numpy=1>, <tf.Tensor: shape=(), dtype=int32, numpy=1>, <tf.Tensor: shape=(), dtype=int32, numpy=1>, <tf.Tensor: shape=(), dtype=int32, numpy=0>, <tf.Tensor: shape=(), dtype=int32, numpy=1>, <tf.Tensor: shape=(), dtype=int32, numpy=0>, <tf.Tensor: shape=(), dtype=int32, numpy=1>, <tf.Tensor: shape=(), dtype=int32, numpy=1>, <tf.Tensor: shape=(), dtype=int32, numpy=0>, <tf.Tensor: shape=(), dtype=int32, numpy=1>, <tf.Tensor: shape=(), dtype=int32, numpy=0>, <tf.Tensor: shape=(), dtype=int32, numpy=0>, <tf.Tensor: shape=(), dtype=int32, numpy=1>, <tf.Tensor: shape=(), dtype=int32, numpy=1>, <tf.Tensor: shape=(), dtype=int32, numpy=0>, <tf.Tensor: shape=(), dtype=int32, numpy=1>, <tf.Tensor: shape=(), dtype=int32, numpy=0>, <tf.Tensor: shape=(), dtype=int32, numpy=1>, <tf.Tensor: shape=(), dtype=int32, numpy=1>, <tf.Tensor: shape=(), dtype=int32, numpy=0>, <tf.Tensor: shape=(), dtype=int32, numpy=1>, <tf.Tensor: shape=(), dtype=int32, numpy=0>, <tf.Tensor: shape=(), dtype=int32, numpy=1>, <tf.Tensor: shape=(), dtype=int32, numpy=0>, <tf.Tensor: shape=(), dtype=int32, numpy=1>, <tf.Tensor: shape=(), dtype=int32, numpy=1>, <tf.Tensor: shape=(), dtype=int32, numpy=1>, <tf.Tensor: shape=(), dtype=int32, numpy=1>, <tf.Tensor: shape=(), dtype=int32, numpy=1>, <tf.Tensor: shape=(), dtype=int32, numpy=0>, <tf.Tensor: shape=(), dtype=int32, numpy=0>, <tf.Tensor: shape=(), dtype=int32, numpy=1>, <tf.Tensor: shape=(), dtype=int32, numpy=0>, <tf.Tensor: shape=(), dtype=int32, numpy=1>, <tf.Tensor: shape=(), dtype=int32, numpy=1>, <tf.Tensor: shape=(), dtype=int32, numpy=1>, <tf.Tensor: shape=(), dtype=int32, numpy=1>, <tf.Tensor: shape=(), dtype=int32, numpy=0>, <tf.Tensor: shape=(), dtype=int32, numpy=1>, <tf.Tensor: shape=(), dtype=int32, numpy=1>, <tf.Tensor: shape=(), dtype=int32, numpy=1>, <tf.Tensor: shape=(), dtype=int32, numpy=0>, <tf.Tensor: shape=(), dtype=int32, numpy=1>, <tf.Tensor: shape=(), dtype=int32, numpy=1>, <tf.Tensor: shape=(), dtype=int32, numpy=1>, <tf.Tensor: shape=(), dtype=int32, numpy=0>, <tf.Tensor: shape=(), dtype=int32, numpy=0>, <tf.Tensor: shape=(), dtype=int32, numpy=1>, <tf.Tensor: shape=(), dtype=int32, numpy=1>, <tf.Tensor: shape=(), dtype=int32, numpy=0>, <tf.Tensor: shape=(), dtype=int32, numpy=1>, <tf.Tensor: shape=(), dtype=int32, numpy=0>, <tf.Tensor: shape=(), dtype=int32, numpy=1>, <tf.Tensor: shape=(), dtype=int32, numpy=0>, <tf.Tensor: shape=(), dtype=int32, numpy=1>, <tf.Tensor: shape=(), dtype=int32, numpy=0>, <tf.Tensor: shape=(), dtype=int32, numpy=1>, <tf.Tensor: shape=(), dtype=int32, numpy=0>, <tf.Tensor: shape=(), dtype=int32, numpy=1>, <tf.Tensor: shape=(), dtype=int32, numpy=1>, <tf.Tensor: shape=(), dtype=int32, numpy=0>, <tf.Tensor: shape=(), dtype=int32, numpy=0>, <tf.Tensor: shape=(), dtype=int32, numpy=0>, <tf.Tensor: shape=(), dtype=int32, numpy=1>, <tf.Tensor: shape=(), dtype=int32, numpy=1>, <tf.Tensor: shape=(), dtype=int32, numpy=1>, <tf.Tensor: shape=(), dtype=int32, numpy=1>, <tf.Tensor: shape=(), dtype=int32, numpy=1>, <tf.Tensor: shape=(), dtype=int32, numpy=1>, <tf.Tensor: shape=(), dtype=int32, numpy=1>, <tf.Tensor: shape=(), dtype=int32, numpy=0>, <tf.Tensor: shape=(), dtype=int32, numpy=0>, <tf.Tensor: shape=(), dtype=int32, numpy=1>, <tf.Tensor: shape=(), dtype=int32, numpy=1>, <tf.Tensor: shape=(), dtype=int32, numpy=0>, <tf.Tensor: shape=(), dtype=int32, numpy=0>, <tf.Tensor: shape=(), dtype=int32, numpy=1>, <tf.Tensor: shape=(), dtype=int32, numpy=1>, <tf.Tensor: shape=(), dtype=int32, numpy=1>, <tf.Tensor: shape=(), dtype=int32, numpy=0>, <tf.Tensor: shape=(), dtype=int32, numpy=0>, <tf.Tensor: shape=(), dtype=int32, numpy=1>, <tf.Tensor: shape=(), dtype=int32, numpy=0>, <tf.Tensor: shape=(), dtype=int32, numpy=0>, <tf.Tensor: shape=(), dtype=int32, numpy=1>, <tf.Tensor: shape=(), dtype=int32, numpy=1>, <tf.Tensor: shape=(), dtype=int32, numpy=0>, <tf.Tensor: shape=(), dtype=int32, numpy=0>, <tf.Tensor: shape=(), dtype=int32, numpy=1>, <tf.Tensor: shape=(), dtype=int32, numpy=1>, <tf.Tensor: shape=(), dtype=int32, numpy=0>, <tf.Tensor: shape=(), dtype=int32, numpy=1>, <tf.Tensor: shape=(), dtype=int32, numpy=0>, <tf.Tensor: shape=(), dtype=int32, numpy=1>, <tf.Tensor: shape=(), dtype=int32, numpy=0>, <tf.Tensor: shape=(), dtype=int32, numpy=1>, <tf.Tensor: shape=(), dtype=int32, numpy=1>, <tf.Tensor: shape=(), dtype=int32, numpy=1>, <tf.Tensor: shape=(), dtype=int32, numpy=1>, <tf.Tensor: shape=(), dtype=int32, numpy=0>, <tf.Tensor: shape=(), dtype=int32, numpy=1>, <tf.Tensor: shape=(), dtype=int32, numpy=0>, <tf.Tensor: shape=(), dtype=int32, numpy=0>, <tf.Tensor: shape=(), dtype=int32, numpy=1>, <tf.Tensor: shape=(), dtype=int32, numpy=1>, <tf.Tensor: shape=(), dtype=int32, numpy=1>, <tf.Tensor: shape=(), dtype=int32, numpy=0>, <tf.Tensor: shape=(), dtype=int32, numpy=1>, <tf.Tensor: shape=(), dtype=int32, numpy=1>, <tf.Tensor: shape=(), dtype=int32, numpy=1>, <tf.Tensor: shape=(), dtype=int32, numpy=0>, <tf.Tensor: shape=(), dtype=int32, numpy=1>, <tf.Tensor: shape=(), dtype=int32, numpy=1>, <tf.Tensor: shape=(), dtype=int32, numpy=0>, <tf.Tensor: shape=(), dtype=int32, numpy=1>, <tf.Tensor: shape=(), dtype=int32, numpy=0>, <tf.Tensor: shape=(), dtype=int32, numpy=0>, <tf.Tensor: shape=(), dtype=int32, numpy=0>, <tf.Tensor: shape=(), dtype=int32, numpy=0>, <tf.Tensor: shape=(), dtype=int32, numpy=1>, <tf.Tensor: shape=(), dtype=int32, numpy=1>, <tf.Tensor: shape=(), dtype=int32, numpy=0>, <tf.Tensor: shape=(), dtype=int32, numpy=0>, <tf.Tensor: shape=(), dtype=int32, numpy=0>, <tf.Tensor: shape=(), dtype=int32, numpy=1>, <tf.Tensor: shape=(), dtype=int32, numpy=0>, <tf.Tensor: shape=(), dtype=int32, numpy=0>, <tf.Tensor: shape=(), dtype=int32, numpy=0>, <tf.Tensor: shape=(), dtype=int32, numpy=1>, <tf.Tensor: shape=(), dtype=int32, numpy=1>, <tf.Tensor: shape=(), dtype=int32, numpy=0>, <tf.Tensor: shape=(), dtype=int32, numpy=1>, <tf.Tensor: shape=(), dtype=int32, numpy=1>, <tf.Tensor: shape=(), dtype=int32, numpy=1>, <tf.Tensor: shape=(), dtype=int32, numpy=1>, <tf.Tensor: shape=(), dtype=int32, numpy=0>, <tf.Tensor: shape=(), dtype=int32, numpy=0>, <tf.Tensor: shape=(), dtype=int32, numpy=1>, <tf.Tensor: shape=(), dtype=int32, numpy=0>, <tf.Tensor: shape=(), dtype=int32, numpy=0>, <tf.Tensor: shape=(), dtype=int32, numpy=1>, <tf.Tensor: shape=(), dtype=int32, numpy=1>, <tf.Tensor: shape=(), dtype=int32, numpy=1>, <tf.Tensor: shape=(), dtype=int32, numpy=0>, <tf.Tensor: shape=(), dtype=int32, numpy=1>, <tf.Tensor: shape=(), dtype=int32, numpy=0>, <tf.Tensor: shape=(), dtype=int32, numpy=1>, <tf.Tensor: shape=(), dtype=int32, numpy=1>, <tf.Tensor: shape=(), dtype=int32, numpy=0>, <tf.Tensor: shape=(), dtype=int32, numpy=1>, <tf.Tensor: shape=(), dtype=int32, numpy=1>, <tf.Tensor: shape=(), dtype=int32, numpy=0>, <tf.Tensor: shape=(), dtype=int32, numpy=1>, <tf.Tensor: shape=(), dtype=int32, numpy=1>, <tf.Tensor: shape=(), dtype=int32, numpy=1>, <tf.Tensor: shape=(), dtype=int32, numpy=1>, <tf.Tensor: shape=(), dtype=int32, numpy=0>, <tf.Tensor: shape=(), dtype=int32, numpy=0>, <tf.Tensor: shape=(), dtype=int32, numpy=0>, <tf.Tensor: shape=(), dtype=int32, numpy=0>, <tf.Tensor: shape=(), dtype=int32, numpy=1>, <tf.Tensor: shape=(), dtype=int32, numpy=1>, <tf.Tensor: shape=(), dtype=int32, numpy=0>, <tf.Tensor: shape=(), dtype=int32, numpy=1>, <tf.Tensor: shape=(), dtype=int32, numpy=0>, <tf.Tensor: shape=(), dtype=int32, numpy=1>, <tf.Tensor: shape=(), dtype=int32, numpy=0>, <tf.Tensor: shape=(), dtype=int32, numpy=0>, <tf.Tensor: shape=(), dtype=int32, numpy=0>, <tf.Tensor: shape=(), dtype=int32, numpy=1>, <tf.Tensor: shape=(), dtype=int32, numpy=1>, <tf.Tensor: shape=(), dtype=int32, numpy=0>, <tf.Tensor: shape=(), dtype=int32, numpy=1>, <tf.Tensor: shape=(), dtype=int32, numpy=0>, <tf.Tensor: shape=(), dtype=int32, numpy=1>, <tf.Tensor: shape=(), dtype=int32, numpy=1>, <tf.Tensor: shape=(), dtype=int32, numpy=1>, <tf.Tensor: shape=(), dtype=int32, numpy=1>, <tf.Tensor: shape=(), dtype=int32, numpy=1>, <tf.Tensor: shape=(), dtype=int32, numpy=1>, <tf.Tensor: shape=(), dtype=int32, numpy=1>, <tf.Tensor: shape=(), dtype=int32, numpy=0>, <tf.Tensor: shape=(), dtype=int32, numpy=0>, <tf.Tensor: shape=(), dtype=int32, numpy=0>, <tf.Tensor: shape=(), dtype=int32, numpy=1>, <tf.Tensor: shape=(), dtype=int32, numpy=1>, <tf.Tensor: shape=(), dtype=int32, numpy=0>, <tf.Tensor: shape=(), dtype=int32, numpy=1>, <tf.Tensor: shape=(), dtype=int32, numpy=0>, <tf.Tensor: shape=(), dtype=int32, numpy=0>, <tf.Tensor: shape=(), dtype=int32, numpy=0>, <tf.Tensor: shape=(), dtype=int32, numpy=0>, <tf.Tensor: shape=(), dtype=int32, numpy=1>, <tf.Tensor: shape=(), dtype=int32, numpy=1>, <tf.Tensor: shape=(), dtype=int32, numpy=0>, <tf.Tensor: shape=(), dtype=int32, numpy=1>, <tf.Tensor: shape=(), dtype=int32, numpy=0>, <tf.Tensor: shape=(), dtype=int32, numpy=0>, <tf.Tensor: shape=(), dtype=int32, numpy=1>, <tf.Tensor: shape=(), dtype=int32, numpy=0>, <tf.Tensor: shape=(), dtype=int32, numpy=1>, <tf.Tensor: shape=(), dtype=int32, numpy=1>, <tf.Tensor: shape=(), dtype=int32, numpy=1>, <tf.Tensor: shape=(), dtype=int32, numpy=1>, <tf.Tensor: shape=(), dtype=int32, numpy=0>, <tf.Tensor: shape=(), dtype=int32, numpy=0>, <tf.Tensor: shape=(), dtype=int32, numpy=0>, <tf.Tensor: shape=(), dtype=int32, numpy=0>, <tf.Tensor: shape=(), dtype=int32, numpy=0>, <tf.Tensor: shape=(), dtype=int32, numpy=0>, <tf.Tensor: shape=(), dtype=int32, numpy=0>, <tf.Tensor: shape=(), dtype=int32, numpy=1>, <tf.Tensor: shape=(), dtype=int32, numpy=1>, <tf.Tensor: shape=(), dtype=int32, numpy=1>, <tf.Tensor: shape=(), dtype=int32, numpy=0>, <tf.Tensor: shape=(), dtype=int32, numpy=1>, <tf.Tensor: shape=(), dtype=int32, numpy=0>, <tf.Tensor: shape=(), dtype=int32, numpy=1>, <tf.Tensor: shape=(), dtype=int32, numpy=1>, <tf.Tensor: shape=(), dtype=int32, numpy=0>, <tf.Tensor: shape=(), dtype=int32, numpy=1>, <tf.Tensor: shape=(), dtype=int32, numpy=1>, <tf.Tensor: shape=(), dtype=int32, numpy=0>, <tf.Tensor: shape=(), dtype=int32, numpy=0>, <tf.Tensor: shape=(), dtype=int32, numpy=0>, <tf.Tensor: shape=(), dtype=int32, numpy=1>, <tf.Tensor: shape=(), dtype=int32, numpy=1>, <tf.Tensor: shape=(), dtype=int32, numpy=1>, <tf.Tensor: shape=(), dtype=int32, numpy=0>, <tf.Tensor: shape=(), dtype=int32, numpy=1>, <tf.Tensor: shape=(), dtype=int32, numpy=1>, <tf.Tensor: shape=(), dtype=int32, numpy=1>, <tf.Tensor: shape=(), dtype=int32, numpy=0>, <tf.Tensor: shape=(), dtype=int32, numpy=0>, <tf.Tensor: shape=(), dtype=int32, numpy=1>, <tf.Tensor: shape=(), dtype=int32, numpy=1>, <tf.Tensor: shape=(), dtype=int32, numpy=1>, <tf.Tensor: shape=(), dtype=int32, numpy=0>, <tf.Tensor: shape=(), dtype=int32, numpy=1>, <tf.Tensor: shape=(), dtype=int32, numpy=1>, <tf.Tensor: shape=(), dtype=int32, numpy=0>, <tf.Tensor: shape=(), dtype=int32, numpy=1>, <tf.Tensor: shape=(), dtype=int32, numpy=1>, <tf.Tensor: shape=(), dtype=int32, numpy=0>, <tf.Tensor: shape=(), dtype=int32, numpy=0>, <tf.Tensor: shape=(), dtype=int32, numpy=0>, <tf.Tensor: shape=(), dtype=int32, numpy=1>, <tf.Tensor: shape=(), dtype=int32, numpy=1>, <tf.Tensor: shape=(), dtype=int32, numpy=1>, <tf.Tensor: shape=(), dtype=int32, numpy=0>, <tf.Tensor: shape=(), dtype=int32, numpy=0>, <tf.Tensor: shape=(), dtype=int32, numpy=0>, <tf.Tensor: shape=(), dtype=int32, numpy=0>, <tf.Tensor: shape=(), dtype=int32, numpy=1>, <tf.Tensor: shape=(), dtype=int32, numpy=1>, <tf.Tensor: shape=(), dtype=int32, numpy=0>, <tf.Tensor: shape=(), dtype=int32, numpy=0>, <tf.Tensor: shape=(), dtype=int32, numpy=0>, <tf.Tensor: shape=(), dtype=int32, numpy=0>, <tf.Tensor: shape=(), dtype=int32, numpy=1>, <tf.Tensor: shape=(), dtype=int32, numpy=1>, <tf.Tensor: shape=(), dtype=int32, numpy=0>, <tf.Tensor: shape=(), dtype=int32, numpy=1>, <tf.Tensor: shape=(), dtype=int32, numpy=0>, <tf.Tensor: shape=(), dtype=int32, numpy=0>, <tf.Tensor: shape=(), dtype=int32, numpy=0>, <tf.Tensor: shape=(), dtype=int32, numpy=0>, <tf.Tensor: shape=(), dtype=int32, numpy=1>, <tf.Tensor: shape=(), dtype=int32, numpy=1>, <tf.Tensor: shape=(), dtype=int32, numpy=1>, <tf.Tensor: shape=(), dtype=int32, numpy=1>, <tf.Tensor: shape=(), dtype=int32, numpy=0>, <tf.Tensor: shape=(), dtype=int32, numpy=0>, <tf.Tensor: shape=(), dtype=int32, numpy=1>, <tf.Tensor: shape=(), dtype=int32, numpy=1>, <tf.Tensor: shape=(), dtype=int32, numpy=0>, <tf.Tensor: shape=(), dtype=int32, numpy=0>, <tf.Tensor: shape=(), dtype=int32, numpy=0>, <tf.Tensor: shape=(), dtype=int32, numpy=1>, <tf.Tensor: shape=(), dtype=int32, numpy=1>, <tf.Tensor: shape=(), dtype=int32, numpy=0>, <tf.Tensor: shape=(), dtype=int32, numpy=0>, <tf.Tensor: shape=(), dtype=int32, numpy=1>, <tf.Tensor: shape=(), dtype=int32, numpy=1>, <tf.Tensor: shape=(), dtype=int32, numpy=1>, <tf.Tensor: shape=(), dtype=int32, numpy=0>, <tf.Tensor: shape=(), dtype=int32, numpy=1>, <tf.Tensor: shape=(), dtype=int32, numpy=0>, <tf.Tensor: shape=(), dtype=int32, numpy=1>, <tf.Tensor: shape=(), dtype=int32, numpy=0>, <tf.Tensor: shape=(), dtype=int32, numpy=0>, <tf.Tensor: shape=(), dtype=int32, numpy=0>, <tf.Tensor: shape=(), dtype=int32, numpy=1>, <tf.Tensor: shape=(), dtype=int32, numpy=0>, <tf.Tensor: shape=(), dtype=int32, numpy=1>, <tf.Tensor: shape=(), dtype=int32, numpy=0>, <tf.Tensor: shape=(), dtype=int32, numpy=1>, <tf.Tensor: shape=(), dtype=int32, numpy=1>, <tf.Tensor: shape=(), dtype=int32, numpy=1>, <tf.Tensor: shape=(), dtype=int32, numpy=1>, <tf.Tensor: shape=(), dtype=int32, numpy=0>, <tf.Tensor: shape=(), dtype=int32, numpy=0>, <tf.Tensor: shape=(), dtype=int32, numpy=0>, <tf.Tensor: shape=(), dtype=int32, numpy=1>, <tf.Tensor: shape=(), dtype=int32, numpy=0>, <tf.Tensor: shape=(), dtype=int32, numpy=1>, <tf.Tensor: shape=(), dtype=int32, numpy=0>, <tf.Tensor: shape=(), dtype=int32, numpy=0>, <tf.Tensor: shape=(), dtype=int32, numpy=1>, <tf.Tensor: shape=(), dtype=int32, numpy=1>, <tf.Tensor: shape=(), dtype=int32, numpy=1>, <tf.Tensor: shape=(), dtype=int32, numpy=1>, <tf.Tensor: shape=(), dtype=int32, numpy=1>, <tf.Tensor: shape=(), dtype=int32, numpy=1>, <tf.Tensor: shape=(), dtype=int32, numpy=1>, <tf.Tensor: shape=(), dtype=int32, numpy=0>, <tf.Tensor: shape=(), dtype=int32, numpy=1>, <tf.Tensor: shape=(), dtype=int32, numpy=0>, <tf.Tensor: shape=(), dtype=int32, numpy=1>, <tf.Tensor: shape=(), dtype=int32, numpy=0>, <tf.Tensor: shape=(), dtype=int32, numpy=1>, <tf.Tensor: shape=(), dtype=int32, numpy=1>, <tf.Tensor: shape=(), dtype=int32, numpy=1>, <tf.Tensor: shape=(), dtype=int32, numpy=0>, <tf.Tensor: shape=(), dtype=int32, numpy=1>, <tf.Tensor: shape=(), dtype=int32, numpy=0>, <tf.Tensor: shape=(), dtype=int32, numpy=0>, <tf.Tensor: shape=(), dtype=int32, numpy=1>, <tf.Tensor: shape=(), dtype=int32, numpy=1>, <tf.Tensor: shape=(), dtype=int32, numpy=0>, <tf.Tensor: shape=(), dtype=int32, numpy=1>, <tf.Tensor: shape=(), dtype=int32, numpy=0>, <tf.Tensor: shape=(), dtype=int32, numpy=0>, <tf.Tensor: shape=(), dtype=int32, numpy=1>, <tf.Tensor: shape=(), dtype=int32, numpy=1>, <tf.Tensor: shape=(), dtype=int32, numpy=0>, <tf.Tensor: shape=(), dtype=int32, numpy=1>, <tf.Tensor: shape=(), dtype=int32, numpy=0>, <tf.Tensor: shape=(), dtype=int32, numpy=1>, <tf.Tensor: shape=(), dtype=int32, numpy=0>, <tf.Tensor: shape=(), dtype=int32, numpy=1>, <tf.Tensor: shape=(), dtype=int32, numpy=1>, <tf.Tensor: shape=(), dtype=int32, numpy=0>, <tf.Tensor: shape=(), dtype=int32, numpy=1>, <tf.Tensor: shape=(), dtype=int32, numpy=1>, <tf.Tensor: shape=(), dtype=int32, numpy=0>, <tf.Tensor: shape=(), dtype=int32, numpy=1>, <tf.Tensor: shape=(), dtype=int32, numpy=0>, <tf.Tensor: shape=(), dtype=int32, numpy=0>, <tf.Tensor: shape=(), dtype=int32, numpy=0>, <tf.Tensor: shape=(), dtype=int32, numpy=0>, <tf.Tensor: shape=(), dtype=int32, numpy=0>, <tf.Tensor: shape=(), dtype=int32, numpy=1>, <tf.Tensor: shape=(), dtype=int32, numpy=1>, <tf.Tensor: shape=(), dtype=int32, numpy=1>, <tf.Tensor: shape=(), dtype=int32, numpy=1>, <tf.Tensor: shape=(), dtype=int32, numpy=1>, <tf.Tensor: shape=(), dtype=int32, numpy=1>, <tf.Tensor: shape=(), dtype=int32, numpy=0>, <tf.Tensor: shape=(), dtype=int32, numpy=0>, <tf.Tensor: shape=(), dtype=int32, numpy=0>, <tf.Tensor: shape=(), dtype=int32, numpy=0>, <tf.Tensor: shape=(), dtype=int32, numpy=0>, <tf.Tensor: shape=(), dtype=int32, numpy=1>, <tf.Tensor: shape=(), dtype=int32, numpy=0>, <tf.Tensor: shape=(), dtype=int32, numpy=1>, <tf.Tensor: shape=(), dtype=int32, numpy=1>, <tf.Tensor: shape=(), dtype=int32, numpy=1>, <tf.Tensor: shape=(), dtype=int32, numpy=0>, <tf.Tensor: shape=(), dtype=int32, numpy=1>, <tf.Tensor: shape=(), dtype=int32, numpy=0>, <tf.Tensor: shape=(), dtype=int32, numpy=1>, <tf.Tensor: shape=(), dtype=int32, numpy=0>, <tf.Tensor: shape=(), dtype=int32, numpy=1>, <tf.Tensor: shape=(), dtype=int32, numpy=1>, <tf.Tensor: shape=(), dtype=int32, numpy=1>, <tf.Tensor: shape=(), dtype=int32, numpy=0>, <tf.Tensor: shape=(), dtype=int32, numpy=0>, <tf.Tensor: shape=(), dtype=int32, numpy=0>, <tf.Tensor: shape=(), dtype=int32, numpy=0>, <tf.Tensor: shape=(), dtype=int32, numpy=0>, <tf.Tensor: shape=(), dtype=int32, numpy=1>, <tf.Tensor: shape=(), dtype=int32, numpy=0>, <tf.Tensor: shape=(), dtype=int32, numpy=1>, <tf.Tensor: shape=(), dtype=int32, numpy=1>, <tf.Tensor: shape=(), dtype=int32, numpy=0>, <tf.Tensor: shape=(), dtype=int32, numpy=1>, <tf.Tensor: shape=(), dtype=int32, numpy=1>, <tf.Tensor: shape=(), dtype=int32, numpy=0>, <tf.Tensor: shape=(), dtype=int32, numpy=0>, <tf.Tensor: shape=(), dtype=int32, numpy=1>, <tf.Tensor: shape=(), dtype=int32, numpy=0>, <tf.Tensor: shape=(), dtype=int32, numpy=0>, <tf.Tensor: shape=(), dtype=int32, numpy=1>, <tf.Tensor: shape=(), dtype=int32, numpy=0>, <tf.Tensor: shape=(), dtype=int32, numpy=1>, <tf.Tensor: shape=(), dtype=int32, numpy=1>, <tf.Tensor: shape=(), dtype=int32, numpy=0>, <tf.Tensor: shape=(), dtype=int32, numpy=1>, <tf.Tensor: shape=(), dtype=int32, numpy=1>, <tf.Tensor: shape=(), dtype=int32, numpy=0>, <tf.Tensor: shape=(), dtype=int32, numpy=0>, <tf.Tensor: shape=(), dtype=int32, numpy=1>, <tf.Tensor: shape=(), dtype=int32, numpy=1>, <tf.Tensor: shape=(), dtype=int32, numpy=1>, <tf.Tensor: shape=(), dtype=int32, numpy=1>, <tf.Tensor: shape=(), dtype=int32, numpy=1>, <tf.Tensor: shape=(), dtype=int32, numpy=0>, <tf.Tensor: shape=(), dtype=int32, numpy=0>, <tf.Tensor: shape=(), dtype=int32, numpy=0>, <tf.Tensor: shape=(), dtype=int32, numpy=1>, <tf.Tensor: shape=(), dtype=int32, numpy=1>, <tf.Tensor: shape=(), dtype=int32, numpy=1>, <tf.Tensor: shape=(), dtype=int32, numpy=0>, <tf.Tensor: shape=(), dtype=int32, numpy=0>, <tf.Tensor: shape=(), dtype=int32, numpy=0>, <tf.Tensor: shape=(), dtype=int32, numpy=0>, <tf.Tensor: shape=(), dtype=int32, numpy=0>, <tf.Tensor: shape=(), dtype=int32, numpy=1>, <tf.Tensor: shape=(), dtype=int32, numpy=1>]\n",
            "0\n",
            "57 ERROR: more tokens than actions...\n",
            "model output time:  187.91050505638123\n",
            "64 total logits\n",
            "logprobs\n",
            "64 [<tf.Tensor: shape=(), dtype=float32, numpy=-688.1844>, <tf.Tensor: shape=(), dtype=float32, numpy=-687.96875>, <tf.Tensor: shape=(), dtype=float32, numpy=-688.21344>, <tf.Tensor: shape=(), dtype=float32, numpy=-687.99365>, <tf.Tensor: shape=(), dtype=float32, numpy=-688.2608>, <tf.Tensor: shape=(), dtype=float32, numpy=-688.5435>, <tf.Tensor: shape=(), dtype=float32, numpy=-688.03156>, <tf.Tensor: shape=(), dtype=float32, numpy=-687.719>, <tf.Tensor: shape=(), dtype=float32, numpy=-687.932>, <tf.Tensor: shape=(), dtype=float32, numpy=-688.01135>, <tf.Tensor: shape=(), dtype=float32, numpy=-688.11255>, <tf.Tensor: shape=(), dtype=float32, numpy=-688.57587>, <tf.Tensor: shape=(), dtype=float32, numpy=-687.90063>, <tf.Tensor: shape=(), dtype=float32, numpy=-688.33704>, <tf.Tensor: shape=(), dtype=float32, numpy=-688.6885>, <tf.Tensor: shape=(), dtype=float32, numpy=-688.35803>, <tf.Tensor: shape=(), dtype=float32, numpy=-688.4181>, <tf.Tensor: shape=(), dtype=float32, numpy=-688.04443>, <tf.Tensor: shape=(), dtype=float32, numpy=-687.91516>, <tf.Tensor: shape=(), dtype=float32, numpy=-688.39886>, <tf.Tensor: shape=(), dtype=float32, numpy=-688.3525>, <tf.Tensor: shape=(), dtype=float32, numpy=-688.51715>, <tf.Tensor: shape=(), dtype=float32, numpy=-688.3488>, <tf.Tensor: shape=(), dtype=float32, numpy=-688.5091>, <tf.Tensor: shape=(), dtype=float32, numpy=-687.89984>, <tf.Tensor: shape=(), dtype=float32, numpy=-688.4639>, <tf.Tensor: shape=(), dtype=float32, numpy=-688.5616>, <tf.Tensor: shape=(), dtype=float32, numpy=-688.47064>, <tf.Tensor: shape=(), dtype=float32, numpy=-688.94196>, <tf.Tensor: shape=(), dtype=float32, numpy=-687.9387>, <tf.Tensor: shape=(), dtype=float32, numpy=-688.2883>, <tf.Tensor: shape=(), dtype=float32, numpy=-687.87604>, <tf.Tensor: shape=(), dtype=float32, numpy=-688.57416>, <tf.Tensor: shape=(), dtype=float32, numpy=-688.4505>, <tf.Tensor: shape=(), dtype=float32, numpy=-688.1233>, <tf.Tensor: shape=(), dtype=float32, numpy=-688.3152>, <tf.Tensor: shape=(), dtype=float32, numpy=-687.8442>, <tf.Tensor: shape=(), dtype=float32, numpy=-688.2161>, <tf.Tensor: shape=(), dtype=float32, numpy=-688.4548>, <tf.Tensor: shape=(), dtype=float32, numpy=-688.1563>, <tf.Tensor: shape=(), dtype=float32, numpy=-688.201>, <tf.Tensor: shape=(), dtype=float32, numpy=-688.03973>, <tf.Tensor: shape=(), dtype=float32, numpy=-688.385>, <tf.Tensor: shape=(), dtype=float32, numpy=-688.37274>, <tf.Tensor: shape=(), dtype=float32, numpy=-688.25464>, <tf.Tensor: shape=(), dtype=float32, numpy=-688.221>, <tf.Tensor: shape=(), dtype=float32, numpy=-688.4018>, <tf.Tensor: shape=(), dtype=float32, numpy=-688.03894>, <tf.Tensor: shape=(), dtype=float32, numpy=-687.81433>, <tf.Tensor: shape=(), dtype=float32, numpy=-687.99225>, <tf.Tensor: shape=(), dtype=float32, numpy=-688.05756>, <tf.Tensor: shape=(), dtype=float32, numpy=-688.73315>, <tf.Tensor: shape=(), dtype=float32, numpy=-688.3585>, <tf.Tensor: shape=(), dtype=float32, numpy=-688.23553>, <tf.Tensor: shape=(), dtype=float32, numpy=-688.4699>, <tf.Tensor: shape=(), dtype=float32, numpy=-688.0075>, <tf.Tensor: shape=(), dtype=float32, numpy=-688.5606>, <tf.Tensor: shape=(), dtype=float32, numpy=-687.34546>, <tf.Tensor: shape=(), dtype=float32, numpy=-688.54645>, <tf.Tensor: shape=(), dtype=float32, numpy=-688.0186>, <tf.Tensor: shape=(), dtype=float32, numpy=-688.1588>, <tf.Tensor: shape=(), dtype=float32, numpy=-688.05273>, <tf.Tensor: shape=(), dtype=float32, numpy=-688.18774>, <tf.Tensor: shape=(), dtype=float32, numpy=-688.49774>]\n",
            "(64, 1) \n",
            " tf.Tensor(\n",
            "[[ 0.5826648 ]\n",
            " [-1.6100456 ]\n",
            " [-1.6703005 ]\n",
            " [-1.4835103 ]\n",
            " [-1.1963663 ]\n",
            " [-1.1356407 ]\n",
            " [-3.3795602 ]\n",
            " [-0.58838886]\n",
            " [-3.9184935 ]\n",
            " [-3.3765364 ]\n",
            " [ 2.2422953 ]\n",
            " [-3.6480446 ]\n",
            " [-3.5753438 ]\n",
            " [-1.8241272 ]\n",
            " [ 0.83539754]\n",
            " [ 0.07830584]\n",
            " [ 1.847279  ]\n",
            " [-1.2218044 ]\n",
            " [-1.4077269 ]\n",
            " [ 1.398935  ]\n",
            " [ 3.6683855 ]\n",
            " [ 3.5052211 ]\n",
            " [ 1.5537075 ]\n",
            " [-1.4472984 ]\n",
            " [ 2.074873  ]\n",
            " [-0.5396841 ]\n",
            " [ 1.2086235 ]\n",
            " [ 3.6391394 ]\n",
            " [-1.2756518 ]\n",
            " [ 0.59290534]\n",
            " [-4.2709427 ]\n",
            " [ 0.14156172]\n",
            " [-3.4432352 ]\n",
            " [-2.6184201 ]\n",
            " [ 3.727932  ]\n",
            " [ 0.6876926 ]\n",
            " [ 1.0030587 ]\n",
            " [ 3.0775409 ]\n",
            " [ 1.7622596 ]\n",
            " [-2.0732024 ]\n",
            " [-3.9892523 ]\n",
            " [-3.4587529 ]\n",
            " [-3.8331754 ]\n",
            " [-0.12912619]\n",
            " [ 3.030678  ]\n",
            " [-3.4910119 ]\n",
            " [-0.07500373]\n",
            " [ 0.98874354]\n",
            " [ 0.03680751]\n",
            " [-2.8428633 ]\n",
            " [ 0.49632388]\n",
            " [-5.1942706 ]\n",
            " [ 3.7835188 ]\n",
            " [-2.574066  ]\n",
            " [-3.6611009 ]\n",
            " [-1.9080915 ]\n",
            " [-3.3880098 ]\n",
            " [ 0.80533165]\n",
            " [ 3.1158154 ]\n",
            " [-0.61833996]\n",
            " [-0.46791366]\n",
            " [-0.90602905]\n",
            " [-0.98356193]\n",
            " [ 0.42732295]], shape=(64, 1), dtype=float32)\n",
            "labels (64,) \n",
            " tf.Tensor(\n",
            "[0 1 0 0 0 0 0 0 0 0 1 0 0 0 1 1 1 0 0 0 1 1 1 1 0 0 1 1 0 1 0 0 0 0 1 1 0\n",
            " 1 1 0 0 0 0 0 1 0 0 1 1 0 1 0 1 0 0 0 0 1 1 0 0 0 0 1], shape=(64,), dtype=int32)\n",
            "loss object: tf.Tensor(\n",
            "[ 0.27749965  4.174781    4.4176292   3.6884353   2.7035673   2.5164104\n",
            " 14.331099    1.1624931  18.66846    14.3084      3.7211664  16.419262\n",
            " 15.839593    5.0705357   0.44634086  0.32240242  2.4019804   2.7841592\n",
            "  3.41249     1.2828177  11.080763   10.03266     1.6237264   3.5551467\n",
            "  3.1239433   1.0710218   0.9293032  10.888981    2.9590268   0.28185773\n",
            " 21.819159    0.28886843 14.813295    9.19494    11.476528    0.33215165\n",
            "  0.62883264  7.538102    2.1588643   6.22807    19.281073   14.9320345\n",
            " 17.943115    0.4885182   7.2870007  15.180421    0.4368784   0.61105615\n",
            "  0.34874916 10.58902     0.24909447 31.25115    11.852376    8.931364\n",
            " 16.524485    5.446882   14.394618    0.4195603   7.746444    1.2210994\n",
            "  0.94487834  1.8754104   2.0800657   0.23711267], shape=(64,), dtype=float32)\n",
            "logprob_sums:\n",
            "\t tf.Tensor(\n",
            "[  190.97092  2872.1187   3040.2717   2537.62     1860.7594   1732.6581\n",
            "  9860.248     799.46857 12842.632    9844.342    2560.5813  11305.907\n",
            " 10896.066    3490.2375    307.3898    221.9283   1653.5668   1915.6252\n",
            "  2347.5034    883.0903   7627.4707   6907.658    1117.6901   2447.7507\n",
            "  2148.9602    737.35986   639.8825   7496.7437   2038.5978    193.90085\n",
            " 15017.872     198.70567 10200.053    6330.2607   7897.266     228.62503\n",
            "   432.53888  5187.8433   1486.2804   4285.8857  13269.253   10273.833\n",
            " 12351.771     336.28262  5015.312   10447.484     300.7479    420.43042\n",
            "   239.87466  7285.1636    171.39133 21523.703    8158.684    6146.8823\n",
            " 11376.61     3747.4956   9911.567     288.38287  5333.7866    840.1391\n",
            "   650.2264   1290.3812   1431.4757    163.25154], shape=(64,), dtype=float32)\n",
            "gradients[0]: IndexedSlices(indices=tf.Tensor([ 10 176  55 ...   0   0   0], shape=(63552,), dtype=int64), values=tf.Tensor(\n",
            "[[-0.01269057  0.00122766  0.00117355 ...  0.00413585 -0.01330974\n",
            "  -0.00739967]\n",
            " [-0.0046359   0.00017422 -0.00607724 ...  0.00671723 -0.0068316\n",
            "  -0.00202909]\n",
            " [ 0.00231581  0.00297343 -0.00930402 ...  0.01138123 -0.00068476\n",
            "   0.00405346]\n",
            " ...\n",
            " [ 0.          0.          0.         ...  0.          0.\n",
            "   0.        ]\n",
            " [ 0.          0.          0.         ...  0.          0.\n",
            "   0.        ]\n",
            " [ 0.          0.          0.         ...  0.          0.\n",
            "   0.        ]], shape=(63552, 64), dtype=float32), dense_shape=tf.Tensor([1000   64], shape=(2,), dtype=int32))\n",
            "optimizer step success.\n",
            "model output time:  188.98328614234924\n",
            "64 total logits\n",
            "logprobs\n",
            "64 [<tf.Tensor: shape=(), dtype=float32, numpy=-685.842>, <tf.Tensor: shape=(), dtype=float32, numpy=-686.0615>, <tf.Tensor: shape=(), dtype=float32, numpy=-685.7477>, <tf.Tensor: shape=(), dtype=float32, numpy=-685.2533>, <tf.Tensor: shape=(), dtype=float32, numpy=-685.7684>, <tf.Tensor: shape=(), dtype=float32, numpy=-685.5639>, <tf.Tensor: shape=(), dtype=float32, numpy=-685.4234>, <tf.Tensor: shape=(), dtype=float32, numpy=-685.42834>, <tf.Tensor: shape=(), dtype=float32, numpy=-685.2603>, <tf.Tensor: shape=(), dtype=float32, numpy=-685.45465>, <tf.Tensor: shape=(), dtype=float32, numpy=-685.5697>, <tf.Tensor: shape=(), dtype=float32, numpy=-685.5721>, <tf.Tensor: shape=(), dtype=float32, numpy=-685.20557>, <tf.Tensor: shape=(), dtype=float32, numpy=-685.5524>, <tf.Tensor: shape=(), dtype=float32, numpy=-685.4619>, <tf.Tensor: shape=(), dtype=float32, numpy=-685.4705>, <tf.Tensor: shape=(), dtype=float32, numpy=-685.45685>, <tf.Tensor: shape=(), dtype=float32, numpy=-685.6229>, <tf.Tensor: shape=(), dtype=float32, numpy=-685.35144>, <tf.Tensor: shape=(), dtype=float32, numpy=-685.3311>, <tf.Tensor: shape=(), dtype=float32, numpy=-685.689>, <tf.Tensor: shape=(), dtype=float32, numpy=-685.4773>, <tf.Tensor: shape=(), dtype=float32, numpy=-685.357>, <tf.Tensor: shape=(), dtype=float32, numpy=-685.70874>, <tf.Tensor: shape=(), dtype=float32, numpy=-685.39075>, <tf.Tensor: shape=(), dtype=float32, numpy=-685.379>, <tf.Tensor: shape=(), dtype=float32, numpy=-685.41254>, <tf.Tensor: shape=(), dtype=float32, numpy=-685.4445>, <tf.Tensor: shape=(), dtype=float32, numpy=-685.09784>, <tf.Tensor: shape=(), dtype=float32, numpy=-685.70886>, <tf.Tensor: shape=(), dtype=float32, numpy=-685.31995>, <tf.Tensor: shape=(), dtype=float32, numpy=-685.53033>, <tf.Tensor: shape=(), dtype=float32, numpy=-685.54486>, <tf.Tensor: shape=(), dtype=float32, numpy=-685.4571>, <tf.Tensor: shape=(), dtype=float32, numpy=-685.4576>, <tf.Tensor: shape=(), dtype=float32, numpy=-685.2403>, <tf.Tensor: shape=(), dtype=float32, numpy=-685.4064>, <tf.Tensor: shape=(), dtype=float32, numpy=-685.67175>, <tf.Tensor: shape=(), dtype=float32, numpy=-685.0919>, <tf.Tensor: shape=(), dtype=float32, numpy=-685.70654>, <tf.Tensor: shape=(), dtype=float32, numpy=-685.6741>, <tf.Tensor: shape=(), dtype=float32, numpy=-685.27783>, <tf.Tensor: shape=(), dtype=float32, numpy=-685.3958>, <tf.Tensor: shape=(), dtype=float32, numpy=-685.16724>, <tf.Tensor: shape=(), dtype=float32, numpy=-685.58374>, <tf.Tensor: shape=(), dtype=float32, numpy=-685.47296>, <tf.Tensor: shape=(), dtype=float32, numpy=-685.7076>, <tf.Tensor: shape=(), dtype=float32, numpy=-685.8214>, <tf.Tensor: shape=(), dtype=float32, numpy=-685.2991>, <tf.Tensor: shape=(), dtype=float32, numpy=-685.4501>, <tf.Tensor: shape=(), dtype=float32, numpy=-685.73035>, <tf.Tensor: shape=(), dtype=float32, numpy=-685.4995>, <tf.Tensor: shape=(), dtype=float32, numpy=-685.3193>, <tf.Tensor: shape=(), dtype=float32, numpy=-685.42505>, <tf.Tensor: shape=(), dtype=float32, numpy=-685.716>, <tf.Tensor: shape=(), dtype=float32, numpy=-685.51544>, <tf.Tensor: shape=(), dtype=float32, numpy=-685.55896>, <tf.Tensor: shape=(), dtype=float32, numpy=-685.5976>, <tf.Tensor: shape=(), dtype=float32, numpy=-685.8046>, <tf.Tensor: shape=(), dtype=float32, numpy=-685.3306>, <tf.Tensor: shape=(), dtype=float32, numpy=-685.66095>, <tf.Tensor: shape=(), dtype=float32, numpy=-685.306>, <tf.Tensor: shape=(), dtype=float32, numpy=-685.4697>, <tf.Tensor: shape=(), dtype=float32, numpy=-685.30646>]\n",
            "(64, 1) \n",
            " tf.Tensor(\n",
            "[[-0.6465024 ]\n",
            " [-1.3742298 ]\n",
            " [-2.3634443 ]\n",
            " [ 1.2587959 ]\n",
            " [-0.463211  ]\n",
            " [-0.96180063]\n",
            " [-2.2862673 ]\n",
            " [-0.7187581 ]\n",
            " [ 4.1523585 ]\n",
            " [-1.2052889 ]\n",
            " [-4.2335577 ]\n",
            " [ 0.7811392 ]\n",
            " [-0.9552869 ]\n",
            " [-1.5932511 ]\n",
            " [-0.7868961 ]\n",
            " [-0.33838686]\n",
            " [ 1.6586587 ]\n",
            " [ 0.08979644]\n",
            " [ 0.5087491 ]\n",
            " [ 3.6239376 ]\n",
            " [ 0.37805873]\n",
            " [ 4.2948833 ]\n",
            " [-0.5392938 ]\n",
            " [-4.735036  ]\n",
            " [-1.1265787 ]\n",
            " [ 0.05713642]\n",
            " [-1.6717904 ]\n",
            " [-3.2161694 ]\n",
            " [-3.471389  ]\n",
            " [ 1.6030855 ]\n",
            " [ 3.1308136 ]\n",
            " [ 0.6638578 ]\n",
            " [ 3.09049   ]\n",
            " [-3.1193314 ]\n",
            " [-3.3076746 ]\n",
            " [ 1.8795779 ]\n",
            " [ 1.3993807 ]\n",
            " [-1.2088542 ]\n",
            " [ 2.7331848 ]\n",
            " [-2.7658443 ]\n",
            " [ 1.9048835 ]\n",
            " [-2.4265084 ]\n",
            " [-0.5008449 ]\n",
            " [ 1.8441918 ]\n",
            " [-2.4518533 ]\n",
            " [-2.3403218 ]\n",
            " [-0.42058468]\n",
            " [-1.1408149 ]\n",
            " [-1.1927677 ]\n",
            " [ 0.9890277 ]\n",
            " [-1.8400089 ]\n",
            " [-4.5715914 ]\n",
            " [ 2.956401  ]\n",
            " [ 1.948354  ]\n",
            " [ 3.4987462 ]\n",
            " [-0.30374837]\n",
            " [ 1.1788931 ]\n",
            " [-1.8474904 ]\n",
            " [ 1.2608234 ]\n",
            " [-0.1654008 ]\n",
            " [ 0.8862388 ]\n",
            " [-3.1944602 ]\n",
            " [-2.340425  ]\n",
            " [-0.5666895 ]], shape=(64, 1), dtype=float32)\n",
            "labels (64,) \n",
            " tf.Tensor(\n",
            "[0 0 0 1 1 0 0 0 1 0 0 1 1 1 0 1 0 1 1 1 0 1 0 0 1 0 0 0 1 1 1 1 1 0 0 1 1\n",
            " 1 1 0 1 0 0 1 0 0 1 0 1 1 1 0 1 1 1 1 1 1 1 0 1 0 0 0], shape=(64,), dtype=int32)\n",
            "loss object: tf.Tensor(\n",
            "[ 1.6719524   3.9384465   8.717761    0.75463414  1.2680767   2.5239048\n",
            "  8.274498    1.84963    13.247314    3.3178809  23.100338    0.30268246\n",
            "  2.5042932   4.827943    2.0267482   1.0314913   1.483866    0.45672357\n",
            "  0.2492563   9.716118    0.27630165 14.295368    1.4275653  28.146385\n",
            "  3.0482504   0.48764658  5.1702785  14.408306   16.394249    1.3633833\n",
            "  6.924541    0.26148772  6.7177806  13.688872   15.105354    2.0239\n",
            "  0.9745686   3.3303876   5.0277534  11.221912    2.09199     9.088812\n",
            "  1.3455198   1.9308336   9.240173    8.583708    1.183781    3.0960994\n",
            "  3.2741594   0.44330174  5.945017   26.4465      6.053619    2.2119462\n",
            "  8.961346    0.97136295  0.6472496   5.980788    0.75752497  0.7551395\n",
            "  0.36297053 14.24539     8.584304    1.4878286 ], shape=(64,), dtype=float32)\n",
            "logprob_sums:\n",
            "\t tf.Tensor(\n",
            "[ 1146.6951   2702.0166   5978.1846    517.11554   869.6069   1730.298\n",
            "  5671.5347   1267.7888   9077.858    2274.2568  15836.892     207.51065\n",
            "  1715.9557   3309.8079   1389.2587    707.0569   1017.1261    313.14014\n",
            "   170.82816  6658.758     189.45702  9799.15      978.3919  19300.223\n",
            "  2089.2427    334.22275  3543.7737   9876.095   11231.664     934.88403\n",
            "  4745.526     179.25777  4605.34     9383.135   10354.08     1386.8579\n",
            "   667.9755   2283.5527   3444.4731   7694.939    1434.4233   6228.3613\n",
            "   922.2136   1322.9438   6334.9126   5883.8994    811.7276   2123.3713\n",
            "  2243.7783    303.8612   4076.6785  18129.062    4148.6616   1516.1234\n",
            "  6144.938     665.8843    443.72775  4100.414     519.5141    517.52026\n",
            "   248.87473  9762.451    5884.2803   1019.6185 ], shape=(64,), dtype=float32)\n",
            "gradients[0]: IndexedSlices(indices=tf.Tensor([ 51 529   5 ...   0   0   0], shape=(63296,), dtype=int64), values=tf.Tensor(\n",
            "[[ 0.02181278  0.03122219 -0.03596661 ... -0.0422337   0.02752725\n",
            "   0.03948615]\n",
            " [ 0.01313892  0.0364673  -0.01223687 ... -0.04641718 -0.00281532\n",
            "   0.00425007]\n",
            " [-0.03005944  0.03422161  0.03873623 ... -0.04455974 -0.0280422\n",
            "  -0.02715712]\n",
            " ...\n",
            " [ 0.          0.          0.         ...  0.          0.\n",
            "   0.        ]\n",
            " [ 0.          0.          0.         ...  0.          0.\n",
            "   0.        ]\n",
            " [ 0.          0.          0.         ...  0.          0.\n",
            "   0.        ]], shape=(63296, 64), dtype=float32), dense_shape=tf.Tensor([1000   64], shape=(2,), dtype=int32))\n",
            "optimizer step success.\n",
            "model output time:  152.47214269638062\n",
            "64 total logits\n",
            "logprobs\n",
            "64 [<tf.Tensor: shape=(), dtype=float32, numpy=-548.1451>, <tf.Tensor: shape=(), dtype=float32, numpy=-548.42706>, <tf.Tensor: shape=(), dtype=float32, numpy=-548.27655>, <tf.Tensor: shape=(), dtype=float32, numpy=-548.0811>, <tf.Tensor: shape=(), dtype=float32, numpy=-548.139>, <tf.Tensor: shape=(), dtype=float32, numpy=-548.3355>, <tf.Tensor: shape=(), dtype=float32, numpy=-548.4203>, <tf.Tensor: shape=(), dtype=float32, numpy=-548.4546>, <tf.Tensor: shape=(), dtype=float32, numpy=-548.1108>, <tf.Tensor: shape=(), dtype=float32, numpy=-548.08923>, <tf.Tensor: shape=(), dtype=float32, numpy=-548.3024>, <tf.Tensor: shape=(), dtype=float32, numpy=-548.5956>, <tf.Tensor: shape=(), dtype=float32, numpy=-548.4548>, <tf.Tensor: shape=(), dtype=float32, numpy=-548.16864>, <tf.Tensor: shape=(), dtype=float32, numpy=-548.09247>, <tf.Tensor: shape=(), dtype=float32, numpy=-548.2723>, <tf.Tensor: shape=(), dtype=float32, numpy=-548.6733>, <tf.Tensor: shape=(), dtype=float32, numpy=-548.18933>, <tf.Tensor: shape=(), dtype=float32, numpy=-548.052>, <tf.Tensor: shape=(), dtype=float32, numpy=-548.2593>, <tf.Tensor: shape=(), dtype=float32, numpy=-548.20105>, <tf.Tensor: shape=(), dtype=float32, numpy=-548.1338>, <tf.Tensor: shape=(), dtype=float32, numpy=-548.22375>, <tf.Tensor: shape=(), dtype=float32, numpy=-548.13654>, <tf.Tensor: shape=(), dtype=float32, numpy=-548.4123>, <tf.Tensor: shape=(), dtype=float32, numpy=-548.2633>, <tf.Tensor: shape=(), dtype=float32, numpy=-548.17773>, <tf.Tensor: shape=(), dtype=float32, numpy=-548.0857>, <tf.Tensor: shape=(), dtype=float32, numpy=-547.8351>, <tf.Tensor: shape=(), dtype=float32, numpy=-548.2685>, <tf.Tensor: shape=(), dtype=float32, numpy=-548.1094>, <tf.Tensor: shape=(), dtype=float32, numpy=-548.2659>, <tf.Tensor: shape=(), dtype=float32, numpy=-548.4306>, <tf.Tensor: shape=(), dtype=float32, numpy=-548.3354>, <tf.Tensor: shape=(), dtype=float32, numpy=-548.1633>, <tf.Tensor: shape=(), dtype=float32, numpy=-548.5529>, <tf.Tensor: shape=(), dtype=float32, numpy=-548.3123>, <tf.Tensor: shape=(), dtype=float32, numpy=-548.1787>, <tf.Tensor: shape=(), dtype=float32, numpy=-548.40515>, <tf.Tensor: shape=(), dtype=float32, numpy=-548.1391>, <tf.Tensor: shape=(), dtype=float32, numpy=-548.2682>, <tf.Tensor: shape=(), dtype=float32, numpy=-548.14777>, <tf.Tensor: shape=(), dtype=float32, numpy=-548.0926>, <tf.Tensor: shape=(), dtype=float32, numpy=-547.9952>, <tf.Tensor: shape=(), dtype=float32, numpy=-548.26373>, <tf.Tensor: shape=(), dtype=float32, numpy=-548.00964>, <tf.Tensor: shape=(), dtype=float32, numpy=-548.2404>, <tf.Tensor: shape=(), dtype=float32, numpy=-548.1716>, <tf.Tensor: shape=(), dtype=float32, numpy=-548.19>, <tf.Tensor: shape=(), dtype=float32, numpy=-548.0893>, <tf.Tensor: shape=(), dtype=float32, numpy=-547.99084>, <tf.Tensor: shape=(), dtype=float32, numpy=-548.20593>, <tf.Tensor: shape=(), dtype=float32, numpy=-548.2316>, <tf.Tensor: shape=(), dtype=float32, numpy=-548.3805>, <tf.Tensor: shape=(), dtype=float32, numpy=-548.26263>, <tf.Tensor: shape=(), dtype=float32, numpy=-548.4365>, <tf.Tensor: shape=(), dtype=float32, numpy=-548.0407>, <tf.Tensor: shape=(), dtype=float32, numpy=-548.1379>, <tf.Tensor: shape=(), dtype=float32, numpy=-548.24536>, <tf.Tensor: shape=(), dtype=float32, numpy=-548.19507>, <tf.Tensor: shape=(), dtype=float32, numpy=-548.30237>, <tf.Tensor: shape=(), dtype=float32, numpy=-548.42346>, <tf.Tensor: shape=(), dtype=float32, numpy=-548.11566>, <tf.Tensor: shape=(), dtype=float32, numpy=-548.54987>]\n",
            "(64, 1) \n",
            " tf.Tensor(\n",
            "[[-1.6096921 ]\n",
            " [-3.4341443 ]\n",
            " [-2.6139042 ]\n",
            " [ 0.08967157]\n",
            " [-0.8184921 ]\n",
            " [ 0.6768771 ]\n",
            " [ 1.5966485 ]\n",
            " [-3.736286  ]\n",
            " [-2.3012755 ]\n",
            " [-4.4063    ]\n",
            " [ 1.9185274 ]\n",
            " [-1.4893059 ]\n",
            " [ 0.501062  ]\n",
            " [-3.7605963 ]\n",
            " [ 0.91788906]\n",
            " [-1.2402283 ]\n",
            " [ 2.3650181 ]\n",
            " [-0.23179165]\n",
            " [ 0.8924352 ]\n",
            " [-0.5989113 ]\n",
            " [-4.3580737 ]\n",
            " [-2.5378556 ]\n",
            " [ 3.045525  ]\n",
            " [ 0.8191675 ]\n",
            " [-4.020282  ]\n",
            " [-4.3295345 ]\n",
            " [-0.22982293]\n",
            " [ 1.2680998 ]\n",
            " [-1.9032509 ]\n",
            " [ 3.627355  ]\n",
            " [-0.5843645 ]\n",
            " [ 2.8143098 ]\n",
            " [-2.4180775 ]\n",
            " [-1.1466968 ]\n",
            " [ 2.6650937 ]\n",
            " [-0.635264  ]\n",
            " [-2.2084568 ]\n",
            " [-0.06281756]\n",
            " [-0.21887708]\n",
            " [-2.0107908 ]\n",
            " [-3.378824  ]\n",
            " [-3.4419973 ]\n",
            " [ 1.8299476 ]\n",
            " [-2.5169206 ]\n",
            " [-3.9329417 ]\n",
            " [ 1.9955921 ]\n",
            " [ 1.9328128 ]\n",
            " [ 1.9829718 ]\n",
            " [-0.8112379 ]\n",
            " [ 1.1847042 ]\n",
            " [ 0.7539429 ]\n",
            " [ 3.8032794 ]\n",
            " [-0.7075393 ]\n",
            " [-4.553183  ]\n",
            " [-2.7937422 ]\n",
            " [-0.0962743 ]\n",
            " [-3.505982  ]\n",
            " [-4.4613895 ]\n",
            " [ 4.4647365 ]\n",
            " [ 2.5526493 ]\n",
            " [ 3.8355262 ]\n",
            " [-4.078493  ]\n",
            " [-4.219532  ]\n",
            " [ 1.5927205 ]], shape=(64, 1), dtype=float32)\n",
            "labels (64,) \n",
            " tf.Tensor(\n",
            "[0 0 0 0 1 1 1 0 0 0 1 0 1 0 1 0 1 1 1 0 0 0 0 0 0 0 0 1 0 1 0 1 0 1 1 1 0\n",
            " 1 0 0 0 0 1 0 0 1 1 0 1 1 1 1 0 0 0 1 0 0 1 1 1 0 0 1], shape=(64,), dtype=int32)\n",
            "loss object: tf.Tensor(\n",
            "[ 4.4370894  15.235722    9.557161    0.36707836  1.8236101   0.30339515\n",
            "  1.589719   17.666584    7.7469854  23.708492    2.4395359   3.9586751\n",
            "  0.25013387 17.870106    0.4768674   3.0608656   3.96142     0.69404507\n",
            "  0.4530598   1.3202422  23.243622    9.098835    7.0478888   0.39176384\n",
            " 20.117912   22.97071     0.6914135   0.93598974  5.725209   10.421269\n",
            "  1.2903006   5.895319    8.400415    2.755773    5.208267    1.3969162\n",
            "  7.247181    0.49641144  0.67692465  6.2402215  14.810423   15.296595\n",
            "  2.1850042   8.974695   19.346853    2.6737447   2.4820542   2.6345768\n",
            "  1.80544     0.8044079   0.34622985 11.574566    1.5572088  25.153011\n",
            " 10.68702     0.5310087  15.797144   24.245213   16.464727    4.7199497\n",
            " 11.792677   20.640285   21.934042    1.5806282 ], shape=(64,), dtype=float32)\n",
            "logprob_sums:\n",
            "\t tf.Tensor(\n",
            "[ 2432.1687   8355.682    5239.9673    201.18872   999.59174   166.36234\n",
            "   871.83417  9689.319    4246.206   12994.369    1337.6034   2171.7117\n",
            "   137.18712  9795.832     261.36743  1678.1877   2173.5254    380.4681\n",
            "   248.30032   723.835   12742.178    4987.379    3863.82      214.74007\n",
            " 11032.91    12593.998     379.0175    513.00256  3136.4705   5713.654\n",
            "   707.2258   3232.2026   4607.045    1511.0879   2854.9812    766.2824\n",
            "  3973.7185    272.1222    371.22897  3420.5093   8120.0835   8384.794\n",
            "  1197.5846   4918.09    10607.178    1465.2379   1360.7625   1444.2001\n",
            "   989.7241    440.88736   189.73079  6345.2456    853.7111  13793.421\n",
            "  5859.294     291.22458  8657.478   13289.72     9026.71     2587.4531\n",
            "  6465.9526  11319.617   12022.392     867.05334], shape=(64,), dtype=float32)\n",
            "gradients[0]: IndexedSlices(indices=tf.Tensor([255  70  10 ...   0   0   0], shape=(50624,), dtype=int64), values=tf.Tensor(\n",
            "[[-0.02373901  0.06848289  0.049023   ... -0.00135046  0.0104275\n",
            "   0.01382687]\n",
            " [-0.11176562 -0.05987466  0.0692277  ...  0.01319052 -0.07841337\n",
            "  -0.06246246]\n",
            " [-0.04772779  0.03881437 -0.01566828 ...  0.08505572 -0.01734111\n",
            "   0.03953277]\n",
            " ...\n",
            " [ 0.          0.          0.         ...  0.          0.\n",
            "   0.        ]\n",
            " [ 0.          0.          0.         ...  0.          0.\n",
            "   0.        ]\n",
            " [ 0.          0.          0.         ...  0.          0.\n",
            "   0.        ]], shape=(50624, 64), dtype=float32), dense_shape=tf.Tensor([1000   64], shape=(2,), dtype=int32))\n",
            "optimizer step success.\n",
            "['not.', 'or', 'it', 'like', 'you', 'whether', 'Earth,', 'on', 'director', 'interesting', 'most', 'is', 'he', 'why', 'reason', 'the', \"That's\", 'Earth.', 'invading', 'aliens', 'about', 'be', 'easily', 'can', 'movies', 'Kusturica', 'Next', 'faces.', 'pale', 'with', 'character', 'main', 'have', 'surely', 'would', 'movie', 'Burton', 'Tim', 'Next', \"'Zavet'.\", 'after', 'guy', 'this', 'for', 'respect', 'massive', 'have', 'I', 'purpose.', 'On', \"Flamingos'.\", \"'Pink\", 'directing', 'Fellini', 'like', 'is', 'this', 'because', 'surprise,', 'pleasant', 'as', 'this', 'find', 'may', 'you', 'movies,', 'last', 'his', 'of', 'couple', 'like', \"don't\", 'you', 'If', 'this.', 'hate', 'will', 'you', 'that', 'chance', 'big', 'a', 'is', 'there', 'movies,', \"Kusturica's\", 'previous', 'like', 'you', 'If', 'are.', 'works', 'his', 'of', 'all', 'as', 'directed,', 'beautifully', 'is', 'it', 'and', 'parody,', 'becomes', 'it', 'that', 'symbols', 'with', 'overfilled', 'so', 'is', 'it', 'deep,', 'be', 'to', 'pretending', 'not', 'is', 'it', 'because', 'movie', 'this', 'liked', 'really', 'I', 'covers.', 'horrible', \"Bregovic's\", 'listening', 'when', 'Serbia', 'in', 'feel', 'we', 'how', 'see', 'you', 'Now', 'unfunny?', 'this', 'find', 'You', 'lullabies.', 'French', 'or', \"down'\", 'falling', 'is', 'Bridge', \"'London\", 'as', 'classics', 'western', 'covering', 'is', 'music', 'Also,', 'wedding.', 'the', 'mocking', 'funeral', 'with', 'funeral,', 'one', 'and', 'wedding', 'one', 'confront', 'to', 'was', 'Bregovic', 'on', 'take', \"Kusturica's\", 'songs.', 'Serbian', 'traditional', 'of', 'covers', 'poor', 'are', 'all)', 'not', '(if', 'songs', 'his', 'of', 'most', 'and', 'performer', 'just', 'is', 'Bregovic', 'composer,', 'big', 'as', 'praised', 'is', 'he', 'Although', 'Europe.', 'around', 'performing', 'start', 'and', \"orchestra'\", 'wedding', 'and', \"'Funeral\", 'formed', 'He', 'composer.', \"Kusturica's\", 'previous', '\\x96', 'Bregovic', 'Goran', 'to', 'made', 'is', 'reference', 'Second', 'shop.', 'Srbljanovic', 'in', 'Manojlovic', 'Miki', 'castrate', 'to', 'was', 'work', 'her', 'to', 'take', \"subtle'\", 'not', 'but', \"'everything\", \"Kusturica's\", 'anarchism.', 'and', 'views', 'political', \"Kusturica's\", 'despises', 'she', 'and', 'liberal,', 'oriented', 'left', 'as', 'active', 'very', 'is', 'she', 'Politically,', 'writer.', 'dramatic', 'Serbian', 'famous', 'Srbljanovic,', 'Biljana', 'to', 'refers', 'this', 'and', ',', 'Srbljanovic', 'is', 'owner', 'shop', 'tire', 'notable,', 'Most', 'references.', 'few', 'get', 'not', 'would', 'viewer', 'western', 'Average', 'it.', 'watch', 'to', 'how', 'knows', 'who', 'people', 'to', 'masterpiece', 'this', 'made', 'would', 'cult', \"space'\", 'outer', 'from', '9', \"'Plan\", 'make', 'that', 'stuff', 'Same', 'hilarious.', 'becomes', 'that', 'unfunny', 'so', 'and', 'deep,', 'becomes', 'that', 'absurd', 'so', 'absurd,', 'becomes', 'that', 'meaningless', 'so', 'is', 'movie', 'This', 'have.', \"didn't\", 'Kubrick,', 'or', 'Bergman', 'like', 'biggest,', 'the', 'even', 'and', 'have', 'Kusturica', 'that', 'quality', 'is', 'This', 'seriously.', 'too', 'himself', 'take', 'not', 'to', 'director', 'movie', 'big', 'one', 'see', 'to', 'beautiful', 'is', 'It', 'himself.', 'Kusturica', 'by', 'directed', 'movies', 'Kusturica', 'previous', 'on', 'parody', 'harsh', 'very', 'and', 'strong', 'a', 'as', 'described', 'be', 'can', \"'Zavet'\", 'works.', 'previous', 'his', 'to', 'look', 'ironic', 'be', 'will', 'that', 'movie', 'make', 'to', 'chooses', 'he', 'person', 'brave', 'a', 'as', 'Fortunately,', 'award.', 'get', 'and', 'movie', 'gypsies', 'flying', 'another', 'just', 'make', 'to', 'Kusturica', 'for', 'easy', 'very', 'was', 'It', 'safe.', 'play', 'to', 'have', 'you', 'praised,', 'be', 'to', 'want', 'you', 'if', 'course,', 'Of', 'stuff.', 'dreamlike', 'Balkanic', '\\x96', 'poetic', 'Kusturica', 'another', 'just', 'NOT', 'is', 'this', 'but', 'it,', 'hate', 'may', 'you', 'it,', 'like', 'may', 'You', 'different.', 'completely', 'something', 'is', \"'Zavet'\", \"miracle'.\", 'is', \"'Life\", 'and', \"cat'\", 'white', 'cat', \"'Black\", 'are', 'movies', 'worst', \"Kusturica's\", 'why', 'reason', 'main', \"That's\", 'time.', 'first', 'it', 'heard', 'they', 'when', 'only', 'funny', 'joke', 'find', 'who', 'me', 'like', 'persons', 'are', 'there', 'However,', 'again.', 'over', 'and', 'over', 'formula', 'same', 'repeating', 'for', 'praise', 'critical', 'got', 'they', 'somehow', 'and', 'Manojlovic,', 'Miki', 'has', 'Kusturica', 'Depp,', 'have)', 'still', '(and', 'has', 'Burton', 'it.', 'of', 'prisoners', 'become', 'cowardly', 'they', 'then', 'and', 'style,', 'poetic', 'own,', 'their', 'find', 'They', 'vision.', 'artistic', 'Kusturica', 'and', 'Burton', 'Tim', 'between', 'similarity', 'was', 'there', \"'Zavet'\", 'Before']\n",
            "[<tf.Tensor: shape=(), dtype=int32, numpy=0>, <tf.Tensor: shape=(), dtype=int32, numpy=1>, <tf.Tensor: shape=(), dtype=int32, numpy=1>, <tf.Tensor: shape=(), dtype=int32, numpy=1>, <tf.Tensor: shape=(), dtype=int32, numpy=1>, <tf.Tensor: shape=(), dtype=int32, numpy=0>, <tf.Tensor: shape=(), dtype=int32, numpy=1>, <tf.Tensor: shape=(), dtype=int32, numpy=1>, <tf.Tensor: shape=(), dtype=int32, numpy=0>, <tf.Tensor: shape=(), dtype=int32, numpy=1>, <tf.Tensor: shape=(), dtype=int32, numpy=0>, <tf.Tensor: shape=(), dtype=int32, numpy=0>, <tf.Tensor: shape=(), dtype=int32, numpy=0>, <tf.Tensor: shape=(), dtype=int32, numpy=1>, <tf.Tensor: shape=(), dtype=int32, numpy=1>, <tf.Tensor: shape=(), dtype=int32, numpy=1>, <tf.Tensor: shape=(), dtype=int32, numpy=1>, <tf.Tensor: shape=(), dtype=int32, numpy=0>, <tf.Tensor: shape=(), dtype=int32, numpy=1>, <tf.Tensor: shape=(), dtype=int32, numpy=1>, <tf.Tensor: shape=(), dtype=int32, numpy=0>, <tf.Tensor: shape=(), dtype=int32, numpy=1>, <tf.Tensor: shape=(), dtype=int32, numpy=0>, <tf.Tensor: shape=(), dtype=int32, numpy=0>, <tf.Tensor: shape=(), dtype=int32, numpy=0>, <tf.Tensor: shape=(), dtype=int32, numpy=0>, <tf.Tensor: shape=(), dtype=int32, numpy=1>, <tf.Tensor: shape=(), dtype=int32, numpy=1>, <tf.Tensor: shape=(), dtype=int32, numpy=1>, <tf.Tensor: shape=(), dtype=int32, numpy=1>, <tf.Tensor: shape=(), dtype=int32, numpy=0>, <tf.Tensor: shape=(), dtype=int32, numpy=1>, <tf.Tensor: shape=(), dtype=int32, numpy=0>, <tf.Tensor: shape=(), dtype=int32, numpy=1>, <tf.Tensor: shape=(), dtype=int32, numpy=1>, <tf.Tensor: shape=(), dtype=int32, numpy=0>, <tf.Tensor: shape=(), dtype=int32, numpy=0>, <tf.Tensor: shape=(), dtype=int32, numpy=0>, <tf.Tensor: shape=(), dtype=int32, numpy=0>, <tf.Tensor: shape=(), dtype=int32, numpy=0>, <tf.Tensor: shape=(), dtype=int32, numpy=0>, <tf.Tensor: shape=(), dtype=int32, numpy=0>, <tf.Tensor: shape=(), dtype=int32, numpy=1>, <tf.Tensor: shape=(), dtype=int32, numpy=1>, <tf.Tensor: shape=(), dtype=int32, numpy=0>, <tf.Tensor: shape=(), dtype=int32, numpy=1>, <tf.Tensor: shape=(), dtype=int32, numpy=1>, <tf.Tensor: shape=(), dtype=int32, numpy=1>, <tf.Tensor: shape=(), dtype=int32, numpy=0>, <tf.Tensor: shape=(), dtype=int32, numpy=0>, <tf.Tensor: shape=(), dtype=int32, numpy=0>, <tf.Tensor: shape=(), dtype=int32, numpy=0>, <tf.Tensor: shape=(), dtype=int32, numpy=0>, <tf.Tensor: shape=(), dtype=int32, numpy=1>, <tf.Tensor: shape=(), dtype=int32, numpy=1>, <tf.Tensor: shape=(), dtype=int32, numpy=1>, <tf.Tensor: shape=(), dtype=int32, numpy=0>, <tf.Tensor: shape=(), dtype=int32, numpy=1>, <tf.Tensor: shape=(), dtype=int32, numpy=0>, <tf.Tensor: shape=(), dtype=int32, numpy=1>, <tf.Tensor: shape=(), dtype=int32, numpy=0>, <tf.Tensor: shape=(), dtype=int32, numpy=0>, <tf.Tensor: shape=(), dtype=int32, numpy=1>, <tf.Tensor: shape=(), dtype=int32, numpy=0>, <tf.Tensor: shape=(), dtype=int32, numpy=0>, <tf.Tensor: shape=(), dtype=int32, numpy=1>, <tf.Tensor: shape=(), dtype=int32, numpy=1>, <tf.Tensor: shape=(), dtype=int32, numpy=1>, <tf.Tensor: shape=(), dtype=int32, numpy=0>, <tf.Tensor: shape=(), dtype=int32, numpy=1>, <tf.Tensor: shape=(), dtype=int32, numpy=1>, <tf.Tensor: shape=(), dtype=int32, numpy=0>, <tf.Tensor: shape=(), dtype=int32, numpy=0>, <tf.Tensor: shape=(), dtype=int32, numpy=1>, <tf.Tensor: shape=(), dtype=int32, numpy=0>, <tf.Tensor: shape=(), dtype=int32, numpy=0>, <tf.Tensor: shape=(), dtype=int32, numpy=0>, <tf.Tensor: shape=(), dtype=int32, numpy=0>, <tf.Tensor: shape=(), dtype=int32, numpy=0>, <tf.Tensor: shape=(), dtype=int32, numpy=0>, <tf.Tensor: shape=(), dtype=int32, numpy=0>, <tf.Tensor: shape=(), dtype=int32, numpy=1>, <tf.Tensor: shape=(), dtype=int32, numpy=1>, <tf.Tensor: shape=(), dtype=int32, numpy=1>, <tf.Tensor: shape=(), dtype=int32, numpy=0>, <tf.Tensor: shape=(), dtype=int32, numpy=0>, <tf.Tensor: shape=(), dtype=int32, numpy=0>, <tf.Tensor: shape=(), dtype=int32, numpy=1>, <tf.Tensor: shape=(), dtype=int32, numpy=0>, <tf.Tensor: shape=(), dtype=int32, numpy=0>, <tf.Tensor: shape=(), dtype=int32, numpy=1>, <tf.Tensor: shape=(), dtype=int32, numpy=1>, <tf.Tensor: shape=(), dtype=int32, numpy=1>, <tf.Tensor: shape=(), dtype=int32, numpy=1>, <tf.Tensor: shape=(), dtype=int32, numpy=0>, <tf.Tensor: shape=(), dtype=int32, numpy=1>, <tf.Tensor: shape=(), dtype=int32, numpy=0>, <tf.Tensor: shape=(), dtype=int32, numpy=0>, <tf.Tensor: shape=(), dtype=int32, numpy=1>, <tf.Tensor: shape=(), dtype=int32, numpy=0>, <tf.Tensor: shape=(), dtype=int32, numpy=1>, <tf.Tensor: shape=(), dtype=int32, numpy=1>, <tf.Tensor: shape=(), dtype=int32, numpy=0>, <tf.Tensor: shape=(), dtype=int32, numpy=0>, <tf.Tensor: shape=(), dtype=int32, numpy=0>, <tf.Tensor: shape=(), dtype=int32, numpy=0>, <tf.Tensor: shape=(), dtype=int32, numpy=0>, <tf.Tensor: shape=(), dtype=int32, numpy=1>, <tf.Tensor: shape=(), dtype=int32, numpy=1>, <tf.Tensor: shape=(), dtype=int32, numpy=1>, <tf.Tensor: shape=(), dtype=int32, numpy=1>, <tf.Tensor: shape=(), dtype=int32, numpy=0>, <tf.Tensor: shape=(), dtype=int32, numpy=0>, <tf.Tensor: shape=(), dtype=int32, numpy=0>, <tf.Tensor: shape=(), dtype=int32, numpy=0>, <tf.Tensor: shape=(), dtype=int32, numpy=0>, <tf.Tensor: shape=(), dtype=int32, numpy=1>, <tf.Tensor: shape=(), dtype=int32, numpy=0>, <tf.Tensor: shape=(), dtype=int32, numpy=0>, <tf.Tensor: shape=(), dtype=int32, numpy=1>, <tf.Tensor: shape=(), dtype=int32, numpy=1>, <tf.Tensor: shape=(), dtype=int32, numpy=1>, <tf.Tensor: shape=(), dtype=int32, numpy=1>, <tf.Tensor: shape=(), dtype=int32, numpy=0>, <tf.Tensor: shape=(), dtype=int32, numpy=0>, <tf.Tensor: shape=(), dtype=int32, numpy=0>, <tf.Tensor: shape=(), dtype=int32, numpy=1>, <tf.Tensor: shape=(), dtype=int32, numpy=1>, <tf.Tensor: shape=(), dtype=int32, numpy=0>, <tf.Tensor: shape=(), dtype=int32, numpy=0>, <tf.Tensor: shape=(), dtype=int32, numpy=0>, <tf.Tensor: shape=(), dtype=int32, numpy=0>, <tf.Tensor: shape=(), dtype=int32, numpy=0>, <tf.Tensor: shape=(), dtype=int32, numpy=1>, <tf.Tensor: shape=(), dtype=int32, numpy=1>, <tf.Tensor: shape=(), dtype=int32, numpy=0>, <tf.Tensor: shape=(), dtype=int32, numpy=1>, <tf.Tensor: shape=(), dtype=int32, numpy=0>, <tf.Tensor: shape=(), dtype=int32, numpy=0>, <tf.Tensor: shape=(), dtype=int32, numpy=1>, <tf.Tensor: shape=(), dtype=int32, numpy=0>, <tf.Tensor: shape=(), dtype=int32, numpy=0>, <tf.Tensor: shape=(), dtype=int32, numpy=1>, <tf.Tensor: shape=(), dtype=int32, numpy=0>, <tf.Tensor: shape=(), dtype=int32, numpy=1>, <tf.Tensor: shape=(), dtype=int32, numpy=0>, <tf.Tensor: shape=(), dtype=int32, numpy=1>, <tf.Tensor: shape=(), dtype=int32, numpy=0>, <tf.Tensor: shape=(), dtype=int32, numpy=0>, <tf.Tensor: shape=(), dtype=int32, numpy=1>, <tf.Tensor: shape=(), dtype=int32, numpy=1>, <tf.Tensor: shape=(), dtype=int32, numpy=1>, <tf.Tensor: shape=(), dtype=int32, numpy=1>, <tf.Tensor: shape=(), dtype=int32, numpy=0>, <tf.Tensor: shape=(), dtype=int32, numpy=1>, <tf.Tensor: shape=(), dtype=int32, numpy=0>, <tf.Tensor: shape=(), dtype=int32, numpy=0>, <tf.Tensor: shape=(), dtype=int32, numpy=0>, <tf.Tensor: shape=(), dtype=int32, numpy=1>, <tf.Tensor: shape=(), dtype=int32, numpy=0>, <tf.Tensor: shape=(), dtype=int32, numpy=0>, <tf.Tensor: shape=(), dtype=int32, numpy=0>, <tf.Tensor: shape=(), dtype=int32, numpy=1>, <tf.Tensor: shape=(), dtype=int32, numpy=0>, <tf.Tensor: shape=(), dtype=int32, numpy=0>, <tf.Tensor: shape=(), dtype=int32, numpy=1>, <tf.Tensor: shape=(), dtype=int32, numpy=0>, <tf.Tensor: shape=(), dtype=int32, numpy=1>, <tf.Tensor: shape=(), dtype=int32, numpy=1>, <tf.Tensor: shape=(), dtype=int32, numpy=0>, <tf.Tensor: shape=(), dtype=int32, numpy=0>, <tf.Tensor: shape=(), dtype=int32, numpy=0>, <tf.Tensor: shape=(), dtype=int32, numpy=1>, <tf.Tensor: shape=(), dtype=int32, numpy=0>, <tf.Tensor: shape=(), dtype=int32, numpy=1>, <tf.Tensor: shape=(), dtype=int32, numpy=1>, <tf.Tensor: shape=(), dtype=int32, numpy=1>, <tf.Tensor: shape=(), dtype=int32, numpy=1>, <tf.Tensor: shape=(), dtype=int32, numpy=0>, <tf.Tensor: shape=(), dtype=int32, numpy=1>, <tf.Tensor: shape=(), dtype=int32, numpy=0>, <tf.Tensor: shape=(), dtype=int32, numpy=0>, <tf.Tensor: shape=(), dtype=int32, numpy=1>, <tf.Tensor: shape=(), dtype=int32, numpy=1>, <tf.Tensor: shape=(), dtype=int32, numpy=0>, <tf.Tensor: shape=(), dtype=int32, numpy=1>, <tf.Tensor: shape=(), dtype=int32, numpy=1>, <tf.Tensor: shape=(), dtype=int32, numpy=0>, <tf.Tensor: shape=(), dtype=int32, numpy=1>, <tf.Tensor: shape=(), dtype=int32, numpy=0>, <tf.Tensor: shape=(), dtype=int32, numpy=0>, <tf.Tensor: shape=(), dtype=int32, numpy=0>, <tf.Tensor: shape=(), dtype=int32, numpy=0>, <tf.Tensor: shape=(), dtype=int32, numpy=0>, <tf.Tensor: shape=(), dtype=int32, numpy=0>, <tf.Tensor: shape=(), dtype=int32, numpy=1>, <tf.Tensor: shape=(), dtype=int32, numpy=1>, <tf.Tensor: shape=(), dtype=int32, numpy=1>, <tf.Tensor: shape=(), dtype=int32, numpy=0>, <tf.Tensor: shape=(), dtype=int32, numpy=0>, <tf.Tensor: shape=(), dtype=int32, numpy=0>, <tf.Tensor: shape=(), dtype=int32, numpy=1>, <tf.Tensor: shape=(), dtype=int32, numpy=1>, <tf.Tensor: shape=(), dtype=int32, numpy=0>, <tf.Tensor: shape=(), dtype=int32, numpy=1>, <tf.Tensor: shape=(), dtype=int32, numpy=1>, <tf.Tensor: shape=(), dtype=int32, numpy=1>, <tf.Tensor: shape=(), dtype=int32, numpy=0>, <tf.Tensor: shape=(), dtype=int32, numpy=1>, <tf.Tensor: shape=(), dtype=int32, numpy=0>, <tf.Tensor: shape=(), dtype=int32, numpy=1>, <tf.Tensor: shape=(), dtype=int32, numpy=1>, <tf.Tensor: shape=(), dtype=int32, numpy=0>, <tf.Tensor: shape=(), dtype=int32, numpy=0>, <tf.Tensor: shape=(), dtype=int32, numpy=0>, <tf.Tensor: shape=(), dtype=int32, numpy=1>, <tf.Tensor: shape=(), dtype=int32, numpy=0>, <tf.Tensor: shape=(), dtype=int32, numpy=0>, <tf.Tensor: shape=(), dtype=int32, numpy=0>, <tf.Tensor: shape=(), dtype=int32, numpy=1>, <tf.Tensor: shape=(), dtype=int32, numpy=0>, <tf.Tensor: shape=(), dtype=int32, numpy=0>, <tf.Tensor: shape=(), dtype=int32, numpy=0>, <tf.Tensor: shape=(), dtype=int32, numpy=1>, <tf.Tensor: shape=(), dtype=int32, numpy=1>, <tf.Tensor: shape=(), dtype=int32, numpy=1>, <tf.Tensor: shape=(), dtype=int32, numpy=0>, <tf.Tensor: shape=(), dtype=int32, numpy=1>, <tf.Tensor: shape=(), dtype=int32, numpy=1>, <tf.Tensor: shape=(), dtype=int32, numpy=0>, <tf.Tensor: shape=(), dtype=int32, numpy=1>, <tf.Tensor: shape=(), dtype=int32, numpy=1>, <tf.Tensor: shape=(), dtype=int32, numpy=0>, <tf.Tensor: shape=(), dtype=int32, numpy=1>, <tf.Tensor: shape=(), dtype=int32, numpy=0>, <tf.Tensor: shape=(), dtype=int32, numpy=0>, <tf.Tensor: shape=(), dtype=int32, numpy=1>, <tf.Tensor: shape=(), dtype=int32, numpy=1>, <tf.Tensor: shape=(), dtype=int32, numpy=1>, <tf.Tensor: shape=(), dtype=int32, numpy=1>, <tf.Tensor: shape=(), dtype=int32, numpy=0>, <tf.Tensor: shape=(), dtype=int32, numpy=0>, <tf.Tensor: shape=(), dtype=int32, numpy=0>, <tf.Tensor: shape=(), dtype=int32, numpy=1>, <tf.Tensor: shape=(), dtype=int32, numpy=0>, <tf.Tensor: shape=(), dtype=int32, numpy=1>, <tf.Tensor: shape=(), dtype=int32, numpy=0>, <tf.Tensor: shape=(), dtype=int32, numpy=1>, <tf.Tensor: shape=(), dtype=int32, numpy=1>, <tf.Tensor: shape=(), dtype=int32, numpy=0>, <tf.Tensor: shape=(), dtype=int32, numpy=0>, <tf.Tensor: shape=(), dtype=int32, numpy=1>, <tf.Tensor: shape=(), dtype=int32, numpy=1>, <tf.Tensor: shape=(), dtype=int32, numpy=1>, <tf.Tensor: shape=(), dtype=int32, numpy=0>, <tf.Tensor: shape=(), dtype=int32, numpy=1>, <tf.Tensor: shape=(), dtype=int32, numpy=1>, <tf.Tensor: shape=(), dtype=int32, numpy=0>, <tf.Tensor: shape=(), dtype=int32, numpy=0>, <tf.Tensor: shape=(), dtype=int32, numpy=0>, <tf.Tensor: shape=(), dtype=int32, numpy=1>, <tf.Tensor: shape=(), dtype=int32, numpy=0>, <tf.Tensor: shape=(), dtype=int32, numpy=1>, <tf.Tensor: shape=(), dtype=int32, numpy=1>, <tf.Tensor: shape=(), dtype=int32, numpy=1>, <tf.Tensor: shape=(), dtype=int32, numpy=0>, <tf.Tensor: shape=(), dtype=int32, numpy=0>, <tf.Tensor: shape=(), dtype=int32, numpy=1>, <tf.Tensor: shape=(), dtype=int32, numpy=0>, <tf.Tensor: shape=(), dtype=int32, numpy=1>, <tf.Tensor: shape=(), dtype=int32, numpy=0>, <tf.Tensor: shape=(), dtype=int32, numpy=1>, <tf.Tensor: shape=(), dtype=int32, numpy=1>, <tf.Tensor: shape=(), dtype=int32, numpy=0>, <tf.Tensor: shape=(), dtype=int32, numpy=0>, <tf.Tensor: shape=(), dtype=int32, numpy=0>, <tf.Tensor: shape=(), dtype=int32, numpy=0>, <tf.Tensor: shape=(), dtype=int32, numpy=0>, <tf.Tensor: shape=(), dtype=int32, numpy=1>, <tf.Tensor: shape=(), dtype=int32, numpy=0>, <tf.Tensor: shape=(), dtype=int32, numpy=1>, <tf.Tensor: shape=(), dtype=int32, numpy=0>, <tf.Tensor: shape=(), dtype=int32, numpy=1>, <tf.Tensor: shape=(), dtype=int32, numpy=1>, <tf.Tensor: shape=(), dtype=int32, numpy=0>, <tf.Tensor: shape=(), dtype=int32, numpy=0>, <tf.Tensor: shape=(), dtype=int32, numpy=0>, <tf.Tensor: shape=(), dtype=int32, numpy=0>, <tf.Tensor: shape=(), dtype=int32, numpy=1>, <tf.Tensor: shape=(), dtype=int32, numpy=1>, <tf.Tensor: shape=(), dtype=int32, numpy=0>, <tf.Tensor: shape=(), dtype=int32, numpy=1>, <tf.Tensor: shape=(), dtype=int32, numpy=0>, <tf.Tensor: shape=(), dtype=int32, numpy=1>, <tf.Tensor: shape=(), dtype=int32, numpy=1>, <tf.Tensor: shape=(), dtype=int32, numpy=0>, <tf.Tensor: shape=(), dtype=int32, numpy=1>, <tf.Tensor: shape=(), dtype=int32, numpy=1>, <tf.Tensor: shape=(), dtype=int32, numpy=1>, <tf.Tensor: shape=(), dtype=int32, numpy=0>, <tf.Tensor: shape=(), dtype=int32, numpy=1>, <tf.Tensor: shape=(), dtype=int32, numpy=0>, <tf.Tensor: shape=(), dtype=int32, numpy=0>, <tf.Tensor: shape=(), dtype=int32, numpy=1>, <tf.Tensor: shape=(), dtype=int32, numpy=0>, <tf.Tensor: shape=(), dtype=int32, numpy=0>, <tf.Tensor: shape=(), dtype=int32, numpy=1>, <tf.Tensor: shape=(), dtype=int32, numpy=0>, <tf.Tensor: shape=(), dtype=int32, numpy=1>, <tf.Tensor: shape=(), dtype=int32, numpy=1>, <tf.Tensor: shape=(), dtype=int32, numpy=1>, <tf.Tensor: shape=(), dtype=int32, numpy=0>, <tf.Tensor: shape=(), dtype=int32, numpy=0>, <tf.Tensor: shape=(), dtype=int32, numpy=1>, <tf.Tensor: shape=(), dtype=int32, numpy=1>, <tf.Tensor: shape=(), dtype=int32, numpy=1>, <tf.Tensor: shape=(), dtype=int32, numpy=1>, <tf.Tensor: shape=(), dtype=int32, numpy=1>, <tf.Tensor: shape=(), dtype=int32, numpy=1>, <tf.Tensor: shape=(), dtype=int32, numpy=0>, <tf.Tensor: shape=(), dtype=int32, numpy=0>, <tf.Tensor: shape=(), dtype=int32, numpy=0>, <tf.Tensor: shape=(), dtype=int32, numpy=0>, <tf.Tensor: shape=(), dtype=int32, numpy=0>, <tf.Tensor: shape=(), dtype=int32, numpy=0>, <tf.Tensor: shape=(), dtype=int32, numpy=1>, <tf.Tensor: shape=(), dtype=int32, numpy=1>, <tf.Tensor: shape=(), dtype=int32, numpy=1>, <tf.Tensor: shape=(), dtype=int32, numpy=1>, <tf.Tensor: shape=(), dtype=int32, numpy=1>, <tf.Tensor: shape=(), dtype=int32, numpy=0>, <tf.Tensor: shape=(), dtype=int32, numpy=1>, <tf.Tensor: shape=(), dtype=int32, numpy=0>, <tf.Tensor: shape=(), dtype=int32, numpy=1>, <tf.Tensor: shape=(), dtype=int32, numpy=0>, <tf.Tensor: shape=(), dtype=int32, numpy=1>, <tf.Tensor: shape=(), dtype=int32, numpy=0>, <tf.Tensor: shape=(), dtype=int32, numpy=1>, <tf.Tensor: shape=(), dtype=int32, numpy=1>, <tf.Tensor: shape=(), dtype=int32, numpy=0>, <tf.Tensor: shape=(), dtype=int32, numpy=1>, <tf.Tensor: shape=(), dtype=int32, numpy=0>, <tf.Tensor: shape=(), dtype=int32, numpy=1>, <tf.Tensor: shape=(), dtype=int32, numpy=1>, <tf.Tensor: shape=(), dtype=int32, numpy=1>, <tf.Tensor: shape=(), dtype=int32, numpy=1>, <tf.Tensor: shape=(), dtype=int32, numpy=1>, <tf.Tensor: shape=(), dtype=int32, numpy=1>, <tf.Tensor: shape=(), dtype=int32, numpy=1>, <tf.Tensor: shape=(), dtype=int32, numpy=0>, <tf.Tensor: shape=(), dtype=int32, numpy=1>, <tf.Tensor: shape=(), dtype=int32, numpy=0>, <tf.Tensor: shape=(), dtype=int32, numpy=0>, <tf.Tensor: shape=(), dtype=int32, numpy=0>, <tf.Tensor: shape=(), dtype=int32, numpy=1>, <tf.Tensor: shape=(), dtype=int32, numpy=0>, <tf.Tensor: shape=(), dtype=int32, numpy=1>, <tf.Tensor: shape=(), dtype=int32, numpy=0>, <tf.Tensor: shape=(), dtype=int32, numpy=0>, <tf.Tensor: shape=(), dtype=int32, numpy=1>, <tf.Tensor: shape=(), dtype=int32, numpy=1>, <tf.Tensor: shape=(), dtype=int32, numpy=0>, <tf.Tensor: shape=(), dtype=int32, numpy=1>, <tf.Tensor: shape=(), dtype=int32, numpy=1>, <tf.Tensor: shape=(), dtype=int32, numpy=1>, <tf.Tensor: shape=(), dtype=int32, numpy=1>, <tf.Tensor: shape=(), dtype=int32, numpy=0>, <tf.Tensor: shape=(), dtype=int32, numpy=1>, <tf.Tensor: shape=(), dtype=int32, numpy=0>, <tf.Tensor: shape=(), dtype=int32, numpy=0>, <tf.Tensor: shape=(), dtype=int32, numpy=0>, <tf.Tensor: shape=(), dtype=int32, numpy=1>, <tf.Tensor: shape=(), dtype=int32, numpy=0>, <tf.Tensor: shape=(), dtype=int32, numpy=1>, <tf.Tensor: shape=(), dtype=int32, numpy=0>, <tf.Tensor: shape=(), dtype=int32, numpy=0>, <tf.Tensor: shape=(), dtype=int32, numpy=0>, <tf.Tensor: shape=(), dtype=int32, numpy=0>, <tf.Tensor: shape=(), dtype=int32, numpy=1>, <tf.Tensor: shape=(), dtype=int32, numpy=0>, <tf.Tensor: shape=(), dtype=int32, numpy=0>, <tf.Tensor: shape=(), dtype=int32, numpy=0>, <tf.Tensor: shape=(), dtype=int32, numpy=0>, <tf.Tensor: shape=(), dtype=int32, numpy=0>, <tf.Tensor: shape=(), dtype=int32, numpy=0>, <tf.Tensor: shape=(), dtype=int32, numpy=1>, <tf.Tensor: shape=(), dtype=int32, numpy=0>, <tf.Tensor: shape=(), dtype=int32, numpy=0>, <tf.Tensor: shape=(), dtype=int32, numpy=1>, <tf.Tensor: shape=(), dtype=int32, numpy=1>, <tf.Tensor: shape=(), dtype=int32, numpy=1>, <tf.Tensor: shape=(), dtype=int32, numpy=1>, <tf.Tensor: shape=(), dtype=int32, numpy=0>, <tf.Tensor: shape=(), dtype=int32, numpy=1>, <tf.Tensor: shape=(), dtype=int32, numpy=1>, <tf.Tensor: shape=(), dtype=int32, numpy=1>, <tf.Tensor: shape=(), dtype=int32, numpy=0>, <tf.Tensor: shape=(), dtype=int32, numpy=0>, <tf.Tensor: shape=(), dtype=int32, numpy=1>, <tf.Tensor: shape=(), dtype=int32, numpy=1>, <tf.Tensor: shape=(), dtype=int32, numpy=1>, <tf.Tensor: shape=(), dtype=int32, numpy=1>, <tf.Tensor: shape=(), dtype=int32, numpy=1>, <tf.Tensor: shape=(), dtype=int32, numpy=1>, <tf.Tensor: shape=(), dtype=int32, numpy=0>, <tf.Tensor: shape=(), dtype=int32, numpy=0>, <tf.Tensor: shape=(), dtype=int32, numpy=0>, <tf.Tensor: shape=(), dtype=int32, numpy=1>, <tf.Tensor: shape=(), dtype=int32, numpy=1>, <tf.Tensor: shape=(), dtype=int32, numpy=0>, <tf.Tensor: shape=(), dtype=int32, numpy=1>, <tf.Tensor: shape=(), dtype=int32, numpy=0>, <tf.Tensor: shape=(), dtype=int32, numpy=1>, <tf.Tensor: shape=(), dtype=int32, numpy=0>, <tf.Tensor: shape=(), dtype=int32, numpy=0>, <tf.Tensor: shape=(), dtype=int32, numpy=1>, <tf.Tensor: shape=(), dtype=int32, numpy=0>, <tf.Tensor: shape=(), dtype=int32, numpy=0>, <tf.Tensor: shape=(), dtype=int32, numpy=0>, <tf.Tensor: shape=(), dtype=int32, numpy=1>, <tf.Tensor: shape=(), dtype=int32, numpy=1>, <tf.Tensor: shape=(), dtype=int32, numpy=1>, <tf.Tensor: shape=(), dtype=int32, numpy=1>, <tf.Tensor: shape=(), dtype=int32, numpy=0>, <tf.Tensor: shape=(), dtype=int32, numpy=0>, <tf.Tensor: shape=(), dtype=int32, numpy=1>, <tf.Tensor: shape=(), dtype=int32, numpy=1>, <tf.Tensor: shape=(), dtype=int32, numpy=1>, <tf.Tensor: shape=(), dtype=int32, numpy=1>, <tf.Tensor: shape=(), dtype=int32, numpy=0>, <tf.Tensor: shape=(), dtype=int32, numpy=0>, <tf.Tensor: shape=(), dtype=int32, numpy=1>, <tf.Tensor: shape=(), dtype=int32, numpy=1>, <tf.Tensor: shape=(), dtype=int32, numpy=1>, <tf.Tensor: shape=(), dtype=int32, numpy=0>, <tf.Tensor: shape=(), dtype=int32, numpy=1>, <tf.Tensor: shape=(), dtype=int32, numpy=1>, <tf.Tensor: shape=(), dtype=int32, numpy=1>, <tf.Tensor: shape=(), dtype=int32, numpy=1>, <tf.Tensor: shape=(), dtype=int32, numpy=0>, <tf.Tensor: shape=(), dtype=int32, numpy=1>, <tf.Tensor: shape=(), dtype=int32, numpy=1>, <tf.Tensor: shape=(), dtype=int32, numpy=0>, <tf.Tensor: shape=(), dtype=int32, numpy=0>, <tf.Tensor: shape=(), dtype=int32, numpy=1>, <tf.Tensor: shape=(), dtype=int32, numpy=0>, <tf.Tensor: shape=(), dtype=int32, numpy=0>, <tf.Tensor: shape=(), dtype=int32, numpy=0>, <tf.Tensor: shape=(), dtype=int32, numpy=0>, <tf.Tensor: shape=(), dtype=int32, numpy=0>, <tf.Tensor: shape=(), dtype=int32, numpy=0>, <tf.Tensor: shape=(), dtype=int32, numpy=1>, <tf.Tensor: shape=(), dtype=int32, numpy=1>, <tf.Tensor: shape=(), dtype=int32, numpy=0>, <tf.Tensor: shape=(), dtype=int32, numpy=0>, <tf.Tensor: shape=(), dtype=int32, numpy=0>, <tf.Tensor: shape=(), dtype=int32, numpy=1>, <tf.Tensor: shape=(), dtype=int32, numpy=1>, <tf.Tensor: shape=(), dtype=int32, numpy=0>, <tf.Tensor: shape=(), dtype=int32, numpy=1>, <tf.Tensor: shape=(), dtype=int32, numpy=0>, <tf.Tensor: shape=(), dtype=int32, numpy=1>, <tf.Tensor: shape=(), dtype=int32, numpy=1>, <tf.Tensor: shape=(), dtype=int32, numpy=0>, <tf.Tensor: shape=(), dtype=int32, numpy=0>, <tf.Tensor: shape=(), dtype=int32, numpy=0>, <tf.Tensor: shape=(), dtype=int32, numpy=1>, <tf.Tensor: shape=(), dtype=int32, numpy=0>, <tf.Tensor: shape=(), dtype=int32, numpy=1>, <tf.Tensor: shape=(), dtype=int32, numpy=0>, <tf.Tensor: shape=(), dtype=int32, numpy=0>, <tf.Tensor: shape=(), dtype=int32, numpy=0>, <tf.Tensor: shape=(), dtype=int32, numpy=0>, <tf.Tensor: shape=(), dtype=int32, numpy=0>, <tf.Tensor: shape=(), dtype=int32, numpy=0>, <tf.Tensor: shape=(), dtype=int32, numpy=0>, <tf.Tensor: shape=(), dtype=int32, numpy=0>, <tf.Tensor: shape=(), dtype=int32, numpy=0>, <tf.Tensor: shape=(), dtype=int32, numpy=1>, <tf.Tensor: shape=(), dtype=int32, numpy=0>, <tf.Tensor: shape=(), dtype=int32, numpy=0>, <tf.Tensor: shape=(), dtype=int32, numpy=1>, <tf.Tensor: shape=(), dtype=int32, numpy=0>, <tf.Tensor: shape=(), dtype=int32, numpy=0>, <tf.Tensor: shape=(), dtype=int32, numpy=0>, <tf.Tensor: shape=(), dtype=int32, numpy=0>, <tf.Tensor: shape=(), dtype=int32, numpy=0>, <tf.Tensor: shape=(), dtype=int32, numpy=0>, <tf.Tensor: shape=(), dtype=int32, numpy=1>, <tf.Tensor: shape=(), dtype=int32, numpy=0>, <tf.Tensor: shape=(), dtype=int32, numpy=0>, <tf.Tensor: shape=(), dtype=int32, numpy=1>, <tf.Tensor: shape=(), dtype=int32, numpy=0>, <tf.Tensor: shape=(), dtype=int32, numpy=1>, <tf.Tensor: shape=(), dtype=int32, numpy=1>, <tf.Tensor: shape=(), dtype=int32, numpy=1>, <tf.Tensor: shape=(), dtype=int32, numpy=1>, <tf.Tensor: shape=(), dtype=int32, numpy=1>, <tf.Tensor: shape=(), dtype=int32, numpy=0>, <tf.Tensor: shape=(), dtype=int32, numpy=1>, <tf.Tensor: shape=(), dtype=int32, numpy=1>, <tf.Tensor: shape=(), dtype=int32, numpy=0>, <tf.Tensor: shape=(), dtype=int32, numpy=0>, <tf.Tensor: shape=(), dtype=int32, numpy=1>, <tf.Tensor: shape=(), dtype=int32, numpy=1>, <tf.Tensor: shape=(), dtype=int32, numpy=1>, <tf.Tensor: shape=(), dtype=int32, numpy=1>, <tf.Tensor: shape=(), dtype=int32, numpy=0>, <tf.Tensor: shape=(), dtype=int32, numpy=0>, <tf.Tensor: shape=(), dtype=int32, numpy=1>, <tf.Tensor: shape=(), dtype=int32, numpy=1>, <tf.Tensor: shape=(), dtype=int32, numpy=1>, <tf.Tensor: shape=(), dtype=int32, numpy=1>, <tf.Tensor: shape=(), dtype=int32, numpy=1>, <tf.Tensor: shape=(), dtype=int32, numpy=1>, <tf.Tensor: shape=(), dtype=int32, numpy=1>, <tf.Tensor: shape=(), dtype=int32, numpy=1>, <tf.Tensor: shape=(), dtype=int32, numpy=1>, <tf.Tensor: shape=(), dtype=int32, numpy=0>, <tf.Tensor: shape=(), dtype=int32, numpy=0>, <tf.Tensor: shape=(), dtype=int32, numpy=0>, <tf.Tensor: shape=(), dtype=int32, numpy=1>, <tf.Tensor: shape=(), dtype=int32, numpy=1>, <tf.Tensor: shape=(), dtype=int32, numpy=0>, <tf.Tensor: shape=(), dtype=int32, numpy=0>, <tf.Tensor: shape=(), dtype=int32, numpy=1>, <tf.Tensor: shape=(), dtype=int32, numpy=1>]\n",
            "0\n",
            "28 ERROR: more tokens than actions...\n",
            "model output time:  97.13775706291199\n",
            "64 total logits\n",
            "logprobs\n",
            "64 [<tf.Tensor: shape=(), dtype=float32, numpy=-364.98438>, <tf.Tensor: shape=(), dtype=float32, numpy=-365.21628>, <tf.Tensor: shape=(), dtype=float32, numpy=-365.6937>, <tf.Tensor: shape=(), dtype=float32, numpy=-365.31265>, <tf.Tensor: shape=(), dtype=float32, numpy=-365.32242>, <tf.Tensor: shape=(), dtype=float32, numpy=-365.35208>, <tf.Tensor: shape=(), dtype=float32, numpy=-365.14>, <tf.Tensor: shape=(), dtype=float32, numpy=-365.03595>, <tf.Tensor: shape=(), dtype=float32, numpy=-365.70718>, <tf.Tensor: shape=(), dtype=float32, numpy=-364.94626>, <tf.Tensor: shape=(), dtype=float32, numpy=-365.37225>, <tf.Tensor: shape=(), dtype=float32, numpy=-365.307>, <tf.Tensor: shape=(), dtype=float32, numpy=-365.016>, <tf.Tensor: shape=(), dtype=float32, numpy=-364.42233>, <tf.Tensor: shape=(), dtype=float32, numpy=-365.45917>, <tf.Tensor: shape=(), dtype=float32, numpy=-364.96967>, <tf.Tensor: shape=(), dtype=float32, numpy=-365.2265>, <tf.Tensor: shape=(), dtype=float32, numpy=-365.30844>, <tf.Tensor: shape=(), dtype=float32, numpy=-365.23706>, <tf.Tensor: shape=(), dtype=float32, numpy=-365.11255>, <tf.Tensor: shape=(), dtype=float32, numpy=-365.66183>, <tf.Tensor: shape=(), dtype=float32, numpy=-365.14676>, <tf.Tensor: shape=(), dtype=float32, numpy=-365.5002>, <tf.Tensor: shape=(), dtype=float32, numpy=-365.3193>, <tf.Tensor: shape=(), dtype=float32, numpy=-365.30338>, <tf.Tensor: shape=(), dtype=float32, numpy=-365.50815>, <tf.Tensor: shape=(), dtype=float32, numpy=-364.93427>, <tf.Tensor: shape=(), dtype=float32, numpy=-365.30237>, <tf.Tensor: shape=(), dtype=float32, numpy=-365.4249>, <tf.Tensor: shape=(), dtype=float32, numpy=-365.40863>, <tf.Tensor: shape=(), dtype=float32, numpy=-364.9475>, <tf.Tensor: shape=(), dtype=float32, numpy=-365.2714>, <tf.Tensor: shape=(), dtype=float32, numpy=-365.04025>, <tf.Tensor: shape=(), dtype=float32, numpy=-365.36917>, <tf.Tensor: shape=(), dtype=float32, numpy=-365.5704>, <tf.Tensor: shape=(), dtype=float32, numpy=-365.07254>, <tf.Tensor: shape=(), dtype=float32, numpy=-365.13794>, <tf.Tensor: shape=(), dtype=float32, numpy=-365.6729>, <tf.Tensor: shape=(), dtype=float32, numpy=-364.79633>, <tf.Tensor: shape=(), dtype=float32, numpy=-365.27362>, <tf.Tensor: shape=(), dtype=float32, numpy=-364.8107>, <tf.Tensor: shape=(), dtype=float32, numpy=-364.66452>, <tf.Tensor: shape=(), dtype=float32, numpy=-365.56033>, <tf.Tensor: shape=(), dtype=float32, numpy=-365.14783>, <tf.Tensor: shape=(), dtype=float32, numpy=-365.37143>, <tf.Tensor: shape=(), dtype=float32, numpy=-365.5781>, <tf.Tensor: shape=(), dtype=float32, numpy=-365.32645>, <tf.Tensor: shape=(), dtype=float32, numpy=-364.7287>, <tf.Tensor: shape=(), dtype=float32, numpy=-365.36627>, <tf.Tensor: shape=(), dtype=float32, numpy=-365.22504>, <tf.Tensor: shape=(), dtype=float32, numpy=-365.2799>, <tf.Tensor: shape=(), dtype=float32, numpy=-365.3335>, <tf.Tensor: shape=(), dtype=float32, numpy=-365.24725>, <tf.Tensor: shape=(), dtype=float32, numpy=-365.3866>, <tf.Tensor: shape=(), dtype=float32, numpy=-364.64713>, <tf.Tensor: shape=(), dtype=float32, numpy=-365.49496>, <tf.Tensor: shape=(), dtype=float32, numpy=-364.87827>, <tf.Tensor: shape=(), dtype=float32, numpy=-365.55545>, <tf.Tensor: shape=(), dtype=float32, numpy=-365.37253>, <tf.Tensor: shape=(), dtype=float32, numpy=-365.2534>, <tf.Tensor: shape=(), dtype=float32, numpy=-365.5773>, <tf.Tensor: shape=(), dtype=float32, numpy=-365.11505>, <tf.Tensor: shape=(), dtype=float32, numpy=-365.36172>, <tf.Tensor: shape=(), dtype=float32, numpy=-365.5621>]\n",
            "(64, 1) \n",
            " tf.Tensor(\n",
            "[[ 1.3135264 ]\n",
            " [ 2.7464232 ]\n",
            " [-2.2940912 ]\n",
            " [-2.2411768 ]\n",
            " [ 0.16803402]\n",
            " [ 4.1551595 ]\n",
            " [-1.2712741 ]\n",
            " [ 1.1379739 ]\n",
            " [-4.018515  ]\n",
            " [-3.300667  ]\n",
            " [ 3.0996637 ]\n",
            " [ 1.6015501 ]\n",
            " [-0.44638643]\n",
            " [-1.0717235 ]\n",
            " [ 3.5004394 ]\n",
            " [-2.3511865 ]\n",
            " [ 1.6355333 ]\n",
            " [-1.0078788 ]\n",
            " [ 3.98944   ]\n",
            " [-3.7772737 ]\n",
            " [ 4.2877913 ]\n",
            " [ 2.0764692 ]\n",
            " [-2.2009294 ]\n",
            " [-4.3043866 ]\n",
            " [ 2.2826889 ]\n",
            " [ 1.1368725 ]\n",
            " [ 1.8870665 ]\n",
            " [ 1.5770016 ]\n",
            " [ 0.3591026 ]\n",
            " [-3.180135  ]\n",
            " [-0.59296215]\n",
            " [ 1.4546843 ]\n",
            " [ 3.7191064 ]\n",
            " [-2.763549  ]\n",
            " [ 1.8688052 ]\n",
            " [-1.3368933 ]\n",
            " [-2.7700295 ]\n",
            " [ 1.1130369 ]\n",
            " [-0.21574892]\n",
            " [ 3.5950758 ]\n",
            " [-2.8300827 ]\n",
            " [-0.5517003 ]\n",
            " [-3.3676972 ]\n",
            " [-4.0060062 ]\n",
            " [-1.769576  ]\n",
            " [ 1.8952905 ]\n",
            " [-0.63533515]\n",
            " [ 4.241483  ]\n",
            " [ 0.1990538 ]\n",
            " [-2.5230749 ]\n",
            " [-2.1307817 ]\n",
            " [-3.6677723 ]\n",
            " [-3.179596  ]\n",
            " [ 1.2836742 ]\n",
            " [ 1.0675124 ]\n",
            " [ 4.267306  ]\n",
            " [-1.9291666 ]\n",
            " [ 2.3912423 ]\n",
            " [ 2.0166824 ]\n",
            " [-1.5091131 ]\n",
            " [ 2.3496833 ]\n",
            " [-1.9390488 ]\n",
            " [ 1.3526567 ]\n",
            " [-0.15541807]], shape=(64, 1), dtype=float32)\n",
            "labels (64,) \n",
            " tf.Tensor(\n",
            "[1 1 0 0 0 1 0 1 0 0 1 1 0 0 1 0 0 0 1 0 1 1 1 0 1 1 1 1 1 0 1 0 1 0 0 1 0\n",
            " 1 0 1 0 0 0 0 0 0 1 1 0 0 0 0 0 1 1 1 0 1 1 0 1 0 1 1], shape=(64,), dtype=int32)\n",
            "loss object: tf.Tensor(\n",
            "[ 0.9372479   5.366618    7.9696302   7.678389    0.3498275  13.724415\n",
            "  3.3320599   0.67694736 20.525776   14.576298    7.089491    1.4978359\n",
            "  1.1160729   2.6711981   9.346399    8.290165    1.5749214   2.4765773\n",
            " 12.535236   18.411406   14.715731    2.7845197   7.460615   23.181993\n",
            "  3.4836888   0.67550886  2.2172995   1.4435887   0.26544902 13.678389\n",
            "  1.4104111   1.1912558  10.7132435  10.798767    2.1664028   3.5667744\n",
            " 10.840904    0.6449716   0.7399294   9.926216   11.235386    1.323208\n",
            " 15.088216   20.41328     5.330051    2.2404385   1.5035068  14.365618\n",
            "  0.3311641   9.29451     7.0887995  17.490082   13.674439    0.8886351\n",
            "  0.5898051  14.560322    6.074939    3.8858986   2.5977218   4.2237506\n",
            "  3.7291307   6.122739    1.003669    0.659091  ], shape=(64,), dtype=float32)\n",
            "logprob_sums:\n",
            "\t tf.Tensor(\n",
            "[ 342.08084 1959.9763  2914.4436  2805.0127   127.79983 5014.2437\n",
            " 1216.6683   247.11012 7506.424   5319.5654  2590.3032   547.1699\n",
            "  407.38446  973.4443  3415.7273  3025.6587   575.203    904.7146\n",
            " 4578.333   6722.2354  5380.981   1016.75836 2726.8564  8468.83\n",
            " 1272.6033   246.90399  809.1686   527.3464    97.00168 4998.201\n",
            "  514.726    435.13168 3910.7651  3945.5366   791.9728  1302.1313\n",
            " 3958.4255   235.84865  269.92352 3625.785   4098.789    482.527\n",
            " 5515.6533  7453.865   1947.4484   819.05524  549.2708  5239.553\n",
            "  120.99619 3394.5876  2589.396   6389.713   4994.5513   324.69534\n",
            "  215.07074 5321.724   2216.613   1420.5114   949.13617 1542.7393\n",
            " 1363.2855  2235.5042   366.70224  240.93869], shape=(64,), dtype=float32)\n",
            "gradients[0]: IndexedSlices(indices=tf.Tensor([  4 663 215 ...   0   0   0], shape=(33728,), dtype=int64), values=tf.Tensor(\n",
            "[[-0.00147485  0.01800362 -0.00385661 ... -0.026784    0.01035845\n",
            "   0.00498402]\n",
            " [-0.00511422  0.02010512 -0.0124301  ... -0.01198942 -0.00827569\n",
            "  -0.00811101]\n",
            " [-0.01508768 -0.00059913 -0.00298086 ... -0.00047211 -0.00015091\n",
            "  -0.0359831 ]\n",
            " ...\n",
            " [ 0.          0.          0.         ...  0.          0.\n",
            "   0.        ]\n",
            " [ 0.          0.          0.         ...  0.          0.\n",
            "   0.        ]\n",
            " [ 0.          0.          0.         ...  0.          0.\n",
            "   0.        ]], shape=(33728, 64), dtype=float32), dense_shape=tf.Tensor([1000   64], shape=(2,), dtype=int32))\n",
            "optimizer step success.\n",
            "model output time:  144.1830759048462\n",
            "64 total logits\n",
            "logprobs\n",
            "64 [<tf.Tensor: shape=(), dtype=float32, numpy=-532.73773>, <tf.Tensor: shape=(), dtype=float32, numpy=-531.7609>, <tf.Tensor: shape=(), dtype=float32, numpy=-532.2547>, <tf.Tensor: shape=(), dtype=float32, numpy=-532.0609>, <tf.Tensor: shape=(), dtype=float32, numpy=-532.0148>, <tf.Tensor: shape=(), dtype=float32, numpy=-531.6073>, <tf.Tensor: shape=(), dtype=float32, numpy=-532.36664>, <tf.Tensor: shape=(), dtype=float32, numpy=-531.84094>, <tf.Tensor: shape=(), dtype=float32, numpy=-532.3214>, <tf.Tensor: shape=(), dtype=float32, numpy=-532.356>, <tf.Tensor: shape=(), dtype=float32, numpy=-531.7249>, <tf.Tensor: shape=(), dtype=float32, numpy=-532.02234>, <tf.Tensor: shape=(), dtype=float32, numpy=-531.1907>, <tf.Tensor: shape=(), dtype=float32, numpy=-532.15137>, <tf.Tensor: shape=(), dtype=float32, numpy=-532.2315>, <tf.Tensor: shape=(), dtype=float32, numpy=-531.7734>, <tf.Tensor: shape=(), dtype=float32, numpy=-532.2607>, <tf.Tensor: shape=(), dtype=float32, numpy=-532.30975>, <tf.Tensor: shape=(), dtype=float32, numpy=-532.20624>, <tf.Tensor: shape=(), dtype=float32, numpy=-532.4896>, <tf.Tensor: shape=(), dtype=float32, numpy=-532.4472>, <tf.Tensor: shape=(), dtype=float32, numpy=-532.65564>, <tf.Tensor: shape=(), dtype=float32, numpy=-532.2655>, <tf.Tensor: shape=(), dtype=float32, numpy=-532.6554>, <tf.Tensor: shape=(), dtype=float32, numpy=-532.16565>, <tf.Tensor: shape=(), dtype=float32, numpy=-531.6062>, <tf.Tensor: shape=(), dtype=float32, numpy=-532.4649>, <tf.Tensor: shape=(), dtype=float32, numpy=-531.81964>, <tf.Tensor: shape=(), dtype=float32, numpy=-532.6808>, <tf.Tensor: shape=(), dtype=float32, numpy=-532.4003>, <tf.Tensor: shape=(), dtype=float32, numpy=-532.4054>, <tf.Tensor: shape=(), dtype=float32, numpy=-532.4245>, <tf.Tensor: shape=(), dtype=float32, numpy=-532.32794>, <tf.Tensor: shape=(), dtype=float32, numpy=-531.7608>, <tf.Tensor: shape=(), dtype=float32, numpy=-532.4119>, <tf.Tensor: shape=(), dtype=float32, numpy=-531.9529>, <tf.Tensor: shape=(), dtype=float32, numpy=-532.3653>, <tf.Tensor: shape=(), dtype=float32, numpy=-532.32965>, <tf.Tensor: shape=(), dtype=float32, numpy=-532.53467>, <tf.Tensor: shape=(), dtype=float32, numpy=-531.9739>, <tf.Tensor: shape=(), dtype=float32, numpy=-532.94495>, <tf.Tensor: shape=(), dtype=float32, numpy=-532.31354>, <tf.Tensor: shape=(), dtype=float32, numpy=-532.23175>, <tf.Tensor: shape=(), dtype=float32, numpy=-531.6539>, <tf.Tensor: shape=(), dtype=float32, numpy=-532.6726>, <tf.Tensor: shape=(), dtype=float32, numpy=-531.7282>, <tf.Tensor: shape=(), dtype=float32, numpy=-532.0274>, <tf.Tensor: shape=(), dtype=float32, numpy=-532.69214>, <tf.Tensor: shape=(), dtype=float32, numpy=-532.2978>, <tf.Tensor: shape=(), dtype=float32, numpy=-532.35657>, <tf.Tensor: shape=(), dtype=float32, numpy=-532.1084>, <tf.Tensor: shape=(), dtype=float32, numpy=-532.09955>, <tf.Tensor: shape=(), dtype=float32, numpy=-531.91473>, <tf.Tensor: shape=(), dtype=float32, numpy=-532.9139>, <tf.Tensor: shape=(), dtype=float32, numpy=-531.3278>, <tf.Tensor: shape=(), dtype=float32, numpy=-532.0936>, <tf.Tensor: shape=(), dtype=float32, numpy=-531.7039>, <tf.Tensor: shape=(), dtype=float32, numpy=-532.6427>, <tf.Tensor: shape=(), dtype=float32, numpy=-532.4878>, <tf.Tensor: shape=(), dtype=float32, numpy=-531.7862>, <tf.Tensor: shape=(), dtype=float32, numpy=-532.2011>, <tf.Tensor: shape=(), dtype=float32, numpy=-532.511>, <tf.Tensor: shape=(), dtype=float32, numpy=-532.61584>, <tf.Tensor: shape=(), dtype=float32, numpy=-532.0209>]\n",
            "(64, 1) \n",
            " tf.Tensor(\n",
            "[[ 0.2388717 ]\n",
            " [-4.4627333 ]\n",
            " [-1.4229742 ]\n",
            " [ 0.26793566]\n",
            " [ 2.2353816 ]\n",
            " [-2.0654671 ]\n",
            " [ 2.9090087 ]\n",
            " [ 3.228697  ]\n",
            " [ 2.430164  ]\n",
            " [ 1.8348727 ]\n",
            " [-1.9863187 ]\n",
            " [-4.8907924 ]\n",
            " [-0.9840919 ]\n",
            " [ 2.7797568 ]\n",
            " [-4.8799973 ]\n",
            " [ 0.36550367]\n",
            " [ 3.4812057 ]\n",
            " [ 1.5213417 ]\n",
            " [-2.635526  ]\n",
            " [-3.3994257 ]\n",
            " [ 0.8396233 ]\n",
            " [ 1.4969596 ]\n",
            " [-0.7456328 ]\n",
            " [-1.5163628 ]\n",
            " [ 2.628058  ]\n",
            " [ 2.2655385 ]\n",
            " [-0.03205836]\n",
            " [ 0.66942805]\n",
            " [ 1.7416949 ]\n",
            " [ 2.2783709 ]\n",
            " [-0.32639402]\n",
            " [-3.0138881 ]\n",
            " [ 1.6622041 ]\n",
            " [ 3.5908182 ]\n",
            " [-4.82394   ]\n",
            " [ 2.6260598 ]\n",
            " [ 2.1239345 ]\n",
            " [ 3.2826777 ]\n",
            " [-2.0529597 ]\n",
            " [-1.9036891 ]\n",
            " [-3.546582  ]\n",
            " [-1.7387192 ]\n",
            " [-0.01358428]\n",
            " [-3.1748276 ]\n",
            " [-4.2135634 ]\n",
            " [-3.6043305 ]\n",
            " [-0.5638287 ]\n",
            " [-3.2087247 ]\n",
            " [-0.7832872 ]\n",
            " [-0.95411414]\n",
            " [-1.2127379 ]\n",
            " [-4.641087  ]\n",
            " [ 0.9877017 ]\n",
            " [-4.3823385 ]\n",
            " [-0.71239555]\n",
            " [ 3.47486   ]\n",
            " [-2.7482314 ]\n",
            " [ 3.7606006 ]\n",
            " [-1.5000902 ]\n",
            " [ 2.3160708 ]\n",
            " [ 0.67828935]\n",
            " [ 2.5512097 ]\n",
            " [-1.4885118 ]\n",
            " [-2.1829422 ]], shape=(64, 1), dtype=float32)\n",
            "labels (64,) \n",
            " tf.Tensor(\n",
            "[0 0 0 0 1 0 1 1 1 0 0 0 1 1 0 1 1 1 0 0 0 1 1 1 1 1 0 0 1 1 0 0 1 1 0 1 1\n",
            " 1 0 1 0 1 0 0 0 1 0 0 0 0 0 0 1 0 0 1 0 1 0 0 1 1 0 0], shape=(64,), dtype=int32)\n",
            "loss object: tf.Tensor(\n",
            "[ 0.29370722 24.413465    3.7675505   0.28209785  3.4242415   6.5911093\n",
            "  6.2791677   7.951603    4.1564865   2.1570296   6.198688   28.805256\n",
            "  2.313395    5.6610184  28.689995    0.25548023  9.417076    1.3888897\n",
            "  9.787568   15.089949    0.3971837   1.3373933   1.684823    4.126684\n",
            "  4.978136    3.5326452   0.48320562  0.29458976  1.9082152   3.5793252\n",
            "  0.85545266 12.267983    1.7096751  10.09292    28.095215    4.969448\n",
            "  3.0394073   8.254171    6.528263    5.802376   16.24546     5.051984\n",
            "  0.46562028 13.409843   22.025784   16.710749    1.2819976  13.656948\n",
            "  1.776518    2.2281246   3.0229025  26.1988      0.53357506 23.629513\n",
            "  1.606241    9.378685   10.496485   11.187197    4.062852    3.7183697\n",
            "  0.29850173  4.649762    4.017756    7.1966524 ], shape=(64,), dtype=float32)\n",
            "logprob_sums:\n",
            "\t tf.Tensor(\n",
            "[  156.46892 12982.127    2005.2964    150.09323  1821.7471   3503.8818\n",
            "  3342.8193   4228.988    2212.5867   1148.3077   3295.9968  15325.04\n",
            "  1228.8539   3012.5186  15269.719     135.85759  5012.3394    739.3195\n",
            "  5209.005    8035.241     211.47934   712.37006   896.7732   2198.1006\n",
            "  2649.193    1877.9761    257.29004   156.66862  1016.46954  1905.6339\n",
            "   455.4476   6531.775     910.1078   5367.0195  14958.228    2643.5122\n",
            "  1618.075    4393.94     3476.5264   3086.7124   8657.937    2689.2395\n",
            "   247.8179   7129.395   11732.531    8885.576     682.05786  7274.9487\n",
            "   945.6366   1186.1567   1608.5118  13940.369     283.81644 12592.495\n",
            "   853.44055  4990.3384   5581.022    5958.779    2163.419    1977.3777\n",
            "   158.86295  2476.0493   2139.9204   3828.7693 ], shape=(64,), dtype=float32)\n",
            "gradients[0]: IndexedSlices(indices=tf.Tensor([47 93 24 ...  0  0  0], shape=(49152,), dtype=int64), values=tf.Tensor(\n",
            "[[ 0.00558142  0.0013244  -0.00205897 ... -0.00162612 -0.00018317\n",
            "   0.00781949]\n",
            " [ 0.009917    0.00200349 -0.01030624 ... -0.01247898 -0.00036055\n",
            "   0.01808277]\n",
            " [ 0.0094798   0.00082037 -0.01247258 ... -0.01362152 -0.00325478\n",
            "   0.01342037]\n",
            " ...\n",
            " [ 0.          0.          0.         ...  0.          0.\n",
            "   0.        ]\n",
            " [ 0.          0.          0.         ...  0.          0.\n",
            "   0.        ]\n",
            " [ 0.          0.          0.         ...  0.          0.\n",
            "   0.        ]], shape=(49152, 64), dtype=float32), dense_shape=tf.Tensor([1000   64], shape=(2,), dtype=int32))\n",
            "optimizer step success.\n",
            "['it!', 'enjoy', \"You'll\", 'out.', 'it', 'check', 'eyes,', 'your', 'in', 'appeal', 'enough', 'with', 'movie', 'the', 'provides', 'summary', 'my', 'If', 'movies.', 'horror', 'portmanteau', 'of', 'fans', 'or', 'movies', 'Amicus', 'other', 'of', 'fans', 'anthologies,', 'Amicus', 'the', 'of', 'fans', 'for', 'must-see', 'a', 'is', 'flaws', 'its', 'despite', 'BLOOD,', 'DRIPPED', 'THAT', 'HOUSE', 'THE', '/>Overall,', '/><br', 'movies.<br', 'later', 'four', 'the', 'in', 'found', 'be', 'can', 'that', 'ambition', 'the', 'lacking', 'and', 'restrained', 'too', 'just', 'was', 'script', 'the', 'think', 'I', 'got.', \"he's\", 'what', 'with', 'best', 'his', 'does', 'really', 'who', 'director,', 'the', 'Duffell,', 'Peter', 'with', 'lie', \"doesn't\", 'movie', 'magnificent', 'truly', 'a', 'been', 'have', 'should', 'what', 'in', 'shortcomings', 'the', 'for', 'blame', 'the', 'that', 'convinced', \"/>I'm\", '/><br', 'ending.<br', 'comical', 'unintentionally', 'somewhat', 'if', 'decent', 'a', 'have', 'does', 'it', 'is,', 'story', 'linking', 'the', 'as', 'weak', 'As', 'yourself.', 'for', 'out', 'work', 'to', 'able', 'be', \"you'll\", 'rest', 'The', 'house.', 'the', 'visit', 'to', 'decides', 'naturally', 'and', 'Pertwee', 'for', 'looking', 'was', 'inspector', 'the', 'since', 'fitting', 'particularly', 'is', 'This', 'story.', 'final', 'the', 'to', 'connection', 'loose', 'a', 'with', 'finishes', 'story', 'linking', '/>The', '/><br', 'larger.<br', 'much', 'been', 'have', 'should', 'that', 'role', 'a', 'in', 'wasted', 'is', 'talent', 'her', 'but', 'story', 'this', 'in', 'also', 'is', 'Pitt', 'Ingrid', 'hilarious.', 'is', 'truly', 'It', 'believed.', 'be', 'to', 'seen', 'be', 'to', 'has', 'performance', \"Pertwee's\", 'vampire.', 'a', 'into', 'transforming', 'basically', 'and', 'fangs', 'developing', 'starts', 'he', 'on,', 'cloak', 'the', 'puts', 'Pertwee', 'When', 'cloak.', 'ancient', 'an', 'Pertwee', 'sells', 'who', 'dealer', 'a', 'as', 'cameo', 'excellent', 'an', 'has', 'Bayldon', 'Geoffrey', 'role.', 'vampire', 'latest', 'his', 'for', 'cloak', 'authentic', 'an', 'buy', 'to', 'decides', 'he', 'So', 'costumes.', 'the', 'particularly', 'fake,', 'and', 'cheap', 'as', 'everything', 'seeing', 'movies,', 'to', 'take', 'producers', 'his', 'approach', 'the', 'at', 'dissatisfied', 'very', 'is', 'He', 'house.', 'the', 'into', 'moves', 'who', 'actor', 'movie', 'horror', 'a', 'plays', 'Pertwee', 'Jon', 'matters.', 'what', \"that's\", 'and', 'entertain', 'does', 'certainly', 'it', 'but', 'laughs', 'for', 'entirely', 'almost', 'played', 'is', 'story', 'final', '/>The', '/><br', 'story.<br', 'one', 'this', 'just', 'seeing', 'of', 'sake', 'the', 'for', 'even', 'seeing', 'worth', 'is', 'movie', 'The', 'movie.', 'whole', 'the', 'in', 'character', 'creepiest', 'the', 'easily', 'is', 'who', 'girl', 'little', 'the', 'as', 'performance', 'underrated', 'massively', 'her', 'for', 'recognition', 'special', 'deserves', 'Franks', 'Chloe', 'in.', \"he's\", 'scene', 'every', 'in', 'electrifying', 'truly', 'is', 'presence', \"Lee's\", 'Christopher', 'role.', 'a', 'plays', 'witchcraft', 'that', 'reveal', 'can', 'I', 'away,', 'much', 'too', 'giving', 'Without', 'wrong.', 'is', 'what', 'out', 'find', 'to', 'tries', 'performances,', 'superb', 'her', 'of', 'another', 'in', 'Porter', 'Dawn', 'Nyree', 'by', 'played', 'governess,', 'The', 'her.', 'educate', 'to', 'governess', 'school', 'a', 'in', 'brings', 'even', 'He', 'all.', 'at', 'daughter', 'his', 'for', 'attention', 'or', 'love', 'no', 'shows', 'He', 'here.', 'performances', 'cold', 'ice', 'perfect', 'his', 'one', 'gives', 'Lee', 'Mr.', 'daughter.', 'his', 'with', 'house', 'the', 'into', 'move', '-', 'time', 'all', 'of', 'actor', 'horror', 'favourite', 'my', '-', 'Lee', 'Christopher', 'sees', 'best', 'the', 'easily', 'and', 'story', 'third', '/>The', '/><br', 'Cushing.<br', 'Peter', 'great', 'late', 'the', 'by', 'overshadowed', 'massively', 'is', 'performance', 'his', 'but', 'rival', \"Cushing's\", 'plays', 'Ackland', 'Joss', 'end.', 'the', 'at', 'twist', 'disturbing', 'a', 'has', 'story', 'romantic', 'seemingly', 'this', 'but', 'grows', 'obsession', 'his', 'Naturally', 'girl.', 'his', 'like', 'just', 'looks', 'that', 'museum', 'wax', 'nearby', 'a', 'at', 'figure', 'a', 'sees', 'Cushing', 'Anyway,', 'mind.', \"Cushing's\", 'inside', 'see', 'to', 'us', 'helps', 'that', 'scene', 'hallucination', 'great', 'a', 'with', 'further', 'taken', 'is', 'This', 'loneliness.', \"Cushing's\", 'on', 'focus', 'continual', 'include', 'to', 'chooses', 'who', 'director', 'the', 'by', 'helped', 'is', 'He', 'life.', 'to', 'story', 'emotionally-moving', 'this', 'brings', 'really', 'performance', \"Cushing's\", 'of.', 'picture', 'a', 'keeps', 'he', 'who', 'and', 'him', 'jilted', 'once', 'who', 'woman', 'young', 'beautiful', 'a', 'for', 'pining', 'still', 'is', 'who', 'man', 'lonely', 'a', 'is', 'He', 'house.', 'the', 'into', 'move', 'Cushing', 'Peter', 'sees', 'story', 'second', '/>The', '/><br', 'potential.<br', 'its', 'to', 'up', 'live', 'to', 'it', 'allow', \"didn't\", 'which', 'script', 'a', 'of', 'sense', 'the', 'get', 'help', \"couldn't\", 'I', 'but', 'semi-twist', 'a', 'with', 'ends', 'story', 'The', 'story.', 'the', 'elevate', 'to', 'helps', 'also', 'he', 'and', 'writer', 'tormented', 'the', 'as', 'superb', 'is', 'performance', \"Elliott's\", 'script.', 'restrained', 'the', 'from', 'detract', 'to', 'helps', 'angles', 'camera', 'of', 'choice', 'the', 'with', 'particularly', 'Duffell,', 'Peter', 'by', 'direction', 'excellent', 'Some', 'creation.', 'own', 'his', 'of', 'visions', 'seeing', 'begins', 'he', 'after,', 'Soon', 'writing.', 'his', 'aid', 'to', 'sketch', 'a', 'drawing', 'as', 'far', 'as', 'going', 'even', 'strangler,', 'a', 'about', 'story', 'exciting', 'an', 'into', 'absorbed', 'is', 'He', 'stories.', 'crime', 'of', 'writer', 'a', 'as', 'Elliott', 'Denholm', 'sees', 'story', 'first', '/>The', '/><br', 'house.<br', 'the', 'of', 'inhabitant', 'an', 'on', 'focuses', 'which', 'of', 'each', 'stories,', 'four', 'contains', 'movie', '/>The', '/><br', 'better.<br', 'much', 'life', 'to', 'movie', 'the', 'of', 'element', 'weak', 'this', 'brought', 'have', 'would,', 'believe', 'I', 'and', 'could,', 'They', 'agent.', 'estate', 'the', 'as', 'another', 'and', 'inspector', 'police', 'the', 'as', 'one', '-', 'here', 'both', 'had', 'even', 'have', 'could', 'We', 'role.', 'his', 'in', 'actors', 'aforementioned', 'two', 'the', 'of', 'one', 'seen', 'have', 'rather', 'much', 'would', 'I', 'Hendry.', 'Ian', 'or', 'Pleasance', 'Donald', 'of', 'version', \"man's\", 'poor', 'a', 'is', 'Bennett', 'John', 'that', 'feeling', 'the', 'get', 'but', 'help', \"couldn't\", 'I', 'anthology.', 'Amicus', 'any', 'of', 'weakest', 'the', 'easily', 'and', 'practice', 'in', 'lifeless', 'and', 'flat', 'is', 'it', 'paper,', 'on', 'enticing', 'seems', 'story', 'linking', 'this', 'Whilst', 'house.', 'the', 'sold', 'who', 'agent', 'estate', 'the', 'visiting', 'him', 'sees', 'later', 'story', 'linking', 'The', 'occupants.', 'previous', 'of', 'stories', 'the', 'learns', 'he', 'where', 'station', 'police', 'local', 'the', 'at', 'begins', 'journey', 'His', 'house.', 'old', 'mysterious', 'a', 'in', 'lives', 'who', 'person', 'missing', 'a', 'down', 'tracking', 'inspector', 'police', 'a', 'as', 'Bennett', 'John', 'sees', 'story', 'linking', '/>The', '/><br', 'demonstrate.<br', 'shall', 'I', 'as', 'successors', 'four', 'its', 'as', 'good', 'as', 'near', 'nowhere', \"it's\", 'predecessors,', 'two', 'its', 'than', 'better', 'Whilst', 'believe.', 'to', 'led', 'was', 'I', 'as', 'good', 'as', 'quite', \"wasn't\", 'It', 'it.', 'saw', 'finally', 'I', 'when', 'disappointment', 'of', 'sense', 'a', 'feel', 'did', 'I', 'is,', 'movie', 'the', 'though', 'as', 'great', 'As', 'copy.', 'a', 'found', 'eventually', 'I', 'when', 'it', 'for', 'amount', 'substantial', 'a', 'paying', 'as', 'far', 'as', 'went', 'I', 'that', 'appealing', 'so', 'was', 'stories', 'the', 'of', 'synopses', 'The', 'movie.', 'this', 'down', 'track', 'to', 'trying', 'years', 'many', 'spent', '/>I', '/><br', 'strong.<br', 'as', 'just', 'are', 'today', 'them', 'for', 'feelings', 'My', 'teens.', 'my', 'in', 'was', 'I', 'when', 'them', 'love', 'to', 'used', 'I', 'as', 'memories', 'great', 'with', 'anthologies', 'Amicus', 'the', 'upon', 'look', '/>I', '/><br', 'others.<br', 'the', 'from', 'different', 'very', 'is', 'movie', 'that', 'Although,', 'movies.', 'eight', 'make', 'would', 'this', 'series,', 'the', 'of', 'part', 'as', 'included', 'is', 'CLUB', 'MONSTER', 'THE', 'If', 'anthologies.', 'horror', 'Amicus', 'seven', 'of', 'series', 'a', 'in', 'third', 'the', 'is', 'BLOOD', 'DRIPPED', 'THAT', 'HOUSE', 'THE']\n",
            "[<tf.Tensor: shape=(), dtype=int32, numpy=0>, <tf.Tensor: shape=(), dtype=int32, numpy=1>, <tf.Tensor: shape=(), dtype=int32, numpy=0>, <tf.Tensor: shape=(), dtype=int32, numpy=1>, <tf.Tensor: shape=(), dtype=int32, numpy=1>, <tf.Tensor: shape=(), dtype=int32, numpy=1>, <tf.Tensor: shape=(), dtype=int32, numpy=0>, <tf.Tensor: shape=(), dtype=int32, numpy=1>, <tf.Tensor: shape=(), dtype=int32, numpy=0>, <tf.Tensor: shape=(), dtype=int32, numpy=1>, <tf.Tensor: shape=(), dtype=int32, numpy=0>, <tf.Tensor: shape=(), dtype=int32, numpy=1>, <tf.Tensor: shape=(), dtype=int32, numpy=1>, <tf.Tensor: shape=(), dtype=int32, numpy=0>, <tf.Tensor: shape=(), dtype=int32, numpy=1>, <tf.Tensor: shape=(), dtype=int32, numpy=1>, <tf.Tensor: shape=(), dtype=int32, numpy=0>, <tf.Tensor: shape=(), dtype=int32, numpy=0>, <tf.Tensor: shape=(), dtype=int32, numpy=0>, <tf.Tensor: shape=(), dtype=int32, numpy=0>, <tf.Tensor: shape=(), dtype=int32, numpy=0>, <tf.Tensor: shape=(), dtype=int32, numpy=0>, <tf.Tensor: shape=(), dtype=int32, numpy=0>, <tf.Tensor: shape=(), dtype=int32, numpy=0>, <tf.Tensor: shape=(), dtype=int32, numpy=0>, <tf.Tensor: shape=(), dtype=int32, numpy=0>, <tf.Tensor: shape=(), dtype=int32, numpy=0>, <tf.Tensor: shape=(), dtype=int32, numpy=0>, <tf.Tensor: shape=(), dtype=int32, numpy=1>, <tf.Tensor: shape=(), dtype=int32, numpy=1>, <tf.Tensor: shape=(), dtype=int32, numpy=1>, <tf.Tensor: shape=(), dtype=int32, numpy=0>, <tf.Tensor: shape=(), dtype=int32, numpy=1>, <tf.Tensor: shape=(), dtype=int32, numpy=0>, <tf.Tensor: shape=(), dtype=int32, numpy=0>, <tf.Tensor: shape=(), dtype=int32, numpy=0>, <tf.Tensor: shape=(), dtype=int32, numpy=0>, <tf.Tensor: shape=(), dtype=int32, numpy=1>, <tf.Tensor: shape=(), dtype=int32, numpy=0>, <tf.Tensor: shape=(), dtype=int32, numpy=1>, <tf.Tensor: shape=(), dtype=int32, numpy=0>, <tf.Tensor: shape=(), dtype=int32, numpy=1>, <tf.Tensor: shape=(), dtype=int32, numpy=1>, <tf.Tensor: shape=(), dtype=int32, numpy=0>, <tf.Tensor: shape=(), dtype=int32, numpy=1>, <tf.Tensor: shape=(), dtype=int32, numpy=1>, <tf.Tensor: shape=(), dtype=int32, numpy=0>, <tf.Tensor: shape=(), dtype=int32, numpy=1>, <tf.Tensor: shape=(), dtype=int32, numpy=1>, <tf.Tensor: shape=(), dtype=int32, numpy=1>, <tf.Tensor: shape=(), dtype=int32, numpy=1>, <tf.Tensor: shape=(), dtype=int32, numpy=1>, <tf.Tensor: shape=(), dtype=int32, numpy=1>, <tf.Tensor: shape=(), dtype=int32, numpy=0>, <tf.Tensor: shape=(), dtype=int32, numpy=0>, <tf.Tensor: shape=(), dtype=int32, numpy=1>, <tf.Tensor: shape=(), dtype=int32, numpy=1>, <tf.Tensor: shape=(), dtype=int32, numpy=1>, <tf.Tensor: shape=(), dtype=int32, numpy=1>, <tf.Tensor: shape=(), dtype=int32, numpy=0>, <tf.Tensor: shape=(), dtype=int32, numpy=1>, <tf.Tensor: shape=(), dtype=int32, numpy=1>, <tf.Tensor: shape=(), dtype=int32, numpy=1>, <tf.Tensor: shape=(), dtype=int32, numpy=0>, <tf.Tensor: shape=(), dtype=int32, numpy=0>, <tf.Tensor: shape=(), dtype=int32, numpy=0>, <tf.Tensor: shape=(), dtype=int32, numpy=0>, <tf.Tensor: shape=(), dtype=int32, numpy=0>, <tf.Tensor: shape=(), dtype=int32, numpy=1>, <tf.Tensor: shape=(), dtype=int32, numpy=1>, <tf.Tensor: shape=(), dtype=int32, numpy=0>, <tf.Tensor: shape=(), dtype=int32, numpy=0>, <tf.Tensor: shape=(), dtype=int32, numpy=0>, <tf.Tensor: shape=(), dtype=int32, numpy=0>, <tf.Tensor: shape=(), dtype=int32, numpy=0>, <tf.Tensor: shape=(), dtype=int32, numpy=1>, <tf.Tensor: shape=(), dtype=int32, numpy=1>, <tf.Tensor: shape=(), dtype=int32, numpy=0>, <tf.Tensor: shape=(), dtype=int32, numpy=0>, <tf.Tensor: shape=(), dtype=int32, numpy=0>, <tf.Tensor: shape=(), dtype=int32, numpy=0>, <tf.Tensor: shape=(), dtype=int32, numpy=0>, <tf.Tensor: shape=(), dtype=int32, numpy=1>, <tf.Tensor: shape=(), dtype=int32, numpy=1>, <tf.Tensor: shape=(), dtype=int32, numpy=0>, <tf.Tensor: shape=(), dtype=int32, numpy=1>, <tf.Tensor: shape=(), dtype=int32, numpy=0>, <tf.Tensor: shape=(), dtype=int32, numpy=1>, <tf.Tensor: shape=(), dtype=int32, numpy=0>, <tf.Tensor: shape=(), dtype=int32, numpy=0>, <tf.Tensor: shape=(), dtype=int32, numpy=0>, <tf.Tensor: shape=(), dtype=int32, numpy=1>, <tf.Tensor: shape=(), dtype=int32, numpy=0>, <tf.Tensor: shape=(), dtype=int32, numpy=1>, <tf.Tensor: shape=(), dtype=int32, numpy=0>, <tf.Tensor: shape=(), dtype=int32, numpy=0>, <tf.Tensor: shape=(), dtype=int32, numpy=0>, <tf.Tensor: shape=(), dtype=int32, numpy=1>, <tf.Tensor: shape=(), dtype=int32, numpy=1>, <tf.Tensor: shape=(), dtype=int32, numpy=0>, <tf.Tensor: shape=(), dtype=int32, numpy=0>, <tf.Tensor: shape=(), dtype=int32, numpy=0>, <tf.Tensor: shape=(), dtype=int32, numpy=1>, <tf.Tensor: shape=(), dtype=int32, numpy=1>, <tf.Tensor: shape=(), dtype=int32, numpy=0>, <tf.Tensor: shape=(), dtype=int32, numpy=0>, <tf.Tensor: shape=(), dtype=int32, numpy=0>, <tf.Tensor: shape=(), dtype=int32, numpy=1>, <tf.Tensor: shape=(), dtype=int32, numpy=1>, <tf.Tensor: shape=(), dtype=int32, numpy=0>, <tf.Tensor: shape=(), dtype=int32, numpy=1>, <tf.Tensor: shape=(), dtype=int32, numpy=1>, <tf.Tensor: shape=(), dtype=int32, numpy=0>, <tf.Tensor: shape=(), dtype=int32, numpy=1>, <tf.Tensor: shape=(), dtype=int32, numpy=1>, <tf.Tensor: shape=(), dtype=int32, numpy=0>, <tf.Tensor: shape=(), dtype=int32, numpy=1>, <tf.Tensor: shape=(), dtype=int32, numpy=0>, <tf.Tensor: shape=(), dtype=int32, numpy=1>, <tf.Tensor: shape=(), dtype=int32, numpy=1>, <tf.Tensor: shape=(), dtype=int32, numpy=1>, <tf.Tensor: shape=(), dtype=int32, numpy=0>, <tf.Tensor: shape=(), dtype=int32, numpy=0>, <tf.Tensor: shape=(), dtype=int32, numpy=0>, <tf.Tensor: shape=(), dtype=int32, numpy=0>, <tf.Tensor: shape=(), dtype=int32, numpy=1>, <tf.Tensor: shape=(), dtype=int32, numpy=0>, <tf.Tensor: shape=(), dtype=int32, numpy=0>, <tf.Tensor: shape=(), dtype=int32, numpy=0>, <tf.Tensor: shape=(), dtype=int32, numpy=0>, <tf.Tensor: shape=(), dtype=int32, numpy=1>, <tf.Tensor: shape=(), dtype=int32, numpy=1>, <tf.Tensor: shape=(), dtype=int32, numpy=0>, <tf.Tensor: shape=(), dtype=int32, numpy=1>, <tf.Tensor: shape=(), dtype=int32, numpy=1>, <tf.Tensor: shape=(), dtype=int32, numpy=0>, <tf.Tensor: shape=(), dtype=int32, numpy=1>, <tf.Tensor: shape=(), dtype=int32, numpy=1>, <tf.Tensor: shape=(), dtype=int32, numpy=1>, <tf.Tensor: shape=(), dtype=int32, numpy=0>, <tf.Tensor: shape=(), dtype=int32, numpy=1>, <tf.Tensor: shape=(), dtype=int32, numpy=1>, <tf.Tensor: shape=(), dtype=int32, numpy=1>, <tf.Tensor: shape=(), dtype=int32, numpy=1>, <tf.Tensor: shape=(), dtype=int32, numpy=0>, <tf.Tensor: shape=(), dtype=int32, numpy=0>, <tf.Tensor: shape=(), dtype=int32, numpy=0>, <tf.Tensor: shape=(), dtype=int32, numpy=1>, <tf.Tensor: shape=(), dtype=int32, numpy=1>, <tf.Tensor: shape=(), dtype=int32, numpy=0>, <tf.Tensor: shape=(), dtype=int32, numpy=1>, <tf.Tensor: shape=(), dtype=int32, numpy=1>, <tf.Tensor: shape=(), dtype=int32, numpy=0>, <tf.Tensor: shape=(), dtype=int32, numpy=0>, <tf.Tensor: shape=(), dtype=int32, numpy=0>, <tf.Tensor: shape=(), dtype=int32, numpy=1>, <tf.Tensor: shape=(), dtype=int32, numpy=1>, <tf.Tensor: shape=(), dtype=int32, numpy=1>, <tf.Tensor: shape=(), dtype=int32, numpy=1>, <tf.Tensor: shape=(), dtype=int32, numpy=0>, <tf.Tensor: shape=(), dtype=int32, numpy=0>, <tf.Tensor: shape=(), dtype=int32, numpy=1>, <tf.Tensor: shape=(), dtype=int32, numpy=1>, <tf.Tensor: shape=(), dtype=int32, numpy=1>, <tf.Tensor: shape=(), dtype=int32, numpy=1>, <tf.Tensor: shape=(), dtype=int32, numpy=1>, <tf.Tensor: shape=(), dtype=int32, numpy=1>, <tf.Tensor: shape=(), dtype=int32, numpy=1>, <tf.Tensor: shape=(), dtype=int32, numpy=0>, <tf.Tensor: shape=(), dtype=int32, numpy=1>, <tf.Tensor: shape=(), dtype=int32, numpy=1>, <tf.Tensor: shape=(), dtype=int32, numpy=1>, <tf.Tensor: shape=(), dtype=int32, numpy=0>, <tf.Tensor: shape=(), dtype=int32, numpy=1>, <tf.Tensor: shape=(), dtype=int32, numpy=0>, <tf.Tensor: shape=(), dtype=int32, numpy=1>, <tf.Tensor: shape=(), dtype=int32, numpy=1>, <tf.Tensor: shape=(), dtype=int32, numpy=1>, <tf.Tensor: shape=(), dtype=int32, numpy=0>, <tf.Tensor: shape=(), dtype=int32, numpy=1>, <tf.Tensor: shape=(), dtype=int32, numpy=0>, <tf.Tensor: shape=(), dtype=int32, numpy=1>, <tf.Tensor: shape=(), dtype=int32, numpy=0>, <tf.Tensor: shape=(), dtype=int32, numpy=0>, <tf.Tensor: shape=(), dtype=int32, numpy=0>, <tf.Tensor: shape=(), dtype=int32, numpy=0>, <tf.Tensor: shape=(), dtype=int32, numpy=1>, <tf.Tensor: shape=(), dtype=int32, numpy=0>, <tf.Tensor: shape=(), dtype=int32, numpy=1>, <tf.Tensor: shape=(), dtype=int32, numpy=1>, <tf.Tensor: shape=(), dtype=int32, numpy=1>, <tf.Tensor: shape=(), dtype=int32, numpy=0>, <tf.Tensor: shape=(), dtype=int32, numpy=1>, <tf.Tensor: shape=(), dtype=int32, numpy=0>, <tf.Tensor: shape=(), dtype=int32, numpy=0>, <tf.Tensor: shape=(), dtype=int32, numpy=0>, <tf.Tensor: shape=(), dtype=int32, numpy=0>, <tf.Tensor: shape=(), dtype=int32, numpy=0>, <tf.Tensor: shape=(), dtype=int32, numpy=1>, <tf.Tensor: shape=(), dtype=int32, numpy=1>, <tf.Tensor: shape=(), dtype=int32, numpy=1>, <tf.Tensor: shape=(), dtype=int32, numpy=1>, <tf.Tensor: shape=(), dtype=int32, numpy=0>, <tf.Tensor: shape=(), dtype=int32, numpy=1>, <tf.Tensor: shape=(), dtype=int32, numpy=0>, <tf.Tensor: shape=(), dtype=int32, numpy=1>, <tf.Tensor: shape=(), dtype=int32, numpy=1>, <tf.Tensor: shape=(), dtype=int32, numpy=1>, <tf.Tensor: shape=(), dtype=int32, numpy=0>, <tf.Tensor: shape=(), dtype=int32, numpy=0>, <tf.Tensor: shape=(), dtype=int32, numpy=1>, <tf.Tensor: shape=(), dtype=int32, numpy=1>, <tf.Tensor: shape=(), dtype=int32, numpy=1>, <tf.Tensor: shape=(), dtype=int32, numpy=0>, <tf.Tensor: shape=(), dtype=int32, numpy=1>, <tf.Tensor: shape=(), dtype=int32, numpy=0>, <tf.Tensor: shape=(), dtype=int32, numpy=0>, <tf.Tensor: shape=(), dtype=int32, numpy=1>, <tf.Tensor: shape=(), dtype=int32, numpy=0>, <tf.Tensor: shape=(), dtype=int32, numpy=0>, <tf.Tensor: shape=(), dtype=int32, numpy=0>, <tf.Tensor: shape=(), dtype=int32, numpy=0>, <tf.Tensor: shape=(), dtype=int32, numpy=0>, <tf.Tensor: shape=(), dtype=int32, numpy=1>, <tf.Tensor: shape=(), dtype=int32, numpy=1>, <tf.Tensor: shape=(), dtype=int32, numpy=1>, <tf.Tensor: shape=(), dtype=int32, numpy=0>, <tf.Tensor: shape=(), dtype=int32, numpy=1>, <tf.Tensor: shape=(), dtype=int32, numpy=1>, <tf.Tensor: shape=(), dtype=int32, numpy=1>, <tf.Tensor: shape=(), dtype=int32, numpy=1>, <tf.Tensor: shape=(), dtype=int32, numpy=1>, <tf.Tensor: shape=(), dtype=int32, numpy=0>, <tf.Tensor: shape=(), dtype=int32, numpy=1>, <tf.Tensor: shape=(), dtype=int32, numpy=0>, <tf.Tensor: shape=(), dtype=int32, numpy=1>, <tf.Tensor: shape=(), dtype=int32, numpy=0>, <tf.Tensor: shape=(), dtype=int32, numpy=1>, <tf.Tensor: shape=(), dtype=int32, numpy=1>, <tf.Tensor: shape=(), dtype=int32, numpy=1>, <tf.Tensor: shape=(), dtype=int32, numpy=0>, <tf.Tensor: shape=(), dtype=int32, numpy=0>, <tf.Tensor: shape=(), dtype=int32, numpy=0>, <tf.Tensor: shape=(), dtype=int32, numpy=0>, <tf.Tensor: shape=(), dtype=int32, numpy=0>, <tf.Tensor: shape=(), dtype=int32, numpy=0>, <tf.Tensor: shape=(), dtype=int32, numpy=0>, <tf.Tensor: shape=(), dtype=int32, numpy=1>, <tf.Tensor: shape=(), dtype=int32, numpy=1>, <tf.Tensor: shape=(), dtype=int32, numpy=0>, <tf.Tensor: shape=(), dtype=int32, numpy=0>, <tf.Tensor: shape=(), dtype=int32, numpy=1>, <tf.Tensor: shape=(), dtype=int32, numpy=1>, <tf.Tensor: shape=(), dtype=int32, numpy=0>, <tf.Tensor: shape=(), dtype=int32, numpy=0>, <tf.Tensor: shape=(), dtype=int32, numpy=0>, <tf.Tensor: shape=(), dtype=int32, numpy=1>, <tf.Tensor: shape=(), dtype=int32, numpy=0>, <tf.Tensor: shape=(), dtype=int32, numpy=0>, <tf.Tensor: shape=(), dtype=int32, numpy=1>, <tf.Tensor: shape=(), dtype=int32, numpy=1>, <tf.Tensor: shape=(), dtype=int32, numpy=0>, <tf.Tensor: shape=(), dtype=int32, numpy=1>, <tf.Tensor: shape=(), dtype=int32, numpy=1>, <tf.Tensor: shape=(), dtype=int32, numpy=0>, <tf.Tensor: shape=(), dtype=int32, numpy=0>, <tf.Tensor: shape=(), dtype=int32, numpy=0>, <tf.Tensor: shape=(), dtype=int32, numpy=1>, <tf.Tensor: shape=(), dtype=int32, numpy=0>, <tf.Tensor: shape=(), dtype=int32, numpy=0>, <tf.Tensor: shape=(), dtype=int32, numpy=0>, <tf.Tensor: shape=(), dtype=int32, numpy=0>, <tf.Tensor: shape=(), dtype=int32, numpy=1>, <tf.Tensor: shape=(), dtype=int32, numpy=1>, <tf.Tensor: shape=(), dtype=int32, numpy=0>, <tf.Tensor: shape=(), dtype=int32, numpy=0>, <tf.Tensor: shape=(), dtype=int32, numpy=1>, <tf.Tensor: shape=(), dtype=int32, numpy=1>, <tf.Tensor: shape=(), dtype=int32, numpy=0>, <tf.Tensor: shape=(), dtype=int32, numpy=0>, <tf.Tensor: shape=(), dtype=int32, numpy=1>, <tf.Tensor: shape=(), dtype=int32, numpy=1>, <tf.Tensor: shape=(), dtype=int32, numpy=1>, <tf.Tensor: shape=(), dtype=int32, numpy=0>, <tf.Tensor: shape=(), dtype=int32, numpy=0>, <tf.Tensor: shape=(), dtype=int32, numpy=0>, <tf.Tensor: shape=(), dtype=int32, numpy=1>, <tf.Tensor: shape=(), dtype=int32, numpy=0>, <tf.Tensor: shape=(), dtype=int32, numpy=0>, <tf.Tensor: shape=(), dtype=int32, numpy=0>, <tf.Tensor: shape=(), dtype=int32, numpy=0>, <tf.Tensor: shape=(), dtype=int32, numpy=1>, <tf.Tensor: shape=(), dtype=int32, numpy=1>, <tf.Tensor: shape=(), dtype=int32, numpy=0>, <tf.Tensor: shape=(), dtype=int32, numpy=1>, <tf.Tensor: shape=(), dtype=int32, numpy=1>, <tf.Tensor: shape=(), dtype=int32, numpy=1>, <tf.Tensor: shape=(), dtype=int32, numpy=1>, <tf.Tensor: shape=(), dtype=int32, numpy=1>, <tf.Tensor: shape=(), dtype=int32, numpy=1>, <tf.Tensor: shape=(), dtype=int32, numpy=0>, <tf.Tensor: shape=(), dtype=int32, numpy=1>, <tf.Tensor: shape=(), dtype=int32, numpy=1>, <tf.Tensor: shape=(), dtype=int32, numpy=0>, <tf.Tensor: shape=(), dtype=int32, numpy=0>, <tf.Tensor: shape=(), dtype=int32, numpy=1>, <tf.Tensor: shape=(), dtype=int32, numpy=0>, <tf.Tensor: shape=(), dtype=int32, numpy=1>, <tf.Tensor: shape=(), dtype=int32, numpy=0>, <tf.Tensor: shape=(), dtype=int32, numpy=1>, <tf.Tensor: shape=(), dtype=int32, numpy=0>, <tf.Tensor: shape=(), dtype=int32, numpy=0>, <tf.Tensor: shape=(), dtype=int32, numpy=1>, <tf.Tensor: shape=(), dtype=int32, numpy=1>, <tf.Tensor: shape=(), dtype=int32, numpy=1>, <tf.Tensor: shape=(), dtype=int32, numpy=0>, <tf.Tensor: shape=(), dtype=int32, numpy=1>, <tf.Tensor: shape=(), dtype=int32, numpy=0>, <tf.Tensor: shape=(), dtype=int32, numpy=1>, <tf.Tensor: shape=(), dtype=int32, numpy=1>, <tf.Tensor: shape=(), dtype=int32, numpy=1>, <tf.Tensor: shape=(), dtype=int32, numpy=1>, <tf.Tensor: shape=(), dtype=int32, numpy=1>, <tf.Tensor: shape=(), dtype=int32, numpy=0>, <tf.Tensor: shape=(), dtype=int32, numpy=1>, <tf.Tensor: shape=(), dtype=int32, numpy=1>, <tf.Tensor: shape=(), dtype=int32, numpy=0>, <tf.Tensor: shape=(), dtype=int32, numpy=0>, <tf.Tensor: shape=(), dtype=int32, numpy=1>, <tf.Tensor: shape=(), dtype=int32, numpy=0>, <tf.Tensor: shape=(), dtype=int32, numpy=0>, <tf.Tensor: shape=(), dtype=int32, numpy=0>, <tf.Tensor: shape=(), dtype=int32, numpy=1>, <tf.Tensor: shape=(), dtype=int32, numpy=1>, <tf.Tensor: shape=(), dtype=int32, numpy=0>, <tf.Tensor: shape=(), dtype=int32, numpy=0>, <tf.Tensor: shape=(), dtype=int32, numpy=1>, <tf.Tensor: shape=(), dtype=int32, numpy=1>, <tf.Tensor: shape=(), dtype=int32, numpy=0>, <tf.Tensor: shape=(), dtype=int32, numpy=1>, <tf.Tensor: shape=(), dtype=int32, numpy=0>, <tf.Tensor: shape=(), dtype=int32, numpy=1>, <tf.Tensor: shape=(), dtype=int32, numpy=1>, <tf.Tensor: shape=(), dtype=int32, numpy=1>, <tf.Tensor: shape=(), dtype=int32, numpy=1>, <tf.Tensor: shape=(), dtype=int32, numpy=1>, <tf.Tensor: shape=(), dtype=int32, numpy=1>, <tf.Tensor: shape=(), dtype=int32, numpy=1>, <tf.Tensor: shape=(), dtype=int32, numpy=1>, <tf.Tensor: shape=(), dtype=int32, numpy=0>, <tf.Tensor: shape=(), dtype=int32, numpy=1>, <tf.Tensor: shape=(), dtype=int32, numpy=0>, <tf.Tensor: shape=(), dtype=int32, numpy=0>, <tf.Tensor: shape=(), dtype=int32, numpy=0>, <tf.Tensor: shape=(), dtype=int32, numpy=0>, <tf.Tensor: shape=(), dtype=int32, numpy=1>, <tf.Tensor: shape=(), dtype=int32, numpy=1>, <tf.Tensor: shape=(), dtype=int32, numpy=0>, <tf.Tensor: shape=(), dtype=int32, numpy=1>, <tf.Tensor: shape=(), dtype=int32, numpy=1>, <tf.Tensor: shape=(), dtype=int32, numpy=0>, <tf.Tensor: shape=(), dtype=int32, numpy=0>, <tf.Tensor: shape=(), dtype=int32, numpy=1>, <tf.Tensor: shape=(), dtype=int32, numpy=0>, <tf.Tensor: shape=(), dtype=int32, numpy=0>, <tf.Tensor: shape=(), dtype=int32, numpy=0>, <tf.Tensor: shape=(), dtype=int32, numpy=0>, <tf.Tensor: shape=(), dtype=int32, numpy=0>, <tf.Tensor: shape=(), dtype=int32, numpy=1>, <tf.Tensor: shape=(), dtype=int32, numpy=0>, <tf.Tensor: shape=(), dtype=int32, numpy=1>, <tf.Tensor: shape=(), dtype=int32, numpy=1>, <tf.Tensor: shape=(), dtype=int32, numpy=1>, <tf.Tensor: shape=(), dtype=int32, numpy=0>, <tf.Tensor: shape=(), dtype=int32, numpy=0>, <tf.Tensor: shape=(), dtype=int32, numpy=1>, <tf.Tensor: shape=(), dtype=int32, numpy=0>, <tf.Tensor: shape=(), dtype=int32, numpy=0>, <tf.Tensor: shape=(), dtype=int32, numpy=1>, <tf.Tensor: shape=(), dtype=int32, numpy=1>, <tf.Tensor: shape=(), dtype=int32, numpy=1>, <tf.Tensor: shape=(), dtype=int32, numpy=1>, <tf.Tensor: shape=(), dtype=int32, numpy=1>, <tf.Tensor: shape=(), dtype=int32, numpy=0>, <tf.Tensor: shape=(), dtype=int32, numpy=1>, <tf.Tensor: shape=(), dtype=int32, numpy=0>, <tf.Tensor: shape=(), dtype=int32, numpy=0>, <tf.Tensor: shape=(), dtype=int32, numpy=1>, <tf.Tensor: shape=(), dtype=int32, numpy=1>, <tf.Tensor: shape=(), dtype=int32, numpy=0>, <tf.Tensor: shape=(), dtype=int32, numpy=0>, <tf.Tensor: shape=(), dtype=int32, numpy=1>, <tf.Tensor: shape=(), dtype=int32, numpy=0>, <tf.Tensor: shape=(), dtype=int32, numpy=0>, <tf.Tensor: shape=(), dtype=int32, numpy=0>, <tf.Tensor: shape=(), dtype=int32, numpy=0>, <tf.Tensor: shape=(), dtype=int32, numpy=1>, <tf.Tensor: shape=(), dtype=int32, numpy=1>, <tf.Tensor: shape=(), dtype=int32, numpy=0>, <tf.Tensor: shape=(), dtype=int32, numpy=1>, <tf.Tensor: shape=(), dtype=int32, numpy=0>, <tf.Tensor: shape=(), dtype=int32, numpy=1>, <tf.Tensor: shape=(), dtype=int32, numpy=1>, <tf.Tensor: shape=(), dtype=int32, numpy=0>, <tf.Tensor: shape=(), dtype=int32, numpy=1>, <tf.Tensor: shape=(), dtype=int32, numpy=0>, <tf.Tensor: shape=(), dtype=int32, numpy=1>, <tf.Tensor: shape=(), dtype=int32, numpy=1>, <tf.Tensor: shape=(), dtype=int32, numpy=1>, <tf.Tensor: shape=(), dtype=int32, numpy=0>, <tf.Tensor: shape=(), dtype=int32, numpy=0>, <tf.Tensor: shape=(), dtype=int32, numpy=1>, <tf.Tensor: shape=(), dtype=int32, numpy=1>, <tf.Tensor: shape=(), dtype=int32, numpy=1>, <tf.Tensor: shape=(), dtype=int32, numpy=1>, <tf.Tensor: shape=(), dtype=int32, numpy=0>, <tf.Tensor: shape=(), dtype=int32, numpy=0>, <tf.Tensor: shape=(), dtype=int32, numpy=0>, <tf.Tensor: shape=(), dtype=int32, numpy=1>, <tf.Tensor: shape=(), dtype=int32, numpy=1>, <tf.Tensor: shape=(), dtype=int32, numpy=1>, <tf.Tensor: shape=(), dtype=int32, numpy=0>, <tf.Tensor: shape=(), dtype=int32, numpy=1>, <tf.Tensor: shape=(), dtype=int32, numpy=0>, <tf.Tensor: shape=(), dtype=int32, numpy=0>, <tf.Tensor: shape=(), dtype=int32, numpy=1>, <tf.Tensor: shape=(), dtype=int32, numpy=0>, <tf.Tensor: shape=(), dtype=int32, numpy=0>, <tf.Tensor: shape=(), dtype=int32, numpy=1>, <tf.Tensor: shape=(), dtype=int32, numpy=1>, <tf.Tensor: shape=(), dtype=int32, numpy=0>, <tf.Tensor: shape=(), dtype=int32, numpy=1>, <tf.Tensor: shape=(), dtype=int32, numpy=1>, <tf.Tensor: shape=(), dtype=int32, numpy=1>, <tf.Tensor: shape=(), dtype=int32, numpy=1>, <tf.Tensor: shape=(), dtype=int32, numpy=1>, <tf.Tensor: shape=(), dtype=int32, numpy=1>, <tf.Tensor: shape=(), dtype=int32, numpy=0>, <tf.Tensor: shape=(), dtype=int32, numpy=0>, <tf.Tensor: shape=(), dtype=int32, numpy=0>, <tf.Tensor: shape=(), dtype=int32, numpy=1>, <tf.Tensor: shape=(), dtype=int32, numpy=1>, <tf.Tensor: shape=(), dtype=int32, numpy=1>, <tf.Tensor: shape=(), dtype=int32, numpy=0>, <tf.Tensor: shape=(), dtype=int32, numpy=1>, <tf.Tensor: shape=(), dtype=int32, numpy=1>, <tf.Tensor: shape=(), dtype=int32, numpy=0>, <tf.Tensor: shape=(), dtype=int32, numpy=0>, <tf.Tensor: shape=(), dtype=int32, numpy=0>, <tf.Tensor: shape=(), dtype=int32, numpy=0>, <tf.Tensor: shape=(), dtype=int32, numpy=0>, <tf.Tensor: shape=(), dtype=int32, numpy=1>, <tf.Tensor: shape=(), dtype=int32, numpy=0>, <tf.Tensor: shape=(), dtype=int32, numpy=0>, <tf.Tensor: shape=(), dtype=int32, numpy=1>, <tf.Tensor: shape=(), dtype=int32, numpy=0>, <tf.Tensor: shape=(), dtype=int32, numpy=0>, <tf.Tensor: shape=(), dtype=int32, numpy=1>, <tf.Tensor: shape=(), dtype=int32, numpy=1>, <tf.Tensor: shape=(), dtype=int32, numpy=1>, <tf.Tensor: shape=(), dtype=int32, numpy=0>, <tf.Tensor: shape=(), dtype=int32, numpy=1>, <tf.Tensor: shape=(), dtype=int32, numpy=0>, <tf.Tensor: shape=(), dtype=int32, numpy=0>, <tf.Tensor: shape=(), dtype=int32, numpy=0>, <tf.Tensor: shape=(), dtype=int32, numpy=0>, <tf.Tensor: shape=(), dtype=int32, numpy=0>, <tf.Tensor: shape=(), dtype=int32, numpy=0>, <tf.Tensor: shape=(), dtype=int32, numpy=0>, <tf.Tensor: shape=(), dtype=int32, numpy=0>, <tf.Tensor: shape=(), dtype=int32, numpy=1>, <tf.Tensor: shape=(), dtype=int32, numpy=1>, <tf.Tensor: shape=(), dtype=int32, numpy=1>, <tf.Tensor: shape=(), dtype=int32, numpy=1>, <tf.Tensor: shape=(), dtype=int32, numpy=1>, <tf.Tensor: shape=(), dtype=int32, numpy=0>, <tf.Tensor: shape=(), dtype=int32, numpy=1>, <tf.Tensor: shape=(), dtype=int32, numpy=0>, <tf.Tensor: shape=(), dtype=int32, numpy=0>, <tf.Tensor: shape=(), dtype=int32, numpy=1>, <tf.Tensor: shape=(), dtype=int32, numpy=1>, <tf.Tensor: shape=(), dtype=int32, numpy=0>, <tf.Tensor: shape=(), dtype=int32, numpy=0>, <tf.Tensor: shape=(), dtype=int32, numpy=0>, <tf.Tensor: shape=(), dtype=int32, numpy=1>, <tf.Tensor: shape=(), dtype=int32, numpy=0>, <tf.Tensor: shape=(), dtype=int32, numpy=1>, <tf.Tensor: shape=(), dtype=int32, numpy=0>, <tf.Tensor: shape=(), dtype=int32, numpy=1>, <tf.Tensor: shape=(), dtype=int32, numpy=0>, <tf.Tensor: shape=(), dtype=int32, numpy=1>, <tf.Tensor: shape=(), dtype=int32, numpy=0>, <tf.Tensor: shape=(), dtype=int32, numpy=1>, <tf.Tensor: shape=(), dtype=int32, numpy=1>, <tf.Tensor: shape=(), dtype=int32, numpy=0>, <tf.Tensor: shape=(), dtype=int32, numpy=1>, <tf.Tensor: shape=(), dtype=int32, numpy=1>, <tf.Tensor: shape=(), dtype=int32, numpy=1>, <tf.Tensor: shape=(), dtype=int32, numpy=1>, <tf.Tensor: shape=(), dtype=int32, numpy=1>, <tf.Tensor: shape=(), dtype=int32, numpy=1>, <tf.Tensor: shape=(), dtype=int32, numpy=0>, <tf.Tensor: shape=(), dtype=int32, numpy=1>, <tf.Tensor: shape=(), dtype=int32, numpy=1>, <tf.Tensor: shape=(), dtype=int32, numpy=0>, <tf.Tensor: shape=(), dtype=int32, numpy=0>, <tf.Tensor: shape=(), dtype=int32, numpy=1>, <tf.Tensor: shape=(), dtype=int32, numpy=0>, <tf.Tensor: shape=(), dtype=int32, numpy=0>, <tf.Tensor: shape=(), dtype=int32, numpy=1>, <tf.Tensor: shape=(), dtype=int32, numpy=1>, <tf.Tensor: shape=(), dtype=int32, numpy=1>, <tf.Tensor: shape=(), dtype=int32, numpy=1>, <tf.Tensor: shape=(), dtype=int32, numpy=0>, <tf.Tensor: shape=(), dtype=int32, numpy=1>, <tf.Tensor: shape=(), dtype=int32, numpy=1>, <tf.Tensor: shape=(), dtype=int32, numpy=1>, <tf.Tensor: shape=(), dtype=int32, numpy=0>, <tf.Tensor: shape=(), dtype=int32, numpy=0>, <tf.Tensor: shape=(), dtype=int32, numpy=0>, <tf.Tensor: shape=(), dtype=int32, numpy=0>, <tf.Tensor: shape=(), dtype=int32, numpy=0>, <tf.Tensor: shape=(), dtype=int32, numpy=0>, <tf.Tensor: shape=(), dtype=int32, numpy=1>, <tf.Tensor: shape=(), dtype=int32, numpy=0>, <tf.Tensor: shape=(), dtype=int32, numpy=1>, <tf.Tensor: shape=(), dtype=int32, numpy=0>, <tf.Tensor: shape=(), dtype=int32, numpy=0>, <tf.Tensor: shape=(), dtype=int32, numpy=0>, <tf.Tensor: shape=(), dtype=int32, numpy=0>, <tf.Tensor: shape=(), dtype=int32, numpy=0>, <tf.Tensor: shape=(), dtype=int32, numpy=0>, <tf.Tensor: shape=(), dtype=int32, numpy=1>, <tf.Tensor: shape=(), dtype=int32, numpy=1>, <tf.Tensor: shape=(), dtype=int32, numpy=1>, <tf.Tensor: shape=(), dtype=int32, numpy=0>, <tf.Tensor: shape=(), dtype=int32, numpy=0>, <tf.Tensor: shape=(), dtype=int32, numpy=0>, <tf.Tensor: shape=(), dtype=int32, numpy=0>, <tf.Tensor: shape=(), dtype=int32, numpy=1>, <tf.Tensor: shape=(), dtype=int32, numpy=0>, <tf.Tensor: shape=(), dtype=int32, numpy=0>, <tf.Tensor: shape=(), dtype=int32, numpy=1>, <tf.Tensor: shape=(), dtype=int32, numpy=1>, <tf.Tensor: shape=(), dtype=int32, numpy=0>, <tf.Tensor: shape=(), dtype=int32, numpy=1>, <tf.Tensor: shape=(), dtype=int32, numpy=1>, <tf.Tensor: shape=(), dtype=int32, numpy=0>, <tf.Tensor: shape=(), dtype=int32, numpy=1>, <tf.Tensor: shape=(), dtype=int32, numpy=1>, <tf.Tensor: shape=(), dtype=int32, numpy=0>, <tf.Tensor: shape=(), dtype=int32, numpy=1>, <tf.Tensor: shape=(), dtype=int32, numpy=1>, <tf.Tensor: shape=(), dtype=int32, numpy=1>, <tf.Tensor: shape=(), dtype=int32, numpy=1>, <tf.Tensor: shape=(), dtype=int32, numpy=1>, <tf.Tensor: shape=(), dtype=int32, numpy=1>, <tf.Tensor: shape=(), dtype=int32, numpy=0>, <tf.Tensor: shape=(), dtype=int32, numpy=1>, <tf.Tensor: shape=(), dtype=int32, numpy=0>, <tf.Tensor: shape=(), dtype=int32, numpy=1>, <tf.Tensor: shape=(), dtype=int32, numpy=0>, <tf.Tensor: shape=(), dtype=int32, numpy=0>, <tf.Tensor: shape=(), dtype=int32, numpy=1>, <tf.Tensor: shape=(), dtype=int32, numpy=0>, <tf.Tensor: shape=(), dtype=int32, numpy=0>, <tf.Tensor: shape=(), dtype=int32, numpy=0>, <tf.Tensor: shape=(), dtype=int32, numpy=0>, <tf.Tensor: shape=(), dtype=int32, numpy=1>, <tf.Tensor: shape=(), dtype=int32, numpy=1>, <tf.Tensor: shape=(), dtype=int32, numpy=0>, <tf.Tensor: shape=(), dtype=int32, numpy=1>, <tf.Tensor: shape=(), dtype=int32, numpy=1>, <tf.Tensor: shape=(), dtype=int32, numpy=1>, <tf.Tensor: shape=(), dtype=int32, numpy=1>, <tf.Tensor: shape=(), dtype=int32, numpy=0>, <tf.Tensor: shape=(), dtype=int32, numpy=1>, <tf.Tensor: shape=(), dtype=int32, numpy=0>, <tf.Tensor: shape=(), dtype=int32, numpy=1>, <tf.Tensor: shape=(), dtype=int32, numpy=1>, <tf.Tensor: shape=(), dtype=int32, numpy=1>, <tf.Tensor: shape=(), dtype=int32, numpy=1>, <tf.Tensor: shape=(), dtype=int32, numpy=0>, <tf.Tensor: shape=(), dtype=int32, numpy=0>, <tf.Tensor: shape=(), dtype=int32, numpy=0>, <tf.Tensor: shape=(), dtype=int32, numpy=1>, <tf.Tensor: shape=(), dtype=int32, numpy=1>, <tf.Tensor: shape=(), dtype=int32, numpy=0>, <tf.Tensor: shape=(), dtype=int32, numpy=1>, <tf.Tensor: shape=(), dtype=int32, numpy=0>, <tf.Tensor: shape=(), dtype=int32, numpy=1>, <tf.Tensor: shape=(), dtype=int32, numpy=0>, <tf.Tensor: shape=(), dtype=int32, numpy=0>, <tf.Tensor: shape=(), dtype=int32, numpy=0>, <tf.Tensor: shape=(), dtype=int32, numpy=0>, <tf.Tensor: shape=(), dtype=int32, numpy=0>, <tf.Tensor: shape=(), dtype=int32, numpy=1>, <tf.Tensor: shape=(), dtype=int32, numpy=0>, <tf.Tensor: shape=(), dtype=int32, numpy=0>, <tf.Tensor: shape=(), dtype=int32, numpy=1>, <tf.Tensor: shape=(), dtype=int32, numpy=1>, <tf.Tensor: shape=(), dtype=int32, numpy=1>, <tf.Tensor: shape=(), dtype=int32, numpy=0>, <tf.Tensor: shape=(), dtype=int32, numpy=1>, <tf.Tensor: shape=(), dtype=int32, numpy=1>, <tf.Tensor: shape=(), dtype=int32, numpy=1>, <tf.Tensor: shape=(), dtype=int32, numpy=0>, <tf.Tensor: shape=(), dtype=int32, numpy=1>, <tf.Tensor: shape=(), dtype=int32, numpy=0>, <tf.Tensor: shape=(), dtype=int32, numpy=1>, <tf.Tensor: shape=(), dtype=int32, numpy=0>, <tf.Tensor: shape=(), dtype=int32, numpy=1>, <tf.Tensor: shape=(), dtype=int32, numpy=0>, <tf.Tensor: shape=(), dtype=int32, numpy=1>, <tf.Tensor: shape=(), dtype=int32, numpy=1>, <tf.Tensor: shape=(), dtype=int32, numpy=1>, <tf.Tensor: shape=(), dtype=int32, numpy=0>, <tf.Tensor: shape=(), dtype=int32, numpy=1>, <tf.Tensor: shape=(), dtype=int32, numpy=0>, <tf.Tensor: shape=(), dtype=int32, numpy=1>, <tf.Tensor: shape=(), dtype=int32, numpy=1>, <tf.Tensor: shape=(), dtype=int32, numpy=1>, <tf.Tensor: shape=(), dtype=int32, numpy=0>, <tf.Tensor: shape=(), dtype=int32, numpy=1>, <tf.Tensor: shape=(), dtype=int32, numpy=0>, <tf.Tensor: shape=(), dtype=int32, numpy=1>, <tf.Tensor: shape=(), dtype=int32, numpy=1>, <tf.Tensor: shape=(), dtype=int32, numpy=0>, <tf.Tensor: shape=(), dtype=int32, numpy=0>, <tf.Tensor: shape=(), dtype=int32, numpy=0>, <tf.Tensor: shape=(), dtype=int32, numpy=0>, <tf.Tensor: shape=(), dtype=int32, numpy=0>, <tf.Tensor: shape=(), dtype=int32, numpy=0>, <tf.Tensor: shape=(), dtype=int32, numpy=0>, <tf.Tensor: shape=(), dtype=int32, numpy=1>, <tf.Tensor: shape=(), dtype=int32, numpy=1>, <tf.Tensor: shape=(), dtype=int32, numpy=1>, <tf.Tensor: shape=(), dtype=int32, numpy=1>, <tf.Tensor: shape=(), dtype=int32, numpy=0>, <tf.Tensor: shape=(), dtype=int32, numpy=0>, <tf.Tensor: shape=(), dtype=int32, numpy=0>, <tf.Tensor: shape=(), dtype=int32, numpy=0>, <tf.Tensor: shape=(), dtype=int32, numpy=0>, <tf.Tensor: shape=(), dtype=int32, numpy=1>, <tf.Tensor: shape=(), dtype=int32, numpy=0>, <tf.Tensor: shape=(), dtype=int32, numpy=1>, <tf.Tensor: shape=(), dtype=int32, numpy=0>, <tf.Tensor: shape=(), dtype=int32, numpy=1>, <tf.Tensor: shape=(), dtype=int32, numpy=1>, <tf.Tensor: shape=(), dtype=int32, numpy=0>, <tf.Tensor: shape=(), dtype=int32, numpy=1>, <tf.Tensor: shape=(), dtype=int32, numpy=1>, <tf.Tensor: shape=(), dtype=int32, numpy=1>, <tf.Tensor: shape=(), dtype=int32, numpy=0>, <tf.Tensor: shape=(), dtype=int32, numpy=1>, <tf.Tensor: shape=(), dtype=int32, numpy=1>, <tf.Tensor: shape=(), dtype=int32, numpy=0>, <tf.Tensor: shape=(), dtype=int32, numpy=0>, <tf.Tensor: shape=(), dtype=int32, numpy=0>, <tf.Tensor: shape=(), dtype=int32, numpy=1>, <tf.Tensor: shape=(), dtype=int32, numpy=1>, <tf.Tensor: shape=(), dtype=int32, numpy=0>, <tf.Tensor: shape=(), dtype=int32, numpy=1>, <tf.Tensor: shape=(), dtype=int32, numpy=0>, <tf.Tensor: shape=(), dtype=int32, numpy=0>, <tf.Tensor: shape=(), dtype=int32, numpy=1>, <tf.Tensor: shape=(), dtype=int32, numpy=0>, <tf.Tensor: shape=(), dtype=int32, numpy=0>, <tf.Tensor: shape=(), dtype=int32, numpy=1>, <tf.Tensor: shape=(), dtype=int32, numpy=1>, <tf.Tensor: shape=(), dtype=int32, numpy=0>, <tf.Tensor: shape=(), dtype=int32, numpy=0>, <tf.Tensor: shape=(), dtype=int32, numpy=1>, <tf.Tensor: shape=(), dtype=int32, numpy=1>, <tf.Tensor: shape=(), dtype=int32, numpy=1>, <tf.Tensor: shape=(), dtype=int32, numpy=1>, <tf.Tensor: shape=(), dtype=int32, numpy=1>, <tf.Tensor: shape=(), dtype=int32, numpy=1>, <tf.Tensor: shape=(), dtype=int32, numpy=1>, <tf.Tensor: shape=(), dtype=int32, numpy=0>, <tf.Tensor: shape=(), dtype=int32, numpy=1>, <tf.Tensor: shape=(), dtype=int32, numpy=1>, <tf.Tensor: shape=(), dtype=int32, numpy=1>, <tf.Tensor: shape=(), dtype=int32, numpy=0>, <tf.Tensor: shape=(), dtype=int32, numpy=1>, <tf.Tensor: shape=(), dtype=int32, numpy=1>, <tf.Tensor: shape=(), dtype=int32, numpy=1>, <tf.Tensor: shape=(), dtype=int32, numpy=1>, <tf.Tensor: shape=(), dtype=int32, numpy=1>, <tf.Tensor: shape=(), dtype=int32, numpy=1>, <tf.Tensor: shape=(), dtype=int32, numpy=1>, <tf.Tensor: shape=(), dtype=int32, numpy=1>, <tf.Tensor: shape=(), dtype=int32, numpy=1>, <tf.Tensor: shape=(), dtype=int32, numpy=0>, <tf.Tensor: shape=(), dtype=int32, numpy=0>, <tf.Tensor: shape=(), dtype=int32, numpy=1>, <tf.Tensor: shape=(), dtype=int32, numpy=0>, <tf.Tensor: shape=(), dtype=int32, numpy=0>, <tf.Tensor: shape=(), dtype=int32, numpy=1>, <tf.Tensor: shape=(), dtype=int32, numpy=0>, <tf.Tensor: shape=(), dtype=int32, numpy=0>, <tf.Tensor: shape=(), dtype=int32, numpy=1>, <tf.Tensor: shape=(), dtype=int32, numpy=1>, <tf.Tensor: shape=(), dtype=int32, numpy=1>, <tf.Tensor: shape=(), dtype=int32, numpy=1>, <tf.Tensor: shape=(), dtype=int32, numpy=0>, <tf.Tensor: shape=(), dtype=int32, numpy=1>, <tf.Tensor: shape=(), dtype=int32, numpy=0>, <tf.Tensor: shape=(), dtype=int32, numpy=1>, <tf.Tensor: shape=(), dtype=int32, numpy=1>, <tf.Tensor: shape=(), dtype=int32, numpy=0>, <tf.Tensor: shape=(), dtype=int32, numpy=1>, <tf.Tensor: shape=(), dtype=int32, numpy=1>, <tf.Tensor: shape=(), dtype=int32, numpy=0>, <tf.Tensor: shape=(), dtype=int32, numpy=0>, <tf.Tensor: shape=(), dtype=int32, numpy=1>, <tf.Tensor: shape=(), dtype=int32, numpy=1>, <tf.Tensor: shape=(), dtype=int32, numpy=0>, <tf.Tensor: shape=(), dtype=int32, numpy=1>, <tf.Tensor: shape=(), dtype=int32, numpy=1>, <tf.Tensor: shape=(), dtype=int32, numpy=0>, <tf.Tensor: shape=(), dtype=int32, numpy=0>, <tf.Tensor: shape=(), dtype=int32, numpy=0>, <tf.Tensor: shape=(), dtype=int32, numpy=0>, <tf.Tensor: shape=(), dtype=int32, numpy=0>, <tf.Tensor: shape=(), dtype=int32, numpy=0>, <tf.Tensor: shape=(), dtype=int32, numpy=0>, <tf.Tensor: shape=(), dtype=int32, numpy=0>, <tf.Tensor: shape=(), dtype=int32, numpy=0>, <tf.Tensor: shape=(), dtype=int32, numpy=1>, <tf.Tensor: shape=(), dtype=int32, numpy=0>, <tf.Tensor: shape=(), dtype=int32, numpy=1>, <tf.Tensor: shape=(), dtype=int32, numpy=0>, <tf.Tensor: shape=(), dtype=int32, numpy=0>, <tf.Tensor: shape=(), dtype=int32, numpy=1>, <tf.Tensor: shape=(), dtype=int32, numpy=1>, <tf.Tensor: shape=(), dtype=int32, numpy=0>, <tf.Tensor: shape=(), dtype=int32, numpy=0>, <tf.Tensor: shape=(), dtype=int32, numpy=0>, <tf.Tensor: shape=(), dtype=int32, numpy=0>, <tf.Tensor: shape=(), dtype=int32, numpy=0>, <tf.Tensor: shape=(), dtype=int32, numpy=1>, <tf.Tensor: shape=(), dtype=int32, numpy=1>, <tf.Tensor: shape=(), dtype=int32, numpy=0>, <tf.Tensor: shape=(), dtype=int32, numpy=1>, <tf.Tensor: shape=(), dtype=int32, numpy=1>, <tf.Tensor: shape=(), dtype=int32, numpy=0>, <tf.Tensor: shape=(), dtype=int32, numpy=1>, <tf.Tensor: shape=(), dtype=int32, numpy=0>, <tf.Tensor: shape=(), dtype=int32, numpy=1>, <tf.Tensor: shape=(), dtype=int32, numpy=1>, <tf.Tensor: shape=(), dtype=int32, numpy=0>, <tf.Tensor: shape=(), dtype=int32, numpy=0>, <tf.Tensor: shape=(), dtype=int32, numpy=1>, <tf.Tensor: shape=(), dtype=int32, numpy=0>, <tf.Tensor: shape=(), dtype=int32, numpy=1>, <tf.Tensor: shape=(), dtype=int32, numpy=0>, <tf.Tensor: shape=(), dtype=int32, numpy=1>, <tf.Tensor: shape=(), dtype=int32, numpy=0>, <tf.Tensor: shape=(), dtype=int32, numpy=1>, <tf.Tensor: shape=(), dtype=int32, numpy=0>, <tf.Tensor: shape=(), dtype=int32, numpy=1>, <tf.Tensor: shape=(), dtype=int32, numpy=0>, <tf.Tensor: shape=(), dtype=int32, numpy=1>, <tf.Tensor: shape=(), dtype=int32, numpy=1>, <tf.Tensor: shape=(), dtype=int32, numpy=0>, <tf.Tensor: shape=(), dtype=int32, numpy=0>, <tf.Tensor: shape=(), dtype=int32, numpy=0>, <tf.Tensor: shape=(), dtype=int32, numpy=1>, <tf.Tensor: shape=(), dtype=int32, numpy=1>, <tf.Tensor: shape=(), dtype=int32, numpy=1>, <tf.Tensor: shape=(), dtype=int32, numpy=0>, <tf.Tensor: shape=(), dtype=int32, numpy=1>, <tf.Tensor: shape=(), dtype=int32, numpy=1>, <tf.Tensor: shape=(), dtype=int32, numpy=1>, <tf.Tensor: shape=(), dtype=int32, numpy=0>, <tf.Tensor: shape=(), dtype=int32, numpy=0>, <tf.Tensor: shape=(), dtype=int32, numpy=1>, <tf.Tensor: shape=(), dtype=int32, numpy=0>, <tf.Tensor: shape=(), dtype=int32, numpy=1>, <tf.Tensor: shape=(), dtype=int32, numpy=1>, <tf.Tensor: shape=(), dtype=int32, numpy=0>, <tf.Tensor: shape=(), dtype=int32, numpy=1>, <tf.Tensor: shape=(), dtype=int32, numpy=1>, <tf.Tensor: shape=(), dtype=int32, numpy=1>, <tf.Tensor: shape=(), dtype=int32, numpy=1>, <tf.Tensor: shape=(), dtype=int32, numpy=0>, <tf.Tensor: shape=(), dtype=int32, numpy=0>, <tf.Tensor: shape=(), dtype=int32, numpy=0>, <tf.Tensor: shape=(), dtype=int32, numpy=1>, <tf.Tensor: shape=(), dtype=int32, numpy=0>, <tf.Tensor: shape=(), dtype=int32, numpy=0>, <tf.Tensor: shape=(), dtype=int32, numpy=1>, <tf.Tensor: shape=(), dtype=int32, numpy=0>, <tf.Tensor: shape=(), dtype=int32, numpy=0>, <tf.Tensor: shape=(), dtype=int32, numpy=0>, <tf.Tensor: shape=(), dtype=int32, numpy=0>, <tf.Tensor: shape=(), dtype=int32, numpy=1>, <tf.Tensor: shape=(), dtype=int32, numpy=0>, <tf.Tensor: shape=(), dtype=int32, numpy=1>, <tf.Tensor: shape=(), dtype=int32, numpy=0>, <tf.Tensor: shape=(), dtype=int32, numpy=0>, <tf.Tensor: shape=(), dtype=int32, numpy=1>, <tf.Tensor: shape=(), dtype=int32, numpy=0>, <tf.Tensor: shape=(), dtype=int32, numpy=1>, <tf.Tensor: shape=(), dtype=int32, numpy=1>, <tf.Tensor: shape=(), dtype=int32, numpy=1>, <tf.Tensor: shape=(), dtype=int32, numpy=1>, <tf.Tensor: shape=(), dtype=int32, numpy=0>, <tf.Tensor: shape=(), dtype=int32, numpy=1>, <tf.Tensor: shape=(), dtype=int32, numpy=1>, <tf.Tensor: shape=(), dtype=int32, numpy=0>, <tf.Tensor: shape=(), dtype=int32, numpy=0>, <tf.Tensor: shape=(), dtype=int32, numpy=1>, <tf.Tensor: shape=(), dtype=int32, numpy=1>, <tf.Tensor: shape=(), dtype=int32, numpy=0>, <tf.Tensor: shape=(), dtype=int32, numpy=0>, <tf.Tensor: shape=(), dtype=int32, numpy=1>, <tf.Tensor: shape=(), dtype=int32, numpy=1>, <tf.Tensor: shape=(), dtype=int32, numpy=1>, <tf.Tensor: shape=(), dtype=int32, numpy=0>, <tf.Tensor: shape=(), dtype=int32, numpy=0>, <tf.Tensor: shape=(), dtype=int32, numpy=1>, <tf.Tensor: shape=(), dtype=int32, numpy=1>, <tf.Tensor: shape=(), dtype=int32, numpy=1>, <tf.Tensor: shape=(), dtype=int32, numpy=1>, <tf.Tensor: shape=(), dtype=int32, numpy=0>, <tf.Tensor: shape=(), dtype=int32, numpy=1>, <tf.Tensor: shape=(), dtype=int32, numpy=1>, <tf.Tensor: shape=(), dtype=int32, numpy=1>, <tf.Tensor: shape=(), dtype=int32, numpy=0>, <tf.Tensor: shape=(), dtype=int32, numpy=0>, <tf.Tensor: shape=(), dtype=int32, numpy=0>, <tf.Tensor: shape=(), dtype=int32, numpy=0>, <tf.Tensor: shape=(), dtype=int32, numpy=0>, <tf.Tensor: shape=(), dtype=int32, numpy=0>, <tf.Tensor: shape=(), dtype=int32, numpy=0>, <tf.Tensor: shape=(), dtype=int32, numpy=1>, <tf.Tensor: shape=(), dtype=int32, numpy=0>, <tf.Tensor: shape=(), dtype=int32, numpy=1>, <tf.Tensor: shape=(), dtype=int32, numpy=0>, <tf.Tensor: shape=(), dtype=int32, numpy=1>, <tf.Tensor: shape=(), dtype=int32, numpy=1>, <tf.Tensor: shape=(), dtype=int32, numpy=0>, <tf.Tensor: shape=(), dtype=int32, numpy=0>, <tf.Tensor: shape=(), dtype=int32, numpy=0>, <tf.Tensor: shape=(), dtype=int32, numpy=0>, <tf.Tensor: shape=(), dtype=int32, numpy=1>, <tf.Tensor: shape=(), dtype=int32, numpy=0>, <tf.Tensor: shape=(), dtype=int32, numpy=0>, <tf.Tensor: shape=(), dtype=int32, numpy=0>, <tf.Tensor: shape=(), dtype=int32, numpy=0>, <tf.Tensor: shape=(), dtype=int32, numpy=0>, <tf.Tensor: shape=(), dtype=int32, numpy=1>, <tf.Tensor: shape=(), dtype=int32, numpy=1>, <tf.Tensor: shape=(), dtype=int32, numpy=1>, <tf.Tensor: shape=(), dtype=int32, numpy=1>, <tf.Tensor: shape=(), dtype=int32, numpy=0>, <tf.Tensor: shape=(), dtype=int32, numpy=1>, <tf.Tensor: shape=(), dtype=int32, numpy=0>, <tf.Tensor: shape=(), dtype=int32, numpy=1>, <tf.Tensor: shape=(), dtype=int32, numpy=0>, <tf.Tensor: shape=(), dtype=int32, numpy=1>, <tf.Tensor: shape=(), dtype=int32, numpy=0>, <tf.Tensor: shape=(), dtype=int32, numpy=1>, <tf.Tensor: shape=(), dtype=int32, numpy=1>, <tf.Tensor: shape=(), dtype=int32, numpy=1>, <tf.Tensor: shape=(), dtype=int32, numpy=0>, <tf.Tensor: shape=(), dtype=int32, numpy=1>, <tf.Tensor: shape=(), dtype=int32, numpy=1>, <tf.Tensor: shape=(), dtype=int32, numpy=0>, <tf.Tensor: shape=(), dtype=int32, numpy=0>, <tf.Tensor: shape=(), dtype=int32, numpy=1>, <tf.Tensor: shape=(), dtype=int32, numpy=0>, <tf.Tensor: shape=(), dtype=int32, numpy=1>, <tf.Tensor: shape=(), dtype=int32, numpy=1>, <tf.Tensor: shape=(), dtype=int32, numpy=0>, <tf.Tensor: shape=(), dtype=int32, numpy=0>, <tf.Tensor: shape=(), dtype=int32, numpy=1>, <tf.Tensor: shape=(), dtype=int32, numpy=1>, <tf.Tensor: shape=(), dtype=int32, numpy=1>, <tf.Tensor: shape=(), dtype=int32, numpy=0>, <tf.Tensor: shape=(), dtype=int32, numpy=0>, <tf.Tensor: shape=(), dtype=int32, numpy=1>, <tf.Tensor: shape=(), dtype=int32, numpy=1>, <tf.Tensor: shape=(), dtype=int32, numpy=0>, <tf.Tensor: shape=(), dtype=int32, numpy=1>, <tf.Tensor: shape=(), dtype=int32, numpy=1>, <tf.Tensor: shape=(), dtype=int32, numpy=1>, <tf.Tensor: shape=(), dtype=int32, numpy=1>, <tf.Tensor: shape=(), dtype=int32, numpy=1>, <tf.Tensor: shape=(), dtype=int32, numpy=0>, <tf.Tensor: shape=(), dtype=int32, numpy=1>, <tf.Tensor: shape=(), dtype=int32, numpy=1>, <tf.Tensor: shape=(), dtype=int32, numpy=1>, <tf.Tensor: shape=(), dtype=int32, numpy=1>, <tf.Tensor: shape=(), dtype=int32, numpy=0>, <tf.Tensor: shape=(), dtype=int32, numpy=1>, <tf.Tensor: shape=(), dtype=int32, numpy=1>, <tf.Tensor: shape=(), dtype=int32, numpy=0>, <tf.Tensor: shape=(), dtype=int32, numpy=1>, <tf.Tensor: shape=(), dtype=int32, numpy=0>, <tf.Tensor: shape=(), dtype=int32, numpy=0>, <tf.Tensor: shape=(), dtype=int32, numpy=0>, <tf.Tensor: shape=(), dtype=int32, numpy=1>, <tf.Tensor: shape=(), dtype=int32, numpy=0>, <tf.Tensor: shape=(), dtype=int32, numpy=1>, <tf.Tensor: shape=(), dtype=int32, numpy=1>, <tf.Tensor: shape=(), dtype=int32, numpy=0>, <tf.Tensor: shape=(), dtype=int32, numpy=1>, <tf.Tensor: shape=(), dtype=int32, numpy=1>, <tf.Tensor: shape=(), dtype=int32, numpy=0>, <tf.Tensor: shape=(), dtype=int32, numpy=1>, <tf.Tensor: shape=(), dtype=int32, numpy=0>, <tf.Tensor: shape=(), dtype=int32, numpy=0>, <tf.Tensor: shape=(), dtype=int32, numpy=0>, <tf.Tensor: shape=(), dtype=int32, numpy=1>, <tf.Tensor: shape=(), dtype=int32, numpy=1>, <tf.Tensor: shape=(), dtype=int32, numpy=0>, <tf.Tensor: shape=(), dtype=int32, numpy=1>, <tf.Tensor: shape=(), dtype=int32, numpy=1>, <tf.Tensor: shape=(), dtype=int32, numpy=0>, <tf.Tensor: shape=(), dtype=int32, numpy=0>, <tf.Tensor: shape=(), dtype=int32, numpy=1>, <tf.Tensor: shape=(), dtype=int32, numpy=1>, <tf.Tensor: shape=(), dtype=int32, numpy=1>, <tf.Tensor: shape=(), dtype=int32, numpy=1>, <tf.Tensor: shape=(), dtype=int32, numpy=0>, <tf.Tensor: shape=(), dtype=int32, numpy=0>, <tf.Tensor: shape=(), dtype=int32, numpy=0>, <tf.Tensor: shape=(), dtype=int32, numpy=0>, <tf.Tensor: shape=(), dtype=int32, numpy=1>, <tf.Tensor: shape=(), dtype=int32, numpy=1>, <tf.Tensor: shape=(), dtype=int32, numpy=1>, <tf.Tensor: shape=(), dtype=int32, numpy=1>, <tf.Tensor: shape=(), dtype=int32, numpy=0>, <tf.Tensor: shape=(), dtype=int32, numpy=0>, <tf.Tensor: shape=(), dtype=int32, numpy=0>, <tf.Tensor: shape=(), dtype=int32, numpy=0>, <tf.Tensor: shape=(), dtype=int32, numpy=0>, <tf.Tensor: shape=(), dtype=int32, numpy=0>, <tf.Tensor: shape=(), dtype=int32, numpy=1>, <tf.Tensor: shape=(), dtype=int32, numpy=0>, <tf.Tensor: shape=(), dtype=int32, numpy=1>, <tf.Tensor: shape=(), dtype=int32, numpy=1>, <tf.Tensor: shape=(), dtype=int32, numpy=1>, <tf.Tensor: shape=(), dtype=int32, numpy=0>, <tf.Tensor: shape=(), dtype=int32, numpy=1>, <tf.Tensor: shape=(), dtype=int32, numpy=0>, <tf.Tensor: shape=(), dtype=int32, numpy=1>, <tf.Tensor: shape=(), dtype=int32, numpy=1>, <tf.Tensor: shape=(), dtype=int32, numpy=0>, <tf.Tensor: shape=(), dtype=int32, numpy=0>, <tf.Tensor: shape=(), dtype=int32, numpy=0>, <tf.Tensor: shape=(), dtype=int32, numpy=1>, <tf.Tensor: shape=(), dtype=int32, numpy=1>, <tf.Tensor: shape=(), dtype=int32, numpy=1>, <tf.Tensor: shape=(), dtype=int32, numpy=0>, <tf.Tensor: shape=(), dtype=int32, numpy=1>, <tf.Tensor: shape=(), dtype=int32, numpy=1>, <tf.Tensor: shape=(), dtype=int32, numpy=0>, <tf.Tensor: shape=(), dtype=int32, numpy=1>, <tf.Tensor: shape=(), dtype=int32, numpy=0>, <tf.Tensor: shape=(), dtype=int32, numpy=1>, <tf.Tensor: shape=(), dtype=int32, numpy=1>, <tf.Tensor: shape=(), dtype=int32, numpy=1>, <tf.Tensor: shape=(), dtype=int32, numpy=0>, <tf.Tensor: shape=(), dtype=int32, numpy=0>, <tf.Tensor: shape=(), dtype=int32, numpy=0>, <tf.Tensor: shape=(), dtype=int32, numpy=1>, <tf.Tensor: shape=(), dtype=int32, numpy=0>, <tf.Tensor: shape=(), dtype=int32, numpy=1>, <tf.Tensor: shape=(), dtype=int32, numpy=0>, <tf.Tensor: shape=(), dtype=int32, numpy=0>, <tf.Tensor: shape=(), dtype=int32, numpy=0>, <tf.Tensor: shape=(), dtype=int32, numpy=0>, <tf.Tensor: shape=(), dtype=int32, numpy=1>, <tf.Tensor: shape=(), dtype=int32, numpy=1>, <tf.Tensor: shape=(), dtype=int32, numpy=0>, <tf.Tensor: shape=(), dtype=int32, numpy=0>, <tf.Tensor: shape=(), dtype=int32, numpy=1>, <tf.Tensor: shape=(), dtype=int32, numpy=0>, <tf.Tensor: shape=(), dtype=int32, numpy=0>, <tf.Tensor: shape=(), dtype=int32, numpy=1>, <tf.Tensor: shape=(), dtype=int32, numpy=0>]\n",
            "0\n",
            "40 ERROR: more tokens than actions...\n",
            "model output time:  185.7491455078125\n",
            "64 total logits\n",
            "logprobs\n",
            "64 [<tf.Tensor: shape=(), dtype=float32, numpy=-681.9094>, <tf.Tensor: shape=(), dtype=float32, numpy=-682.4899>, <tf.Tensor: shape=(), dtype=float32, numpy=-683.3278>, <tf.Tensor: shape=(), dtype=float32, numpy=-682.7249>, <tf.Tensor: shape=(), dtype=float32, numpy=-681.78735>, <tf.Tensor: shape=(), dtype=float32, numpy=-682.0393>, <tf.Tensor: shape=(), dtype=float32, numpy=-682.6829>, <tf.Tensor: shape=(), dtype=float32, numpy=-682.3287>, <tf.Tensor: shape=(), dtype=float32, numpy=-682.2297>, <tf.Tensor: shape=(), dtype=float32, numpy=-683.37494>, <tf.Tensor: shape=(), dtype=float32, numpy=-683.1764>, <tf.Tensor: shape=(), dtype=float32, numpy=-683.6208>, <tf.Tensor: shape=(), dtype=float32, numpy=-683.5185>, <tf.Tensor: shape=(), dtype=float32, numpy=-683.2506>, <tf.Tensor: shape=(), dtype=float32, numpy=-681.8581>, <tf.Tensor: shape=(), dtype=float32, numpy=-683.2762>, <tf.Tensor: shape=(), dtype=float32, numpy=-683.1498>, <tf.Tensor: shape=(), dtype=float32, numpy=-682.9507>, <tf.Tensor: shape=(), dtype=float32, numpy=-683.1995>, <tf.Tensor: shape=(), dtype=float32, numpy=-682.222>, <tf.Tensor: shape=(), dtype=float32, numpy=-682.2279>, <tf.Tensor: shape=(), dtype=float32, numpy=-683.1324>, <tf.Tensor: shape=(), dtype=float32, numpy=-682.6882>, <tf.Tensor: shape=(), dtype=float32, numpy=-682.2352>, <tf.Tensor: shape=(), dtype=float32, numpy=-682.67084>, <tf.Tensor: shape=(), dtype=float32, numpy=-682.00415>, <tf.Tensor: shape=(), dtype=float32, numpy=-682.2117>, <tf.Tensor: shape=(), dtype=float32, numpy=-683.35455>, <tf.Tensor: shape=(), dtype=float32, numpy=-682.3612>, <tf.Tensor: shape=(), dtype=float32, numpy=-682.26544>, <tf.Tensor: shape=(), dtype=float32, numpy=-682.9562>, <tf.Tensor: shape=(), dtype=float32, numpy=-682.67017>, <tf.Tensor: shape=(), dtype=float32, numpy=-683.2076>, <tf.Tensor: shape=(), dtype=float32, numpy=-682.33563>, <tf.Tensor: shape=(), dtype=float32, numpy=-682.0194>, <tf.Tensor: shape=(), dtype=float32, numpy=-683.4128>, <tf.Tensor: shape=(), dtype=float32, numpy=-683.01654>, <tf.Tensor: shape=(), dtype=float32, numpy=-682.5029>, <tf.Tensor: shape=(), dtype=float32, numpy=-682.19604>, <tf.Tensor: shape=(), dtype=float32, numpy=-681.79443>, <tf.Tensor: shape=(), dtype=float32, numpy=-684.2494>, <tf.Tensor: shape=(), dtype=float32, numpy=-682.5717>, <tf.Tensor: shape=(), dtype=float32, numpy=-683.64545>, <tf.Tensor: shape=(), dtype=float32, numpy=-682.7>, <tf.Tensor: shape=(), dtype=float32, numpy=-682.4688>, <tf.Tensor: shape=(), dtype=float32, numpy=-682.29083>, <tf.Tensor: shape=(), dtype=float32, numpy=-682.5394>, <tf.Tensor: shape=(), dtype=float32, numpy=-681.4265>, <tf.Tensor: shape=(), dtype=float32, numpy=-682.77313>, <tf.Tensor: shape=(), dtype=float32, numpy=-682.9766>, <tf.Tensor: shape=(), dtype=float32, numpy=-682.4472>, <tf.Tensor: shape=(), dtype=float32, numpy=-682.09454>, <tf.Tensor: shape=(), dtype=float32, numpy=-682.61017>, <tf.Tensor: shape=(), dtype=float32, numpy=-683.09784>, <tf.Tensor: shape=(), dtype=float32, numpy=-683.9826>, <tf.Tensor: shape=(), dtype=float32, numpy=-682.3735>, <tf.Tensor: shape=(), dtype=float32, numpy=-682.2366>, <tf.Tensor: shape=(), dtype=float32, numpy=-682.98083>, <tf.Tensor: shape=(), dtype=float32, numpy=-682.2381>, <tf.Tensor: shape=(), dtype=float32, numpy=-683.08777>, <tf.Tensor: shape=(), dtype=float32, numpy=-683.13367>, <tf.Tensor: shape=(), dtype=float32, numpy=-682.8956>, <tf.Tensor: shape=(), dtype=float32, numpy=-682.4928>, <tf.Tensor: shape=(), dtype=float32, numpy=-682.19183>]\n",
            "(64, 1) \n",
            " tf.Tensor(\n",
            "[[ 1.609675  ]\n",
            " [-4.9037    ]\n",
            " [-0.9851815 ]\n",
            " [ 3.3964663 ]\n",
            " [-3.9176342 ]\n",
            " [ 1.7529314 ]\n",
            " [ 3.7761889 ]\n",
            " [ 0.22713605]\n",
            " [ 2.7141693 ]\n",
            " [-1.796425  ]\n",
            " [ 2.6364923 ]\n",
            " [ 2.3608086 ]\n",
            " [-2.005915  ]\n",
            " [-1.225856  ]\n",
            " [ 3.510629  ]\n",
            " [-2.1503367 ]\n",
            " [ 1.3080753 ]\n",
            " [ 1.9198377 ]\n",
            " [ 2.2704327 ]\n",
            " [-1.9654258 ]\n",
            " [-2.7197227 ]\n",
            " [-0.01032887]\n",
            " [ 1.1141009 ]\n",
            " [-1.8623306 ]\n",
            " [-2.714766  ]\n",
            " [-1.391841  ]\n",
            " [ 3.47137   ]\n",
            " [-0.2194908 ]\n",
            " [ 1.9696337 ]\n",
            " [ 1.9753618 ]\n",
            " [-2.3443708 ]\n",
            " [ 0.7546586 ]\n",
            " [ 1.7744803 ]\n",
            " [-2.1041987 ]\n",
            " [-4.988384  ]\n",
            " [-1.0152972 ]\n",
            " [-5.0172515 ]\n",
            " [-0.17447329]\n",
            " [ 1.5061502 ]\n",
            " [-3.4755046 ]\n",
            " [ 1.4599785 ]\n",
            " [-1.5027581 ]\n",
            " [-1.0699823 ]\n",
            " [ 2.7169065 ]\n",
            " [ 2.2817943 ]\n",
            " [-2.351403  ]\n",
            " [-1.2158623 ]\n",
            " [ 1.3444301 ]\n",
            " [ 2.3739407 ]\n",
            " [ 3.3253267 ]\n",
            " [-2.994166  ]\n",
            " [ 2.5029268 ]\n",
            " [-2.1144493 ]\n",
            " [-1.5197695 ]\n",
            " [-1.7485895 ]\n",
            " [ 2.6019778 ]\n",
            " [-2.8542705 ]\n",
            " [ 1.5909656 ]\n",
            " [ 0.78476   ]\n",
            " [-2.4528766 ]\n",
            " [-1.3978059 ]\n",
            " [ 0.36781734]\n",
            " [-2.4002092 ]\n",
            " [-0.7338491 ]], shape=(64, 1), dtype=float32)\n",
            "labels (64,) \n",
            " tf.Tensor(\n",
            "[1 0 1 1 0 1 1 0 1 0 1 1 1 0 1 0 1 1 1 0 1 1 1 0 1 0 1 1 1 1 0 1 1 1 0 0 0\n",
            " 0 1 0 1 1 0 1 1 0 1 1 0 1 0 1 0 1 1 1 0 1 1 0 0 1 0 1], shape=(64,), dtype=int32)\n",
            "loss object: tf.Tensor(\n",
            "[ 1.20396    30.800896    2.8270597   7.9154005  20.8699      1.5066042\n",
            " 10.164366    0.39267075  4.599003    6.0976734   4.2804756   3.2474065\n",
            "  7.1560884   3.6600425   8.56123     7.9368687   0.70096684  1.9109797\n",
            "  2.941824    6.944681   11.421545    0.6380178   0.47359467  6.4211884\n",
            " 11.388412    4.3020225   8.336197    0.9475396   2.0424147   2.057852\n",
            "  9.051538    0.25118634  1.5556802   7.6829004  31.744452    2.9249501\n",
            " 32.069378    0.87353253  1.0108008  17.048515    0.9315641   4.7617292\n",
            "  3.1073399   4.610448    2.9793425   9.093349    3.623149    0.7519547\n",
            "  3.2931685   7.526139   13.332737    3.7609842   7.7389574   4.834412\n",
            "  5.8683023   4.1428165  12.339699    1.1674645   0.25989825  9.707699\n",
            "  4.326119    0.30051792  9.386265    2.0808458 ], shape=(64,), dtype=float32)\n",
            "logprob_sums:\n",
            "\t tf.Tensor(\n",
            "[  820.99164 21021.3      1931.8086   5404.041   14228.834    1027.5632\n",
            "  6939.039     267.9305   3137.5762   4166.997    2924.3198   2219.9946\n",
            "  4891.319    2500.7263   5837.544    5423.073     478.86533  1305.105\n",
            "  2009.8528   4737.814    7792.0967    435.85062   323.31747  4380.7607\n",
            "  7774.537    2933.997    5687.051     647.5055   1393.6646   1404.0013\n",
            "  6181.804     171.47742  1062.8524   5242.317   21650.332    1998.9482\n",
            " 21903.916     596.18854   689.56433 11623.583     637.4222   3250.2217\n",
            "  2124.3188   3147.5527   2033.3083   6204.309    2472.942     512.40186\n",
            "  2248.487    5140.177    9098.889    2565.3467   5282.691    3302.3765\n",
            "  4013.8167   2826.948    8418.594     797.3559    177.31248  6631.2104\n",
            "  2955.3174    205.22237  6406.058    1419.536  ], shape=(64,), dtype=float32)\n",
            "gradients[0]: IndexedSlices(indices=tf.Tensor([ 55 149   2 ...   0   0   0], shape=(63040,), dtype=int64), values=tf.Tensor(\n",
            "[[-0.00497956  0.00535368  0.02305183 ...  0.04156848 -0.00701601\n",
            "  -0.00996218]\n",
            " [ 0.00539499 -0.00838301  0.02925009 ...  0.02963068  0.00206901\n",
            "   0.01326984]\n",
            " [ 0.01231087 -0.0052731   0.00263302 ... -0.03759281  0.01167931\n",
            "   0.01944119]\n",
            " ...\n",
            " [ 0.          0.          0.         ...  0.          0.\n",
            "   0.        ]\n",
            " [ 0.          0.          0.         ...  0.          0.\n",
            "   0.        ]\n",
            " [ 0.          0.          0.         ...  0.          0.\n",
            "   0.        ]], shape=(63040, 64), dtype=float32), dense_shape=tf.Tensor([1000   64], shape=(2,), dtype=int32))\n",
            "optimizer step success.\n",
            "model output time:  169.9135868549347\n",
            "64 total logits\n",
            "logprobs\n",
            "64 [<tf.Tensor: shape=(), dtype=float32, numpy=-628.3747>, <tf.Tensor: shape=(), dtype=float32, numpy=-630.64813>, <tf.Tensor: shape=(), dtype=float32, numpy=-629.3913>, <tf.Tensor: shape=(), dtype=float32, numpy=-628.06055>, <tf.Tensor: shape=(), dtype=float32, numpy=-628.5751>, <tf.Tensor: shape=(), dtype=float32, numpy=-628.6575>, <tf.Tensor: shape=(), dtype=float32, numpy=-627.3764>, <tf.Tensor: shape=(), dtype=float32, numpy=-629.5377>, <tf.Tensor: shape=(), dtype=float32, numpy=-629.90546>, <tf.Tensor: shape=(), dtype=float32, numpy=-629.6579>, <tf.Tensor: shape=(), dtype=float32, numpy=-628.48334>, <tf.Tensor: shape=(), dtype=float32, numpy=-629.1964>, <tf.Tensor: shape=(), dtype=float32, numpy=-628.8544>, <tf.Tensor: shape=(), dtype=float32, numpy=-628.7912>, <tf.Tensor: shape=(), dtype=float32, numpy=-629.2412>, <tf.Tensor: shape=(), dtype=float32, numpy=-629.045>, <tf.Tensor: shape=(), dtype=float32, numpy=-629.0321>, <tf.Tensor: shape=(), dtype=float32, numpy=-628.9088>, <tf.Tensor: shape=(), dtype=float32, numpy=-629.32153>, <tf.Tensor: shape=(), dtype=float32, numpy=-627.9318>, <tf.Tensor: shape=(), dtype=float32, numpy=-628.64874>, <tf.Tensor: shape=(), dtype=float32, numpy=-628.6487>, <tf.Tensor: shape=(), dtype=float32, numpy=-629.6856>, <tf.Tensor: shape=(), dtype=float32, numpy=-628.71844>, <tf.Tensor: shape=(), dtype=float32, numpy=-630.2685>, <tf.Tensor: shape=(), dtype=float32, numpy=-628.76465>, <tf.Tensor: shape=(), dtype=float32, numpy=-629.70135>, <tf.Tensor: shape=(), dtype=float32, numpy=-625.84766>, <tf.Tensor: shape=(), dtype=float32, numpy=-628.9695>, <tf.Tensor: shape=(), dtype=float32, numpy=-629.05096>, <tf.Tensor: shape=(), dtype=float32, numpy=-629.3173>, <tf.Tensor: shape=(), dtype=float32, numpy=-628.0856>, <tf.Tensor: shape=(), dtype=float32, numpy=-629.5922>, <tf.Tensor: shape=(), dtype=float32, numpy=-628.3729>, <tf.Tensor: shape=(), dtype=float32, numpy=-631.1929>, <tf.Tensor: shape=(), dtype=float32, numpy=-628.23096>, <tf.Tensor: shape=(), dtype=float32, numpy=-629.68713>, <tf.Tensor: shape=(), dtype=float32, numpy=-628.738>, <tf.Tensor: shape=(), dtype=float32, numpy=-629.99115>, <tf.Tensor: shape=(), dtype=float32, numpy=-628.2481>, <tf.Tensor: shape=(), dtype=float32, numpy=-628.994>, <tf.Tensor: shape=(), dtype=float32, numpy=-629.34894>, <tf.Tensor: shape=(), dtype=float32, numpy=-629.74786>, <tf.Tensor: shape=(), dtype=float32, numpy=-629.4105>, <tf.Tensor: shape=(), dtype=float32, numpy=-628.4181>, <tf.Tensor: shape=(), dtype=float32, numpy=-629.9306>, <tf.Tensor: shape=(), dtype=float32, numpy=-630.22437>, <tf.Tensor: shape=(), dtype=float32, numpy=-629.9386>, <tf.Tensor: shape=(), dtype=float32, numpy=-628.4501>, <tf.Tensor: shape=(), dtype=float32, numpy=-628.9809>, <tf.Tensor: shape=(), dtype=float32, numpy=-629.754>, <tf.Tensor: shape=(), dtype=float32, numpy=-628.7092>, <tf.Tensor: shape=(), dtype=float32, numpy=-629.6606>, <tf.Tensor: shape=(), dtype=float32, numpy=-629.565>, <tf.Tensor: shape=(), dtype=float32, numpy=-628.39703>, <tf.Tensor: shape=(), dtype=float32, numpy=-628.68304>, <tf.Tensor: shape=(), dtype=float32, numpy=-628.78296>, <tf.Tensor: shape=(), dtype=float32, numpy=-629.2769>, <tf.Tensor: shape=(), dtype=float32, numpy=-628.97375>, <tf.Tensor: shape=(), dtype=float32, numpy=-629.27954>, <tf.Tensor: shape=(), dtype=float32, numpy=-628.0591>, <tf.Tensor: shape=(), dtype=float32, numpy=-629.30963>, <tf.Tensor: shape=(), dtype=float32, numpy=-629.2827>, <tf.Tensor: shape=(), dtype=float32, numpy=-629.1688>]\n",
            "(64, 1) \n",
            " tf.Tensor(\n",
            "[[ 0.31844002]\n",
            " [-1.3286123 ]\n",
            " [ 2.3239813 ]\n",
            " [-1.3597814 ]\n",
            " [-1.7150472 ]\n",
            " [ 2.9361274 ]\n",
            " [-1.5376598 ]\n",
            " [-1.868752  ]\n",
            " [ 0.7615156 ]\n",
            " [ 0.38903108]\n",
            " [-3.6272798 ]\n",
            " [-3.610405  ]\n",
            " [-0.2762674 ]\n",
            " [ 1.6388432 ]\n",
            " [-1.505054  ]\n",
            " [ 0.74171704]\n",
            " [-4.726088  ]\n",
            " [-2.1974733 ]\n",
            " [-2.4127798 ]\n",
            " [-0.97209364]\n",
            " [ 1.6346346 ]\n",
            " [ 4.180516  ]\n",
            " [-3.5187569 ]\n",
            " [ 2.196344  ]\n",
            " [ 0.13663702]\n",
            " [ 3.0178585 ]\n",
            " [ 2.2651625 ]\n",
            " [ 1.2304556 ]\n",
            " [ 0.01654831]\n",
            " [-3.4468138 ]\n",
            " [ 1.2618186 ]\n",
            " [ 1.335638  ]\n",
            " [-1.5397996 ]\n",
            " [ 4.5779204 ]\n",
            " [-1.7227838 ]\n",
            " [-5.2397594 ]\n",
            " [-1.2461263 ]\n",
            " [-2.3138075 ]\n",
            " [-1.365748  ]\n",
            " [-1.4648783 ]\n",
            " [ 2.1506655 ]\n",
            " [-4.0274477 ]\n",
            " [-1.4011065 ]\n",
            " [-3.8877769 ]\n",
            " [-0.22149183]\n",
            " [-3.238505  ]\n",
            " [ 1.2131568 ]\n",
            " [-0.15875183]\n",
            " [-4.4123197 ]\n",
            " [-1.4265978 ]\n",
            " [-0.02805058]\n",
            " [ 2.9392972 ]\n",
            " [-1.0283881 ]\n",
            " [ 1.4429082 ]\n",
            " [-3.3956318 ]\n",
            " [-1.4710194 ]\n",
            " [-1.559845  ]\n",
            " [-0.64683944]\n",
            " [ 3.4988496 ]\n",
            " [ 1.243713  ]\n",
            " [ 3.0347571 ]\n",
            " [-2.2797067 ]\n",
            " [-2.478595  ]\n",
            " [-4.0590672 ]], shape=(64, 1), dtype=float32)\n",
            "labels (64,) \n",
            " tf.Tensor(\n",
            "[0 0 1 0 0 1 0 0 1 1 0 0 1 1 0 1 0 0 1 1 1 1 0 1 0 1 0 1 1 0 1 1 0 1 0 0 1\n",
            " 0 0 0 1 0 1 0 1 0 1 1 0 1 1 1 0 1 0 0 1 1 1 1 1 0 0 0], shape=(64,), dtype=int32)\n",
            "loss object: tf.Tensor(\n",
            "[ 0.28863776  3.650967    3.5199082   3.7669048   5.2256546   6.1085873\n",
            "  4.4657335   5.93501     0.31021807  0.26578188 17.413416   17.27388\n",
            "  0.8768494   1.511375    4.3329      0.3008735  27.725311    7.6106586\n",
            "  8.82531     2.4630623   1.5019383  13.68118    16.525991    3.0745716\n",
            "  0.39338773  6.510928    3.3106372   0.7607387   0.49883336 15.950676\n",
            "  0.8065609   0.92217726  4.4745264  16.752       5.26023    33.374207\n",
            "  3.353523    8.255445    3.78932     4.172149    2.9231133  20.889267\n",
            "  3.9236152  19.639704    0.79309714 14.343247    0.7363064   0.70454\n",
            " 24.534393    4.0219855   0.54533887  6.123943    2.6337323   1.10961\n",
            " 15.547687    4.1965113   4.5573316   1.6010793   9.149385    0.77986807\n",
            "  6.5957823   8.063635    9.21511    21.177567  ], shape=(64,), dtype=float32)\n",
            "logprob_sums:\n",
            "\t tf.Tensor(\n",
            "[  181.37267  2302.4753   2215.3997   2365.8442   3284.7163   3840.209\n",
            "  2801.6958   3736.3127    195.40805   167.35165 10944.042   10868.663\n",
            "   551.4106    950.3393   2726.4392    189.26295 17440.111    4786.41\n",
            "  5553.9575   1546.6353    944.19165  8600.656   10406.179    1933.0399\n",
            "   247.9399   4093.8416   2084.7126    476.1065    313.75095 10033.788\n",
            "   507.58273   579.20624  2817.127   10526.504    3320.2197  20966.709\n",
            "  2111.6704   5190.5117   2387.238    2621.1448   1838.6208  13146.638\n",
            "  2470.8882  12361.437     498.39658  9035.251     464.03824   443.81696\n",
            " 15418.642    2529.752     343.42935  3850.1794   1658.3574    698.5716\n",
            "  9770.12     2638.2754   2865.5725   1007.5223   5754.723     490.755\n",
            "  4142.541    5074.523    5798.909   13324.265  ], shape=(64,), dtype=float32)\n",
            "gradients[0]: IndexedSlices(indices=tf.Tensor([  1   9 663 ...   0   0   0], shape=(58112,), dtype=int64), values=tf.Tensor(\n",
            "[[-0.00175119  0.00245266 -0.00259451 ...  0.00352214  0.0025252\n",
            "  -0.00448304]\n",
            " [-0.00556088  0.00416351  0.00619846 ...  0.01696786 -0.00032771\n",
            "  -0.00719597]\n",
            " [ 0.00111287  0.0009582   0.00579858 ...  0.01545613  0.00588959\n",
            "  -0.0018782 ]\n",
            " ...\n",
            " [ 0.          0.          0.         ...  0.          0.\n",
            "   0.        ]\n",
            " [ 0.          0.          0.         ...  0.          0.\n",
            "   0.        ]\n",
            " [ 0.          0.          0.         ...  0.          0.\n",
            "   0.        ]], shape=(58112, 64), dtype=float32), dense_shape=tf.Tensor([1000   64], shape=(2,), dtype=int32))\n",
            "optimizer step success.\n",
            "['it.', 'in', 'that', 'like', 'jokes', 'two', 'are', 'there', 'of', 'account', 'On', 'movie.', 'this', 'love', 'will', 'you', 'dog,', 'another', 'eating', 'dog', 'one', 'about', 'jokes', 'or', 'dogs', 'eating', 'people', 'about', 'jokes', 'like', 'you', 'if', 'also,', '/>Oh,', '/><br', 'Returns.<br', 'Superman', 'of', 'review', 'my', 'is', 'that', '/>So', '/><br', 'leave.<br', 'to', 'okay', 'was', 'it', 'thought', 'I', 'part', 'that', 'saw', 'already', 'I', 'since', 'and', 'movie,', 'the', 'of', 'beginning', 'the', 'quoting', 'started', 'and', 'up', 'showed', 'Superman', 'Then', 'while.', 'a', 'for', 'house', 'her', 'around', 'puttered', 'Lane', 'Lois', 'as', 'watched', 'and', 'seat', 'old', 'my', 'in', 'back', 'sat', '/>I', '/><br', 'now.<br', 'by', 'beards', 'gray', 'long', 'with', 'skeletons', 'only', 'were', 'them', 'of', 'most', 'but', 'missed,', 'I', 'what', 'viewers', 'the', 'of', 'some', 'ask', 'to', 'tried', 'I', 'yet.', 'over', \"wasn't\", 'Returns', 'Superman', 'that', 'find', 'to', 'surprised', 'slightly', 'was', 'I', 'did,', 'I', 'When', 'it.', 'retrieve', 'to', 'went', 'I', 'and', 'theater,', 'the', 'in', 'back', 'sweatshirt', 'my', 'left', 'I', 'realized', 'I', 'chilly.', 'little', 'a', 'felt', 'lived', 'I', 'where', 'home', 'nursing', 'the', 'later,', 'years', '/>Ninety', '/><br', 'left.<br', 'I', 'so', 'over,', 'was', 'movie', 'the', 'thought', 'I', 'life.', 'to', 'back', 'came', 'and', 'died', 'Superman', '/>Then', '/><br', 'bit.<br', 'little', 'a', 'girlfriend', 'his', 'at', 'yelling', 'move:', 'guy', 'bad', 'final', 'his', 'unleashed', 'Luthor', 'Lex', '/>Then', '/><br', 'again.<br', 'okay', \"he's\", 'wait,', 'no', 'again,', 'sick', \"he's\", 'things,', 'murky', 'the', 'to', 'back', 'better,', 'getting', 'Superman', 'sick,', 'getting', 'Superman', 'water,', 'the', 'of', 'out', 'growing', 'things', 'murky', 'seeing', 'remember', 'I', 'here.', 'while', 'a', 'for', 'loop', 'of', 'kind', 'some', 'in', 'be', 'to', 'seemed', 'movie', 'the', 'of', 'account', 'on', 'broken,', 'was', 'projector', 'the', 'maybe', 'think', 'I', 'finale.', 'murky', 'big', 'the', 'for', 'up', 'gear', 'to', 'start', 'things', 'point,', 'this', '/>At', '/><br', 'dollars.<br', 'million', 'the', 'wins', 'he', 'hope', 'I', 'percent.', 'hundred', 'one', 'to', 'close', 'damn', 'scored', 'he', 'think', 'I', 'but', 'door),', 'the', 'at', 'one', 'you', 'give', '(they', 'me', 'with', 'home', 'scorecard', 'my', 'bring', 'to', 'forgot', 'I', 'movie.', 'the', 'of', 'end', 'the', 'before', 'behavior', 'villain', 'generic', 'possible', 'every', 'display', 'to', 'contest', 'of', 'kind', 'some', 'in', 'involved', 'is', 'Luthor', 'Lex', '/>Meanwhile,', '/><br', 'guy.<br', 'good', 'a', 'like', 'seems', 'who', 'Cyclops,', 'on', 'cheat', 'to', 'her', 'get', 'to', 'tries', 'he', 'Then', 'super-hearing.', 'and', 'vision', 'x-ray', 'his', 'with', 'family', 'her', 'and', 'Lane', 'Lois', 'stalking', 'starts', 'and', 'creepy', 'really', 'turns', 'Superman', 'where', 'subplot', 'a', 'a', 'is', 'there', 'then', 'And', '/>.', '/><br', 'cool.<br', 'pretty', 'was', 'which', 'everybody,', 'saved', 'Superman', 'did,', 'they', 'When', 'Lane.', 'Shuttle', 'Space', 'for', 'wrong', 'went', 'things', 'before', 'hour', 'half', 'another', 'about', 'took', 'still', 'It', 'hurry.', 'to', 'need', 'no', 'was', 'there', 'learn', 'to', 'only', 'theater', 'the', 'to', 'back', 'raced', 'and', 'myself', 'excused', 'I', 'so', 'Returns,', 'Superman', 'on', 'in', 'check', 'probably', 'should', 'I', 'that', 'remembered', 'I', 'graduation,', 'school', 'medical', \"son's\", 'my', 'attending', 'While', 'college.', 'to', 'off', 'him', 'sent', 'and', 'son', 'a', 'raised', 'married,', 'got', 'girl,', 'a', 'met', 'theater,', 'the', 'around', 'wandered', 'I', 'so', 'forever,', 'taking', 'be', 'to', 'seemed', 'it', 'Still,', 'us.', 'upon', 'almost', 'was', 'disaster', 'shuttle', 'space', 'Lane', 'Lois', 'impending', 'the', 'that', 'see', 'to', 'up', 'looked', 'and', 'seat,', 'my', 'found', 'theater,', 'first', 'the', 'into', 'back', 'walked', '/>I', '/><br', 'around.<br', 'messing', 'stop', 'to', 'time', 'was', 'it', 'Then', 'row.', 'a', 'in', 'twice', 'watched', 'I', 'which', 'Companion,', 'Home', 'Prairie', 'into', 'wandered', 'somehow', 'I', 'but', 'Returns,', 'Superman', 'to', 'back', 'way', 'my', 'find', 'to', 'tried', 'I', 'entirety.', 'its', 'in', 'slides', 'showing', 'Gore', 'Al', 'about', 'movie', 'that', 'watched', 'and', 'theater', 'wrong', 'the', 'into', 'back', 'walked', 'accidentally', 'I', 'soda.', 'a', 'get', 'to', 'myself', 'excused', 'I', 'build,', 'to', 'started', 'disaster', 'inevitable', 'the', 'to', 'up', 'leading', 'events', 'the', '/>As', '/><br', 'summer.<br', 'the', 'of', 'most', 'for', 'them', 'between', 'cutting', 'by', 'involved', 'are', 'people', 'these', 'that', 'us', 'reminds', 'then', 'film', 'The', 'cockpit.', 'the', 'in', 'pilots', 'are', 'there', 'and', 'television', 'on', 'it', 'watching', 'people', 'also', 'are', 'There', 'event.', 'this', 'monitoring', 'room', 'control', 'a', 'in', 'people', 'are', 'there', 'that', 'learn', 'we', 'Then', 'television.', 'on', 'is', 'it', 'of', 'account', 'on', 'event', 'important', 'of', 'kind', 'some', 'is', 'It', 'shuttle.', 'space', 'of', 'kind', 'some', 'to', 'attached', 'jet', 'of', 'kind', 'some', 'on', 'is', 'Lane', 'Miss', 'that', 'see', 'we', 'point', 'this', '/>At', '/><br', 'frame.<br', 'picture', 'a', 'breaks', 'accidentally', 'he', 'that', 'extent', 'an', 'such', 'to', 'strength', 'super', 'his', 'of', 'control', 'loses', 'he', 'that', 'much', 'so', 'him', 'upsets', 'It', 'Cyclops.', 'dating', 'is', 'and', 'kid', 'illegitimate', 'an', 'has', 'Lane', 'Lois', 'out', 'finds', 'he', 'Then', 'happened).', 'nothing', 'where', 'trip', 'year', 'five', 'a', 'on', 'away', 'been', 'had', 'he', 'mention,', 'to', 'forgot', '(I', 'job', 'old', 'his', 'at', 'back', 'up', 'shows', 'Kent', 'Clark', 'while,', 'a', '/>After', '/><br', 'population.<br', \"Earth's\", 'of', 'most', 'kill', 'to', 'planning', 'Luthor', 'Lex', 'about', 'plot', 'of', 'kind', 'some', 'features', 'occasionally', 'movie', 'the', 'as', 'either,', 'humans', 'like', \"doesn't\", 'probably', 'he', 'Also,', 'human.', 'not', 'is', 'he', 'because', 'Superman', 'like', \"doesn't\", 'who', 'guy', 'a', 'is', 'Luthor', 'Lex', 'unturned.', 'stone', 'hackneyed', 'no', 'leave', 'to', 'drive', \"film's\", 'the', 'of', 'instance', 'early', 'an', 'scene,', 'the', 'of', 'end', 'the', 'until', 'face', \"Luthor's\", 'see', \"don't\", 'We', 'dies.', 'she', 'as', 'lady', 'old', 'an', 'of', 'close-ups', 'murky', 'many', 'about', 'scene', 'a', 'in', 'Luthor', 'Lex', 'with', 'up', 'catch', 'we', '/>Next', '/><br', 'faints.<br', 'and', 'her', 'on', 'up', 'sneaks', 'Superman', 'Then', 'cornfield.', 'the', 'in', 'debris', 'some', 'to', 'up', 'walking', 'slowly', 'life', 'my', 'of', 'portion', 'good', 'a', 'spends', 'and', 'farm,', 'the', 'on', 'ruckus', 'murky', 'of', 'kind', 'some', 'sees', 'Kent', 'Ma', 'stuff.', 'murky', 'more', 'some', 'is', 'there', '/>Then', '/><br', 'film.<br', 'Superman', 'original', 'the', 'of', 'credits', 'sweeping', 'futuristic', 'even-crummy-looking-for-their-time', 'the', 'to', 'homage', 'pay', 'credits', 'the', 'visuals,', 'intergalactic', 'murky', 'of', 'solely', 'consisting', 'scene', 'opening', 'an', '/>After', '/><br', 'original.<br', 'the', 'as', 'long', 'painfully', 'and', 'crummy', 'as', 'just', 'is', 'it', 'film,as', 'Superman', 'first', 'the', 'to', 'tribute', 'fitting', 'a', 'is', 'movie', 'this', 'guess', 'I']\n",
            "[<tf.Tensor: shape=(), dtype=int32, numpy=1>, <tf.Tensor: shape=(), dtype=int32, numpy=1>, <tf.Tensor: shape=(), dtype=int32, numpy=1>, <tf.Tensor: shape=(), dtype=int32, numpy=0>, <tf.Tensor: shape=(), dtype=int32, numpy=1>, <tf.Tensor: shape=(), dtype=int32, numpy=0>, <tf.Tensor: shape=(), dtype=int32, numpy=1>, <tf.Tensor: shape=(), dtype=int32, numpy=1>, <tf.Tensor: shape=(), dtype=int32, numpy=1>, <tf.Tensor: shape=(), dtype=int32, numpy=0>, <tf.Tensor: shape=(), dtype=int32, numpy=0>, <tf.Tensor: shape=(), dtype=int32, numpy=0>, <tf.Tensor: shape=(), dtype=int32, numpy=1>, <tf.Tensor: shape=(), dtype=int32, numpy=0>, <tf.Tensor: shape=(), dtype=int32, numpy=1>, <tf.Tensor: shape=(), dtype=int32, numpy=0>, <tf.Tensor: shape=(), dtype=int32, numpy=0>, <tf.Tensor: shape=(), dtype=int32, numpy=0>, <tf.Tensor: shape=(), dtype=int32, numpy=1>, <tf.Tensor: shape=(), dtype=int32, numpy=1>, <tf.Tensor: shape=(), dtype=int32, numpy=0>, <tf.Tensor: shape=(), dtype=int32, numpy=0>, <tf.Tensor: shape=(), dtype=int32, numpy=0>, <tf.Tensor: shape=(), dtype=int32, numpy=1>, <tf.Tensor: shape=(), dtype=int32, numpy=1>, <tf.Tensor: shape=(), dtype=int32, numpy=0>, <tf.Tensor: shape=(), dtype=int32, numpy=1>, <tf.Tensor: shape=(), dtype=int32, numpy=1>, <tf.Tensor: shape=(), dtype=int32, numpy=1>, <tf.Tensor: shape=(), dtype=int32, numpy=0>, <tf.Tensor: shape=(), dtype=int32, numpy=1>, <tf.Tensor: shape=(), dtype=int32, numpy=1>, <tf.Tensor: shape=(), dtype=int32, numpy=1>, <tf.Tensor: shape=(), dtype=int32, numpy=1>, <tf.Tensor: shape=(), dtype=int32, numpy=0>, <tf.Tensor: shape=(), dtype=int32, numpy=1>, <tf.Tensor: shape=(), dtype=int32, numpy=1>, <tf.Tensor: shape=(), dtype=int32, numpy=0>, <tf.Tensor: shape=(), dtype=int32, numpy=0>, <tf.Tensor: shape=(), dtype=int32, numpy=0>, <tf.Tensor: shape=(), dtype=int32, numpy=1>, <tf.Tensor: shape=(), dtype=int32, numpy=0>, <tf.Tensor: shape=(), dtype=int32, numpy=0>, <tf.Tensor: shape=(), dtype=int32, numpy=1>, <tf.Tensor: shape=(), dtype=int32, numpy=0>, <tf.Tensor: shape=(), dtype=int32, numpy=0>, <tf.Tensor: shape=(), dtype=int32, numpy=0>, <tf.Tensor: shape=(), dtype=int32, numpy=0>, <tf.Tensor: shape=(), dtype=int32, numpy=0>, <tf.Tensor: shape=(), dtype=int32, numpy=0>, <tf.Tensor: shape=(), dtype=int32, numpy=0>, <tf.Tensor: shape=(), dtype=int32, numpy=0>, <tf.Tensor: shape=(), dtype=int32, numpy=1>, <tf.Tensor: shape=(), dtype=int32, numpy=0>, <tf.Tensor: shape=(), dtype=int32, numpy=0>, <tf.Tensor: shape=(), dtype=int32, numpy=1>, <tf.Tensor: shape=(), dtype=int32, numpy=1>, <tf.Tensor: shape=(), dtype=int32, numpy=1>, <tf.Tensor: shape=(), dtype=int32, numpy=1>, <tf.Tensor: shape=(), dtype=int32, numpy=0>, <tf.Tensor: shape=(), dtype=int32, numpy=1>, <tf.Tensor: shape=(), dtype=int32, numpy=0>, <tf.Tensor: shape=(), dtype=int32, numpy=1>, <tf.Tensor: shape=(), dtype=int32, numpy=0>, <tf.Tensor: shape=(), dtype=int32, numpy=0>, <tf.Tensor: shape=(), dtype=int32, numpy=0>, <tf.Tensor: shape=(), dtype=int32, numpy=1>, <tf.Tensor: shape=(), dtype=int32, numpy=0>, <tf.Tensor: shape=(), dtype=int32, numpy=0>, <tf.Tensor: shape=(), dtype=int32, numpy=0>, <tf.Tensor: shape=(), dtype=int32, numpy=1>, <tf.Tensor: shape=(), dtype=int32, numpy=1>, <tf.Tensor: shape=(), dtype=int32, numpy=1>, <tf.Tensor: shape=(), dtype=int32, numpy=1>, <tf.Tensor: shape=(), dtype=int32, numpy=1>, <tf.Tensor: shape=(), dtype=int32, numpy=0>, <tf.Tensor: shape=(), dtype=int32, numpy=1>, <tf.Tensor: shape=(), dtype=int32, numpy=1>, <tf.Tensor: shape=(), dtype=int32, numpy=0>, <tf.Tensor: shape=(), dtype=int32, numpy=0>, <tf.Tensor: shape=(), dtype=int32, numpy=1>, <tf.Tensor: shape=(), dtype=int32, numpy=0>, <tf.Tensor: shape=(), dtype=int32, numpy=1>, <tf.Tensor: shape=(), dtype=int32, numpy=1>, <tf.Tensor: shape=(), dtype=int32, numpy=1>, <tf.Tensor: shape=(), dtype=int32, numpy=0>, <tf.Tensor: shape=(), dtype=int32, numpy=0>, <tf.Tensor: shape=(), dtype=int32, numpy=1>, <tf.Tensor: shape=(), dtype=int32, numpy=0>, <tf.Tensor: shape=(), dtype=int32, numpy=0>, <tf.Tensor: shape=(), dtype=int32, numpy=0>, <tf.Tensor: shape=(), dtype=int32, numpy=0>, <tf.Tensor: shape=(), dtype=int32, numpy=0>, <tf.Tensor: shape=(), dtype=int32, numpy=0>, <tf.Tensor: shape=(), dtype=int32, numpy=0>, <tf.Tensor: shape=(), dtype=int32, numpy=0>, <tf.Tensor: shape=(), dtype=int32, numpy=0>, <tf.Tensor: shape=(), dtype=int32, numpy=0>, <tf.Tensor: shape=(), dtype=int32, numpy=1>, <tf.Tensor: shape=(), dtype=int32, numpy=0>, <tf.Tensor: shape=(), dtype=int32, numpy=0>, <tf.Tensor: shape=(), dtype=int32, numpy=1>, <tf.Tensor: shape=(), dtype=int32, numpy=0>, <tf.Tensor: shape=(), dtype=int32, numpy=1>, <tf.Tensor: shape=(), dtype=int32, numpy=0>, <tf.Tensor: shape=(), dtype=int32, numpy=0>, <tf.Tensor: shape=(), dtype=int32, numpy=0>, <tf.Tensor: shape=(), dtype=int32, numpy=1>, <tf.Tensor: shape=(), dtype=int32, numpy=0>, <tf.Tensor: shape=(), dtype=int32, numpy=1>, <tf.Tensor: shape=(), dtype=int32, numpy=1>, <tf.Tensor: shape=(), dtype=int32, numpy=1>, <tf.Tensor: shape=(), dtype=int32, numpy=0>, <tf.Tensor: shape=(), dtype=int32, numpy=0>, <tf.Tensor: shape=(), dtype=int32, numpy=1>, <tf.Tensor: shape=(), dtype=int32, numpy=1>, <tf.Tensor: shape=(), dtype=int32, numpy=0>, <tf.Tensor: shape=(), dtype=int32, numpy=1>, <tf.Tensor: shape=(), dtype=int32, numpy=1>, <tf.Tensor: shape=(), dtype=int32, numpy=1>, <tf.Tensor: shape=(), dtype=int32, numpy=1>, <tf.Tensor: shape=(), dtype=int32, numpy=1>, <tf.Tensor: shape=(), dtype=int32, numpy=1>, <tf.Tensor: shape=(), dtype=int32, numpy=0>, <tf.Tensor: shape=(), dtype=int32, numpy=1>, <tf.Tensor: shape=(), dtype=int32, numpy=0>, <tf.Tensor: shape=(), dtype=int32, numpy=0>, <tf.Tensor: shape=(), dtype=int32, numpy=0>, <tf.Tensor: shape=(), dtype=int32, numpy=1>, <tf.Tensor: shape=(), dtype=int32, numpy=0>, <tf.Tensor: shape=(), dtype=int32, numpy=0>, <tf.Tensor: shape=(), dtype=int32, numpy=0>, <tf.Tensor: shape=(), dtype=int32, numpy=0>, <tf.Tensor: shape=(), dtype=int32, numpy=0>, <tf.Tensor: shape=(), dtype=int32, numpy=0>, <tf.Tensor: shape=(), dtype=int32, numpy=1>, <tf.Tensor: shape=(), dtype=int32, numpy=1>, <tf.Tensor: shape=(), dtype=int32, numpy=0>, <tf.Tensor: shape=(), dtype=int32, numpy=0>, <tf.Tensor: shape=(), dtype=int32, numpy=0>, <tf.Tensor: shape=(), dtype=int32, numpy=0>, <tf.Tensor: shape=(), dtype=int32, numpy=1>, <tf.Tensor: shape=(), dtype=int32, numpy=0>, <tf.Tensor: shape=(), dtype=int32, numpy=0>, <tf.Tensor: shape=(), dtype=int32, numpy=0>, <tf.Tensor: shape=(), dtype=int32, numpy=1>, <tf.Tensor: shape=(), dtype=int32, numpy=1>, <tf.Tensor: shape=(), dtype=int32, numpy=0>, <tf.Tensor: shape=(), dtype=int32, numpy=1>, <tf.Tensor: shape=(), dtype=int32, numpy=0>, <tf.Tensor: shape=(), dtype=int32, numpy=1>, <tf.Tensor: shape=(), dtype=int32, numpy=0>, <tf.Tensor: shape=(), dtype=int32, numpy=1>, <tf.Tensor: shape=(), dtype=int32, numpy=1>, <tf.Tensor: shape=(), dtype=int32, numpy=1>, <tf.Tensor: shape=(), dtype=int32, numpy=1>, <tf.Tensor: shape=(), dtype=int32, numpy=0>, <tf.Tensor: shape=(), dtype=int32, numpy=0>, <tf.Tensor: shape=(), dtype=int32, numpy=0>, <tf.Tensor: shape=(), dtype=int32, numpy=1>, <tf.Tensor: shape=(), dtype=int32, numpy=1>, <tf.Tensor: shape=(), dtype=int32, numpy=1>, <tf.Tensor: shape=(), dtype=int32, numpy=1>, <tf.Tensor: shape=(), dtype=int32, numpy=1>, <tf.Tensor: shape=(), dtype=int32, numpy=0>, <tf.Tensor: shape=(), dtype=int32, numpy=0>, <tf.Tensor: shape=(), dtype=int32, numpy=0>, <tf.Tensor: shape=(), dtype=int32, numpy=0>, <tf.Tensor: shape=(), dtype=int32, numpy=0>, <tf.Tensor: shape=(), dtype=int32, numpy=1>, <tf.Tensor: shape=(), dtype=int32, numpy=0>, <tf.Tensor: shape=(), dtype=int32, numpy=1>, <tf.Tensor: shape=(), dtype=int32, numpy=0>, <tf.Tensor: shape=(), dtype=int32, numpy=1>, <tf.Tensor: shape=(), dtype=int32, numpy=1>, <tf.Tensor: shape=(), dtype=int32, numpy=1>, <tf.Tensor: shape=(), dtype=int32, numpy=0>, <tf.Tensor: shape=(), dtype=int32, numpy=1>, <tf.Tensor: shape=(), dtype=int32, numpy=0>, <tf.Tensor: shape=(), dtype=int32, numpy=0>, <tf.Tensor: shape=(), dtype=int32, numpy=0>, <tf.Tensor: shape=(), dtype=int32, numpy=1>, <tf.Tensor: shape=(), dtype=int32, numpy=0>, <tf.Tensor: shape=(), dtype=int32, numpy=1>, <tf.Tensor: shape=(), dtype=int32, numpy=1>, <tf.Tensor: shape=(), dtype=int32, numpy=0>, <tf.Tensor: shape=(), dtype=int32, numpy=1>, <tf.Tensor: shape=(), dtype=int32, numpy=1>, <tf.Tensor: shape=(), dtype=int32, numpy=0>, <tf.Tensor: shape=(), dtype=int32, numpy=0>, <tf.Tensor: shape=(), dtype=int32, numpy=1>, <tf.Tensor: shape=(), dtype=int32, numpy=1>, <tf.Tensor: shape=(), dtype=int32, numpy=0>, <tf.Tensor: shape=(), dtype=int32, numpy=1>, <tf.Tensor: shape=(), dtype=int32, numpy=0>, <tf.Tensor: shape=(), dtype=int32, numpy=0>, <tf.Tensor: shape=(), dtype=int32, numpy=1>, <tf.Tensor: shape=(), dtype=int32, numpy=0>, <tf.Tensor: shape=(), dtype=int32, numpy=0>, <tf.Tensor: shape=(), dtype=int32, numpy=1>, <tf.Tensor: shape=(), dtype=int32, numpy=0>, <tf.Tensor: shape=(), dtype=int32, numpy=1>, <tf.Tensor: shape=(), dtype=int32, numpy=0>, <tf.Tensor: shape=(), dtype=int32, numpy=1>, <tf.Tensor: shape=(), dtype=int32, numpy=0>, <tf.Tensor: shape=(), dtype=int32, numpy=1>, <tf.Tensor: shape=(), dtype=int32, numpy=1>, <tf.Tensor: shape=(), dtype=int32, numpy=1>, <tf.Tensor: shape=(), dtype=int32, numpy=0>, <tf.Tensor: shape=(), dtype=int32, numpy=1>, <tf.Tensor: shape=(), dtype=int32, numpy=1>, <tf.Tensor: shape=(), dtype=int32, numpy=1>, <tf.Tensor: shape=(), dtype=int32, numpy=1>, <tf.Tensor: shape=(), dtype=int32, numpy=1>, <tf.Tensor: shape=(), dtype=int32, numpy=1>, <tf.Tensor: shape=(), dtype=int32, numpy=0>, <tf.Tensor: shape=(), dtype=int32, numpy=0>, <tf.Tensor: shape=(), dtype=int32, numpy=0>, <tf.Tensor: shape=(), dtype=int32, numpy=1>, <tf.Tensor: shape=(), dtype=int32, numpy=1>, <tf.Tensor: shape=(), dtype=int32, numpy=1>, <tf.Tensor: shape=(), dtype=int32, numpy=0>, <tf.Tensor: shape=(), dtype=int32, numpy=0>, <tf.Tensor: shape=(), dtype=int32, numpy=0>, <tf.Tensor: shape=(), dtype=int32, numpy=0>, <tf.Tensor: shape=(), dtype=int32, numpy=0>, <tf.Tensor: shape=(), dtype=int32, numpy=1>, <tf.Tensor: shape=(), dtype=int32, numpy=1>, <tf.Tensor: shape=(), dtype=int32, numpy=1>, <tf.Tensor: shape=(), dtype=int32, numpy=0>, <tf.Tensor: shape=(), dtype=int32, numpy=0>, <tf.Tensor: shape=(), dtype=int32, numpy=1>, <tf.Tensor: shape=(), dtype=int32, numpy=0>, <tf.Tensor: shape=(), dtype=int32, numpy=1>, <tf.Tensor: shape=(), dtype=int32, numpy=1>, <tf.Tensor: shape=(), dtype=int32, numpy=0>, <tf.Tensor: shape=(), dtype=int32, numpy=0>, <tf.Tensor: shape=(), dtype=int32, numpy=1>, <tf.Tensor: shape=(), dtype=int32, numpy=1>, <tf.Tensor: shape=(), dtype=int32, numpy=1>, <tf.Tensor: shape=(), dtype=int32, numpy=1>, <tf.Tensor: shape=(), dtype=int32, numpy=0>, <tf.Tensor: shape=(), dtype=int32, numpy=1>, <tf.Tensor: shape=(), dtype=int32, numpy=0>, <tf.Tensor: shape=(), dtype=int32, numpy=0>, <tf.Tensor: shape=(), dtype=int32, numpy=0>, <tf.Tensor: shape=(), dtype=int32, numpy=0>, <tf.Tensor: shape=(), dtype=int32, numpy=0>, <tf.Tensor: shape=(), dtype=int32, numpy=0>, <tf.Tensor: shape=(), dtype=int32, numpy=0>, <tf.Tensor: shape=(), dtype=int32, numpy=1>, <tf.Tensor: shape=(), dtype=int32, numpy=1>, <tf.Tensor: shape=(), dtype=int32, numpy=0>, <tf.Tensor: shape=(), dtype=int32, numpy=0>, <tf.Tensor: shape=(), dtype=int32, numpy=0>, <tf.Tensor: shape=(), dtype=int32, numpy=0>, <tf.Tensor: shape=(), dtype=int32, numpy=1>, <tf.Tensor: shape=(), dtype=int32, numpy=1>, <tf.Tensor: shape=(), dtype=int32, numpy=0>, <tf.Tensor: shape=(), dtype=int32, numpy=0>, <tf.Tensor: shape=(), dtype=int32, numpy=1>, <tf.Tensor: shape=(), dtype=int32, numpy=1>, <tf.Tensor: shape=(), dtype=int32, numpy=1>, <tf.Tensor: shape=(), dtype=int32, numpy=0>, <tf.Tensor: shape=(), dtype=int32, numpy=1>, <tf.Tensor: shape=(), dtype=int32, numpy=1>, <tf.Tensor: shape=(), dtype=int32, numpy=1>, <tf.Tensor: shape=(), dtype=int32, numpy=0>, <tf.Tensor: shape=(), dtype=int32, numpy=0>, <tf.Tensor: shape=(), dtype=int32, numpy=0>, <tf.Tensor: shape=(), dtype=int32, numpy=0>, <tf.Tensor: shape=(), dtype=int32, numpy=1>, <tf.Tensor: shape=(), dtype=int32, numpy=0>, <tf.Tensor: shape=(), dtype=int32, numpy=1>, <tf.Tensor: shape=(), dtype=int32, numpy=1>, <tf.Tensor: shape=(), dtype=int32, numpy=1>, <tf.Tensor: shape=(), dtype=int32, numpy=0>, <tf.Tensor: shape=(), dtype=int32, numpy=1>, <tf.Tensor: shape=(), dtype=int32, numpy=1>, <tf.Tensor: shape=(), dtype=int32, numpy=0>, <tf.Tensor: shape=(), dtype=int32, numpy=1>, <tf.Tensor: shape=(), dtype=int32, numpy=0>, <tf.Tensor: shape=(), dtype=int32, numpy=0>, <tf.Tensor: shape=(), dtype=int32, numpy=0>, <tf.Tensor: shape=(), dtype=int32, numpy=1>, <tf.Tensor: shape=(), dtype=int32, numpy=1>, <tf.Tensor: shape=(), dtype=int32, numpy=1>, <tf.Tensor: shape=(), dtype=int32, numpy=0>, <tf.Tensor: shape=(), dtype=int32, numpy=0>, <tf.Tensor: shape=(), dtype=int32, numpy=0>, <tf.Tensor: shape=(), dtype=int32, numpy=1>, <tf.Tensor: shape=(), dtype=int32, numpy=1>, <tf.Tensor: shape=(), dtype=int32, numpy=0>, <tf.Tensor: shape=(), dtype=int32, numpy=0>, <tf.Tensor: shape=(), dtype=int32, numpy=1>, <tf.Tensor: shape=(), dtype=int32, numpy=1>, <tf.Tensor: shape=(), dtype=int32, numpy=1>, <tf.Tensor: shape=(), dtype=int32, numpy=1>, <tf.Tensor: shape=(), dtype=int32, numpy=1>, <tf.Tensor: shape=(), dtype=int32, numpy=1>, <tf.Tensor: shape=(), dtype=int32, numpy=1>, <tf.Tensor: shape=(), dtype=int32, numpy=1>, <tf.Tensor: shape=(), dtype=int32, numpy=0>, <tf.Tensor: shape=(), dtype=int32, numpy=0>, <tf.Tensor: shape=(), dtype=int32, numpy=1>, <tf.Tensor: shape=(), dtype=int32, numpy=0>, <tf.Tensor: shape=(), dtype=int32, numpy=1>, <tf.Tensor: shape=(), dtype=int32, numpy=1>, <tf.Tensor: shape=(), dtype=int32, numpy=0>, <tf.Tensor: shape=(), dtype=int32, numpy=0>, <tf.Tensor: shape=(), dtype=int32, numpy=0>, <tf.Tensor: shape=(), dtype=int32, numpy=0>, <tf.Tensor: shape=(), dtype=int32, numpy=1>, <tf.Tensor: shape=(), dtype=int32, numpy=1>, <tf.Tensor: shape=(), dtype=int32, numpy=1>, <tf.Tensor: shape=(), dtype=int32, numpy=0>, <tf.Tensor: shape=(), dtype=int32, numpy=1>, <tf.Tensor: shape=(), dtype=int32, numpy=1>, <tf.Tensor: shape=(), dtype=int32, numpy=1>, <tf.Tensor: shape=(), dtype=int32, numpy=0>, <tf.Tensor: shape=(), dtype=int32, numpy=0>, <tf.Tensor: shape=(), dtype=int32, numpy=1>, <tf.Tensor: shape=(), dtype=int32, numpy=0>, <tf.Tensor: shape=(), dtype=int32, numpy=1>, <tf.Tensor: shape=(), dtype=int32, numpy=1>, <tf.Tensor: shape=(), dtype=int32, numpy=0>, <tf.Tensor: shape=(), dtype=int32, numpy=0>, <tf.Tensor: shape=(), dtype=int32, numpy=0>, <tf.Tensor: shape=(), dtype=int32, numpy=0>, <tf.Tensor: shape=(), dtype=int32, numpy=0>, <tf.Tensor: shape=(), dtype=int32, numpy=0>, <tf.Tensor: shape=(), dtype=int32, numpy=1>, <tf.Tensor: shape=(), dtype=int32, numpy=0>, <tf.Tensor: shape=(), dtype=int32, numpy=1>, <tf.Tensor: shape=(), dtype=int32, numpy=0>, <tf.Tensor: shape=(), dtype=int32, numpy=1>, <tf.Tensor: shape=(), dtype=int32, numpy=1>, <tf.Tensor: shape=(), dtype=int32, numpy=1>, <tf.Tensor: shape=(), dtype=int32, numpy=0>, <tf.Tensor: shape=(), dtype=int32, numpy=0>, <tf.Tensor: shape=(), dtype=int32, numpy=1>, <tf.Tensor: shape=(), dtype=int32, numpy=1>, <tf.Tensor: shape=(), dtype=int32, numpy=0>, <tf.Tensor: shape=(), dtype=int32, numpy=0>, <tf.Tensor: shape=(), dtype=int32, numpy=1>, <tf.Tensor: shape=(), dtype=int32, numpy=0>, <tf.Tensor: shape=(), dtype=int32, numpy=0>, <tf.Tensor: shape=(), dtype=int32, numpy=0>, <tf.Tensor: shape=(), dtype=int32, numpy=1>, <tf.Tensor: shape=(), dtype=int32, numpy=0>, <tf.Tensor: shape=(), dtype=int32, numpy=1>, <tf.Tensor: shape=(), dtype=int32, numpy=1>, <tf.Tensor: shape=(), dtype=int32, numpy=0>, <tf.Tensor: shape=(), dtype=int32, numpy=1>, <tf.Tensor: shape=(), dtype=int32, numpy=1>, <tf.Tensor: shape=(), dtype=int32, numpy=1>, <tf.Tensor: shape=(), dtype=int32, numpy=0>, <tf.Tensor: shape=(), dtype=int32, numpy=1>, <tf.Tensor: shape=(), dtype=int32, numpy=0>, <tf.Tensor: shape=(), dtype=int32, numpy=0>, <tf.Tensor: shape=(), dtype=int32, numpy=1>, <tf.Tensor: shape=(), dtype=int32, numpy=1>, <tf.Tensor: shape=(), dtype=int32, numpy=0>, <tf.Tensor: shape=(), dtype=int32, numpy=0>, <tf.Tensor: shape=(), dtype=int32, numpy=1>, <tf.Tensor: shape=(), dtype=int32, numpy=1>, <tf.Tensor: shape=(), dtype=int32, numpy=0>, <tf.Tensor: shape=(), dtype=int32, numpy=0>, <tf.Tensor: shape=(), dtype=int32, numpy=0>, <tf.Tensor: shape=(), dtype=int32, numpy=0>, <tf.Tensor: shape=(), dtype=int32, numpy=0>, <tf.Tensor: shape=(), dtype=int32, numpy=1>, <tf.Tensor: shape=(), dtype=int32, numpy=1>, <tf.Tensor: shape=(), dtype=int32, numpy=1>, <tf.Tensor: shape=(), dtype=int32, numpy=1>, <tf.Tensor: shape=(), dtype=int32, numpy=1>, <tf.Tensor: shape=(), dtype=int32, numpy=1>, <tf.Tensor: shape=(), dtype=int32, numpy=1>, <tf.Tensor: shape=(), dtype=int32, numpy=0>, <tf.Tensor: shape=(), dtype=int32, numpy=0>, <tf.Tensor: shape=(), dtype=int32, numpy=1>, <tf.Tensor: shape=(), dtype=int32, numpy=0>, <tf.Tensor: shape=(), dtype=int32, numpy=0>, <tf.Tensor: shape=(), dtype=int32, numpy=0>, <tf.Tensor: shape=(), dtype=int32, numpy=1>, <tf.Tensor: shape=(), dtype=int32, numpy=0>, <tf.Tensor: shape=(), dtype=int32, numpy=0>, <tf.Tensor: shape=(), dtype=int32, numpy=0>, <tf.Tensor: shape=(), dtype=int32, numpy=1>, <tf.Tensor: shape=(), dtype=int32, numpy=1>, <tf.Tensor: shape=(), dtype=int32, numpy=0>, <tf.Tensor: shape=(), dtype=int32, numpy=0>, <tf.Tensor: shape=(), dtype=int32, numpy=0>, <tf.Tensor: shape=(), dtype=int32, numpy=1>, <tf.Tensor: shape=(), dtype=int32, numpy=1>, <tf.Tensor: shape=(), dtype=int32, numpy=0>, <tf.Tensor: shape=(), dtype=int32, numpy=0>, <tf.Tensor: shape=(), dtype=int32, numpy=0>, <tf.Tensor: shape=(), dtype=int32, numpy=1>, <tf.Tensor: shape=(), dtype=int32, numpy=1>, <tf.Tensor: shape=(), dtype=int32, numpy=1>, <tf.Tensor: shape=(), dtype=int32, numpy=1>, <tf.Tensor: shape=(), dtype=int32, numpy=0>, <tf.Tensor: shape=(), dtype=int32, numpy=1>, <tf.Tensor: shape=(), dtype=int32, numpy=0>, <tf.Tensor: shape=(), dtype=int32, numpy=1>, <tf.Tensor: shape=(), dtype=int32, numpy=1>, <tf.Tensor: shape=(), dtype=int32, numpy=1>, <tf.Tensor: shape=(), dtype=int32, numpy=1>, <tf.Tensor: shape=(), dtype=int32, numpy=0>, <tf.Tensor: shape=(), dtype=int32, numpy=0>, <tf.Tensor: shape=(), dtype=int32, numpy=1>, <tf.Tensor: shape=(), dtype=int32, numpy=0>, <tf.Tensor: shape=(), dtype=int32, numpy=0>, <tf.Tensor: shape=(), dtype=int32, numpy=1>, <tf.Tensor: shape=(), dtype=int32, numpy=1>, <tf.Tensor: shape=(), dtype=int32, numpy=1>, <tf.Tensor: shape=(), dtype=int32, numpy=0>, <tf.Tensor: shape=(), dtype=int32, numpy=1>, <tf.Tensor: shape=(), dtype=int32, numpy=0>, <tf.Tensor: shape=(), dtype=int32, numpy=1>, <tf.Tensor: shape=(), dtype=int32, numpy=1>, <tf.Tensor: shape=(), dtype=int32, numpy=1>, <tf.Tensor: shape=(), dtype=int32, numpy=0>, <tf.Tensor: shape=(), dtype=int32, numpy=0>, <tf.Tensor: shape=(), dtype=int32, numpy=1>, <tf.Tensor: shape=(), dtype=int32, numpy=0>, <tf.Tensor: shape=(), dtype=int32, numpy=1>, <tf.Tensor: shape=(), dtype=int32, numpy=1>, <tf.Tensor: shape=(), dtype=int32, numpy=0>, <tf.Tensor: shape=(), dtype=int32, numpy=0>, <tf.Tensor: shape=(), dtype=int32, numpy=0>, <tf.Tensor: shape=(), dtype=int32, numpy=1>, <tf.Tensor: shape=(), dtype=int32, numpy=0>, <tf.Tensor: shape=(), dtype=int32, numpy=1>, <tf.Tensor: shape=(), dtype=int32, numpy=1>, <tf.Tensor: shape=(), dtype=int32, numpy=1>, <tf.Tensor: shape=(), dtype=int32, numpy=0>, <tf.Tensor: shape=(), dtype=int32, numpy=0>, <tf.Tensor: shape=(), dtype=int32, numpy=1>, <tf.Tensor: shape=(), dtype=int32, numpy=1>, <tf.Tensor: shape=(), dtype=int32, numpy=1>, <tf.Tensor: shape=(), dtype=int32, numpy=1>, <tf.Tensor: shape=(), dtype=int32, numpy=0>, <tf.Tensor: shape=(), dtype=int32, numpy=1>, <tf.Tensor: shape=(), dtype=int32, numpy=0>, <tf.Tensor: shape=(), dtype=int32, numpy=1>, <tf.Tensor: shape=(), dtype=int32, numpy=1>, <tf.Tensor: shape=(), dtype=int32, numpy=0>, <tf.Tensor: shape=(), dtype=int32, numpy=0>, <tf.Tensor: shape=(), dtype=int32, numpy=1>, <tf.Tensor: shape=(), dtype=int32, numpy=0>, <tf.Tensor: shape=(), dtype=int32, numpy=1>, <tf.Tensor: shape=(), dtype=int32, numpy=1>, <tf.Tensor: shape=(), dtype=int32, numpy=1>, <tf.Tensor: shape=(), dtype=int32, numpy=0>, <tf.Tensor: shape=(), dtype=int32, numpy=1>, <tf.Tensor: shape=(), dtype=int32, numpy=1>, <tf.Tensor: shape=(), dtype=int32, numpy=0>, <tf.Tensor: shape=(), dtype=int32, numpy=0>, <tf.Tensor: shape=(), dtype=int32, numpy=1>, <tf.Tensor: shape=(), dtype=int32, numpy=0>, <tf.Tensor: shape=(), dtype=int32, numpy=0>, <tf.Tensor: shape=(), dtype=int32, numpy=1>, <tf.Tensor: shape=(), dtype=int32, numpy=0>, <tf.Tensor: shape=(), dtype=int32, numpy=1>, <tf.Tensor: shape=(), dtype=int32, numpy=0>, <tf.Tensor: shape=(), dtype=int32, numpy=1>, <tf.Tensor: shape=(), dtype=int32, numpy=0>, <tf.Tensor: shape=(), dtype=int32, numpy=1>, <tf.Tensor: shape=(), dtype=int32, numpy=1>, <tf.Tensor: shape=(), dtype=int32, numpy=1>, <tf.Tensor: shape=(), dtype=int32, numpy=0>, <tf.Tensor: shape=(), dtype=int32, numpy=1>, <tf.Tensor: shape=(), dtype=int32, numpy=0>, <tf.Tensor: shape=(), dtype=int32, numpy=0>, <tf.Tensor: shape=(), dtype=int32, numpy=0>, <tf.Tensor: shape=(), dtype=int32, numpy=1>, <tf.Tensor: shape=(), dtype=int32, numpy=0>, <tf.Tensor: shape=(), dtype=int32, numpy=1>, <tf.Tensor: shape=(), dtype=int32, numpy=0>, <tf.Tensor: shape=(), dtype=int32, numpy=0>, <tf.Tensor: shape=(), dtype=int32, numpy=0>, <tf.Tensor: shape=(), dtype=int32, numpy=1>, <tf.Tensor: shape=(), dtype=int32, numpy=1>, <tf.Tensor: shape=(), dtype=int32, numpy=1>, <tf.Tensor: shape=(), dtype=int32, numpy=1>, <tf.Tensor: shape=(), dtype=int32, numpy=1>, <tf.Tensor: shape=(), dtype=int32, numpy=0>, <tf.Tensor: shape=(), dtype=int32, numpy=1>, <tf.Tensor: shape=(), dtype=int32, numpy=0>, <tf.Tensor: shape=(), dtype=int32, numpy=0>, <tf.Tensor: shape=(), dtype=int32, numpy=0>, <tf.Tensor: shape=(), dtype=int32, numpy=1>, <tf.Tensor: shape=(), dtype=int32, numpy=0>, <tf.Tensor: shape=(), dtype=int32, numpy=1>, <tf.Tensor: shape=(), dtype=int32, numpy=1>, <tf.Tensor: shape=(), dtype=int32, numpy=0>, <tf.Tensor: shape=(), dtype=int32, numpy=1>, <tf.Tensor: shape=(), dtype=int32, numpy=1>, <tf.Tensor: shape=(), dtype=int32, numpy=0>, <tf.Tensor: shape=(), dtype=int32, numpy=1>, <tf.Tensor: shape=(), dtype=int32, numpy=1>, <tf.Tensor: shape=(), dtype=int32, numpy=1>, <tf.Tensor: shape=(), dtype=int32, numpy=0>, <tf.Tensor: shape=(), dtype=int32, numpy=0>, <tf.Tensor: shape=(), dtype=int32, numpy=1>, <tf.Tensor: shape=(), dtype=int32, numpy=0>, <tf.Tensor: shape=(), dtype=int32, numpy=1>, <tf.Tensor: shape=(), dtype=int32, numpy=0>, <tf.Tensor: shape=(), dtype=int32, numpy=1>, <tf.Tensor: shape=(), dtype=int32, numpy=0>, <tf.Tensor: shape=(), dtype=int32, numpy=1>, <tf.Tensor: shape=(), dtype=int32, numpy=1>, <tf.Tensor: shape=(), dtype=int32, numpy=0>, <tf.Tensor: shape=(), dtype=int32, numpy=0>, <tf.Tensor: shape=(), dtype=int32, numpy=1>, <tf.Tensor: shape=(), dtype=int32, numpy=0>, <tf.Tensor: shape=(), dtype=int32, numpy=1>, <tf.Tensor: shape=(), dtype=int32, numpy=1>, <tf.Tensor: shape=(), dtype=int32, numpy=0>, <tf.Tensor: shape=(), dtype=int32, numpy=1>, <tf.Tensor: shape=(), dtype=int32, numpy=0>, <tf.Tensor: shape=(), dtype=int32, numpy=1>, <tf.Tensor: shape=(), dtype=int32, numpy=0>, <tf.Tensor: shape=(), dtype=int32, numpy=0>, <tf.Tensor: shape=(), dtype=int32, numpy=1>, <tf.Tensor: shape=(), dtype=int32, numpy=1>, <tf.Tensor: shape=(), dtype=int32, numpy=0>, <tf.Tensor: shape=(), dtype=int32, numpy=1>, <tf.Tensor: shape=(), dtype=int32, numpy=1>, <tf.Tensor: shape=(), dtype=int32, numpy=0>, <tf.Tensor: shape=(), dtype=int32, numpy=1>, <tf.Tensor: shape=(), dtype=int32, numpy=0>, <tf.Tensor: shape=(), dtype=int32, numpy=0>, <tf.Tensor: shape=(), dtype=int32, numpy=0>, <tf.Tensor: shape=(), dtype=int32, numpy=1>, <tf.Tensor: shape=(), dtype=int32, numpy=0>, <tf.Tensor: shape=(), dtype=int32, numpy=1>, <tf.Tensor: shape=(), dtype=int32, numpy=0>, <tf.Tensor: shape=(), dtype=int32, numpy=0>, <tf.Tensor: shape=(), dtype=int32, numpy=1>, <tf.Tensor: shape=(), dtype=int32, numpy=0>, <tf.Tensor: shape=(), dtype=int32, numpy=1>, <tf.Tensor: shape=(), dtype=int32, numpy=1>, <tf.Tensor: shape=(), dtype=int32, numpy=0>, <tf.Tensor: shape=(), dtype=int32, numpy=1>, <tf.Tensor: shape=(), dtype=int32, numpy=0>, <tf.Tensor: shape=(), dtype=int32, numpy=1>, <tf.Tensor: shape=(), dtype=int32, numpy=1>, <tf.Tensor: shape=(), dtype=int32, numpy=0>, <tf.Tensor: shape=(), dtype=int32, numpy=1>, <tf.Tensor: shape=(), dtype=int32, numpy=1>, <tf.Tensor: shape=(), dtype=int32, numpy=0>, <tf.Tensor: shape=(), dtype=int32, numpy=0>, <tf.Tensor: shape=(), dtype=int32, numpy=1>, <tf.Tensor: shape=(), dtype=int32, numpy=1>, <tf.Tensor: shape=(), dtype=int32, numpy=0>, <tf.Tensor: shape=(), dtype=int32, numpy=1>, <tf.Tensor: shape=(), dtype=int32, numpy=0>, <tf.Tensor: shape=(), dtype=int32, numpy=0>, <tf.Tensor: shape=(), dtype=int32, numpy=1>, <tf.Tensor: shape=(), dtype=int32, numpy=0>, <tf.Tensor: shape=(), dtype=int32, numpy=1>, <tf.Tensor: shape=(), dtype=int32, numpy=1>, <tf.Tensor: shape=(), dtype=int32, numpy=0>, <tf.Tensor: shape=(), dtype=int32, numpy=1>, <tf.Tensor: shape=(), dtype=int32, numpy=0>, <tf.Tensor: shape=(), dtype=int32, numpy=0>, <tf.Tensor: shape=(), dtype=int32, numpy=1>, <tf.Tensor: shape=(), dtype=int32, numpy=0>, <tf.Tensor: shape=(), dtype=int32, numpy=1>, <tf.Tensor: shape=(), dtype=int32, numpy=0>, <tf.Tensor: shape=(), dtype=int32, numpy=1>, <tf.Tensor: shape=(), dtype=int32, numpy=1>, <tf.Tensor: shape=(), dtype=int32, numpy=1>, <tf.Tensor: shape=(), dtype=int32, numpy=0>, <tf.Tensor: shape=(), dtype=int32, numpy=0>, <tf.Tensor: shape=(), dtype=int32, numpy=0>, <tf.Tensor: shape=(), dtype=int32, numpy=1>, <tf.Tensor: shape=(), dtype=int32, numpy=0>, <tf.Tensor: shape=(), dtype=int32, numpy=0>, <tf.Tensor: shape=(), dtype=int32, numpy=0>, <tf.Tensor: shape=(), dtype=int32, numpy=0>, <tf.Tensor: shape=(), dtype=int32, numpy=0>, <tf.Tensor: shape=(), dtype=int32, numpy=1>, <tf.Tensor: shape=(), dtype=int32, numpy=0>, <tf.Tensor: shape=(), dtype=int32, numpy=1>, <tf.Tensor: shape=(), dtype=int32, numpy=1>, <tf.Tensor: shape=(), dtype=int32, numpy=1>, <tf.Tensor: shape=(), dtype=int32, numpy=1>, <tf.Tensor: shape=(), dtype=int32, numpy=1>, <tf.Tensor: shape=(), dtype=int32, numpy=0>, <tf.Tensor: shape=(), dtype=int32, numpy=0>, <tf.Tensor: shape=(), dtype=int32, numpy=0>, <tf.Tensor: shape=(), dtype=int32, numpy=0>, <tf.Tensor: shape=(), dtype=int32, numpy=0>, <tf.Tensor: shape=(), dtype=int32, numpy=0>, <tf.Tensor: shape=(), dtype=int32, numpy=0>, <tf.Tensor: shape=(), dtype=int32, numpy=1>, <tf.Tensor: shape=(), dtype=int32, numpy=1>, <tf.Tensor: shape=(), dtype=int32, numpy=1>, <tf.Tensor: shape=(), dtype=int32, numpy=0>, <tf.Tensor: shape=(), dtype=int32, numpy=1>, <tf.Tensor: shape=(), dtype=int32, numpy=0>, <tf.Tensor: shape=(), dtype=int32, numpy=0>, <tf.Tensor: shape=(), dtype=int32, numpy=1>, <tf.Tensor: shape=(), dtype=int32, numpy=0>, <tf.Tensor: shape=(), dtype=int32, numpy=0>, <tf.Tensor: shape=(), dtype=int32, numpy=1>, <tf.Tensor: shape=(), dtype=int32, numpy=0>, <tf.Tensor: shape=(), dtype=int32, numpy=0>, <tf.Tensor: shape=(), dtype=int32, numpy=0>, <tf.Tensor: shape=(), dtype=int32, numpy=0>, <tf.Tensor: shape=(), dtype=int32, numpy=0>, <tf.Tensor: shape=(), dtype=int32, numpy=0>, <tf.Tensor: shape=(), dtype=int32, numpy=0>, <tf.Tensor: shape=(), dtype=int32, numpy=1>, <tf.Tensor: shape=(), dtype=int32, numpy=0>, <tf.Tensor: shape=(), dtype=int32, numpy=0>, <tf.Tensor: shape=(), dtype=int32, numpy=0>, <tf.Tensor: shape=(), dtype=int32, numpy=0>, <tf.Tensor: shape=(), dtype=int32, numpy=0>, <tf.Tensor: shape=(), dtype=int32, numpy=0>, <tf.Tensor: shape=(), dtype=int32, numpy=1>, <tf.Tensor: shape=(), dtype=int32, numpy=1>, <tf.Tensor: shape=(), dtype=int32, numpy=0>, <tf.Tensor: shape=(), dtype=int32, numpy=1>, <tf.Tensor: shape=(), dtype=int32, numpy=0>, <tf.Tensor: shape=(), dtype=int32, numpy=1>, <tf.Tensor: shape=(), dtype=int32, numpy=0>, <tf.Tensor: shape=(), dtype=int32, numpy=1>, <tf.Tensor: shape=(), dtype=int32, numpy=0>, <tf.Tensor: shape=(), dtype=int32, numpy=1>, <tf.Tensor: shape=(), dtype=int32, numpy=1>, <tf.Tensor: shape=(), dtype=int32, numpy=0>, <tf.Tensor: shape=(), dtype=int32, numpy=1>, <tf.Tensor: shape=(), dtype=int32, numpy=0>, <tf.Tensor: shape=(), dtype=int32, numpy=0>, <tf.Tensor: shape=(), dtype=int32, numpy=1>, <tf.Tensor: shape=(), dtype=int32, numpy=0>, <tf.Tensor: shape=(), dtype=int32, numpy=1>, <tf.Tensor: shape=(), dtype=int32, numpy=0>, <tf.Tensor: shape=(), dtype=int32, numpy=1>, <tf.Tensor: shape=(), dtype=int32, numpy=0>, <tf.Tensor: shape=(), dtype=int32, numpy=0>, <tf.Tensor: shape=(), dtype=int32, numpy=1>, <tf.Tensor: shape=(), dtype=int32, numpy=0>, <tf.Tensor: shape=(), dtype=int32, numpy=0>, <tf.Tensor: shape=(), dtype=int32, numpy=0>, <tf.Tensor: shape=(), dtype=int32, numpy=0>, <tf.Tensor: shape=(), dtype=int32, numpy=0>, <tf.Tensor: shape=(), dtype=int32, numpy=1>, <tf.Tensor: shape=(), dtype=int32, numpy=1>, <tf.Tensor: shape=(), dtype=int32, numpy=0>, <tf.Tensor: shape=(), dtype=int32, numpy=0>, <tf.Tensor: shape=(), dtype=int32, numpy=0>, <tf.Tensor: shape=(), dtype=int32, numpy=1>, <tf.Tensor: shape=(), dtype=int32, numpy=0>, <tf.Tensor: shape=(), dtype=int32, numpy=0>, <tf.Tensor: shape=(), dtype=int32, numpy=1>, <tf.Tensor: shape=(), dtype=int32, numpy=1>, <tf.Tensor: shape=(), dtype=int32, numpy=1>, <tf.Tensor: shape=(), dtype=int32, numpy=1>, <tf.Tensor: shape=(), dtype=int32, numpy=1>, <tf.Tensor: shape=(), dtype=int32, numpy=0>, <tf.Tensor: shape=(), dtype=int32, numpy=1>, <tf.Tensor: shape=(), dtype=int32, numpy=0>, <tf.Tensor: shape=(), dtype=int32, numpy=0>, <tf.Tensor: shape=(), dtype=int32, numpy=0>, <tf.Tensor: shape=(), dtype=int32, numpy=0>, <tf.Tensor: shape=(), dtype=int32, numpy=0>, <tf.Tensor: shape=(), dtype=int32, numpy=0>, <tf.Tensor: shape=(), dtype=int32, numpy=1>, <tf.Tensor: shape=(), dtype=int32, numpy=0>, <tf.Tensor: shape=(), dtype=int32, numpy=0>, <tf.Tensor: shape=(), dtype=int32, numpy=1>, <tf.Tensor: shape=(), dtype=int32, numpy=0>, <tf.Tensor: shape=(), dtype=int32, numpy=1>, <tf.Tensor: shape=(), dtype=int32, numpy=0>, <tf.Tensor: shape=(), dtype=int32, numpy=1>, <tf.Tensor: shape=(), dtype=int32, numpy=0>, <tf.Tensor: shape=(), dtype=int32, numpy=0>, <tf.Tensor: shape=(), dtype=int32, numpy=1>, <tf.Tensor: shape=(), dtype=int32, numpy=0>, <tf.Tensor: shape=(), dtype=int32, numpy=0>, <tf.Tensor: shape=(), dtype=int32, numpy=1>, <tf.Tensor: shape=(), dtype=int32, numpy=0>, <tf.Tensor: shape=(), dtype=int32, numpy=0>, <tf.Tensor: shape=(), dtype=int32, numpy=0>, <tf.Tensor: shape=(), dtype=int32, numpy=0>, <tf.Tensor: shape=(), dtype=int32, numpy=0>, <tf.Tensor: shape=(), dtype=int32, numpy=0>, <tf.Tensor: shape=(), dtype=int32, numpy=0>, <tf.Tensor: shape=(), dtype=int32, numpy=0>, <tf.Tensor: shape=(), dtype=int32, numpy=0>, <tf.Tensor: shape=(), dtype=int32, numpy=1>, <tf.Tensor: shape=(), dtype=int32, numpy=0>, <tf.Tensor: shape=(), dtype=int32, numpy=1>, <tf.Tensor: shape=(), dtype=int32, numpy=1>, <tf.Tensor: shape=(), dtype=int32, numpy=0>, <tf.Tensor: shape=(), dtype=int32, numpy=0>, <tf.Tensor: shape=(), dtype=int32, numpy=1>, <tf.Tensor: shape=(), dtype=int32, numpy=0>, <tf.Tensor: shape=(), dtype=int32, numpy=0>, <tf.Tensor: shape=(), dtype=int32, numpy=0>, <tf.Tensor: shape=(), dtype=int32, numpy=0>, <tf.Tensor: shape=(), dtype=int32, numpy=0>, <tf.Tensor: shape=(), dtype=int32, numpy=1>, <tf.Tensor: shape=(), dtype=int32, numpy=0>, <tf.Tensor: shape=(), dtype=int32, numpy=0>, <tf.Tensor: shape=(), dtype=int32, numpy=0>, <tf.Tensor: shape=(), dtype=int32, numpy=1>, <tf.Tensor: shape=(), dtype=int32, numpy=1>, <tf.Tensor: shape=(), dtype=int32, numpy=1>, <tf.Tensor: shape=(), dtype=int32, numpy=0>, <tf.Tensor: shape=(), dtype=int32, numpy=0>, <tf.Tensor: shape=(), dtype=int32, numpy=1>, <tf.Tensor: shape=(), dtype=int32, numpy=1>, <tf.Tensor: shape=(), dtype=int32, numpy=1>, <tf.Tensor: shape=(), dtype=int32, numpy=1>, <tf.Tensor: shape=(), dtype=int32, numpy=1>, <tf.Tensor: shape=(), dtype=int32, numpy=0>, <tf.Tensor: shape=(), dtype=int32, numpy=1>, <tf.Tensor: shape=(), dtype=int32, numpy=1>, <tf.Tensor: shape=(), dtype=int32, numpy=0>, <tf.Tensor: shape=(), dtype=int32, numpy=1>, <tf.Tensor: shape=(), dtype=int32, numpy=0>, <tf.Tensor: shape=(), dtype=int32, numpy=0>, <tf.Tensor: shape=(), dtype=int32, numpy=0>, <tf.Tensor: shape=(), dtype=int32, numpy=0>, <tf.Tensor: shape=(), dtype=int32, numpy=1>, <tf.Tensor: shape=(), dtype=int32, numpy=1>, <tf.Tensor: shape=(), dtype=int32, numpy=1>, <tf.Tensor: shape=(), dtype=int32, numpy=0>, <tf.Tensor: shape=(), dtype=int32, numpy=0>, <tf.Tensor: shape=(), dtype=int32, numpy=0>, <tf.Tensor: shape=(), dtype=int32, numpy=0>, <tf.Tensor: shape=(), dtype=int32, numpy=0>, <tf.Tensor: shape=(), dtype=int32, numpy=0>, <tf.Tensor: shape=(), dtype=int32, numpy=0>, <tf.Tensor: shape=(), dtype=int32, numpy=0>, <tf.Tensor: shape=(), dtype=int32, numpy=1>, <tf.Tensor: shape=(), dtype=int32, numpy=0>, <tf.Tensor: shape=(), dtype=int32, numpy=1>, <tf.Tensor: shape=(), dtype=int32, numpy=1>, <tf.Tensor: shape=(), dtype=int32, numpy=0>, <tf.Tensor: shape=(), dtype=int32, numpy=1>, <tf.Tensor: shape=(), dtype=int32, numpy=0>, <tf.Tensor: shape=(), dtype=int32, numpy=0>, <tf.Tensor: shape=(), dtype=int32, numpy=1>, <tf.Tensor: shape=(), dtype=int32, numpy=0>, <tf.Tensor: shape=(), dtype=int32, numpy=0>, <tf.Tensor: shape=(), dtype=int32, numpy=0>, <tf.Tensor: shape=(), dtype=int32, numpy=0>, <tf.Tensor: shape=(), dtype=int32, numpy=0>, <tf.Tensor: shape=(), dtype=int32, numpy=1>, <tf.Tensor: shape=(), dtype=int32, numpy=0>, <tf.Tensor: shape=(), dtype=int32, numpy=0>, <tf.Tensor: shape=(), dtype=int32, numpy=1>, <tf.Tensor: shape=(), dtype=int32, numpy=1>, <tf.Tensor: shape=(), dtype=int32, numpy=0>, <tf.Tensor: shape=(), dtype=int32, numpy=0>, <tf.Tensor: shape=(), dtype=int32, numpy=1>, <tf.Tensor: shape=(), dtype=int32, numpy=1>, <tf.Tensor: shape=(), dtype=int32, numpy=1>, <tf.Tensor: shape=(), dtype=int32, numpy=0>, <tf.Tensor: shape=(), dtype=int32, numpy=1>, <tf.Tensor: shape=(), dtype=int32, numpy=1>, <tf.Tensor: shape=(), dtype=int32, numpy=1>, <tf.Tensor: shape=(), dtype=int32, numpy=1>, <tf.Tensor: shape=(), dtype=int32, numpy=0>, <tf.Tensor: shape=(), dtype=int32, numpy=1>, <tf.Tensor: shape=(), dtype=int32, numpy=1>, <tf.Tensor: shape=(), dtype=int32, numpy=0>, <tf.Tensor: shape=(), dtype=int32, numpy=1>, <tf.Tensor: shape=(), dtype=int32, numpy=0>, <tf.Tensor: shape=(), dtype=int32, numpy=0>, <tf.Tensor: shape=(), dtype=int32, numpy=1>, <tf.Tensor: shape=(), dtype=int32, numpy=0>, <tf.Tensor: shape=(), dtype=int32, numpy=1>, <tf.Tensor: shape=(), dtype=int32, numpy=0>, <tf.Tensor: shape=(), dtype=int32, numpy=0>, <tf.Tensor: shape=(), dtype=int32, numpy=0>, <tf.Tensor: shape=(), dtype=int32, numpy=0>, <tf.Tensor: shape=(), dtype=int32, numpy=1>, <tf.Tensor: shape=(), dtype=int32, numpy=1>, <tf.Tensor: shape=(), dtype=int32, numpy=1>, <tf.Tensor: shape=(), dtype=int32, numpy=0>, <tf.Tensor: shape=(), dtype=int32, numpy=1>, <tf.Tensor: shape=(), dtype=int32, numpy=0>, <tf.Tensor: shape=(), dtype=int32, numpy=0>, <tf.Tensor: shape=(), dtype=int32, numpy=1>, <tf.Tensor: shape=(), dtype=int32, numpy=1>, <tf.Tensor: shape=(), dtype=int32, numpy=0>, <tf.Tensor: shape=(), dtype=int32, numpy=1>, <tf.Tensor: shape=(), dtype=int32, numpy=1>, <tf.Tensor: shape=(), dtype=int32, numpy=0>, <tf.Tensor: shape=(), dtype=int32, numpy=0>, <tf.Tensor: shape=(), dtype=int32, numpy=0>, <tf.Tensor: shape=(), dtype=int32, numpy=0>, <tf.Tensor: shape=(), dtype=int32, numpy=0>, <tf.Tensor: shape=(), dtype=int32, numpy=0>, <tf.Tensor: shape=(), dtype=int32, numpy=0>, <tf.Tensor: shape=(), dtype=int32, numpy=0>, <tf.Tensor: shape=(), dtype=int32, numpy=0>, <tf.Tensor: shape=(), dtype=int32, numpy=0>, <tf.Tensor: shape=(), dtype=int32, numpy=0>, <tf.Tensor: shape=(), dtype=int32, numpy=0>, <tf.Tensor: shape=(), dtype=int32, numpy=1>, <tf.Tensor: shape=(), dtype=int32, numpy=0>, <tf.Tensor: shape=(), dtype=int32, numpy=0>, <tf.Tensor: shape=(), dtype=int32, numpy=0>, <tf.Tensor: shape=(), dtype=int32, numpy=1>, <tf.Tensor: shape=(), dtype=int32, numpy=0>, <tf.Tensor: shape=(), dtype=int32, numpy=1>, <tf.Tensor: shape=(), dtype=int32, numpy=0>, <tf.Tensor: shape=(), dtype=int32, numpy=1>, <tf.Tensor: shape=(), dtype=int32, numpy=0>, <tf.Tensor: shape=(), dtype=int32, numpy=1>, <tf.Tensor: shape=(), dtype=int32, numpy=1>, <tf.Tensor: shape=(), dtype=int32, numpy=0>, <tf.Tensor: shape=(), dtype=int32, numpy=0>, <tf.Tensor: shape=(), dtype=int32, numpy=0>, <tf.Tensor: shape=(), dtype=int32, numpy=0>, <tf.Tensor: shape=(), dtype=int32, numpy=0>, <tf.Tensor: shape=(), dtype=int32, numpy=0>, <tf.Tensor: shape=(), dtype=int32, numpy=1>, <tf.Tensor: shape=(), dtype=int32, numpy=0>, <tf.Tensor: shape=(), dtype=int32, numpy=0>, <tf.Tensor: shape=(), dtype=int32, numpy=0>, <tf.Tensor: shape=(), dtype=int32, numpy=0>, <tf.Tensor: shape=(), dtype=int32, numpy=0>, <tf.Tensor: shape=(), dtype=int32, numpy=0>, <tf.Tensor: shape=(), dtype=int32, numpy=1>, <tf.Tensor: shape=(), dtype=int32, numpy=0>, <tf.Tensor: shape=(), dtype=int32, numpy=1>, <tf.Tensor: shape=(), dtype=int32, numpy=0>, <tf.Tensor: shape=(), dtype=int32, numpy=0>, <tf.Tensor: shape=(), dtype=int32, numpy=0>, <tf.Tensor: shape=(), dtype=int32, numpy=1>, <tf.Tensor: shape=(), dtype=int32, numpy=0>, <tf.Tensor: shape=(), dtype=int32, numpy=1>, <tf.Tensor: shape=(), dtype=int32, numpy=1>, <tf.Tensor: shape=(), dtype=int32, numpy=1>, <tf.Tensor: shape=(), dtype=int32, numpy=1>, <tf.Tensor: shape=(), dtype=int32, numpy=0>, <tf.Tensor: shape=(), dtype=int32, numpy=0>, <tf.Tensor: shape=(), dtype=int32, numpy=1>, <tf.Tensor: shape=(), dtype=int32, numpy=0>, <tf.Tensor: shape=(), dtype=int32, numpy=0>, <tf.Tensor: shape=(), dtype=int32, numpy=1>, <tf.Tensor: shape=(), dtype=int32, numpy=0>, <tf.Tensor: shape=(), dtype=int32, numpy=0>, <tf.Tensor: shape=(), dtype=int32, numpy=0>, <tf.Tensor: shape=(), dtype=int32, numpy=1>, <tf.Tensor: shape=(), dtype=int32, numpy=1>, <tf.Tensor: shape=(), dtype=int32, numpy=1>, <tf.Tensor: shape=(), dtype=int32, numpy=0>, <tf.Tensor: shape=(), dtype=int32, numpy=0>, <tf.Tensor: shape=(), dtype=int32, numpy=1>, <tf.Tensor: shape=(), dtype=int32, numpy=0>, <tf.Tensor: shape=(), dtype=int32, numpy=1>, <tf.Tensor: shape=(), dtype=int32, numpy=1>, <tf.Tensor: shape=(), dtype=int32, numpy=0>, <tf.Tensor: shape=(), dtype=int32, numpy=0>, <tf.Tensor: shape=(), dtype=int32, numpy=1>, <tf.Tensor: shape=(), dtype=int32, numpy=1>, <tf.Tensor: shape=(), dtype=int32, numpy=1>, <tf.Tensor: shape=(), dtype=int32, numpy=1>, <tf.Tensor: shape=(), dtype=int32, numpy=1>, <tf.Tensor: shape=(), dtype=int32, numpy=0>, <tf.Tensor: shape=(), dtype=int32, numpy=1>, <tf.Tensor: shape=(), dtype=int32, numpy=1>, <tf.Tensor: shape=(), dtype=int32, numpy=0>, <tf.Tensor: shape=(), dtype=int32, numpy=0>, <tf.Tensor: shape=(), dtype=int32, numpy=0>, <tf.Tensor: shape=(), dtype=int32, numpy=0>, <tf.Tensor: shape=(), dtype=int32, numpy=0>, <tf.Tensor: shape=(), dtype=int32, numpy=1>, <tf.Tensor: shape=(), dtype=int32, numpy=1>, <tf.Tensor: shape=(), dtype=int32, numpy=0>, <tf.Tensor: shape=(), dtype=int32, numpy=1>]\n",
            "0\n",
            "38 ERROR: more tokens than actions...\n",
            "model output time:  165.28655982017517\n",
            "64 total logits\n",
            "logprobs\n",
            "64 [<tf.Tensor: shape=(), dtype=float32, numpy=-612.09924>, <tf.Tensor: shape=(), dtype=float32, numpy=-612.8157>, <tf.Tensor: shape=(), dtype=float32, numpy=-612.348>, <tf.Tensor: shape=(), dtype=float32, numpy=-610.33124>, <tf.Tensor: shape=(), dtype=float32, numpy=-611.99097>, <tf.Tensor: shape=(), dtype=float32, numpy=-612.02423>, <tf.Tensor: shape=(), dtype=float32, numpy=-611.7327>, <tf.Tensor: shape=(), dtype=float32, numpy=-610.82526>, <tf.Tensor: shape=(), dtype=float32, numpy=-613.4428>, <tf.Tensor: shape=(), dtype=float32, numpy=-612.0264>, <tf.Tensor: shape=(), dtype=float32, numpy=-611.81104>, <tf.Tensor: shape=(), dtype=float32, numpy=-611.84955>, <tf.Tensor: shape=(), dtype=float32, numpy=-610.1625>, <tf.Tensor: shape=(), dtype=float32, numpy=-610.9255>, <tf.Tensor: shape=(), dtype=float32, numpy=-611.8778>, <tf.Tensor: shape=(), dtype=float32, numpy=-610.18866>, <tf.Tensor: shape=(), dtype=float32, numpy=-611.1525>, <tf.Tensor: shape=(), dtype=float32, numpy=-609.97943>, <tf.Tensor: shape=(), dtype=float32, numpy=-611.93445>, <tf.Tensor: shape=(), dtype=float32, numpy=-613.52014>, <tf.Tensor: shape=(), dtype=float32, numpy=-611.4397>, <tf.Tensor: shape=(), dtype=float32, numpy=-612.47614>, <tf.Tensor: shape=(), dtype=float32, numpy=-611.6014>, <tf.Tensor: shape=(), dtype=float32, numpy=-611.30566>, <tf.Tensor: shape=(), dtype=float32, numpy=-611.7667>, <tf.Tensor: shape=(), dtype=float32, numpy=-611.63025>, <tf.Tensor: shape=(), dtype=float32, numpy=-611.28674>, <tf.Tensor: shape=(), dtype=float32, numpy=-611.3008>, <tf.Tensor: shape=(), dtype=float32, numpy=-612.3042>, <tf.Tensor: shape=(), dtype=float32, numpy=-613.3083>, <tf.Tensor: shape=(), dtype=float32, numpy=-611.1084>, <tf.Tensor: shape=(), dtype=float32, numpy=-611.97144>, <tf.Tensor: shape=(), dtype=float32, numpy=-610.97644>, <tf.Tensor: shape=(), dtype=float32, numpy=-611.5799>, <tf.Tensor: shape=(), dtype=float32, numpy=-612.78357>, <tf.Tensor: shape=(), dtype=float32, numpy=-610.90686>, <tf.Tensor: shape=(), dtype=float32, numpy=-612.0315>, <tf.Tensor: shape=(), dtype=float32, numpy=-612.6397>, <tf.Tensor: shape=(), dtype=float32, numpy=-610.1658>, <tf.Tensor: shape=(), dtype=float32, numpy=-613.1743>, <tf.Tensor: shape=(), dtype=float32, numpy=-612.5024>, <tf.Tensor: shape=(), dtype=float32, numpy=-612.6702>, <tf.Tensor: shape=(), dtype=float32, numpy=-612.2495>, <tf.Tensor: shape=(), dtype=float32, numpy=-611.8268>, <tf.Tensor: shape=(), dtype=float32, numpy=-606.7825>, <tf.Tensor: shape=(), dtype=float32, numpy=-611.3857>, <tf.Tensor: shape=(), dtype=float32, numpy=-611.5365>, <tf.Tensor: shape=(), dtype=float32, numpy=-612.6677>, <tf.Tensor: shape=(), dtype=float32, numpy=-609.84894>, <tf.Tensor: shape=(), dtype=float32, numpy=-611.86005>, <tf.Tensor: shape=(), dtype=float32, numpy=-612.50507>, <tf.Tensor: shape=(), dtype=float32, numpy=-613.4947>, <tf.Tensor: shape=(), dtype=float32, numpy=-610.2287>, <tf.Tensor: shape=(), dtype=float32, numpy=-612.89233>, <tf.Tensor: shape=(), dtype=float32, numpy=-611.1174>, <tf.Tensor: shape=(), dtype=float32, numpy=-612.15356>, <tf.Tensor: shape=(), dtype=float32, numpy=-610.2372>, <tf.Tensor: shape=(), dtype=float32, numpy=-610.7773>, <tf.Tensor: shape=(), dtype=float32, numpy=-609.5186>, <tf.Tensor: shape=(), dtype=float32, numpy=-612.6406>, <tf.Tensor: shape=(), dtype=float32, numpy=-611.6852>, <tf.Tensor: shape=(), dtype=float32, numpy=-611.6116>, <tf.Tensor: shape=(), dtype=float32, numpy=-610.8877>, <tf.Tensor: shape=(), dtype=float32, numpy=-612.2539>]\n",
            "(64, 1) \n",
            " tf.Tensor(\n",
            "[[ 4.537222  ]\n",
            " [ 3.538107  ]\n",
            " [ 0.86703503]\n",
            " [ 0.77024084]\n",
            " [ 2.0525892 ]\n",
            " [-1.9377502 ]\n",
            " [ 1.3550332 ]\n",
            " [-1.1636441 ]\n",
            " [ 2.075753  ]\n",
            " [ 0.35991699]\n",
            " [-3.4458926 ]\n",
            " [ 1.7113938 ]\n",
            " [-0.5833886 ]\n",
            " [-2.4811878 ]\n",
            " [-0.19674781]\n",
            " [ 0.13767824]\n",
            " [ 2.4139624 ]\n",
            " [-2.0385702 ]\n",
            " [-0.06231186]\n",
            " [-3.9156098 ]\n",
            " [-1.5845942 ]\n",
            " [ 3.3683484 ]\n",
            " [-1.3974695 ]\n",
            " [ 3.273883  ]\n",
            " [ 0.90668494]\n",
            " [ 3.3253295 ]\n",
            " [-5.32087   ]\n",
            " [ 0.2421267 ]\n",
            " [ 1.581497  ]\n",
            " [ 3.7864296 ]\n",
            " [-0.27651018]\n",
            " [-0.46692577]\n",
            " [-0.11301403]\n",
            " [ 0.52371   ]\n",
            " [ 0.860897  ]\n",
            " [ 3.803529  ]\n",
            " [-1.9689678 ]\n",
            " [-1.8681755 ]\n",
            " [-0.6515896 ]\n",
            " [ 0.5943786 ]\n",
            " [-1.5003538 ]\n",
            " [-4.801174  ]\n",
            " [ 2.1150782 ]\n",
            " [-4.247451  ]\n",
            " [-1.2699147 ]\n",
            " [-4.7844033 ]\n",
            " [ 1.976284  ]\n",
            " [-1.9554343 ]\n",
            " [-0.40321916]\n",
            " [-2.4770396 ]\n",
            " [ 3.5773098 ]\n",
            " [ 1.2770746 ]\n",
            " [ 3.8643248 ]\n",
            " [ 0.5999158 ]\n",
            " [ 1.4354924 ]\n",
            " [ 0.58420265]\n",
            " [-0.52736765]\n",
            " [ 2.765453  ]\n",
            " [-3.087888  ]\n",
            " [-1.4101428 ]\n",
            " [ 1.3633233 ]\n",
            " [-1.2315198 ]\n",
            " [-2.2302227 ]\n",
            " [-3.417313  ]], shape=(64, 1), dtype=float32)\n",
            "labels (64,) \n",
            " tf.Tensor(\n",
            "[1 1 1 1 1 0 1 0 0 0 0 1 1 0 0 1 1 1 1 0 0 1 1 1 1 1 0 0 1 1 1 0 0 0 0 1 0\n",
            " 1 0 0 0 0 1 0 1 0 1 0 0 0 1 1 1 1 1 1 1 1 0 0 1 1 1 0], shape=(64,), dtype=int32)\n",
            "loss object: tf.Tensor(\n",
            "[16.044508    9.10033     0.33883533  0.28925002  2.4664593   6.4973454\n",
            "  0.87420255  3.2256672   2.5360284   0.28713363 16.313305    1.5660506\n",
            "  1.5591545   9.510129    0.8225509   0.42656723  3.6740067   7.0116596\n",
            "  0.6364836  20.29956     4.8561077   8.118879    4.087574    7.5976915\n",
            "  0.36455703  7.879321   34.860134    0.3487328   1.2844486  10.639816\n",
            "  0.9500319   1.3058112   0.7024129   0.24759841  0.3351345  10.750363\n",
            "  6.6544237   6.1542773   1.7201073   0.24710998  4.501459   29.015095\n",
            "  2.6565928  23.38172     3.6038375  28.835468    2.244879    6.5860868\n",
            "  1.1787074   9.484895    9.335173    0.7567106  11.148141    0.2474937\n",
            "  1.0082095   0.24656478  1.4339051   5.099096   13.571425    4.1374135\n",
            "  0.8874118   3.4646006   8.045393   16.085007  ], shape=(64,), dtype=float32)\n",
            "logprob_sums:\n",
            "\t tf.Tensor(\n",
            "[ 9820.831    5576.825     207.48514   176.53831  1509.4508   3976.533\n",
            "   534.7783   1970.319    1555.7084    175.73337  9980.66      958.1874\n",
            "   951.3376   5809.98      503.30063   260.2865   2245.3784   4276.9683\n",
            "   389.48624 12454.189    2969.217    4972.6196   2499.9658   4644.5117\n",
            "   223.02386  4819.231   21309.537     213.18063   786.47327  6525.4873\n",
            "   580.57245   799.11914   429.15775   151.42621   205.36491  6567.4707\n",
            "  4072.7168   3770.3547   1049.5507    151.5215   2757.1545  17776.686\n",
            "  1626.4977  14305.5625   2186.7454  17629.592    1372.8254   4035.0828\n",
            "   718.83344  5803.428    5717.8403    464.2379   6802.9155    151.687\n",
            "   616.13434   150.9355    875.0222   3114.4119   8272.036    2534.7476\n",
            "   542.81665  2118.9897   4914.8315   9848.108  ], shape=(64,), dtype=float32)\n",
            "gradients[0]: IndexedSlices(indices=tf.Tensor([157   1   1 ...   0   0   0], shape=(56512,), dtype=int64), values=tf.Tensor(\n",
            "[[ 0.25832167 -0.00932993 -0.05487572 ... -0.01168185 -0.05340561\n",
            "   0.16238967]\n",
            " [ 0.41537145  0.05330922 -0.5575051  ... -0.8836871  -0.08473828\n",
            "   0.4962248 ]\n",
            " [ 0.00969058  0.23701623 -0.47878897 ... -0.60227746 -0.17984551\n",
            "   0.302539  ]\n",
            " ...\n",
            " [ 0.          0.          0.         ...  0.          0.\n",
            "   0.        ]\n",
            " [ 0.          0.          0.         ...  0.          0.\n",
            "   0.        ]\n",
            " [ 0.          0.          0.         ...  0.          0.\n",
            "   0.        ]], shape=(56512, 64), dtype=float32), dense_shape=tf.Tensor([1000   64], shape=(2,), dtype=int32))\n",
            "optimizer step success.\n",
            "model output time:  163.00171303749084\n",
            "64 total logits\n",
            "logprobs\n",
            "64 [<tf.Tensor: shape=(), dtype=float32, numpy=-593.9598>, <tf.Tensor: shape=(), dtype=float32, numpy=-594.9445>, <tf.Tensor: shape=(), dtype=float32, numpy=-593.7081>, <tf.Tensor: shape=(), dtype=float32, numpy=-596.5905>, <tf.Tensor: shape=(), dtype=float32, numpy=-595.3482>, <tf.Tensor: shape=(), dtype=float32, numpy=-595.28375>, <tf.Tensor: shape=(), dtype=float32, numpy=-594.82654>, <tf.Tensor: shape=(), dtype=float32, numpy=-594.1169>, <tf.Tensor: shape=(), dtype=float32, numpy=-594.23773>, <tf.Tensor: shape=(), dtype=float32, numpy=-594.771>, <tf.Tensor: shape=(), dtype=float32, numpy=-594.206>, <tf.Tensor: shape=(), dtype=float32, numpy=-591.525>, <tf.Tensor: shape=(), dtype=float32, numpy=-595.28784>, <tf.Tensor: shape=(), dtype=float32, numpy=-594.8473>, <tf.Tensor: shape=(), dtype=float32, numpy=-594.29224>, <tf.Tensor: shape=(), dtype=float32, numpy=-594.79724>, <tf.Tensor: shape=(), dtype=float32, numpy=-593.47705>, <tf.Tensor: shape=(), dtype=float32, numpy=-594.52466>, <tf.Tensor: shape=(), dtype=float32, numpy=-594.05475>, <tf.Tensor: shape=(), dtype=float32, numpy=-593.4815>, <tf.Tensor: shape=(), dtype=float32, numpy=-595.7742>, <tf.Tensor: shape=(), dtype=float32, numpy=-593.82715>, <tf.Tensor: shape=(), dtype=float32, numpy=-594.39856>, <tf.Tensor: shape=(), dtype=float32, numpy=-594.1972>, <tf.Tensor: shape=(), dtype=float32, numpy=-593.39087>, <tf.Tensor: shape=(), dtype=float32, numpy=-593.5588>, <tf.Tensor: shape=(), dtype=float32, numpy=-595.6916>, <tf.Tensor: shape=(), dtype=float32, numpy=-593.9822>, <tf.Tensor: shape=(), dtype=float32, numpy=-593.83295>, <tf.Tensor: shape=(), dtype=float32, numpy=-594.8806>, <tf.Tensor: shape=(), dtype=float32, numpy=-594.9542>, <tf.Tensor: shape=(), dtype=float32, numpy=-593.6796>, <tf.Tensor: shape=(), dtype=float32, numpy=-594.4625>, <tf.Tensor: shape=(), dtype=float32, numpy=-592.8694>, <tf.Tensor: shape=(), dtype=float32, numpy=-591.87427>, <tf.Tensor: shape=(), dtype=float32, numpy=-593.832>, <tf.Tensor: shape=(), dtype=float32, numpy=-594.75214>, <tf.Tensor: shape=(), dtype=float32, numpy=-594.11707>, <tf.Tensor: shape=(), dtype=float32, numpy=-593.5754>, <tf.Tensor: shape=(), dtype=float32, numpy=-592.42377>, <tf.Tensor: shape=(), dtype=float32, numpy=-593.28156>, <tf.Tensor: shape=(), dtype=float32, numpy=-593.85156>, <tf.Tensor: shape=(), dtype=float32, numpy=-595.9006>, <tf.Tensor: shape=(), dtype=float32, numpy=-592.226>, <tf.Tensor: shape=(), dtype=float32, numpy=-593.5686>, <tf.Tensor: shape=(), dtype=float32, numpy=-594.1383>, <tf.Tensor: shape=(), dtype=float32, numpy=-595.29395>, <tf.Tensor: shape=(), dtype=float32, numpy=-594.12024>, <tf.Tensor: shape=(), dtype=float32, numpy=-594.9693>, <tf.Tensor: shape=(), dtype=float32, numpy=-593.63635>, <tf.Tensor: shape=(), dtype=float32, numpy=-594.07007>, <tf.Tensor: shape=(), dtype=float32, numpy=-590.8849>, <tf.Tensor: shape=(), dtype=float32, numpy=-592.97205>, <tf.Tensor: shape=(), dtype=float32, numpy=-594.9932>, <tf.Tensor: shape=(), dtype=float32, numpy=-594.89417>, <tf.Tensor: shape=(), dtype=float32, numpy=-591.4208>, <tf.Tensor: shape=(), dtype=float32, numpy=-594.99457>, <tf.Tensor: shape=(), dtype=float32, numpy=-594.0529>, <tf.Tensor: shape=(), dtype=float32, numpy=-594.141>, <tf.Tensor: shape=(), dtype=float32, numpy=-594.53485>, <tf.Tensor: shape=(), dtype=float32, numpy=-595.1664>, <tf.Tensor: shape=(), dtype=float32, numpy=-595.33386>, <tf.Tensor: shape=(), dtype=float32, numpy=-594.61743>, <tf.Tensor: shape=(), dtype=float32, numpy=-594.59204>]\n",
            "(64, 1) \n",
            " tf.Tensor(\n",
            "[[ 2.3064518 ]\n",
            " [-1.9705677 ]\n",
            " [-2.0549815 ]\n",
            " [ 1.3369644 ]\n",
            " [ 0.37543285]\n",
            " [ 4.1434674 ]\n",
            " [ 0.50576687]\n",
            " [-3.789652  ]\n",
            " [ 1.8488531 ]\n",
            " [ 1.2195749 ]\n",
            " [-0.4752159 ]\n",
            " [-1.9589419 ]\n",
            " [-0.21923119]\n",
            " [-0.07813235]\n",
            " [-2.4942985 ]\n",
            " [ 1.9825776 ]\n",
            " [-1.1455152 ]\n",
            " [ 0.01268592]\n",
            " [-3.3136141 ]\n",
            " [-4.4386973 ]\n",
            " [ 3.0085313 ]\n",
            " [-1.5653498 ]\n",
            " [ 2.4404628 ]\n",
            " [-0.16288581]\n",
            " [-2.7439184 ]\n",
            " [ 2.8524733 ]\n",
            " [-0.7486078 ]\n",
            " [ 3.2612398 ]\n",
            " [ 1.6713296 ]\n",
            " [ 0.62158376]\n",
            " [ 0.7201976 ]\n",
            " [-1.7736092 ]\n",
            " [-3.0874405 ]\n",
            " [-0.475218  ]\n",
            " [-2.5655472 ]\n",
            " [-3.2307692 ]\n",
            " [-0.94707453]\n",
            " [ 2.2311308 ]\n",
            " [-4.954942  ]\n",
            " [-0.05457748]\n",
            " [-4.9229426 ]\n",
            " [-2.9433722 ]\n",
            " [ 3.6893682 ]\n",
            " [ 3.721525  ]\n",
            " [ 4.0820785 ]\n",
            " [ 1.357841  ]\n",
            " [-4.4657173 ]\n",
            " [ 2.2423074 ]\n",
            " [-0.28336978]\n",
            " [ 0.09836526]\n",
            " [-2.879446  ]\n",
            " [-4.5580196 ]\n",
            " [ 3.5110228 ]\n",
            " [-2.7533436 ]\n",
            " [-1.3388993 ]\n",
            " [ 1.1762662 ]\n",
            " [-1.2607641 ]\n",
            " [ 1.2010543 ]\n",
            " [ 2.4701653 ]\n",
            " [ 0.15464625]\n",
            " [-3.125715  ]\n",
            " [-1.7087787 ]\n",
            " [-4.138525  ]\n",
            " [ 2.7772448 ]], shape=(64, 1), dtype=float32)\n",
            "labels (64,) \n",
            " tf.Tensor(\n",
            "[1 0 0 1 1 1 1 0 1 1 0 0 1 0 1 1 0 1 0 0 1 0 1 0 0 1 0 1 1 1 0 0 0 1 1 0 0\n",
            " 1 0 1 0 0 1 1 1 1 0 1 1 1 0 0 1 0 0 1 0 1 1 1 0 0 0 1], shape=(64,), dtype=int32)\n",
            "loss object: tf.Tensor(\n",
            "[ 3.4003646   6.508115    6.937617    0.898199    0.27330244 13.297138\n",
            "  0.24967283 18.919218    1.9851013   0.7228146   1.261997    6.4500794\n",
            "  0.8122454   0.6203704   9.4029665   2.3553753   3.060565    0.5179322\n",
            " 15.032002   24.949402    6.3859463   4.644754    3.894117    0.73084795\n",
            " 10.975752    5.6371007   1.8870596   7.701867    1.548805    0.2571836\n",
            "  0.28472465  5.561399   13.3439455   1.2620014   9.839177   14.401812\n",
            "  2.4344668   3.1386182  30.34733     0.59221727 29.99724    12.322022\n",
            " 10.2227335  10.426878   12.857406    0.9322761  25.218706    3.176741\n",
            "  0.91262877  0.4364127  11.88187    26.149689    9.12807    11.037579\n",
            "  3.7464812   0.6650693   3.460338    0.6976613   4.0084157   0.39085382\n",
            " 13.622417    5.2667527  22.055824    5.293516  ], shape=(64,), dtype=float32)\n",
            "logprob_sums:\n",
            "\t tf.Tensor(\n",
            "[ 2019.6798   3871.9673   4118.9194    535.857     162.71011  7915.5703\n",
            "   148.51202 11240.227    1179.6221    429.90918   749.88617  3815.3833\n",
            "   483.51984   369.02563  5588.11     1400.9707   1816.3751    307.92346\n",
            "  8929.832   14807.009    3804.5818   2758.181    2314.6577    434.26782\n",
            "  6512.911    3345.9507   1124.1055   4574.772     919.73145   152.99355\n",
            "   169.39813  3301.6892   7932.4756    748.20197  5823.5557   8552.256\n",
            "  1447.9043   1864.7067  18013.428     350.8436  17796.809    7317.452\n",
            "  6091.733    6175.0684   7631.7524    553.90094 15012.543    1887.3661\n",
            "   542.9861    259.07043  7058.6636  15451.456    5412.6904   6567.2847\n",
            "  2228.7598    393.3358   2058.8823    414.44772  2381.564     232.37622\n",
            "  8107.605    3135.4763  13114.777    3147.4827 ], shape=(64,), dtype=float32)\n",
            "gradients[0]: IndexedSlices(indices=tf.Tensor([1 1 1 ... 0 0 0], shape=(54912,), dtype=int64), values=tf.Tensor(\n",
            "[[ 0.10270108  0.02828531 -0.03550269 ... -0.0756695   0.03515508\n",
            "   0.09168161]\n",
            " [ 0.15625425  0.04184499 -0.1452651  ... -0.22655006  0.03590799\n",
            "   0.17608732]\n",
            " [ 0.0722218   0.0413404  -0.12027504 ... -0.18445125 -0.00423391\n",
            "   0.1337946 ]\n",
            " ...\n",
            " [ 0.          0.          0.         ...  0.          0.\n",
            "   0.        ]\n",
            " [ 0.          0.          0.         ...  0.          0.\n",
            "   0.        ]\n",
            " [ 0.          0.          0.         ...  0.          0.\n",
            "   0.        ]], shape=(54912, 64), dtype=float32), dense_shape=tf.Tensor([1000   64], shape=(2,), dtype=int32))\n",
            "optimizer step success.\n",
            "DONE.\n"
          ],
          "name": "stdout"
        },
        {
          "output_type": "execute_result",
          "data": {
            "application/vnd.google.colaboratory.intrinsic+json": {
              "type": "string"
            },
            "text/plain": [
              "\"\\n# diff is the baseline\\n# logsum = tf.reduce_mean(logsum_batch * weight)\\nlogsum = tf.reduce_sum(tf.nn.log_softmax(batch_logits[0]))\\n# y = logsum * weight\\n\\n# print(st==base)\\n# def compute_loss():\\n# retrun -(classifier_model(base) - classifier_model(x))\\n\\n# lstm_optim.minimize(compute_loss,var_list = tf.constant([]))\\n\\n\\ngradients = t.gradient(logsum, lstm_model.trainable_variables)\\n# The optimize applies the update, using the variables\\n# and the optimizer update rule\\n# opt.apply_gradients(zip(gradients, trainable_variables))\\nprint(gradients)\\nif gradients:\\nlstm_optim.apply_gradients(zip(gradients,lstm_model.trainable_variables))\\nelse:\\nprint('ERROR: no grads')\\n# LSTM reward is BERT_original_sentence - BERT_new_sentence\\n#   these are the difference in predictions between original and old\\n\""
            ]
          },
          "metadata": {
            "tags": []
          },
          "execution_count": 33
        }
      ]
    },
    {
      "cell_type": "code",
      "metadata": {
        "colab": {
          "base_uri": "https://localhost:8080/"
        },
        "id": "gptTpc-O0RSQ",
        "outputId": "1bbe5f78-821b-4cad-95a8-b2442bb6d3f9"
      },
      "source": [
        "# BUG-- more strings than actions?\n",
        "# POSSIBLE FIX-- use the Bert tokenizer for LSTM\n",
        "print(len(splitstr))\n",
        "print([x.numpy() for x in acts])\n",
        "print(len(batch_logits[0]))"
      ],
      "execution_count": null,
      "outputs": [
        {
          "output_type": "stream",
          "text": [
            "426\n",
            "[0, 1, 1, 0, 1, 1, 1, 0, 1, 1, 1, 1, 0, 1, 0, 0, 0, 1, 0, 1, 1, 0, 0, 1, 1, 1, 0, 1, 1, 1, 0, 1, 0, 1, 0, 0, 0, 1, 0, 1, 1, 0, 1, 1, 0, 1, 1, 0, 0, 1, 1, 1, 1, 0, 0, 1, 1, 1, 0, 1, 0, 0, 1, 1, 1, 1, 1, 0, 1, 1, 0, 1, 0, 0, 0, 1, 1, 0, 1, 1, 1, 1, 0, 1, 1, 0, 0, 1, 0, 1, 1, 0, 1, 0, 0, 1, 0, 0, 0, 1, 1, 1, 0, 1, 1, 0, 0, 0, 0, 1, 1, 0, 1, 0, 0, 1, 0, 0, 0, 1, 0, 0, 0, 1, 1, 1, 0, 1, 1, 0, 1, 0, 1, 1, 0, 1, 0, 0, 1, 0, 0, 1, 1, 1, 1, 0, 0, 0, 1, 1, 0, 1, 1, 0, 1, 0, 0, 0, 0, 0, 1, 0, 1, 0, 0, 0, 0, 0, 1, 1, 0, 0, 1, 1, 0, 1, 1, 1, 1, 1, 0, 1, 0, 1, 0, 1, 1, 1, 1, 1, 0, 0, 0, 0, 1, 1, 1, 0, 1, 1, 0, 1, 1, 0, 0, 1, 0, 1, 1, 1, 1, 1, 0, 1, 1, 1, 1, 1, 0, 1, 1, 1, 1, 1, 1, 1, 1, 1, 0, 1, 1, 1, 0, 1, 0, 1, 1, 1, 1, 1, 1, 0, 1, 0, 1, 1, 1, 1, 1, 1, 0, 1, 1, 1, 0, 1, 1, 0, 1, 1, 1, 1, 1, 0, 0, 1, 1, 1, 1, 0, 0, 0, 1, 0, 1, 1, 0, 1, 1, 0, 0, 1, 1, 1, 0, 0, 1, 1, 0, 0, 1, 1, 1, 0, 1, 1, 0, 0, 0, 1, 0, 0, 1, 0, 1, 0, 1, 1, 0, 1, 0, 0, 1, 1, 1, 0, 1, 0, 1, 1, 1, 0, 0, 1, 1, 1, 1, 1, 0, 1, 0, 1, 1, 1, 1, 1, 1, 0, 0, 0, 1, 1, 1, 1, 0, 0, 1, 0, 1, 0, 0, 1, 1, 0, 1, 0, 1, 1, 0, 0, 1, 1, 1, 1, 1, 0, 1, 0, 0, 1, 1, 1, 1, 1, 1, 0, 1, 0, 1, 1, 0, 0, 1, 1, 0, 1, 0, 0, 1, 0, 0, 1, 0, 0, 1, 1, 1, 1, 1, 1, 0, 1, 0, 1, 1, 0, 0, 0, 1, 1, 1, 1, 0, 0, 1, 0, 1, 0, 0, 1, 1, 1, 0]\n",
            "423\n"
          ],
          "name": "stdout"
        }
      ]
    },
    {
      "cell_type": "code",
      "metadata": {
        "colab": {
          "base_uri": "https://localhost:8080/"
        },
        "id": "LR3gg9eCUzax",
        "outputId": "4d79304f-76ff-43ed-a1c6-a94a1c332219"
      },
      "source": [
        "# use gradient tape object for updates\n",
        "\n",
        "trainable_variables = [x]\n",
        "gradients = t.gradient(y, trainable_variables)\n",
        "# The optimize applies the update, using the variables\n",
        "# and the optimizer update rule\n",
        "opt.apply_gradients(zip(gradients, trainable_variables))\n",
        "\n",
        "# sample = ['this is a sample sentence']\n",
        "# # classifier_model(sample)\n",
        "# classifier_model(tf.constant(sample))"
      ],
      "execution_count": null,
      "outputs": [
        {
          "output_type": "execute_result",
          "data": {
            "text/plain": [
              "<tf.Tensor: shape=(1, 1), dtype=float32, numpy=array([[0.75665253]], dtype=float32)>"
            ]
          },
          "metadata": {
            "tags": []
          },
          "execution_count": 146
        }
      ]
    },
    {
      "cell_type": "code",
      "metadata": {
        "id": "sTkiaTPXbrIg"
      },
      "source": [
        "# sess = tf.InteractiveSession()\n",
        "# tf.compat.v1.disable_eager_execution()\n",
        "\n",
        "# make core of policy network\n",
        "obs_ph = tf.compat.v1.placeholder(shape=(None, len(batch)), dtype=tf.float32)\n",
        "# logits = mlp(obs_ph, sizes=hidden_sizes+[n_acts])\n",
        "logits = lstm_model(obs_ph)\n",
        "\n",
        "# make action selection op (outputs int actions, sampled from policy)\n",
        "actions = tf.squeeze(tf.multinomial(logits=logits,num_samples=1), axis=1)\n",
        "\n",
        "# make loss function whose gradient, for the right data, is policy gradient\n",
        "weights_ph = tf.placeholder(shape=(None,), dtype=tf.float32)\n",
        "act_ph = tf.placeholder(shape=(None,), dtype=tf.int32)\n",
        "action_masks = tf.one_hot(act_ph, n_acts)\n",
        "log_probs = tf.reduce_sum(action_masks * tf.nn.log_softmax(logits), axis=1)\n",
        "loss = -tf.reduce_mean(weights_ph * log_probs)\n"
      ],
      "execution_count": null,
      "outputs": []
    },
    {
      "cell_type": "markdown",
      "metadata": {
        "id": "8uPcfpU8Ko15"
      },
      "source": [
        "## MLP (BERT_tokens->{keep,delete})"
      ]
    },
    {
      "cell_type": "code",
      "metadata": {
        "id": "iJcpaGlUKn_s"
      },
      "source": [
        "# alternative to LSTM\n",
        "# every word is an individual training example\n",
        "# \n",
        "# striclty worse than LSTM\n",
        "\n",
        "def mlp(x, sizes, activation=tf.tanh, output_activation=None):\n",
        "    # Build a feedforward neural network.\n",
        "    for size in sizes[:-1]:\n",
        "        x = tf.layers.dense(x, units=size, activation=activation)\n",
        "    return tf.layers.dense(x, units=sizes[-1], activation=output_activation)\n",
        "\n",
        "# input a one-hot of the word\n",
        "mlp = Sequential()\n",
        "mlp.add(Dense(1000, input_shape=input_shape, activation='relu'))\n",
        "mlp.add(Dense(50, activation='relu'))\n",
        "mlp.add(Dense(1, activation=None)"
      ],
      "execution_count": null,
      "outputs": []
    }
  ]
}